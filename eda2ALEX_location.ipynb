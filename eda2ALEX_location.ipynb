{
 "cells": [
  {
   "cell_type": "markdown",
   "metadata": {},
   "source": [
    "# Milestone 3 - the daTaBABES"
   ]
  },
  {
   "cell_type": "markdown",
   "metadata": {},
   "source": [
    "This notebook contains our analysis of the data contained in the beer datasets from two websites BeerAdvocate (BA) and RateBeer (RB). The goal of this analysis is to answer the following question:  \n",
    "**What would be the ideal beer for the US consumer depending on the month?**\n"
   ]
  },
  {
   "cell_type": "code",
   "execution_count": 1,
   "metadata": {},
   "outputs": [],
   "source": [
    "# imports\n",
    "\n",
    "import pandas as pd \n",
    "import numpy as np\n",
    "\n",
    "import matplotlib.pyplot as plt\n",
    "import seaborn as sns\n",
    "\n",
    "import plotly.express as px\n",
    "import plotly.graph_objects as go\n",
    "\n",
    "import re\n",
    "import spacy\n",
    "from collections import Counter\n",
    "\n",
    "import json\n",
    "\n",
    "from scipy.stats import f_oneway\n",
    "from sklearn import linear_model\n",
    "import statsmodels.api as sm\n",
    "import scipy.stats as st\n",
    "import math\n",
    "\n",
    "import hashlib\n",
    "\n",
    "import requests\n",
    "import statsmodels.formula.api as smf\n",
    "import networkx as nx\n"
   ]
  },
  {
   "cell_type": "code",
   "execution_count": 2,
   "metadata": {},
   "outputs": [],
   "source": [
    "# Turn off warnings\n",
    "import warnings\n",
    "\n",
    "warnings.filterwarnings('ignore')"
   ]
  },
  {
   "cell_type": "markdown",
   "metadata": {},
   "source": [
    "Users have rated the beers from two websites, RateBeer and BeerAdvocate, thus we get reviews of users from two distinct datasets. The reviews are in txt files, thus we convert the txt files into csv so that we can manipulate the data more easily. By doing this, we get as much as data as we can.\n",
    "\n",
    "The conversion of the txt files into csv files is done in the notebook 'preprocessing_txt.ipynb'."
   ]
  },
  {
   "cell_type": "markdown",
   "metadata": {},
   "source": [
    "# Preprocessing"
   ]
  },
  {
   "cell_type": "markdown",
   "metadata": {},
   "source": [
    "## Loading the datasets"
   ]
  },
  {
   "cell_type": "code",
   "execution_count": 3,
   "metadata": {},
   "outputs": [],
   "source": [
    "# Loading the ratings datasets \n",
    "ratings_ba_df = pd.read_csv('data/BeerAdvocate/ratings_BA.csv')\n",
    "ratings_rb_df = pd.read_csv('data/RateBeer/ratings_RB.csv')\n",
    "ratings_matched_df = pd.read_csv('data/matched_beer_data/ratings.csv')\n",
    "\n",
    "# Loading the users dataset \n",
    "users_ba_df = pd.read_csv('data/BeerAdvocate/users.csv')\n",
    "users_rb_df = pd.read_csv('data/RateBeer/users.csv')\n",
    "users_matched_df = pd.read_csv('data/matched_beer_data/users.csv')\n",
    "\n",
    "# Loading the beers dataset\n",
    "beers_ba_df = pd.read_csv('data/BeerAdvocate/beers.csv')\n",
    "beers_rb_df = pd.read_csv('data/RateBeer/beers.csv')\n",
    "beers_matched_df = pd.read_csv('data/matched_beer_data/beers.csv')\n",
    "\n",
    "breweries_ba_df = pd.read_csv('data/BeerAdvocate/breweries.csv')\n",
    "breweries_rb_df = pd.read_csv('data/RateBeer/breweries.csv')"
   ]
  },
  {
   "cell_type": "code",
   "execution_count": 4,
   "metadata": {},
   "outputs": [],
   "source": [
    "# Convert the date column to datetime format for BeerAdvocate\n",
    "ratings_ba_df['date'] = pd.to_datetime(ratings_ba_df['date'], unit='s')\n",
    "ratings_ba_df['year'] = ratings_ba_df['date'].dt.year\n",
    "ratings_ba_df['month'] = ratings_ba_df['date'].dt.month\n",
    "\n",
    "# Convert the date column to datetime format for RateBeer\n",
    "ratings_rb_df['date'] = pd.to_datetime(ratings_rb_df['date'], unit='s')\n",
    "ratings_rb_df['year'] = ratings_rb_df['date'].dt.year\n",
    "ratings_rb_df['month'] = ratings_rb_df['date'].dt.month"
   ]
  },
  {
   "cell_type": "code",
   "execution_count": 5,
   "metadata": {},
   "outputs": [],
   "source": [
    "# Create a year_month column\n",
    "ratings_ba_df['year_month'] = ratings_ba_df['year'].astype(str) + '-' + ratings_ba_df['month'].astype(str)\n",
    "ratings_rb_df['year_month'] = ratings_rb_df['year'].astype(str) + '-' + ratings_rb_df['month'].astype(str)\n",
    "\n",
    "# Convert the year_month column to datetime format\n",
    "ratings_ba_df['year_month'] = pd.to_datetime(ratings_ba_df['year_month'])\n",
    "ratings_rb_df['year_month'] = pd.to_datetime(ratings_rb_df['year_month'])\n"
   ]
  },
  {
   "cell_type": "code",
   "execution_count": 6,
   "metadata": {},
   "outputs": [],
   "source": [
    "# Create copy of original datasets\n",
    "ratings_ba_df_untouched = ratings_ba_df.copy()\n",
    "ratings_rb_df_untouched = ratings_rb_df.copy()\n",
    "beers_ba_df_untouched = beers_ba_df.copy()\n",
    "beers_rb_df_untouched = beers_rb_df.copy()"
   ]
  },
  {
   "cell_type": "code",
   "execution_count": 7,
   "metadata": {},
   "outputs": [
    {
     "name": "stdout",
     "output_type": "stream",
     "text": [
      "Number of ratings in BeerAdvocate: 2715712\n",
      "Number of ratings in RateBeer: 7122074\n"
     ]
    }
   ],
   "source": [
    "# Print the number of ratings in each dataset\n",
    "nbr_ratings_ba = ratings_ba_df.shape[0]\n",
    "nbr_ratings_rb = ratings_rb_df.shape[0]\n",
    "\n",
    "print('Number of ratings in BeerAdvocate: {}'.format(nbr_ratings_ba))\n",
    "print('Number of ratings in RateBeer: {}'.format(nbr_ratings_rb))"
   ]
  },
  {
   "cell_type": "markdown",
   "metadata": {},
   "source": [
    "Names of brewery id don't match for both datasets:"
   ]
  },
  {
   "cell_type": "code",
   "execution_count": 8,
   "metadata": {},
   "outputs": [
    {
     "data": {
      "text/html": [
       "<div>\n",
       "<style scoped>\n",
       "    .dataframe tbody tr th:only-of-type {\n",
       "        vertical-align: middle;\n",
       "    }\n",
       "\n",
       "    .dataframe tbody tr th {\n",
       "        vertical-align: top;\n",
       "    }\n",
       "\n",
       "    .dataframe thead th {\n",
       "        text-align: right;\n",
       "    }\n",
       "</style>\n",
       "<table border=\"1\" class=\"dataframe\">\n",
       "  <thead>\n",
       "    <tr style=\"text-align: right;\">\n",
       "      <th></th>\n",
       "      <th>ba</th>\n",
       "      <th>ba.1</th>\n",
       "      <th>ba.2</th>\n",
       "      <th>ba.3</th>\n",
       "      <th>ba.4</th>\n",
       "      <th>ba.5</th>\n",
       "      <th>ba.6</th>\n",
       "      <th>ba.7</th>\n",
       "      <th>ba.8</th>\n",
       "      <th>ba.9</th>\n",
       "      <th>...</th>\n",
       "      <th>rb.7</th>\n",
       "      <th>rb.8</th>\n",
       "      <th>rb.9</th>\n",
       "      <th>rb.10</th>\n",
       "      <th>rb.11</th>\n",
       "      <th>rb.12</th>\n",
       "      <th>rb.13</th>\n",
       "      <th>rb.14</th>\n",
       "      <th>scores</th>\n",
       "      <th>scores.1</th>\n",
       "    </tr>\n",
       "  </thead>\n",
       "  <tbody>\n",
       "    <tr>\n",
       "      <th>0</th>\n",
       "      <td>abv</td>\n",
       "      <td>avg</td>\n",
       "      <td>avg_computed</td>\n",
       "      <td>avg_matched_valid_ratings</td>\n",
       "      <td>ba_score</td>\n",
       "      <td>beer_id</td>\n",
       "      <td>beer_name</td>\n",
       "      <td>beer_wout_brewery_name</td>\n",
       "      <td>brewery_id</td>\n",
       "      <td>brewery_name</td>\n",
       "      <td>...</td>\n",
       "      <td>brewery_id</td>\n",
       "      <td>brewery_name</td>\n",
       "      <td>nbr_matched_valid_ratings</td>\n",
       "      <td>nbr_ratings</td>\n",
       "      <td>overall_score</td>\n",
       "      <td>style</td>\n",
       "      <td>style_score</td>\n",
       "      <td>zscore</td>\n",
       "      <td>diff</td>\n",
       "      <td>sim</td>\n",
       "    </tr>\n",
       "    <tr>\n",
       "      <th>1</th>\n",
       "      <td>4.8</td>\n",
       "      <td>3.45</td>\n",
       "      <td>3.439866666666666</td>\n",
       "      <td>3.504067796610169</td>\n",
       "      <td>80.0</td>\n",
       "      <td>19827</td>\n",
       "      <td>Legbiter</td>\n",
       "      <td>Legbiter</td>\n",
       "      <td>10093</td>\n",
       "      <td>Strangford Lough Brewing Company Ltd</td>\n",
       "      <td>...</td>\n",
       "      <td>4959</td>\n",
       "      <td>Strangford Lough</td>\n",
       "      <td>89</td>\n",
       "      <td>89</td>\n",
       "      <td>23.0</td>\n",
       "      <td>Golden Ale/Blond Ale</td>\n",
       "      <td>27.0</td>\n",
       "      <td>-0.69830388113311</td>\n",
       "      <td>1.0</td>\n",
       "      <td>1.0</td>\n",
       "    </tr>\n",
       "  </tbody>\n",
       "</table>\n",
       "<p>2 rows × 33 columns</p>\n",
       "</div>"
      ],
      "text/plain": [
       "    ba  ba.1               ba.2                       ba.3      ba.4     ba.5  \\\n",
       "0  abv   avg       avg_computed  avg_matched_valid_ratings  ba_score  beer_id   \n",
       "1  4.8  3.45  3.439866666666666          3.504067796610169      80.0    19827   \n",
       "\n",
       "        ba.6                    ba.7        ba.8  \\\n",
       "0  beer_name  beer_wout_brewery_name  brewery_id   \n",
       "1   Legbiter                Legbiter       10093   \n",
       "\n",
       "                                   ba.9  ...        rb.7              rb.8  \\\n",
       "0                          brewery_name  ...  brewery_id      brewery_name   \n",
       "1  Strangford Lough Brewing Company Ltd  ...        4959  Strangford Lough   \n",
       "\n",
       "                        rb.9        rb.10          rb.11  \\\n",
       "0  nbr_matched_valid_ratings  nbr_ratings  overall_score   \n",
       "1                         89           89           23.0   \n",
       "\n",
       "                  rb.12        rb.13              rb.14 scores scores.1  \n",
       "0                 style  style_score             zscore   diff      sim  \n",
       "1  Golden Ale/Blond Ale         27.0  -0.69830388113311    1.0      1.0  \n",
       "\n",
       "[2 rows x 33 columns]"
      ]
     },
     "execution_count": 8,
     "metadata": {},
     "output_type": "execute_result"
    }
   ],
   "source": [
    "beers_matched_df.head(2)"
   ]
  },
  {
   "cell_type": "markdown",
   "metadata": {},
   "source": [
    "Names of beer styles don't match for both datasets:"
   ]
  },
  {
   "cell_type": "code",
   "execution_count": 9,
   "metadata": {},
   "outputs": [
    {
     "data": {
      "text/html": [
       "<div>\n",
       "<style scoped>\n",
       "    .dataframe tbody tr th:only-of-type {\n",
       "        vertical-align: middle;\n",
       "    }\n",
       "\n",
       "    .dataframe tbody tr th {\n",
       "        vertical-align: top;\n",
       "    }\n",
       "\n",
       "    .dataframe thead th {\n",
       "        text-align: right;\n",
       "    }\n",
       "</style>\n",
       "<table border=\"1\" class=\"dataframe\">\n",
       "  <thead>\n",
       "    <tr style=\"text-align: right;\">\n",
       "      <th></th>\n",
       "      <th>ba</th>\n",
       "      <th>ba.1</th>\n",
       "      <th>ba.2</th>\n",
       "      <th>ba.3</th>\n",
       "      <th>ba.4</th>\n",
       "      <th>ba.5</th>\n",
       "      <th>ba.6</th>\n",
       "      <th>ba.7</th>\n",
       "      <th>ba.8</th>\n",
       "      <th>ba.9</th>\n",
       "      <th>...</th>\n",
       "      <th>rb.6</th>\n",
       "      <th>rb.7</th>\n",
       "      <th>rb.8</th>\n",
       "      <th>rb.9</th>\n",
       "      <th>rb.10</th>\n",
       "      <th>rb.11</th>\n",
       "      <th>rb.12</th>\n",
       "      <th>rb.13</th>\n",
       "      <th>rb.14</th>\n",
       "      <th>rb.15</th>\n",
       "    </tr>\n",
       "  </thead>\n",
       "  <tbody>\n",
       "    <tr>\n",
       "      <th>0</th>\n",
       "      <td>abv</td>\n",
       "      <td>appearance</td>\n",
       "      <td>aroma</td>\n",
       "      <td>beer_id</td>\n",
       "      <td>beer_name</td>\n",
       "      <td>brewery_id</td>\n",
       "      <td>brewery_name</td>\n",
       "      <td>date</td>\n",
       "      <td>overall</td>\n",
       "      <td>palate</td>\n",
       "      <td>...</td>\n",
       "      <td>brewery_name</td>\n",
       "      <td>date</td>\n",
       "      <td>overall</td>\n",
       "      <td>palate</td>\n",
       "      <td>rating</td>\n",
       "      <td>style</td>\n",
       "      <td>taste</td>\n",
       "      <td>text</td>\n",
       "      <td>user_id</td>\n",
       "      <td>user_name</td>\n",
       "    </tr>\n",
       "    <tr>\n",
       "      <th>1</th>\n",
       "      <td>11.3</td>\n",
       "      <td>4.5</td>\n",
       "      <td>4.5</td>\n",
       "      <td>645</td>\n",
       "      <td>Trappistes Rochefort 10</td>\n",
       "      <td>207</td>\n",
       "      <td>Brasserie de Rochefort</td>\n",
       "      <td>1324810800</td>\n",
       "      <td>5.0</td>\n",
       "      <td>4.5</td>\n",
       "      <td>...</td>\n",
       "      <td>Brasserie Rochefort</td>\n",
       "      <td>1387710000</td>\n",
       "      <td>19.0</td>\n",
       "      <td>4.0</td>\n",
       "      <td>4.6</td>\n",
       "      <td>Abt/Quadrupel</td>\n",
       "      <td>9.0</td>\n",
       "      <td>a)  Geruch malzig-schwer-sÃ¼Ã. Riecht schon ...</td>\n",
       "      <td>83106</td>\n",
       "      <td>Erzengel</td>\n",
       "    </tr>\n",
       "  </tbody>\n",
       "</table>\n",
       "<p>2 rows × 33 columns</p>\n",
       "</div>"
      ],
      "text/plain": [
       "     ba        ba.1   ba.2     ba.3                     ba.4        ba.5  \\\n",
       "0   abv  appearance  aroma  beer_id                beer_name  brewery_id   \n",
       "1  11.3         4.5    4.5      645  Trappistes Rochefort 10         207   \n",
       "\n",
       "                     ba.6        ba.7     ba.8    ba.9  ...  \\\n",
       "0            brewery_name        date  overall  palate  ...   \n",
       "1  Brasserie de Rochefort  1324810800      5.0     4.5  ...   \n",
       "\n",
       "                  rb.6        rb.7     rb.8    rb.9   rb.10          rb.11  \\\n",
       "0         brewery_name        date  overall  palate  rating          style   \n",
       "1  Brasserie Rochefort  1387710000     19.0     4.0     4.6  Abt/Quadrupel   \n",
       "\n",
       "   rb.12                                              rb.13    rb.14  \\\n",
       "0  taste                                               text  user_id   \n",
       "1    9.0   a)  Geruch malzig-schwer-sÃ¼Ã. Riecht schon ...    83106   \n",
       "\n",
       "       rb.15  \n",
       "0  user_name  \n",
       "1   Erzengel  \n",
       "\n",
       "[2 rows x 33 columns]"
      ]
     },
     "execution_count": 9,
     "metadata": {},
     "output_type": "execute_result"
    }
   ],
   "source": [
    "ratings_matched_df.head(2)"
   ]
  },
  {
   "cell_type": "markdown",
   "metadata": {},
   "source": [
    "## Is the beer_id really unique ? "
   ]
  },
  {
   "cell_type": "markdown",
   "metadata": {},
   "source": [
    "By having two different datasets, we have numerous problems that could impact our analysis: \n",
    "* Do we have similar *beer_id* in the two datasets but do not represent the same beer ?\n",
    "* Do we have similar *brewery_id* in the two datasets but do not represent the same beer ? "
   ]
  },
  {
   "cell_type": "markdown",
   "metadata": {},
   "source": [
    "1. Are beers really unique ? "
   ]
  },
  {
   "cell_type": "code",
   "execution_count": 10,
   "metadata": {},
   "outputs": [
    {
     "name": "stdout",
     "output_type": "stream",
     "text": [
      "Number of unique beers in BeerAdvocate: 280823\n",
      "Number of unique beers in RateBeer: 442081\n",
      "Number of beers in both datasets: 220120\n",
      "BeerAdvocate:\n"
     ]
    },
    {
     "data": {
      "text/html": [
       "<div>\n",
       "<style scoped>\n",
       "    .dataframe tbody tr th:only-of-type {\n",
       "        vertical-align: middle;\n",
       "    }\n",
       "\n",
       "    .dataframe tbody tr th {\n",
       "        vertical-align: top;\n",
       "    }\n",
       "\n",
       "    .dataframe thead th {\n",
       "        text-align: right;\n",
       "    }\n",
       "</style>\n",
       "<table border=\"1\" class=\"dataframe\">\n",
       "  <thead>\n",
       "    <tr style=\"text-align: right;\">\n",
       "      <th></th>\n",
       "      <th>beer_id</th>\n",
       "      <th>beer_name</th>\n",
       "      <th>brewery_id</th>\n",
       "      <th>brewery_name</th>\n",
       "      <th>style</th>\n",
       "      <th>nbr_ratings</th>\n",
       "      <th>nbr_reviews</th>\n",
       "      <th>avg</th>\n",
       "      <th>ba_score</th>\n",
       "      <th>bros_score</th>\n",
       "      <th>abv</th>\n",
       "      <th>avg_computed</th>\n",
       "      <th>zscore</th>\n",
       "      <th>nbr_matched_valid_ratings</th>\n",
       "      <th>avg_matched_valid_ratings</th>\n",
       "    </tr>\n",
       "  </thead>\n",
       "  <tbody>\n",
       "    <tr>\n",
       "      <th>269762</th>\n",
       "      <td>3</td>\n",
       "      <td>Cactus Queen IPA</td>\n",
       "      <td>2</td>\n",
       "      <td>Yellow Rose Brewing Company</td>\n",
       "      <td>American IPA</td>\n",
       "      <td>3</td>\n",
       "      <td>3</td>\n",
       "      <td>4.11</td>\n",
       "      <td>NaN</td>\n",
       "      <td>90.0</td>\n",
       "      <td>NaN</td>\n",
       "      <td>4.106667</td>\n",
       "      <td>NaN</td>\n",
       "      <td>0</td>\n",
       "      <td>NaN</td>\n",
       "    </tr>\n",
       "  </tbody>\n",
       "</table>\n",
       "</div>"
      ],
      "text/plain": [
       "        beer_id         beer_name  brewery_id                 brewery_name  \\\n",
       "269762        3  Cactus Queen IPA           2  Yellow Rose Brewing Company   \n",
       "\n",
       "               style  nbr_ratings  nbr_reviews   avg  ba_score  bros_score  \\\n",
       "269762  American IPA            3            3  4.11       NaN        90.0   \n",
       "\n",
       "        abv  avg_computed  zscore  nbr_matched_valid_ratings  \\\n",
       "269762  NaN      4.106667     NaN                          0   \n",
       "\n",
       "        avg_matched_valid_ratings  \n",
       "269762                        NaN  "
      ]
     },
     "metadata": {},
     "output_type": "display_data"
    },
    {
     "name": "stdout",
     "output_type": "stream",
     "text": [
      "RateBeer:\n"
     ]
    },
    {
     "data": {
      "text/html": [
       "<div>\n",
       "<style scoped>\n",
       "    .dataframe tbody tr th:only-of-type {\n",
       "        vertical-align: middle;\n",
       "    }\n",
       "\n",
       "    .dataframe tbody tr th {\n",
       "        vertical-align: top;\n",
       "    }\n",
       "\n",
       "    .dataframe thead th {\n",
       "        text-align: right;\n",
       "    }\n",
       "</style>\n",
       "<table border=\"1\" class=\"dataframe\">\n",
       "  <thead>\n",
       "    <tr style=\"text-align: right;\">\n",
       "      <th></th>\n",
       "      <th>beer_id</th>\n",
       "      <th>beer_name</th>\n",
       "      <th>brewery_id</th>\n",
       "      <th>brewery_name</th>\n",
       "      <th>style</th>\n",
       "      <th>nbr_ratings</th>\n",
       "      <th>overall_score</th>\n",
       "      <th>style_score</th>\n",
       "      <th>avg</th>\n",
       "      <th>abv</th>\n",
       "      <th>avg_computed</th>\n",
       "      <th>zscore</th>\n",
       "      <th>nbr_matched_valid_ratings</th>\n",
       "      <th>avg_matched_valid_ratings</th>\n",
       "    </tr>\n",
       "  </thead>\n",
       "  <tbody>\n",
       "    <tr>\n",
       "      <th>160124</th>\n",
       "      <td>3</td>\n",
       "      <td>Abita Andygator</td>\n",
       "      <td>1</td>\n",
       "      <td>Abita Brewing Company</td>\n",
       "      <td>Doppelbock</td>\n",
       "      <td>682</td>\n",
       "      <td>31.0</td>\n",
       "      <td>17.0</td>\n",
       "      <td>2.95</td>\n",
       "      <td>8.0</td>\n",
       "      <td>2.950293</td>\n",
       "      <td>-0.703049</td>\n",
       "      <td>682</td>\n",
       "      <td>2.950293</td>\n",
       "    </tr>\n",
       "  </tbody>\n",
       "</table>\n",
       "</div>"
      ],
      "text/plain": [
       "        beer_id        beer_name  brewery_id           brewery_name  \\\n",
       "160124        3  Abita Andygator           1  Abita Brewing Company   \n",
       "\n",
       "             style  nbr_ratings  overall_score  style_score   avg  abv  \\\n",
       "160124  Doppelbock          682           31.0         17.0  2.95  8.0   \n",
       "\n",
       "        avg_computed    zscore  nbr_matched_valid_ratings  \\\n",
       "160124      2.950293 -0.703049                        682   \n",
       "\n",
       "        avg_matched_valid_ratings  \n",
       "160124                   2.950293  "
      ]
     },
     "metadata": {},
     "output_type": "display_data"
    }
   ],
   "source": [
    "beers_ba = beers_ba_df.beer_id.unique()\n",
    "beers_rb = beers_rb_df.beer_id.unique()\n",
    "\n",
    "# Print the number of unique beers in each dataset\n",
    "nbr_beers_ba = len(beers_ba)\n",
    "nbr_beers_rb = len(beers_rb)\n",
    "\n",
    "print('Number of unique beers in BeerAdvocate: {}'.format(nbr_beers_ba))\n",
    "print('Number of unique beers in RateBeer: {}'.format(nbr_beers_rb))\n",
    "\n",
    "# intersection of beers in both datasets\n",
    "beers_in_both = np.intersect1d(beers_ba, beers_rb)\n",
    "\n",
    "# Print the number of beers in both datasets\n",
    "nbr_beers_in_both = len(beers_in_both)\n",
    "print('Number of beers in both datasets: {}'.format(nbr_beers_in_both))\n",
    "\n",
    "# select the first beer_id in the intersection\n",
    "beer_id = beers_in_both[0]\n",
    "\n",
    "# display the row with the beer_id in the BeerAdvocate dataset and the RateBeer dataset\n",
    "print('BeerAdvocate:')\n",
    "display(beers_ba_df[beers_ba_df.beer_id == beer_id])\n",
    "\n",
    "print('RateBeer:')\n",
    "display(beers_rb_df[beers_rb_df.beer_id == beer_id])"
   ]
  },
  {
   "cell_type": "markdown",
   "metadata": {},
   "source": [
    "We observe that eventhough there are exactly 220,120 beers that have the same *beer_id* between the two datasets. If we observe one of the beer_id that appears in the same datasets, the description of the beer is not the same. This could impact our future analysis, since the analysis of the ratings would be biased. "
   ]
  },
  {
   "cell_type": "markdown",
   "metadata": {},
   "source": [
    "2. Are breweries really unique ? "
   ]
  },
  {
   "cell_type": "code",
   "execution_count": 11,
   "metadata": {},
   "outputs": [
    {
     "name": "stdout",
     "output_type": "stream",
     "text": [
      "Number of unique breweries in BeerAdvocate: 16758\n",
      "Number of unique breweries in RateBeer: 24189\n",
      "Number of breweries in both datasets: 7094\n",
      "BeerAdvocate:\n"
     ]
    },
    {
     "data": {
      "text/html": [
       "<div>\n",
       "<style scoped>\n",
       "    .dataframe tbody tr th:only-of-type {\n",
       "        vertical-align: middle;\n",
       "    }\n",
       "\n",
       "    .dataframe tbody tr th {\n",
       "        vertical-align: top;\n",
       "    }\n",
       "\n",
       "    .dataframe thead th {\n",
       "        text-align: right;\n",
       "    }\n",
       "</style>\n",
       "<table border=\"1\" class=\"dataframe\">\n",
       "  <thead>\n",
       "    <tr style=\"text-align: right;\">\n",
       "      <th></th>\n",
       "      <th>id</th>\n",
       "      <th>location</th>\n",
       "      <th>name</th>\n",
       "      <th>nbr_beers</th>\n",
       "    </tr>\n",
       "  </thead>\n",
       "  <tbody>\n",
       "    <tr>\n",
       "      <th>6880</th>\n",
       "      <td>1</td>\n",
       "      <td>Czech Republic</td>\n",
       "      <td>Plzeňský Prazdroj</td>\n",
       "      <td>24</td>\n",
       "    </tr>\n",
       "  </tbody>\n",
       "</table>\n",
       "</div>"
      ],
      "text/plain": [
       "      id        location               name  nbr_beers\n",
       "6880   1  Czech Republic  Plzeňský Prazdroj         24"
      ]
     },
     "metadata": {},
     "output_type": "display_data"
    },
    {
     "name": "stdout",
     "output_type": "stream",
     "text": [
      "RateBeer:\n"
     ]
    },
    {
     "data": {
      "text/html": [
       "<div>\n",
       "<style scoped>\n",
       "    .dataframe tbody tr th:only-of-type {\n",
       "        vertical-align: middle;\n",
       "    }\n",
       "\n",
       "    .dataframe tbody tr th {\n",
       "        vertical-align: top;\n",
       "    }\n",
       "\n",
       "    .dataframe thead th {\n",
       "        text-align: right;\n",
       "    }\n",
       "</style>\n",
       "<table border=\"1\" class=\"dataframe\">\n",
       "  <thead>\n",
       "    <tr style=\"text-align: right;\">\n",
       "      <th></th>\n",
       "      <th>id</th>\n",
       "      <th>location</th>\n",
       "      <th>name</th>\n",
       "      <th>nbr_beers</th>\n",
       "    </tr>\n",
       "  </thead>\n",
       "  <tbody>\n",
       "    <tr>\n",
       "      <th>13443</th>\n",
       "      <td>1</td>\n",
       "      <td>United States, Louisiana</td>\n",
       "      <td>Abita Brewing Company</td>\n",
       "      <td>127</td>\n",
       "    </tr>\n",
       "  </tbody>\n",
       "</table>\n",
       "</div>"
      ],
      "text/plain": [
       "       id                  location                   name  nbr_beers\n",
       "13443   1  United States, Louisiana  Abita Brewing Company        127"
      ]
     },
     "metadata": {},
     "output_type": "display_data"
    }
   ],
   "source": [
    "breweries_ba = breweries_ba_df.id.unique()\n",
    "breweries_rb = breweries_rb_df.id.unique()\n",
    "\n",
    "# Print the number of unique breweries in each dataset\n",
    "nbr_breweries_ba = len(breweries_ba)\n",
    "nbr_breweries_rb = len(breweries_rb)\n",
    "\n",
    "print('Number of unique breweries in BeerAdvocate: {}'.format(nbr_breweries_ba))\n",
    "print('Number of unique breweries in RateBeer: {}'.format(nbr_breweries_rb))\n",
    "\n",
    "# intersection of breweries in both datasets\n",
    "breweries_in_both = np.intersect1d(breweries_ba, breweries_rb)\n",
    "\n",
    "# Print the number of breweries in both datasets\n",
    "nbr_breweries_in_both = len(breweries_in_both)\n",
    "print('Number of breweries in both datasets: {}'.format(nbr_breweries_in_both))\n",
    "\n",
    "# select the first brewery_id in the intersection\n",
    "brewery_id = breweries_in_both[0]\n",
    "\n",
    "# display the row with the brewery_id in the BeerAdvocate dataset and the RateBeer dataset\n",
    "print('BeerAdvocate:')\n",
    "display(breweries_ba_df[breweries_ba_df.id == brewery_id])\n",
    "\n",
    "print('RateBeer:')\n",
    "display(breweries_rb_df[breweries_rb_df.id == brewery_id])\n"
   ]
  },
  {
   "cell_type": "markdown",
   "metadata": {},
   "source": [
    "We can observe the same problem for the breweries. "
   ]
  },
  {
   "cell_type": "markdown",
   "metadata": {},
   "source": [
    "A first approach is to generate a new *id* with the informations of the beers. With *hashlib*, if the same information are used to compute the id in both datasets, it will be immediate to match the same beers. But, first we need to select the informations that will be used to compute the new *id* of the beer. \n",
    "\n",
    "Let's see in the matched dataset if the beers matched have exactly the same informations. "
   ]
  },
  {
   "cell_type": "markdown",
   "metadata": {},
   "source": [
    "3. Do the same beers have the same description in both datasets ? "
   ]
  },
  {
   "cell_type": "code",
   "execution_count": 12,
   "metadata": {},
   "outputs": [
    {
     "name": "stdout",
     "output_type": "stream",
     "text": [
      "Number of ratings in the matched dataset: 21965\n"
     ]
    }
   ],
   "source": [
    "print('Number of ratings in the matched dataset: {}'.format(ratings_matched_df.shape[0]))"
   ]
  },
  {
   "cell_type": "code",
   "execution_count": 13,
   "metadata": {},
   "outputs": [],
   "source": [
    "ratings_matched_df_ba = ratings_matched_df[['ba', 'ba.1', 'ba.2', 'ba.3', 'ba.4', 'ba.5', 'ba.6', 'ba.7', 'ba.8',\n",
    "       'ba.9', 'ba.10', 'ba.11', 'ba.12', 'ba.13', 'ba.14', 'ba.15', 'ba.16']]\n",
    "\n",
    "ratings_matched_df_rb = ratings_matched_df[['rb', 'rb.1', 'rb.2', 'rb.3', 'rb.4', 'rb.5', 'rb.6', 'rb.7', 'rb.8',\n",
    "         'rb.9', 'rb.10', 'rb.11', 'rb.12', 'rb.13', 'rb.14', 'rb.15']]"
   ]
  },
  {
   "cell_type": "code",
   "execution_count": 14,
   "metadata": {},
   "outputs": [],
   "source": [
    "# consider as the header the first row of the dataframe and drop it\n",
    "ratings_matched_df_ba.columns = ratings_matched_df_ba.iloc[0]\n",
    "ratings_matched_df_ba = ratings_matched_df_ba.drop(ratings_matched_df_ba.index[0])\n",
    "\n",
    "ratings_matched_df_rb.columns = ratings_matched_df_rb.iloc[0]\n",
    "ratings_matched_df_rb = ratings_matched_df_rb.drop(ratings_matched_df_rb.index[0])"
   ]
  },
  {
   "cell_type": "code",
   "execution_count": 15,
   "metadata": {},
   "outputs": [
    {
     "data": {
      "text/html": [
       "<div>\n",
       "<style scoped>\n",
       "    .dataframe tbody tr th:only-of-type {\n",
       "        vertical-align: middle;\n",
       "    }\n",
       "\n",
       "    .dataframe tbody tr th {\n",
       "        vertical-align: top;\n",
       "    }\n",
       "\n",
       "    .dataframe thead th {\n",
       "        text-align: right;\n",
       "    }\n",
       "</style>\n",
       "<table border=\"1\" class=\"dataframe\">\n",
       "  <thead>\n",
       "    <tr style=\"text-align: right;\">\n",
       "      <th></th>\n",
       "      <th>abv</th>\n",
       "      <th>appearance</th>\n",
       "      <th>aroma</th>\n",
       "      <th>beer_id</th>\n",
       "      <th>beer_name</th>\n",
       "      <th>brewery_id</th>\n",
       "      <th>brewery_name</th>\n",
       "      <th>date</th>\n",
       "      <th>overall</th>\n",
       "      <th>palate</th>\n",
       "      <th>rating</th>\n",
       "      <th>review</th>\n",
       "      <th>style</th>\n",
       "      <th>taste</th>\n",
       "      <th>text</th>\n",
       "      <th>user_id</th>\n",
       "      <th>user_name</th>\n",
       "    </tr>\n",
       "  </thead>\n",
       "  <tbody>\n",
       "    <tr>\n",
       "      <th>1</th>\n",
       "      <td>11.3</td>\n",
       "      <td>4.5</td>\n",
       "      <td>4.5</td>\n",
       "      <td>645</td>\n",
       "      <td>Trappistes Rochefort 10</td>\n",
       "      <td>207</td>\n",
       "      <td>Brasserie de Rochefort</td>\n",
       "      <td>1324810800</td>\n",
       "      <td>5.0</td>\n",
       "      <td>4.5</td>\n",
       "      <td>4.8</td>\n",
       "      <td>True</td>\n",
       "      <td>Quadrupel (Quad)</td>\n",
       "      <td>5.0</td>\n",
       "      <td>Best before 27.07.2016Directly reviewed in com...</td>\n",
       "      <td>erzengel.248045</td>\n",
       "      <td>Erzengel</td>\n",
       "    </tr>\n",
       "    <tr>\n",
       "      <th>2</th>\n",
       "      <td>5.0</td>\n",
       "      <td>NaN</td>\n",
       "      <td>NaN</td>\n",
       "      <td>28191</td>\n",
       "      <td>Myanmar Lager Beer</td>\n",
       "      <td>9369</td>\n",
       "      <td>Myanmar Brewery and Distillery</td>\n",
       "      <td>1322650800</td>\n",
       "      <td>NaN</td>\n",
       "      <td>NaN</td>\n",
       "      <td>3.0</td>\n",
       "      <td>True</td>\n",
       "      <td>American Adjunct Lager</td>\n",
       "      <td>NaN</td>\n",
       "      <td>NaN</td>\n",
       "      <td>visionthing.639993</td>\n",
       "      <td>visionthing</td>\n",
       "    </tr>\n",
       "  </tbody>\n",
       "</table>\n",
       "</div>"
      ],
      "text/plain": [
       "0   abv appearance aroma beer_id                beer_name brewery_id  \\\n",
       "1  11.3        4.5   4.5     645  Trappistes Rochefort 10        207   \n",
       "2   5.0        NaN   NaN   28191       Myanmar Lager Beer       9369   \n",
       "\n",
       "0                    brewery_name        date overall palate rating review  \\\n",
       "1          Brasserie de Rochefort  1324810800     5.0    4.5    4.8   True   \n",
       "2  Myanmar Brewery and Distillery  1322650800     NaN    NaN    3.0   True   \n",
       "\n",
       "0                   style taste  \\\n",
       "1        Quadrupel (Quad)   5.0   \n",
       "2  American Adjunct Lager   NaN   \n",
       "\n",
       "0                                               text             user_id  \\\n",
       "1  Best before 27.07.2016Directly reviewed in com...     erzengel.248045   \n",
       "2                                                NaN  visionthing.639993   \n",
       "\n",
       "0    user_name  \n",
       "1     Erzengel  \n",
       "2  visionthing  "
      ]
     },
     "execution_count": 15,
     "metadata": {},
     "output_type": "execute_result"
    }
   ],
   "source": [
    "ratings_matched_df_ba.head(2)"
   ]
  },
  {
   "cell_type": "code",
   "execution_count": 16,
   "metadata": {},
   "outputs": [
    {
     "data": {
      "text/html": [
       "<div>\n",
       "<style scoped>\n",
       "    .dataframe tbody tr th:only-of-type {\n",
       "        vertical-align: middle;\n",
       "    }\n",
       "\n",
       "    .dataframe tbody tr th {\n",
       "        vertical-align: top;\n",
       "    }\n",
       "\n",
       "    .dataframe thead th {\n",
       "        text-align: right;\n",
       "    }\n",
       "</style>\n",
       "<table border=\"1\" class=\"dataframe\">\n",
       "  <thead>\n",
       "    <tr style=\"text-align: right;\">\n",
       "      <th></th>\n",
       "      <th>abv</th>\n",
       "      <th>appearance</th>\n",
       "      <th>aroma</th>\n",
       "      <th>beer_id</th>\n",
       "      <th>beer_name</th>\n",
       "      <th>brewery_id</th>\n",
       "      <th>brewery_name</th>\n",
       "      <th>date</th>\n",
       "      <th>overall</th>\n",
       "      <th>palate</th>\n",
       "      <th>rating</th>\n",
       "      <th>style</th>\n",
       "      <th>taste</th>\n",
       "      <th>text</th>\n",
       "      <th>user_id</th>\n",
       "      <th>user_name</th>\n",
       "    </tr>\n",
       "  </thead>\n",
       "  <tbody>\n",
       "    <tr>\n",
       "      <th>1</th>\n",
       "      <td>11.3</td>\n",
       "      <td>4.0</td>\n",
       "      <td>10.0</td>\n",
       "      <td>2360</td>\n",
       "      <td>Rochefort Trappistes 10</td>\n",
       "      <td>406</td>\n",
       "      <td>Brasserie Rochefort</td>\n",
       "      <td>1387710000</td>\n",
       "      <td>19.0</td>\n",
       "      <td>4.0</td>\n",
       "      <td>4.6</td>\n",
       "      <td>Abt/Quadrupel</td>\n",
       "      <td>9.0</td>\n",
       "      <td>a)  Geruch malzig-schwer-sÃ¼Ã. Riecht schon ...</td>\n",
       "      <td>83106</td>\n",
       "      <td>Erzengel</td>\n",
       "    </tr>\n",
       "    <tr>\n",
       "      <th>2</th>\n",
       "      <td>5.0</td>\n",
       "      <td>2.0</td>\n",
       "      <td>3.0</td>\n",
       "      <td>17109</td>\n",
       "      <td>Myanmar Lager Beer</td>\n",
       "      <td>2921</td>\n",
       "      <td>Myanmar Brewery and Distillery</td>\n",
       "      <td>1322564400</td>\n",
       "      <td>6.0</td>\n",
       "      <td>2.0</td>\n",
       "      <td>1.7</td>\n",
       "      <td>Pale Lager</td>\n",
       "      <td>4.0</td>\n",
       "      <td>Can. Weak and watery, not the best beer of the...</td>\n",
       "      <td>91324</td>\n",
       "      <td>visionthing</td>\n",
       "    </tr>\n",
       "  </tbody>\n",
       "</table>\n",
       "</div>"
      ],
      "text/plain": [
       "0   abv appearance aroma beer_id                beer_name brewery_id  \\\n",
       "1  11.3        4.0  10.0    2360  Rochefort Trappistes 10        406   \n",
       "2   5.0        2.0   3.0   17109       Myanmar Lager Beer       2921   \n",
       "\n",
       "0                    brewery_name        date overall palate rating  \\\n",
       "1             Brasserie Rochefort  1387710000    19.0    4.0    4.6   \n",
       "2  Myanmar Brewery and Distillery  1322564400     6.0    2.0    1.7   \n",
       "\n",
       "0          style taste                                               text  \\\n",
       "1  Abt/Quadrupel   9.0   a)  Geruch malzig-schwer-sÃ¼Ã. Riecht schon ...   \n",
       "2     Pale Lager   4.0  Can. Weak and watery, not the best beer of the...   \n",
       "\n",
       "0 user_id    user_name  \n",
       "1   83106     Erzengel  \n",
       "2   91324  visionthing  "
      ]
     },
     "execution_count": 16,
     "metadata": {},
     "output_type": "execute_result"
    }
   ],
   "source": [
    "ratings_matched_df_rb.head(2)"
   ]
  },
  {
   "cell_type": "markdown",
   "metadata": {},
   "source": [
    "**Problems**: \n",
    "* We can generate a new *id* in both datasets for the beer with the unique attributes such as abv, beer_name and style. But, as observed above, the problem is that the style and even the beer_name does not appear the same in both datasets. Thus, we could not match the same beers when merging the two datasets. They will be considered as different beers. \n",
    "* We cannot use the matched dataset to match every beer, since the dataset only contains ratings given by same user to the same beer. "
   ]
  },
  {
   "cell_type": "markdown",
   "metadata": {},
   "source": [
    "**Solution**: \n",
    "\n",
    "We decide to compute a new *id* for each beer and a new *id* for each brewery as well. To do so, we use the *hashlib* function. \n",
    "* For **beer_id** : we use style, name and abv to compute the new *id*.\n",
    "* For **brewery_id**: we use the name and location to compute the new *id*."
   ]
  },
  {
   "cell_type": "code",
   "execution_count": 17,
   "metadata": {},
   "outputs": [],
   "source": [
    "def generate_unique_id_beer(name, brewery_name, style, abv):\n",
    "    unique_id = hashlib.sha256(f\"{name}{brewery_name}{style}{abv}\".encode()).hexdigest()\n",
    "    return unique_id\n",
    "\n",
    "def generate_unique_id_brewery(name, country):\n",
    "    unique_id = hashlib.sha256(f\"{name}{country}\".encode()).hexdigest()\n",
    "    return unique_id\n",
    "\n",
    "# Create a unique id for each beer in the BeerAdvocate dataset\n",
    "beers_ba_df['new_id'] = beers_ba_df.apply(lambda x: generate_unique_id_beer(x['beer_name'], x['brewery_name'], x['style'], x['abv']), axis=1)\n",
    "beers_rb_df['new_id'] = beers_rb_df.apply(lambda x: generate_unique_id_beer(x['beer_name'], x['brewery_name'], x['style'], x['abv']), axis=1)\n",
    "\n",
    "# Create a unique id for each brewery in the BeerAdvocate dataset\n",
    "breweries_ba_df['new_id'] = breweries_ba_df.apply(lambda x: generate_unique_id_brewery(x['name'], x['location']), axis=1)\n",
    "breweries_rb_df['new_id'] = breweries_rb_df.apply(lambda x: generate_unique_id_brewery(x['name'], x['location']), axis=1)\n",
    "\n",
    "# create new_id_beer and new_id_brewery columns in the ratings datasets \n",
    "ratings_ba_df['new_id_beer'] = ratings_ba_df['beer_id'].map(beers_ba_df.set_index('beer_id')['new_id'])\n",
    "ratings_rb_df['new_id_beer'] = ratings_rb_df['beer_id'].map(beers_rb_df.set_index('beer_id')['new_id'])"
   ]
  },
  {
   "cell_type": "code",
   "execution_count": 18,
   "metadata": {},
   "outputs": [],
   "source": [
    "ratings_ba_df['new_id_brewery'] = ratings_ba_df['brewery_id'].map(breweries_ba_df.set_index('id')['new_id'])\n",
    "ratings_rb_df['new_id_brewery'] = ratings_rb_df['brewery_id'].map(breweries_rb_df.set_index('id')['new_id'])"
   ]
  },
  {
   "cell_type": "markdown",
   "metadata": {},
   "source": [
    "Let's verify now if we have intersected beer_ids. "
   ]
  },
  {
   "cell_type": "code",
   "execution_count": 19,
   "metadata": {},
   "outputs": [
    {
     "name": "stdout",
     "output_type": "stream",
     "text": [
      "Number of unique beers in BeerAdvocate: 280340\n",
      "Number of unique beers in RateBeer: 441961\n",
      "Number of beers in both datasets: 318\n",
      "BeerAdvocate:\n"
     ]
    },
    {
     "data": {
      "text/html": [
       "<div>\n",
       "<style scoped>\n",
       "    .dataframe tbody tr th:only-of-type {\n",
       "        vertical-align: middle;\n",
       "    }\n",
       "\n",
       "    .dataframe tbody tr th {\n",
       "        vertical-align: top;\n",
       "    }\n",
       "\n",
       "    .dataframe thead th {\n",
       "        text-align: right;\n",
       "    }\n",
       "</style>\n",
       "<table border=\"1\" class=\"dataframe\">\n",
       "  <thead>\n",
       "    <tr style=\"text-align: right;\">\n",
       "      <th></th>\n",
       "      <th>beer_id</th>\n",
       "      <th>beer_name</th>\n",
       "      <th>brewery_id</th>\n",
       "      <th>brewery_name</th>\n",
       "      <th>style</th>\n",
       "      <th>nbr_ratings</th>\n",
       "      <th>nbr_reviews</th>\n",
       "      <th>avg</th>\n",
       "      <th>ba_score</th>\n",
       "      <th>bros_score</th>\n",
       "      <th>abv</th>\n",
       "      <th>avg_computed</th>\n",
       "      <th>zscore</th>\n",
       "      <th>nbr_matched_valid_ratings</th>\n",
       "      <th>avg_matched_valid_ratings</th>\n",
       "      <th>new_id</th>\n",
       "    </tr>\n",
       "  </thead>\n",
       "  <tbody>\n",
       "    <tr>\n",
       "      <th>59034</th>\n",
       "      <td>22191</td>\n",
       "      <td>Texels Skuumkoppe</td>\n",
       "      <td>526</td>\n",
       "      <td>Texelse Bierbrouwerij</td>\n",
       "      <td>Dunkelweizen</td>\n",
       "      <td>63</td>\n",
       "      <td>21</td>\n",
       "      <td>3.66</td>\n",
       "      <td>83.0</td>\n",
       "      <td>NaN</td>\n",
       "      <td>6.0</td>\n",
       "      <td>3.593651</td>\n",
       "      <td>-0.620733</td>\n",
       "      <td>24</td>\n",
       "      <td>3.582917</td>\n",
       "      <td>00a12a5e8b254f5add9d2a532216a07ae07aa6f19af93f...</td>\n",
       "    </tr>\n",
       "  </tbody>\n",
       "</table>\n",
       "</div>"
      ],
      "text/plain": [
       "       beer_id          beer_name  brewery_id           brewery_name  \\\n",
       "59034    22191  Texels Skuumkoppe         526  Texelse Bierbrouwerij   \n",
       "\n",
       "              style  nbr_ratings  nbr_reviews   avg  ba_score  bros_score  \\\n",
       "59034  Dunkelweizen           63           21  3.66      83.0         NaN   \n",
       "\n",
       "       abv  avg_computed    zscore  nbr_matched_valid_ratings  \\\n",
       "59034  6.0      3.593651 -0.620733                         24   \n",
       "\n",
       "       avg_matched_valid_ratings  \\\n",
       "59034                   3.582917   \n",
       "\n",
       "                                                  new_id  \n",
       "59034  00a12a5e8b254f5add9d2a532216a07ae07aa6f19af93f...  "
      ]
     },
     "metadata": {},
     "output_type": "display_data"
    },
    {
     "name": "stdout",
     "output_type": "stream",
     "text": [
      "RateBeer:\n"
     ]
    },
    {
     "data": {
      "text/html": [
       "<div>\n",
       "<style scoped>\n",
       "    .dataframe tbody tr th:only-of-type {\n",
       "        vertical-align: middle;\n",
       "    }\n",
       "\n",
       "    .dataframe tbody tr th {\n",
       "        vertical-align: top;\n",
       "    }\n",
       "\n",
       "    .dataframe thead th {\n",
       "        text-align: right;\n",
       "    }\n",
       "</style>\n",
       "<table border=\"1\" class=\"dataframe\">\n",
       "  <thead>\n",
       "    <tr style=\"text-align: right;\">\n",
       "      <th></th>\n",
       "      <th>beer_id</th>\n",
       "      <th>beer_name</th>\n",
       "      <th>brewery_id</th>\n",
       "      <th>brewery_name</th>\n",
       "      <th>style</th>\n",
       "      <th>nbr_ratings</th>\n",
       "      <th>overall_score</th>\n",
       "      <th>style_score</th>\n",
       "      <th>avg</th>\n",
       "      <th>abv</th>\n",
       "      <th>avg_computed</th>\n",
       "      <th>zscore</th>\n",
       "      <th>nbr_matched_valid_ratings</th>\n",
       "      <th>avg_matched_valid_ratings</th>\n",
       "      <th>new_id</th>\n",
       "    </tr>\n",
       "  </thead>\n",
       "  <tbody>\n",
       "    <tr>\n",
       "      <th>122954</th>\n",
       "      <td>23569</td>\n",
       "      <td>Texels Skuumkoppe</td>\n",
       "      <td>1995</td>\n",
       "      <td>Texelse Bierbrouwerij</td>\n",
       "      <td>Dunkelweizen</td>\n",
       "      <td>264</td>\n",
       "      <td>44.0</td>\n",
       "      <td>64.0</td>\n",
       "      <td>3.12</td>\n",
       "      <td>6.0</td>\n",
       "      <td>3.138636</td>\n",
       "      <td>-0.429225</td>\n",
       "      <td>264</td>\n",
       "      <td>3.138636</td>\n",
       "      <td>00a12a5e8b254f5add9d2a532216a07ae07aa6f19af93f...</td>\n",
       "    </tr>\n",
       "  </tbody>\n",
       "</table>\n",
       "</div>"
      ],
      "text/plain": [
       "        beer_id          beer_name  brewery_id           brewery_name  \\\n",
       "122954    23569  Texels Skuumkoppe        1995  Texelse Bierbrouwerij   \n",
       "\n",
       "               style  nbr_ratings  overall_score  style_score   avg  abv  \\\n",
       "122954  Dunkelweizen          264           44.0         64.0  3.12  6.0   \n",
       "\n",
       "        avg_computed    zscore  nbr_matched_valid_ratings  \\\n",
       "122954      3.138636 -0.429225                        264   \n",
       "\n",
       "        avg_matched_valid_ratings  \\\n",
       "122954                   3.138636   \n",
       "\n",
       "                                                   new_id  \n",
       "122954  00a12a5e8b254f5add9d2a532216a07ae07aa6f19af93f...  "
      ]
     },
     "metadata": {},
     "output_type": "display_data"
    }
   ],
   "source": [
    "beers_ba = beers_ba_df.new_id.unique()\n",
    "beers_rb = beers_rb_df.new_id.unique()\n",
    "\n",
    "# Print the number of unique beers in each dataset\n",
    "nbr_beers_ba = len(beers_ba)\n",
    "nbr_beers_rb = len(beers_rb)\n",
    "\n",
    "print('Number of unique beers in BeerAdvocate: {}'.format(nbr_beers_ba))\n",
    "print('Number of unique beers in RateBeer: {}'.format(nbr_beers_rb))\n",
    "\n",
    "# intersection of beers in both datasets\n",
    "beers_in_both = np.intersect1d(beers_ba, beers_rb)\n",
    "\n",
    "# Print the number of beers in both datasets\n",
    "nbr_beers_in_both = len(beers_in_both)\n",
    "print('Number of beers in both datasets: {}'.format(nbr_beers_in_both))\n",
    "\n",
    "# select the first beer_id in the intersection\n",
    "beer_id = beers_in_both[0]\n",
    "\n",
    "# display the row with the beer_id in the BeerAdvocate dataset and the RateBeer dataset\n",
    "print('BeerAdvocate:')\n",
    "display(beers_ba_df[beers_ba_df.new_id == beer_id])\n",
    "\n",
    "print('RateBeer:')\n",
    "display(beers_rb_df[beers_rb_df.new_id == beer_id])"
   ]
  },
  {
   "cell_type": "markdown",
   "metadata": {},
   "source": [
    "We observe here that the sample of beers in both dataset has reduced a lot. We still have 922 beers that are contained into both. If we print the description of the beers, we see that they are exactly the same. This solves our previous problem. "
   ]
  },
  {
   "cell_type": "markdown",
   "metadata": {},
   "source": [
    "Let's verify the same for brewery_id."
   ]
  },
  {
   "cell_type": "code",
   "execution_count": 20,
   "metadata": {},
   "outputs": [
    {
     "name": "stdout",
     "output_type": "stream",
     "text": [
      "Number of unique breweries in BeerAdvocate: 16443\n",
      "Number of unique breweries in RateBeer: 24185\n",
      "Number of breweries in both datasets: 5912\n",
      "BeerAdvocate:\n"
     ]
    },
    {
     "data": {
      "text/html": [
       "<div>\n",
       "<style scoped>\n",
       "    .dataframe tbody tr th:only-of-type {\n",
       "        vertical-align: middle;\n",
       "    }\n",
       "\n",
       "    .dataframe tbody tr th {\n",
       "        vertical-align: top;\n",
       "    }\n",
       "\n",
       "    .dataframe thead th {\n",
       "        text-align: right;\n",
       "    }\n",
       "</style>\n",
       "<table border=\"1\" class=\"dataframe\">\n",
       "  <thead>\n",
       "    <tr style=\"text-align: right;\">\n",
       "      <th></th>\n",
       "      <th>id</th>\n",
       "      <th>location</th>\n",
       "      <th>name</th>\n",
       "      <th>nbr_beers</th>\n",
       "      <th>new_id</th>\n",
       "    </tr>\n",
       "  </thead>\n",
       "  <tbody>\n",
       "    <tr>\n",
       "      <th>9385</th>\n",
       "      <td>41055</td>\n",
       "      <td>United States, Washington</td>\n",
       "      <td>Cascadia Homebrew</td>\n",
       "      <td>4</td>\n",
       "      <td>00024316aac506d29759a098a1b8f21fbb8f06aeab3f3b...</td>\n",
       "    </tr>\n",
       "  </tbody>\n",
       "</table>\n",
       "</div>"
      ],
      "text/plain": [
       "         id                   location               name  nbr_beers  \\\n",
       "9385  41055  United States, Washington  Cascadia Homebrew          4   \n",
       "\n",
       "                                                 new_id  \n",
       "9385  00024316aac506d29759a098a1b8f21fbb8f06aeab3f3b...  "
      ]
     },
     "metadata": {},
     "output_type": "display_data"
    },
    {
     "name": "stdout",
     "output_type": "stream",
     "text": [
      "RateBeer:\n"
     ]
    },
    {
     "data": {
      "text/html": [
       "<div>\n",
       "<style scoped>\n",
       "    .dataframe tbody tr th:only-of-type {\n",
       "        vertical-align: middle;\n",
       "    }\n",
       "\n",
       "    .dataframe tbody tr th {\n",
       "        vertical-align: top;\n",
       "    }\n",
       "\n",
       "    .dataframe thead th {\n",
       "        text-align: right;\n",
       "    }\n",
       "</style>\n",
       "<table border=\"1\" class=\"dataframe\">\n",
       "  <thead>\n",
       "    <tr style=\"text-align: right;\">\n",
       "      <th></th>\n",
       "      <th>id</th>\n",
       "      <th>location</th>\n",
       "      <th>name</th>\n",
       "      <th>nbr_beers</th>\n",
       "      <th>new_id</th>\n",
       "    </tr>\n",
       "  </thead>\n",
       "  <tbody>\n",
       "    <tr>\n",
       "      <th>14431</th>\n",
       "      <td>25842</td>\n",
       "      <td>United States, Washington</td>\n",
       "      <td>Cascadia Homebrew</td>\n",
       "      <td>6</td>\n",
       "      <td>00024316aac506d29759a098a1b8f21fbb8f06aeab3f3b...</td>\n",
       "    </tr>\n",
       "  </tbody>\n",
       "</table>\n",
       "</div>"
      ],
      "text/plain": [
       "          id                   location               name  nbr_beers  \\\n",
       "14431  25842  United States, Washington  Cascadia Homebrew          6   \n",
       "\n",
       "                                                  new_id  \n",
       "14431  00024316aac506d29759a098a1b8f21fbb8f06aeab3f3b...  "
      ]
     },
     "metadata": {},
     "output_type": "display_data"
    }
   ],
   "source": [
    "breweries_ba = breweries_ba_df.new_id.unique()\n",
    "breweries_rb = breweries_rb_df.new_id.unique()\n",
    "\n",
    "# Print the number of unique breweries in each dataset\n",
    "nbr_breweries_ba = len(breweries_ba)\n",
    "nbr_breweries_rb = len(breweries_rb)\n",
    "\n",
    "print('Number of unique breweries in BeerAdvocate: {}'.format(nbr_breweries_ba))\n",
    "print('Number of unique breweries in RateBeer: {}'.format(nbr_breweries_rb))\n",
    "\n",
    "# intersection of breweries in both datasets\n",
    "breweries_in_both = np.intersect1d(breweries_ba, breweries_rb)\n",
    "\n",
    "# Print the number of breweries in both datasets\n",
    "nbr_breweries_in_both = len(breweries_in_both)\n",
    "print('Number of breweries in both datasets: {}'.format(nbr_breweries_in_both))\n",
    "\n",
    "# select the first brewery_id in the intersection\n",
    "brewery_id = breweries_in_both[0]\n",
    "\n",
    "# display the row with the brewery_id in the BeerAdvocate dataset and the RateBeer dataset\n",
    "print('BeerAdvocate:')\n",
    "display(breweries_ba_df[breweries_ba_df.new_id == brewery_id])\n",
    "\n",
    "print('RateBeer:')\n",
    "display(breweries_rb_df[breweries_rb_df.new_id == brewery_id])"
   ]
  },
  {
   "cell_type": "markdown",
   "metadata": {},
   "source": [
    "## US consumers "
   ]
  },
  {
   "cell_type": "markdown",
   "metadata": {},
   "source": [
    "To start our analysis, we look at the distribution of unique users across different countries. We would like to focus on a single country for our analysis as ratings from users from different regions can introduce mixed results that represents no country in reality. For example a certain type of beer can be appreciated in summer and not in winter. But depending on the region of the worls, summer and winter are in different time of the year. So looking at the rating of that beer for each month for each users will not showcase this particularity. By narrowing down to one country, we get a clearer picture of what people in that specific place like. This helps us avoid getting mixed results that might be affected by different tastes and seasons in different parts of the world."
   ]
  },
  {
   "cell_type": "code",
   "execution_count": 21,
   "metadata": {},
   "outputs": [],
   "source": [
    "# Extract the country from the location\n",
    "users_rb_df['location'] = users_rb_df['location'].str.split(',').str[0]\n",
    "users_ba_df['location'] = users_ba_df['location'].str.split(',').str[0]"
   ]
  },
  {
   "cell_type": "code",
   "execution_count": 22,
   "metadata": {},
   "outputs": [],
   "source": [
    "# Number of users per country, in RateBeer\n",
    "rb_user_count_country = users_rb_df.groupby('location')['location'].count().sort_values(ascending=False).reset_index(name='nb users in RateBeer')\n",
    "\n",
    "# Number of users per country, in BeerAdvocate\n",
    "ba_user_count_country = users_ba_df.groupby('location')['location'].count().sort_values(ascending=False).reset_index(name='nb users in BeerAdvocate')"
   ]
  },
  {
   "cell_type": "code",
   "execution_count": 23,
   "metadata": {},
   "outputs": [],
   "source": [
    "# Merge the two above data frames to count the total number of users per country\n",
    "users_country = rb_user_count_country.merge(ba_user_count_country, on='location')\n",
    "users_country['total nb of users'] = users_country['nb users in RateBeer'] + users_country['nb users in BeerAdvocate']\n",
    "users_country = users_country.sort_values('total nb of users', ascending=False)"
   ]
  },
  {
   "cell_type": "code",
   "execution_count": 24,
   "metadata": {},
   "outputs": [
    {
     "data": {
      "text/plain": [
       "([0, 1, 2, 3, 4, 5, 6, 7, 8, 9],\n",
       " [Text(0, 0, 'United States'),\n",
       "  Text(1, 0, 'Canada'),\n",
       "  Text(2, 0, 'England'),\n",
       "  Text(3, 0, 'Australia'),\n",
       "  Text(4, 0, 'Poland'),\n",
       "  Text(5, 0, 'Netherlands'),\n",
       "  Text(6, 0, 'Sweden'),\n",
       "  Text(7, 0, 'Germany'),\n",
       "  Text(8, 0, 'Belgium'),\n",
       "  Text(9, 0, 'Denmark')])"
      ]
     },
     "execution_count": 24,
     "metadata": {},
     "output_type": "execute_result"
    },
    {
     "data": {
      "image/png": "[encoded data removed]",
      "text/plain": [
       "<Figure size 1200x800 with 1 Axes>"
      ]
     },
     "metadata": {},
     "output_type": "display_data"
    }
   ],
   "source": [
    "# Plot the distribution of the number of users per country\n",
    "plt.figure(figsize=(12,8))\n",
    "sns.barplot(x=users_country['location'].values[:10], y=users_country['total nb of users'].values[:10])\n",
    "plt.title('Number of Users per location')\n",
    "plt.xticks(rotation=45)"
   ]
  },
  {
   "cell_type": "markdown",
   "metadata": {},
   "source": [
    "As we see, the US has much more users than the other countries. This leads us to think that by focusing on this country, we will get the most diverse reviews as they come from many different users. If we would consider Canada for example, we could have bias results as there are not so many users and the reviews come from a small set of people, leading us to provide a perfect beer for very few people. For this reason, our analysis will be focused on the US only."
   ]
  },
  {
   "cell_type": "code",
   "execution_count": 25,
   "metadata": {},
   "outputs": [],
   "source": [
    "US_country = 'United States'\n",
    "\n",
    "# Keep only the rows where the user country is United States\n",
    "users_ba_df_us = users_ba_df[users_ba_df.location == US_country]\n",
    "users_rb_df_us = users_rb_df[users_rb_df.location == US_country]\n",
    "\n",
    "# Keep only the rows where the user country is not from United States\n",
    "users_ba_df_ca = users_ba_df[users_ba_df.location != US_country]\n",
    "users_rb_df_ca = users_rb_df[users_rb_df.location != US_country]"
   ]
  },
  {
   "cell_type": "code",
   "execution_count": 26,
   "metadata": {},
   "outputs": [],
   "source": [
    "# Merge the ratings and users data frames to get the location of the user for each rating\n",
    "ratings_users_ba_df_us = pd.merge(ratings_ba_df, users_ba_df_us[['user_id', 'location']], on='user_id', how='inner')\n",
    "ratings_users_rb_df_us = pd.merge(ratings_rb_df, users_rb_df_us[['user_id', 'location']], on='user_id', how='inner')\n",
    "\n",
    "ratings_users_ba_df_ca = pd.merge(ratings_ba_df, users_ba_df_ca[['user_id', 'location']], on='user_id', how='inner')\n",
    "ratings_users_rb_df_ca = pd.merge(ratings_rb_df, users_rb_df_ca[['user_id', 'location']], on='user_id', how='inner')"
   ]
  },
  {
   "cell_type": "markdown",
   "metadata": {},
   "source": [
    "Filtered dataframe to separate ratings from US users from the rest"
   ]
  },
  {
   "cell_type": "code",
   "execution_count": 27,
   "metadata": {},
   "outputs": [],
   "source": [
    "# filter the ratings dataframes to only keep ratings of the users from the US\n",
    "ratings_ba_df_us = ratings_users_ba_df_us[ratings_users_ba_df_us.location == US_country]\n",
    "ratings_ba_df_us.drop('location', axis=1, inplace=True)\n",
    "ratings_rb_df_us = ratings_users_rb_df_us[ratings_users_rb_df_us.location == US_country]\n",
    "ratings_rb_df_us.drop('location', axis=1, inplace=True)\n",
    "\n",
    "# filter the ratings dataframes to only keep ratings of the users not from US\n",
    "ratings_ba_df_ca = ratings_users_ba_df_ca[ratings_users_ba_df_ca.location != US_country]\n",
    "ratings_ba_df_ca.drop('location', axis=1, inplace=True)\n",
    "ratings_rb_df_ca = ratings_users_rb_df_ca[ratings_users_rb_df_ca.location != US_country]\n",
    "ratings_rb_df_ca.drop('location', axis=1, inplace=True)\n"
   ]
  },
  {
   "cell_type": "code",
   "execution_count": 28,
   "metadata": {},
   "outputs": [
    {
     "name": "stdout",
     "output_type": "stream",
     "text": [
      "Number of ratings from the US in BeerAdvocate: 2346494\n",
      "Number of ratings from the US in Ratebeer: 3108958\n",
      "Number of ratings not from US in BeerAdvocate: 369218\n",
      "Number of ratings not from US in Ratebeer: 4014825\n"
     ]
    },
    {
     "data": {
      "image/png": "[encoded data removed]",
      "text/plain": [
       "<Figure size 900x900 with 4 Axes>"
      ]
     },
     "metadata": {},
     "output_type": "display_data"
    }
   ],
   "source": [
    "# Plot the distribution of the number of ratings per user\n",
    "fig, axes = plt.subplots(2, 2, figsize=(9, 9))\n",
    "\n",
    "# Number of beers in BeerAdvocate and RateBeer\n",
    "print(\"Number of ratings from the US in BeerAdvocate:\", len(ratings_ba_df_us))\n",
    "print(\"Number of ratings from the US in Ratebeer:\", len(ratings_rb_df_us))\n",
    "print(\"Number of ratings not from US in BeerAdvocate:\", len(ratings_ba_df_ca))\n",
    "print(\"Number of ratings not from US in Ratebeer:\", len(ratings_rb_df_ca))\n",
    "\n",
    "# BeerAdvocate US- Boxplot\n",
    "sns.boxplot(ratings_ba_df_us['rating'], ax=axes[0, 0], color='lightcoral')\n",
    "axes[0, 0].set_xlabel('Average Rating')\n",
    "axes[0, 0].set_ylabel('Count')\n",
    "axes[0, 0].set_title('BeerAdvocate US- Boxplot')\n",
    "axes[0, 0].set_yticks(np.arange(0, 5.5, 0.5))\n",
    "\n",
    "# BeerAdvocate Not US- Boxplot\n",
    "sns.boxplot(ratings_ba_df_ca['rating'], ax=axes[0, 1], color='lightcoral')\n",
    "axes[0, 1].set_xlabel('Average Rating')\n",
    "axes[0, 1].set_ylabel('Count')\n",
    "axes[0, 1].set_title('BeerAdvocate Not US- Boxplot')\n",
    "axes[0, 1].set_yticks(np.arange(0, 5.5, 0.5))\n",
    "\n",
    "# RateBeer US- Boxplot\n",
    "sns.boxplot(ratings_rb_df_us['rating'], ax=axes[1, 0], color='lightcoral')\n",
    "axes[1, 0].set_xlabel('Average Rating')\n",
    "axes[1, 0].set_ylabel('Count')\n",
    "axes[1, 0].set_title('RateBeer US- Boxplot')\n",
    "axes[1, 0].set_yticks(np.arange(0, 5.5, 0.5))\n",
    "\n",
    "# RateBeer Not US - Boxplot\n",
    "sns.boxplot(ratings_rb_df_ca['rating'], ax=axes[1, 1], color='lightcoral')\n",
    "axes[1, 1].set_xlabel('Average Rating')\n",
    "axes[1, 1].set_ylabel('Count')\n",
    "axes[1, 1].set_title('RateBeer Not US - Boxplot')\n",
    "axes[1, 1].set_yticks(np.arange(0, 5.5, 0.5))\n",
    "\n",
    "plt.tight_layout()\n",
    "plt.show()"
   ]
  },
  {
   "cell_type": "markdown",
   "metadata": {},
   "source": [
    "### Mann-Whithney U Test\n",
    "* US vs Not US:\n",
    "    - Null Hypothesis (H0): There is no difference in beer ratings between the US and non-US beers.\n",
    "    - Alternative Hypothesis (H1): There is a difference in beer ratings between the US and non-US beers.\n",
    "* US vs US:\n",
    "    - Null Hypothesis (H0): There is no difference in beer ratings between US beers.\n",
    "    - Alternative Hypothesis (H1): There is a difference in beer ratings between US beers.\n",
    "* Not US vs Not US:\n",
    "    - Null Hypothesis (H0): There is no difference in beer ratings between non-US beers.\n",
    "    - Alternative Hypothesis (H1): There is a difference in beer ratings between non-US beers."
   ]
  },
  {
   "cell_type": "code",
   "execution_count": 29,
   "metadata": {},
   "outputs": [
    {
     "name": "stdout",
     "output_type": "stream",
     "text": [
      "BeerAdvocate:\n",
      "US vs Not US\n"
     ]
    },
    {
     "name": "stdout",
     "output_type": "stream",
     "text": [
      "MannwhitneyuResult(statistic=481028997358.5, pvalue=0.0)\n",
      "US vs US\n",
      "MannwhitneyuResult(statistic=2753017046018.0, pvalue=1.0)\n",
      "Not US vs Not US\n",
      "MannwhitneyuResult(statistic=68160965762.0, pvalue=1.0)\n",
      "RateBeer:\n",
      "US vs Not US\n",
      "MannwhitneyuResult(statistic=7274970199334.5, pvalue=0.0)\n",
      "US vs US\n",
      "MannwhitneyuResult(statistic=4832809922882.0, pvalue=1.0)\n",
      "Not US vs Not US\n",
      "MannwhitneyuResult(statistic=8059409890312.5, pvalue=1.0)\n"
     ]
    }
   ],
   "source": [
    "# test if the ratings from the US and not from the US are from the same distribution\n",
    "print('BeerAdvocate:')\n",
    "print('US vs Not US')\n",
    "print(st.mannwhitneyu(ratings_ba_df_us['rating'], ratings_ba_df_ca['rating']))\n",
    "print('US vs US')\n",
    "print(st.mannwhitneyu(ratings_ba_df_us['rating'], ratings_ba_df_us['rating']))\n",
    "print('Not US vs Not US')\n",
    "print(st.mannwhitneyu(ratings_ba_df_ca['rating'], ratings_ba_df_ca['rating']))\n",
    "\n",
    "print('RateBeer:')\n",
    "print('US vs Not US')\n",
    "print(st.mannwhitneyu(ratings_rb_df_us['rating'], ratings_rb_df_ca['rating']))\n",
    "print('US vs US')\n",
    "print(st.mannwhitneyu(ratings_rb_df_us['rating'], ratings_rb_df_us['rating']))\n",
    "print('Not US vs Not US')\n",
    "print(st.mannwhitneyu(ratings_rb_df_ca['rating'], ratings_rb_df_ca['rating']))\n"
   ]
  },
  {
   "cell_type": "markdown",
   "metadata": {},
   "source": [
    "From the boxplot, we observe visually small differences in the distribution of the ratings between US users and non-US users. After the Mann-Whitney U Test, we significantly reject the null hypothesis for US vs Not US users, which means that the distributions are significantly different. Thus, we can focus uniquely on US users to avoid any bias in our analysis. "
   ]
  },
  {
   "cell_type": "markdown",
   "metadata": {},
   "source": [
    "Filter the datasets to only keep users from the US:"
   ]
  },
  {
   "cell_type": "code",
   "execution_count": 30,
   "metadata": {},
   "outputs": [],
   "source": [
    "ratings_ba_df = ratings_ba_df_us\n",
    "ratings_rb_df = ratings_rb_df_us"
   ]
  },
  {
   "cell_type": "code",
   "execution_count": 31,
   "metadata": {},
   "outputs": [
    {
     "name": "stdout",
     "output_type": "stream",
     "text": [
      "Number of ratings in BeerAdvocate: 2346494\n",
      "Number of ratings in RateBeer: 3108958\n"
     ]
    }
   ],
   "source": [
    "nbr_ratings_ba = ratings_ba_df.shape[0]\n",
    "nbr_ratings_rb = ratings_rb_df.shape[0]\n",
    "\n",
    "print('Number of ratings in BeerAdvocate: {}'.format(nbr_ratings_ba))\n",
    "print('Number of ratings in RateBeer: {}'.format(nbr_ratings_rb))"
   ]
  },
  {
   "cell_type": "markdown",
   "metadata": {},
   "source": [
    "## Are there users who excessively rate a beer in a short time period ?"
   ]
  },
  {
   "cell_type": "markdown",
   "metadata": {},
   "source": [
    "Motivation: we want to handle the cases where we could have many ratings from a specific user for the same beer as it could be a user that is trying to bias the rating of a particular beer"
   ]
  },
  {
   "cell_type": "code",
   "execution_count": 32,
   "metadata": {},
   "outputs": [
    {
     "name": "stdout",
     "output_type": "stream",
     "text": [
      "Excessive ratings for BeerAdvocate:\n",
      "Empty DataFrame\n",
      "Columns: [user_id, beer_id, year_month, rating_count]\n",
      "Index: []\n",
      "Excessive ratings for RateBeer:\n",
      "         user_id  beer_id year_month  rating_count\n",
      "184060      3070      252 2002-11-01             5\n",
      "184061      3070      403 2002-01-01             5\n",
      "184062      3070      411 2002-01-01             5\n",
      "184063      3070      474 2002-01-01             5\n",
      "184064      3070      707 2002-01-01             5\n",
      "1474422    46797       46 2007-01-01            41\n",
      "1474423    46797       86 2007-03-01            41\n",
      "1474424    46797       87 2007-01-01            41\n",
      "1474425    46797      145 2007-01-01            41\n",
      "1474426    46797      589 2007-02-01            41\n",
      "1474427    46797      594 2007-02-01            41\n",
      "1474428    46797      662 2007-03-01            41\n",
      "1474429    46797      663 2007-03-01            41\n",
      "1474430    46797      690 2007-01-01            41\n",
      "1474431    46797      714 2007-01-01            41\n",
      "1474432    46797      745 2007-02-01            41\n",
      "1474433    46797      835 2007-03-01            41\n",
      "1474434    46797      985 2007-02-01            41\n",
      "1474435    46797      988 2007-02-01            41\n",
      "1474436    46797      994 2007-02-01            41\n",
      "1474437    46797     1089 2007-01-01            41\n",
      "1474438    46797     1093 2007-01-01            41\n",
      "1474439    46797     1156 2007-03-01            41\n",
      "1474440    46797     1315 2007-03-01            41\n",
      "1474441    46797     1477 2007-02-01            41\n",
      "1474442    46797     1593 2007-01-01            41\n",
      "1474443    46797     2224 2007-02-01            41\n",
      "1474444    46797     2225 2007-01-01            41\n",
      "1474445    46797     2228 2007-01-01            41\n",
      "1474446    46797     2360 2006-12-01            41\n",
      "1474447    46797     3029 2007-02-01            41\n",
      "1474448    46797     3126 2007-04-01            41\n",
      "1474449    46797     3766 2007-01-01            41\n",
      "1474450    46797     3784 2007-02-01            41\n",
      "1474451    46797     4583 2007-03-01            41\n",
      "1474452    46797     4584 2007-02-01            41\n",
      "1474453    46797     5998 2006-12-01            41\n",
      "1474454    46797     7599 2007-03-01            41\n",
      "1474455    46797     7709 2007-01-01            41\n",
      "1474456    46797     8946 2006-12-01            41\n",
      "1474457    46797    11172 2007-01-01            41\n",
      "1474458    46797    17334 2007-01-01            41\n",
      "1474459    46797    18528 2007-01-01            41\n",
      "1474460    46797    20577 2007-01-01            41\n",
      "1474461    46797    20590 2007-01-01            41\n",
      "1474462    46797    34633 2007-02-01            41\n",
      "1474463    46797    57459 2007-02-01            41\n"
     ]
    }
   ],
   "source": [
    "# Assuming ratings_combined_df is your DataFrame\n",
    "threshold = 3  # Adjust this threshold based on your criteria\n",
    "\n",
    "# Group by user_id, beer_id, and year_month, and count the number of ratings\n",
    "user_beer_counts_ba = ratings_ba_df.groupby(['user_id', 'beer_id', 'year_month']).size().reset_index(name='rating_count')\n",
    "user_beer_counts_rb = ratings_rb_df.groupby(['user_id', 'beer_id', 'year_month']).size().reset_index(name='rating_count')\n",
    "\n",
    "# Filter for instances where the rating count exceeds the threshold\n",
    "excessive_ratings_ba = user_beer_counts_ba[user_beer_counts_ba['rating_count'] > threshold]\n",
    "excessive_ratings_rb = user_beer_counts_rb[user_beer_counts_rb['rating_count'] > threshold]\n",
    "\n",
    "print(\"Excessive ratings for BeerAdvocate:\")\n",
    "print(excessive_ratings_ba)\n",
    "print(\"Excessive ratings for RateBeer:\")\n",
    "print(excessive_ratings_rb)"
   ]
  },
  {
   "cell_type": "markdown",
   "metadata": {},
   "source": [
    "We decided to set the threshold to 3 as rating a same beer more than 3 times per month can seem suspicious. We have identified two users in RateBeer who rated the same beer excessively within a specific month. For example, user 46797 has rated 41 times many beers each month from december 2006 to march 2007.  \n",
    "Such behavior is suspicious, and as a precautionary measure, we've decided to remove these users from the dataset to keep the reliability of the ratings."
   ]
  },
  {
   "cell_type": "code",
   "execution_count": 33,
   "metadata": {},
   "outputs": [],
   "source": [
    "# Remove the suspicious users\n",
    "users_to_remove = [46797, 3070]\n",
    "ratings_combined_df = ratings_ba_df[~ratings_ba_df['user_id'].isin(users_to_remove)]\n"
   ]
  },
  {
   "cell_type": "markdown",
   "metadata": {},
   "source": [
    "## What is a popular beer ?"
   ]
  },
  {
   "cell_type": "markdown",
   "metadata": {},
   "source": [
    "**Popularity definition:** By popular we mean with respect to the number of **good** reviews\n"
   ]
  },
  {
   "cell_type": "markdown",
   "metadata": {},
   "source": [
    "#### Distribution of the average rating in BeerAdvocate"
   ]
  },
  {
   "cell_type": "code",
   "execution_count": 34,
   "metadata": {},
   "outputs": [
    {
     "data": {
      "text/html": [
       "<div>\n",
       "<style scoped>\n",
       "    .dataframe tbody tr th:only-of-type {\n",
       "        vertical-align: middle;\n",
       "    }\n",
       "\n",
       "    .dataframe tbody tr th {\n",
       "        vertical-align: top;\n",
       "    }\n",
       "\n",
       "    .dataframe thead th {\n",
       "        text-align: right;\n",
       "    }\n",
       "</style>\n",
       "<table border=\"1\" class=\"dataframe\">\n",
       "  <thead>\n",
       "    <tr style=\"text-align: right;\">\n",
       "      <th></th>\n",
       "      <th>appearance</th>\n",
       "      <th>aroma</th>\n",
       "      <th>palate</th>\n",
       "      <th>taste</th>\n",
       "      <th>overall</th>\n",
       "      <th>rating</th>\n",
       "    </tr>\n",
       "  </thead>\n",
       "  <tbody>\n",
       "    <tr>\n",
       "      <th>count</th>\n",
       "      <td>2.310684e+06</td>\n",
       "      <td>2.310684e+06</td>\n",
       "      <td>2.310684e+06</td>\n",
       "      <td>2.310684e+06</td>\n",
       "      <td>2.310684e+06</td>\n",
       "      <td>2.346494e+06</td>\n",
       "    </tr>\n",
       "    <tr>\n",
       "      <th>mean</th>\n",
       "      <td>3.900441e+00</td>\n",
       "      <td>3.811440e+00</td>\n",
       "      <td>3.817201e+00</td>\n",
       "      <td>3.854748e+00</td>\n",
       "      <td>3.862540e+00</td>\n",
       "      <td>3.846907e+00</td>\n",
       "    </tr>\n",
       "    <tr>\n",
       "      <th>std</th>\n",
       "      <td>5.870042e-01</td>\n",
       "      <td>6.626348e-01</td>\n",
       "      <td>6.496978e-01</td>\n",
       "      <td>6.964354e-01</td>\n",
       "      <td>6.714755e-01</td>\n",
       "      <td>6.044712e-01</td>\n",
       "    </tr>\n",
       "    <tr>\n",
       "      <th>min</th>\n",
       "      <td>1.000000e+00</td>\n",
       "      <td>1.000000e+00</td>\n",
       "      <td>1.000000e+00</td>\n",
       "      <td>1.000000e+00</td>\n",
       "      <td>1.000000e+00</td>\n",
       "      <td>1.000000e+00</td>\n",
       "    </tr>\n",
       "    <tr>\n",
       "      <th>25%</th>\n",
       "      <td>3.500000e+00</td>\n",
       "      <td>3.500000e+00</td>\n",
       "      <td>3.500000e+00</td>\n",
       "      <td>3.500000e+00</td>\n",
       "      <td>3.500000e+00</td>\n",
       "      <td>3.550000e+00</td>\n",
       "    </tr>\n",
       "    <tr>\n",
       "      <th>50%</th>\n",
       "      <td>4.000000e+00</td>\n",
       "      <td>4.000000e+00</td>\n",
       "      <td>4.000000e+00</td>\n",
       "      <td>4.000000e+00</td>\n",
       "      <td>4.000000e+00</td>\n",
       "      <td>3.950000e+00</td>\n",
       "    </tr>\n",
       "    <tr>\n",
       "      <th>75%</th>\n",
       "      <td>4.250000e+00</td>\n",
       "      <td>4.250000e+00</td>\n",
       "      <td>4.250000e+00</td>\n",
       "      <td>4.500000e+00</td>\n",
       "      <td>4.250000e+00</td>\n",
       "      <td>4.240000e+00</td>\n",
       "    </tr>\n",
       "    <tr>\n",
       "      <th>max</th>\n",
       "      <td>5.000000e+00</td>\n",
       "      <td>5.000000e+00</td>\n",
       "      <td>5.000000e+00</td>\n",
       "      <td>5.000000e+00</td>\n",
       "      <td>5.000000e+00</td>\n",
       "      <td>5.000000e+00</td>\n",
       "    </tr>\n",
       "  </tbody>\n",
       "</table>\n",
       "</div>"
      ],
      "text/plain": [
       "         appearance         aroma        palate         taste       overall  \\\n",
       "count  2.310684e+06  2.310684e+06  2.310684e+06  2.310684e+06  2.310684e+06   \n",
       "mean   3.900441e+00  3.811440e+00  3.817201e+00  3.854748e+00  3.862540e+00   \n",
       "std    5.870042e-01  6.626348e-01  6.496978e-01  6.964354e-01  6.714755e-01   \n",
       "min    1.000000e+00  1.000000e+00  1.000000e+00  1.000000e+00  1.000000e+00   \n",
       "25%    3.500000e+00  3.500000e+00  3.500000e+00  3.500000e+00  3.500000e+00   \n",
       "50%    4.000000e+00  4.000000e+00  4.000000e+00  4.000000e+00  4.000000e+00   \n",
       "75%    4.250000e+00  4.250000e+00  4.250000e+00  4.500000e+00  4.250000e+00   \n",
       "max    5.000000e+00  5.000000e+00  5.000000e+00  5.000000e+00  5.000000e+00   \n",
       "\n",
       "             rating  \n",
       "count  2.346494e+06  \n",
       "mean   3.846907e+00  \n",
       "std    6.044712e-01  \n",
       "min    1.000000e+00  \n",
       "25%    3.550000e+00  \n",
       "50%    3.950000e+00  \n",
       "75%    4.240000e+00  \n",
       "max    5.000000e+00  "
      ]
     },
     "execution_count": 34,
     "metadata": {},
     "output_type": "execute_result"
    }
   ],
   "source": [
    "ratings_ba_df[['appearance', 'aroma', 'palate', 'style', 'taste', 'overall', 'rating']].describe()"
   ]
  },
  {
   "cell_type": "markdown",
   "metadata": {},
   "source": [
    "#### Distribution of the average rating in RateBeer"
   ]
  },
  {
   "cell_type": "code",
   "execution_count": 35,
   "metadata": {},
   "outputs": [
    {
     "data": {
      "text/html": [
       "<div>\n",
       "<style scoped>\n",
       "    .dataframe tbody tr th:only-of-type {\n",
       "        vertical-align: middle;\n",
       "    }\n",
       "\n",
       "    .dataframe tbody tr th {\n",
       "        vertical-align: top;\n",
       "    }\n",
       "\n",
       "    .dataframe thead th {\n",
       "        text-align: right;\n",
       "    }\n",
       "</style>\n",
       "<table border=\"1\" class=\"dataframe\">\n",
       "  <thead>\n",
       "    <tr style=\"text-align: right;\">\n",
       "      <th></th>\n",
       "      <th>appearance</th>\n",
       "      <th>aroma</th>\n",
       "      <th>palate</th>\n",
       "      <th>taste</th>\n",
       "      <th>overall</th>\n",
       "      <th>rating</th>\n",
       "    </tr>\n",
       "  </thead>\n",
       "  <tbody>\n",
       "    <tr>\n",
       "      <th>count</th>\n",
       "      <td>3.108958e+06</td>\n",
       "      <td>3.108958e+06</td>\n",
       "      <td>3.108958e+06</td>\n",
       "      <td>3.108958e+06</td>\n",
       "      <td>3.108958e+06</td>\n",
       "      <td>3.108958e+06</td>\n",
       "    </tr>\n",
       "    <tr>\n",
       "      <th>mean</th>\n",
       "      <td>3.536766e+00</td>\n",
       "      <td>6.581593e+00</td>\n",
       "      <td>3.381866e+00</td>\n",
       "      <td>6.651427e+00</td>\n",
       "      <td>1.364188e+01</td>\n",
       "      <td>3.379354e+00</td>\n",
       "    </tr>\n",
       "    <tr>\n",
       "      <th>std</th>\n",
       "      <td>7.864937e-01</td>\n",
       "      <td>1.540261e+00</td>\n",
       "      <td>8.069702e-01</td>\n",
       "      <td>1.529019e+00</td>\n",
       "      <td>3.127803e+00</td>\n",
       "      <td>6.799184e-01</td>\n",
       "    </tr>\n",
       "    <tr>\n",
       "      <th>min</th>\n",
       "      <td>1.000000e+00</td>\n",
       "      <td>1.000000e+00</td>\n",
       "      <td>1.000000e+00</td>\n",
       "      <td>1.000000e+00</td>\n",
       "      <td>1.000000e+00</td>\n",
       "      <td>5.000000e-01</td>\n",
       "    </tr>\n",
       "    <tr>\n",
       "      <th>25%</th>\n",
       "      <td>3.000000e+00</td>\n",
       "      <td>6.000000e+00</td>\n",
       "      <td>3.000000e+00</td>\n",
       "      <td>6.000000e+00</td>\n",
       "      <td>1.200000e+01</td>\n",
       "      <td>3.100000e+00</td>\n",
       "    </tr>\n",
       "    <tr>\n",
       "      <th>50%</th>\n",
       "      <td>4.000000e+00</td>\n",
       "      <td>7.000000e+00</td>\n",
       "      <td>3.000000e+00</td>\n",
       "      <td>7.000000e+00</td>\n",
       "      <td>1.400000e+01</td>\n",
       "      <td>3.500000e+00</td>\n",
       "    </tr>\n",
       "    <tr>\n",
       "      <th>75%</th>\n",
       "      <td>4.000000e+00</td>\n",
       "      <td>8.000000e+00</td>\n",
       "      <td>4.000000e+00</td>\n",
       "      <td>8.000000e+00</td>\n",
       "      <td>1.600000e+01</td>\n",
       "      <td>3.800000e+00</td>\n",
       "    </tr>\n",
       "    <tr>\n",
       "      <th>max</th>\n",
       "      <td>5.000000e+00</td>\n",
       "      <td>1.000000e+01</td>\n",
       "      <td>5.000000e+00</td>\n",
       "      <td>1.000000e+01</td>\n",
       "      <td>2.000000e+01</td>\n",
       "      <td>5.000000e+00</td>\n",
       "    </tr>\n",
       "  </tbody>\n",
       "</table>\n",
       "</div>"
      ],
      "text/plain": [
       "         appearance         aroma        palate         taste       overall  \\\n",
       "count  3.108958e+06  3.108958e+06  3.108958e+06  3.108958e+06  3.108958e+06   \n",
       "mean   3.536766e+00  6.581593e+00  3.381866e+00  6.651427e+00  1.364188e+01   \n",
       "std    7.864937e-01  1.540261e+00  8.069702e-01  1.529019e+00  3.127803e+00   \n",
       "min    1.000000e+00  1.000000e+00  1.000000e+00  1.000000e+00  1.000000e+00   \n",
       "25%    3.000000e+00  6.000000e+00  3.000000e+00  6.000000e+00  1.200000e+01   \n",
       "50%    4.000000e+00  7.000000e+00  3.000000e+00  7.000000e+00  1.400000e+01   \n",
       "75%    4.000000e+00  8.000000e+00  4.000000e+00  8.000000e+00  1.600000e+01   \n",
       "max    5.000000e+00  1.000000e+01  5.000000e+00  1.000000e+01  2.000000e+01   \n",
       "\n",
       "             rating  \n",
       "count  3.108958e+06  \n",
       "mean   3.379354e+00  \n",
       "std    6.799184e-01  \n",
       "min    5.000000e-01  \n",
       "25%    3.100000e+00  \n",
       "50%    3.500000e+00  \n",
       "75%    3.800000e+00  \n",
       "max    5.000000e+00  "
      ]
     },
     "execution_count": 35,
     "metadata": {},
     "output_type": "execute_result"
    }
   ],
   "source": [
    "ratings_rb_df[['appearance', 'aroma', 'palate', 'style', 'taste', 'overall', 'rating']].describe()"
   ]
  },
  {
   "cell_type": "code",
   "execution_count": 36,
   "metadata": {},
   "outputs": [
    {
     "name": "stdout",
     "output_type": "stream",
     "text": [
      "Number of beers in BeerAdvocate: 2346494\n",
      "Number of beers in RateBeer: 3108958\n"
     ]
    },
    {
     "data": {
      "image/png": "[encoded data removed]",
      "text/plain": [
       "<Figure size 900x900 with 4 Axes>"
      ]
     },
     "metadata": {},
     "output_type": "display_data"
    }
   ],
   "source": [
    "fig, axes = plt.subplots(2, 2, figsize=(9, 9))\n",
    "\n",
    "# Number of beers in BeerAdvocate and RateBeer\n",
    "print(\"Number of beers in BeerAdvocate:\", len(ratings_ba_df))\n",
    "print(\"Number of beers in RateBeer:\", len(ratings_rb_df))\n",
    "\n",
    "# BeerAdvocate - Histogram\n",
    "axes[0, 0].hist(ratings_ba_df['rating'], bins=20, color='cornflowerblue', edgecolor='white')\n",
    "axes[0, 0].set_xlabel('Average Rating')\n",
    "axes[0, 0].set_ylabel('Count')\n",
    "axes[0, 0].set_title('Distribution of Beer Ratings in BeerAdvocate')\n",
    "\n",
    "# RateBeer - Histogram\n",
    "axes[0, 1].hist(ratings_rb_df['rating'], bins=20, color='cornflowerblue', edgecolor='white')\n",
    "axes[0, 1].set_xlabel('Average Rating')\n",
    "axes[0, 1].set_ylabel('Count')\n",
    "axes[0, 1].set_title('Distribution of Beer Ratings in RateBeer')\n",
    "axes[0, 1].ticklabel_format(style=\"plain\", axis=\"y\")\n",
    "\n",
    "# BeerAdvocate - Boxplot\n",
    "sns.boxplot(ratings_ba_df['rating'], ax=axes[1, 0], color='lightcoral')\n",
    "axes[1, 0].set_xlabel('Average Rating')\n",
    "axes[1, 0].set_ylabel('Count')\n",
    "axes[1, 0].set_title('Boxplot of Beer Ratings in BeerAdvocate')\n",
    "axes[1, 0].set_yticks(np.arange(0, 5.5, 0.5))\n",
    "\n",
    "# RateBeer - Boxplot\n",
    "sns.boxplot(ratings_rb_df['rating'], ax=axes[1, 1], color='lightcoral')\n",
    "axes[1, 1].set_xlabel('Average Rating')\n",
    "axes[1, 1].set_ylabel('Count')\n",
    "axes[1, 1].set_title('Boxplot of Beer Ratings in RateBeer')\n",
    "axes[1, 1].set_yticks(np.arange(0, 5.5, 0.5))\n",
    "\n",
    "plt.tight_layout()\n",
    "plt.show()"
   ]
  },
  {
   "cell_type": "code",
   "execution_count": 37,
   "metadata": {},
   "outputs": [
    {
     "name": "stdout",
     "output_type": "stream",
     "text": [
      "Mean rating in BeerAdvocate: 3.846906563579535\n",
      "Mean rating in RateBeer: 3.3793541115704993\n"
     ]
    }
   ],
   "source": [
    "mean_ba = ratings_ba_df.rating.mean()\n",
    "mean_rb = ratings_rb_df.rating.mean()\n",
    "\n",
    "print(\"Mean rating in BeerAdvocate:\", mean_ba)\n",
    "print(\"Mean rating in RateBeer:\", mean_rb)"
   ]
  },
  {
   "cell_type": "markdown",
   "metadata": {},
   "source": [
    "### T-test on the ratings of the two datasets"
   ]
  },
  {
   "cell_type": "markdown",
   "metadata": {},
   "source": [
    "Let's quantify the observed results with a t-test. "
   ]
  },
  {
   "cell_type": "code",
   "execution_count": 38,
   "metadata": {},
   "outputs": [
    {
     "name": "stdout",
     "output_type": "stream",
     "text": [
      "T-Statistic: 833.6675344272143\n",
      "P-Value: 0.0\n",
      "The ratings in the two datasets are statistically different.\n"
     ]
    }
   ],
   "source": [
    "t_statistic, p_value = st.ttest_ind(ratings_ba_df['rating'], ratings_rb_df['rating'])\n",
    "\n",
    "# Output the results\n",
    "print(\"T-Statistic:\", t_statistic)\n",
    "print(\"P-Value:\", p_value)\n",
    "\n",
    "if p_value < 0.05:\n",
    "    print(\"The ratings in the two datasets are statistically different.\")\n",
    "else:\n",
    "    print(\"There is no significant difference in the ratings between the two datasets.\")\n"
   ]
  },
  {
   "cell_type": "markdown",
   "metadata": {},
   "source": [
    "As observed from the tables and the plot above, even though the distributions have a similar shape, i.e. normal distribution, they have a different average mean ratings. Indeed, users from the RateBeer dataset seem to be harsher in their ratings.\n",
    "\n",
    "Now, as defined above, our popularity definition concerns the number of good ratings. A question that arises is: what can be considered as a good rating?\n",
    "\n",
    "The ratings are continuous numbers between 0 to 5. One idea is to keep the ratings above the average mean of the two datasets and consider them as good rating. With this, we take in account the different distribution of the ratings into the two datasets and find a relatively good threshold."
   ]
  },
  {
   "cell_type": "markdown",
   "metadata": {},
   "source": [
    "Let's see what are the 10 most rated beer styles in each dataset:"
   ]
  },
  {
   "cell_type": "code",
   "execution_count": 39,
   "metadata": {},
   "outputs": [
    {
     "name": "stdout",
     "output_type": "stream",
     "text": [
      "Number of Beer Styles in AdvocateBeer: 104\n",
      "Number of Beer Styles in RateBeer: 90\n"
     ]
    },
    {
     "data": {
      "image/png": "[encoded data removed]",
      "text/plain": [
       "<Figure size 1500x600 with 2 Axes>"
      ]
     },
     "metadata": {},
     "output_type": "display_data"
    }
   ],
   "source": [
    "top_ratings_by_style_ba = ratings_ba_df.groupby('style')['rating'].mean().sort_values(ascending=False)\n",
    "top_ratings_by_style_rb = ratings_rb_df.groupby('style')['rating'].mean().sort_values(ascending=False)\n",
    "\n",
    "print(f\"Number of Beer Styles in AdvocateBeer: {len(top_ratings_by_style_ba)}\")\n",
    "print(f\"Number of Beer Styles in RateBeer: {len(top_ratings_by_style_rb)}\")\n",
    "\n",
    "# Number of top beer styles to plot\n",
    "x = 10\n",
    "\n",
    "# Create a figure with two subplots\n",
    "fig, axes = plt.subplots(2, 1, figsize=(15, 6))\n",
    "\n",
    "# BeerAdvocate\n",
    "plot1 = sns.countplot(y='style', data=ratings_ba_df, order=ratings_ba_df['style'].value_counts().index[:x], color='darkolivegreen', ax=axes[0])\n",
    "for i, style in enumerate(ratings_ba_df['style'].value_counts().index[:x]):\n",
    "    ranking = top_ratings_by_style_ba.index.get_loc(style) + 1  \n",
    "    plot1.text(ratings_ba_df['style'].value_counts()[i], i, f'Rank {ranking}', va='center')\n",
    "axes[0].set_xlabel('Count')\n",
    "axes[0].set_ylabel('Beer Style')\n",
    "axes[0].set_title(f'Top {x} Most Represented Beer Styles and Ranking in BeerAdvocate')\n",
    "\n",
    "# RateBeer\n",
    "plot2 = sns.countplot(y='style', data=ratings_rb_df, order=ratings_rb_df['style'].value_counts().index[:x], color='darkolivegreen', ax=axes[1])\n",
    "for i, style in enumerate(ratings_rb_df['style'].value_counts().index[:x]):\n",
    "    ranking = top_ratings_by_style_rb.index.get_loc(style) + 1  \n",
    "    plot2.text(ratings_rb_df['style'].value_counts()[i], i, f'Rank {ranking}', va='center')\n",
    "axes[1].set_xlabel('Count')\n",
    "axes[1].set_ylabel('Beer Style')\n",
    "axes[1].set_title(f'Top {x} Most Represented Beer Styles and Ranking in RateBeer')\n",
    "\n",
    "plt.tight_layout()\n",
    "plt.show()"
   ]
  },
  {
   "cell_type": "markdown",
   "metadata": {},
   "source": [
    "From the two plots above we can observe that a beer style can be popular but not have the best rating. For example in the plot of the RateBeer dataset, we see that the 3rd most popular beer style with respect to “count” is the 91th most popular beer style (over 93) when it comes to mean average rating."
   ]
  },
  {
   "cell_type": "markdown",
   "metadata": {},
   "source": [
    "## Final datasets to continue further analysis"
   ]
  },
  {
   "cell_type": "markdown",
   "metadata": {},
   "source": [
    "To facilitate further analysis, we prepare a dataframe with the useful informations such as the location of the brewery and the volume of alcohol of the beer."
   ]
  },
  {
   "cell_type": "code",
   "execution_count": 40,
   "metadata": {},
   "outputs": [
    {
     "name": "stdout",
     "output_type": "stream",
     "text": [
      "Number of duplicates in BeerAdvocate: 483\n",
      "Number of duplicates in RateBeer: 120\n",
      "BeerAdvocate:\n"
     ]
    },
    {
     "data": {
      "text/html": [
       "<div>\n",
       "<style scoped>\n",
       "    .dataframe tbody tr th:only-of-type {\n",
       "        vertical-align: middle;\n",
       "    }\n",
       "\n",
       "    .dataframe tbody tr th {\n",
       "        vertical-align: top;\n",
       "    }\n",
       "\n",
       "    .dataframe thead th {\n",
       "        text-align: right;\n",
       "    }\n",
       "</style>\n",
       "<table border=\"1\" class=\"dataframe\">\n",
       "  <thead>\n",
       "    <tr style=\"text-align: right;\">\n",
       "      <th></th>\n",
       "      <th>beer_id</th>\n",
       "      <th>beer_name</th>\n",
       "      <th>brewery_id</th>\n",
       "      <th>brewery_name</th>\n",
       "      <th>style</th>\n",
       "      <th>nbr_ratings</th>\n",
       "      <th>nbr_reviews</th>\n",
       "      <th>avg</th>\n",
       "      <th>ba_score</th>\n",
       "      <th>bros_score</th>\n",
       "      <th>abv</th>\n",
       "      <th>avg_computed</th>\n",
       "      <th>zscore</th>\n",
       "      <th>nbr_matched_valid_ratings</th>\n",
       "      <th>avg_matched_valid_ratings</th>\n",
       "      <th>new_id</th>\n",
       "    </tr>\n",
       "  </thead>\n",
       "  <tbody>\n",
       "    <tr>\n",
       "      <th>6105</th>\n",
       "      <td>139099</td>\n",
       "      <td>Amber Ale</td>\n",
       "      <td>33363</td>\n",
       "      <td>Fourpure Brewing Co.</td>\n",
       "      <td>American Amber / Red Ale</td>\n",
       "      <td>5</td>\n",
       "      <td>1</td>\n",
       "      <td>3.54</td>\n",
       "      <td>NaN</td>\n",
       "      <td>NaN</td>\n",
       "      <td>5.1</td>\n",
       "      <td>3.53</td>\n",
       "      <td>NaN</td>\n",
       "      <td>0</td>\n",
       "      <td>NaN</td>\n",
       "      <td>d7c796bb27a3640cc09c61733e98c7d18ebdd978add017...</td>\n",
       "    </tr>\n",
       "    <tr>\n",
       "      <th>6123</th>\n",
       "      <td>165403</td>\n",
       "      <td>Amber Ale</td>\n",
       "      <td>37085</td>\n",
       "      <td>Fourpure Brewing Co.</td>\n",
       "      <td>American Amber / Red Ale</td>\n",
       "      <td>1</td>\n",
       "      <td>0</td>\n",
       "      <td>3.12</td>\n",
       "      <td>NaN</td>\n",
       "      <td>NaN</td>\n",
       "      <td>5.1</td>\n",
       "      <td>3.12</td>\n",
       "      <td>NaN</td>\n",
       "      <td>0</td>\n",
       "      <td>NaN</td>\n",
       "      <td>d7c796bb27a3640cc09c61733e98c7d18ebdd978add017...</td>\n",
       "    </tr>\n",
       "  </tbody>\n",
       "</table>\n",
       "</div>"
      ],
      "text/plain": [
       "      beer_id  beer_name  brewery_id          brewery_name  \\\n",
       "6105   139099  Amber Ale       33363  Fourpure Brewing Co.   \n",
       "6123   165403  Amber Ale       37085  Fourpure Brewing Co.   \n",
       "\n",
       "                         style  nbr_ratings  nbr_reviews   avg  ba_score  \\\n",
       "6105  American Amber / Red Ale            5            1  3.54       NaN   \n",
       "6123  American Amber / Red Ale            1            0  3.12       NaN   \n",
       "\n",
       "      bros_score  abv  avg_computed  zscore  nbr_matched_valid_ratings  \\\n",
       "6105         NaN  5.1          3.53     NaN                          0   \n",
       "6123         NaN  5.1          3.12     NaN                          0   \n",
       "\n",
       "      avg_matched_valid_ratings  \\\n",
       "6105                        NaN   \n",
       "6123                        NaN   \n",
       "\n",
       "                                                 new_id  \n",
       "6105  d7c796bb27a3640cc09c61733e98c7d18ebdd978add017...  \n",
       "6123  d7c796bb27a3640cc09c61733e98c7d18ebdd978add017...  "
      ]
     },
     "metadata": {},
     "output_type": "display_data"
    },
    {
     "name": "stdout",
     "output_type": "stream",
     "text": [
      "RateBeer:\n"
     ]
    },
    {
     "data": {
      "text/html": [
       "<div>\n",
       "<style scoped>\n",
       "    .dataframe tbody tr th:only-of-type {\n",
       "        vertical-align: middle;\n",
       "    }\n",
       "\n",
       "    .dataframe tbody tr th {\n",
       "        vertical-align: top;\n",
       "    }\n",
       "\n",
       "    .dataframe thead th {\n",
       "        text-align: right;\n",
       "    }\n",
       "</style>\n",
       "<table border=\"1\" class=\"dataframe\">\n",
       "  <thead>\n",
       "    <tr style=\"text-align: right;\">\n",
       "      <th></th>\n",
       "      <th>beer_id</th>\n",
       "      <th>beer_name</th>\n",
       "      <th>brewery_id</th>\n",
       "      <th>brewery_name</th>\n",
       "      <th>style</th>\n",
       "      <th>nbr_ratings</th>\n",
       "      <th>overall_score</th>\n",
       "      <th>style_score</th>\n",
       "      <th>avg</th>\n",
       "      <th>abv</th>\n",
       "      <th>avg_computed</th>\n",
       "      <th>zscore</th>\n",
       "      <th>nbr_matched_valid_ratings</th>\n",
       "      <th>avg_matched_valid_ratings</th>\n",
       "      <th>new_id</th>\n",
       "    </tr>\n",
       "  </thead>\n",
       "  <tbody>\n",
       "    <tr>\n",
       "      <th>3159</th>\n",
       "      <td>353940</td>\n",
       "      <td>Talón de Aquiles</td>\n",
       "      <td>24064</td>\n",
       "      <td>cerartmex</td>\n",
       "      <td>Porter</td>\n",
       "      <td>0</td>\n",
       "      <td>NaN</td>\n",
       "      <td>NaN</td>\n",
       "      <td>NaN</td>\n",
       "      <td>5.0</td>\n",
       "      <td>NaN</td>\n",
       "      <td>NaN</td>\n",
       "      <td>0</td>\n",
       "      <td>NaN</td>\n",
       "      <td>4500744f834c05d1faf681aff0e097b6cf2c7b7d8c3fad...</td>\n",
       "    </tr>\n",
       "    <tr>\n",
       "      <th>3160</th>\n",
       "      <td>353941</td>\n",
       "      <td>Talón de Aquiles</td>\n",
       "      <td>24064</td>\n",
       "      <td>cerartmex</td>\n",
       "      <td>Porter</td>\n",
       "      <td>0</td>\n",
       "      <td>NaN</td>\n",
       "      <td>NaN</td>\n",
       "      <td>NaN</td>\n",
       "      <td>5.0</td>\n",
       "      <td>NaN</td>\n",
       "      <td>NaN</td>\n",
       "      <td>0</td>\n",
       "      <td>NaN</td>\n",
       "      <td>4500744f834c05d1faf681aff0e097b6cf2c7b7d8c3fad...</td>\n",
       "    </tr>\n",
       "  </tbody>\n",
       "</table>\n",
       "</div>"
      ],
      "text/plain": [
       "      beer_id         beer_name  brewery_id brewery_name   style  nbr_ratings  \\\n",
       "3159   353940  Talón de Aquiles       24064    cerartmex  Porter            0   \n",
       "3160   353941  Talón de Aquiles       24064    cerartmex  Porter            0   \n",
       "\n",
       "      overall_score  style_score  avg  abv  avg_computed  zscore  \\\n",
       "3159            NaN          NaN  NaN  5.0           NaN     NaN   \n",
       "3160            NaN          NaN  NaN  5.0           NaN     NaN   \n",
       "\n",
       "      nbr_matched_valid_ratings  avg_matched_valid_ratings  \\\n",
       "3159                          0                        NaN   \n",
       "3160                          0                        NaN   \n",
       "\n",
       "                                                 new_id  \n",
       "3159  4500744f834c05d1faf681aff0e097b6cf2c7b7d8c3fad...  \n",
       "3160  4500744f834c05d1faf681aff0e097b6cf2c7b7d8c3fad...  "
      ]
     },
     "metadata": {},
     "output_type": "display_data"
    }
   ],
   "source": [
    "# verify if there are any duplicates in the beers dataset with the new_id column\n",
    "print('Number of duplicates in BeerAdvocate:', beers_ba_df.duplicated(subset=['new_id']).sum())\n",
    "print('Number of duplicates in RateBeer:', beers_rb_df.duplicated(subset=['new_id']).sum())\n",
    "\n",
    "duplicate_beers_ba = beers_ba_df[beers_ba_df.duplicated(subset=['new_id'], keep=False)]\n",
    "duplicate_beers_rb = beers_rb_df[beers_rb_df.duplicated(subset=['new_id'], keep=False)]\n",
    "\n",
    "\n",
    "first_duplicate_beer_ba = duplicate_beers_ba.iloc[0]\n",
    "first_duplicate_beer_rb = duplicate_beers_rb.iloc[0]\n",
    "\n",
    "# display the row with the beer_id in the BeerAdvocate dataset and the RateBeer dataset\n",
    "print('BeerAdvocate:')\n",
    "display(beers_ba_df[beers_ba_df.new_id == first_duplicate_beer_ba.new_id])\n",
    "\n",
    "print('RateBeer:')\n",
    "display(beers_rb_df[beers_rb_df.new_id == first_duplicate_beer_rb.new_id])"
   ]
  },
  {
   "cell_type": "code",
   "execution_count": 41,
   "metadata": {},
   "outputs": [
    {
     "name": "stdout",
     "output_type": "stream",
     "text": [
      "Number of duplicates in BeerAdvocate: 315\n",
      "Number of duplicates in RateBeer: 4\n",
      "BeerAdvocate:\n"
     ]
    },
    {
     "data": {
      "text/html": [
       "<div>\n",
       "<style scoped>\n",
       "    .dataframe tbody tr th:only-of-type {\n",
       "        vertical-align: middle;\n",
       "    }\n",
       "\n",
       "    .dataframe tbody tr th {\n",
       "        vertical-align: top;\n",
       "    }\n",
       "\n",
       "    .dataframe thead th {\n",
       "        text-align: right;\n",
       "    }\n",
       "</style>\n",
       "<table border=\"1\" class=\"dataframe\">\n",
       "  <thead>\n",
       "    <tr style=\"text-align: right;\">\n",
       "      <th></th>\n",
       "      <th>id</th>\n",
       "      <th>location</th>\n",
       "      <th>name</th>\n",
       "      <th>nbr_beers</th>\n",
       "      <th>new_id</th>\n",
       "    </tr>\n",
       "  </thead>\n",
       "  <tbody>\n",
       "    <tr>\n",
       "      <th>68</th>\n",
       "      <td>34598</td>\n",
       "      <td>Wales</td>\n",
       "      <td>Rhymney Brewery</td>\n",
       "      <td>2</td>\n",
       "      <td>c6df0aa690b33dca927f0cb52d0de9435a44337d8531ac...</td>\n",
       "    </tr>\n",
       "    <tr>\n",
       "      <th>69</th>\n",
       "      <td>12936</td>\n",
       "      <td>Wales</td>\n",
       "      <td>Rhymney Brewery</td>\n",
       "      <td>13</td>\n",
       "      <td>c6df0aa690b33dca927f0cb52d0de9435a44337d8531ac...</td>\n",
       "    </tr>\n",
       "  </tbody>\n",
       "</table>\n",
       "</div>"
      ],
      "text/plain": [
       "       id location             name  nbr_beers  \\\n",
       "68  34598    Wales  Rhymney Brewery          2   \n",
       "69  12936    Wales  Rhymney Brewery         13   \n",
       "\n",
       "                                               new_id  \n",
       "68  c6df0aa690b33dca927f0cb52d0de9435a44337d8531ac...  \n",
       "69  c6df0aa690b33dca927f0cb52d0de9435a44337d8531ac...  "
      ]
     },
     "metadata": {},
     "output_type": "display_data"
    },
    {
     "name": "stdout",
     "output_type": "stream",
     "text": [
      "RateBeer:\n"
     ]
    },
    {
     "data": {
      "text/html": [
       "<div>\n",
       "<style scoped>\n",
       "    .dataframe tbody tr th:only-of-type {\n",
       "        vertical-align: middle;\n",
       "    }\n",
       "\n",
       "    .dataframe tbody tr th {\n",
       "        vertical-align: top;\n",
       "    }\n",
       "\n",
       "    .dataframe thead th {\n",
       "        text-align: right;\n",
       "    }\n",
       "</style>\n",
       "<table border=\"1\" class=\"dataframe\">\n",
       "  <thead>\n",
       "    <tr style=\"text-align: right;\">\n",
       "      <th></th>\n",
       "      <th>id</th>\n",
       "      <th>location</th>\n",
       "      <th>name</th>\n",
       "      <th>nbr_beers</th>\n",
       "      <th>new_id</th>\n",
       "    </tr>\n",
       "  </thead>\n",
       "  <tbody>\n",
       "    <tr>\n",
       "      <th>1437</th>\n",
       "      <td>23620</td>\n",
       "      <td>Canada</td>\n",
       "      <td>Ridge Brewing Company</td>\n",
       "      <td>15</td>\n",
       "      <td>d1654b815d4c4fe51e802b37bd71993613aef646d6df63...</td>\n",
       "    </tr>\n",
       "    <tr>\n",
       "      <th>1491</th>\n",
       "      <td>3317</td>\n",
       "      <td>Canada</td>\n",
       "      <td>Ridge Brewing Company</td>\n",
       "      <td>12</td>\n",
       "      <td>d1654b815d4c4fe51e802b37bd71993613aef646d6df63...</td>\n",
       "    </tr>\n",
       "  </tbody>\n",
       "</table>\n",
       "</div>"
      ],
      "text/plain": [
       "         id location                   name  nbr_beers  \\\n",
       "1437  23620   Canada  Ridge Brewing Company         15   \n",
       "1491   3317   Canada  Ridge Brewing Company         12   \n",
       "\n",
       "                                                 new_id  \n",
       "1437  d1654b815d4c4fe51e802b37bd71993613aef646d6df63...  \n",
       "1491  d1654b815d4c4fe51e802b37bd71993613aef646d6df63...  "
      ]
     },
     "metadata": {},
     "output_type": "display_data"
    }
   ],
   "source": [
    "# verify if there are any duplicates in the breweries dataset with the new_id column\n",
    "print('Number of duplicates in BeerAdvocate:', breweries_ba_df.duplicated(subset=['new_id']).sum())\n",
    "print('Number of duplicates in RateBeer:', breweries_rb_df.duplicated(subset=['new_id']).sum())\n",
    "\n",
    "duplicate_breweries_ba = breweries_ba_df[breweries_ba_df.duplicated(subset=['new_id'], keep=False)]\n",
    "duplicate_breweries_rb = breweries_rb_df[breweries_rb_df.duplicated(subset=['new_id'], keep=False)]\n",
    "\n",
    "\n",
    "first_duplicate_brewery_ba = duplicate_breweries_ba.iloc[0]\n",
    "first_duplicate_brewery_rb = duplicate_breweries_rb.iloc[0]\n",
    "\n",
    "# display the row with the brewery_id in the BeerAdvocate dataset and the RateBeer dataset\n",
    "print('BeerAdvocate:')\n",
    "display(breweries_ba_df[breweries_ba_df.new_id == first_duplicate_brewery_ba.new_id])\n",
    "\n",
    "print('RateBeer:')\n",
    "display(breweries_rb_df[breweries_rb_df.new_id == first_duplicate_brewery_rb.new_id])"
   ]
  },
  {
   "cell_type": "markdown",
   "metadata": {},
   "source": [
    "We observe that the same beer appears multiple times in the dataset of beers description and breweries description in BeerAdvocate and RateBeer. Let's drop those duplicates. "
   ]
  },
  {
   "cell_type": "code",
   "execution_count": 42,
   "metadata": {},
   "outputs": [],
   "source": [
    "# drop the duplicates\n",
    "beers_ba_df.drop_duplicates(subset=['new_id'], inplace=True)\n",
    "beers_rb_df.drop_duplicates(subset=['new_id'], inplace=True)\n",
    "\n",
    "breweries_ba_df.drop_duplicates(subset=['new_id'], inplace=True)\n",
    "breweries_rb_df.drop_duplicates(subset=['new_id'], inplace=True)"
   ]
  },
  {
   "cell_type": "code",
   "execution_count": 43,
   "metadata": {},
   "outputs": [],
   "source": [
    "# add column abv to the ratings datasets\n",
    "ratings_ba_df['abv'] = ratings_ba_df['new_id_beer'].map(beers_ba_df.set_index('new_id')['abv'])\n",
    "ratings_rb_df['abv'] = ratings_rb_df['new_id_beer'].map(beers_rb_df.set_index('new_id')['abv'])\n",
    "\n",
    "# add column brewery_location to the ratings datasets\n",
    "ratings_ba_df['brewery_location'] = ratings_ba_df['new_id_brewery'].map(breweries_ba_df.set_index('new_id')['location'])\n",
    "ratings_rb_df['brewery_location'] = ratings_rb_df['new_id_brewery'].map(breweries_rb_df.set_index('new_id')['location'])\n",
    "\n",
    "# Add column 'dataset' to the datasets to know where each row comes from orignally \n",
    "ratings_ba_df['dataset'] = 'BeerAdvocate'\n",
    "ratings_rb_df['dataset'] = 'RateBeer'\n",
    "\n",
    "# merge the two ratings dataframes\n",
    "ratings_combined_df_untouched = pd.concat([ratings_ba_df_untouched, ratings_rb_df_untouched], ignore_index=True)\n",
    "ratings_combined_df = pd.concat([ratings_ba_df, ratings_rb_df], ignore_index=True)"
   ]
  },
  {
   "cell_type": "markdown",
   "metadata": {},
   "source": [
    "# Temporal Analysis"
   ]
  },
  {
   "cell_type": "markdown",
   "metadata": {},
   "source": [
    "## General Analysis"
   ]
  },
  {
   "cell_type": "code",
   "execution_count": 44,
   "metadata": {},
   "outputs": [],
   "source": [
    "def dataframe_time_analysis(df, year_lower, year_upper):\n",
    "    # create a year_month column\n",
    "    ratings_combined_df['year_month'] = df['year'].astype(str) + '-' + df['month'].astype(str)\n",
    "\n",
    "    # convert the year_month column to datetime format\n",
    "    ratings_combined_df['year_month'] = pd.to_datetime(ratings_combined_df['year_month'])\n",
    "\n",
    "    # group by year_month and count the number of ratings per year_month\n",
    "    year_month_ratings_count = ratings_combined_df.groupby('year_month')['year_month'].count()\n",
    "    \n",
    "    # creating a new dataframe with the number of ratings per year_month\n",
    "    year_month_ratings_count_df = pd.DataFrame({'year_month': year_month_ratings_count.index, 'nbr_ratings': year_month_ratings_count.values})\n",
    "\n",
    "    # create column year and month\n",
    "    year_month_ratings_count_df['year'] = year_month_ratings_count_df['year_month'].dt.year\n",
    "    year_month_ratings_count_df['month'] = year_month_ratings_count_df['year_month'].dt.month\n",
    "\n",
    "    # keep only rows where the year is greater than 2011 and less than 2017 \n",
    "    year_month_ratings_count_filtered = year_month_ratings_count_df[(year_month_ratings_count_df.year >= year_lower) & (year_month_ratings_count_df.year < year_upper)]\n",
    "\n",
    "    # compute the mean number of ratings per month\n",
    "    mean_ratings_per_month = year_month_ratings_count_filtered.groupby('month')['nbr_ratings'].mean().reset_index(name='mean_nbr_ratings')\n",
    "\n",
    "    return year_month_ratings_count, year_month_ratings_count_filtered, mean_ratings_per_month "
   ]
  },
  {
   "cell_type": "code",
   "execution_count": 45,
   "metadata": {},
   "outputs": [
    {
     "data": {
      "application/vnd.plotly.v1+json": {
       "config": {
        "plotlyServerURL": "https://plot.ly"
       },
       "data": [
        {
         "hovertemplate": "year=2008<br>month=%{x}<br>nbr_ratings=%{y}<extra></extra>",
         "legendgroup": "2008",
         "line": {
          "color": "#636efa",
          "dash": "solid"
         },
         "marker": {
          "symbol": "circle"
         },
         "mode": "lines",
         "name": "2008",
         "orientation": "v",
         "showlegend": true,
         "type": "scatter",
         "x": [
          1,
          2,
          3,
          4,
          5,
          6,
          7,
          8,
          9,
          10,
          11,
          12
         ],
         "xaxis": "x",
         "y": [
          34593,
          32398,
          36089,
          34451,
          36764,
          34264,
          33802,
          37247,
          32124,
          34235,
          27029,
          37254
         ],
         "yaxis": "y"
        },
        {
         "hovertemplate": "year=2009<br>month=%{x}<br>nbr_ratings=%{y}<extra></extra>",
         "legendgroup": "2009",
         "line": {
          "color": "#EF553B",
          "dash": "solid"
         },
         "marker": {
          "symbol": "circle"
         },
         "mode": "lines",
         "name": "2009",
         "orientation": "v",
         "showlegend": true,
         "type": "scatter",
         "x": [
          1,
          2,
          3,
          4,
          5,
          6,
          7,
          8,
          9,
          10,
          11,
          12
         ],
         "xaxis": "x",
         "y": [
          41066,
          35136,
          40716,
          36968,
          37226,
          33980,
          36240,
          37665,
          34699,
          33137,
          34539,
          36594
         ],
         "yaxis": "y"
        },
        {
         "hovertemplate": "year=2010<br>month=%{x}<br>nbr_ratings=%{y}<extra></extra>",
         "legendgroup": "2010",
         "line": {
          "color": "#00cc96",
          "dash": "solid"
         },
         "marker": {
          "symbol": "circle"
         },
         "mode": "lines",
         "name": "2010",
         "orientation": "v",
         "showlegend": true,
         "type": "scatter",
         "x": [
          1,
          2,
          3,
          4,
          5,
          6,
          7,
          8,
          9,
          10,
          11,
          12
         ],
         "xaxis": "x",
         "y": [
          38722,
          35091,
          37943,
          35471,
          37573,
          34226,
          36752,
          38450,
          36096,
          38002,
          37560,
          42714
         ],
         "yaxis": "y"
        },
        {
         "hovertemplate": "year=2011<br>month=%{x}<br>nbr_ratings=%{y}<extra></extra>",
         "legendgroup": "2011",
         "line": {
          "color": "#ab63fa",
          "dash": "solid"
         },
         "marker": {
          "symbol": "circle"
         },
         "mode": "lines",
         "name": "2011",
         "orientation": "v",
         "showlegend": true,
         "type": "scatter",
         "x": [
          1,
          2,
          3,
          4,
          5,
          6,
          7,
          8,
          9,
          10,
          11,
          12
         ],
         "xaxis": "x",
         "y": [
          44057,
          40914,
          43693,
          39500,
          40721,
          39024,
          40475,
          42447,
          40441,
          40318,
          40548,
          41852
         ],
         "yaxis": "y"
        },
        {
         "hovertemplate": "year=2012<br>month=%{x}<br>nbr_ratings=%{y}<extra></extra>",
         "legendgroup": "2012",
         "line": {
          "color": "#FFA15A",
          "dash": "solid"
         },
         "marker": {
          "symbol": "circle"
         },
         "mode": "lines",
         "name": "2012",
         "orientation": "v",
         "showlegend": true,
         "type": "scatter",
         "x": [
          1,
          2,
          3,
          4,
          5,
          6,
          7,
          8,
          9,
          10,
          11,
          12
         ],
         "xaxis": "x",
         "y": [
          42302,
          39981,
          39171,
          36639,
          35600,
          35419,
          37550,
          37701,
          33982,
          34941,
          33903,
          38128
         ],
         "yaxis": "y"
        },
        {
         "hovertemplate": "year=2013<br>month=%{x}<br>nbr_ratings=%{y}<extra></extra>",
         "legendgroup": "2013",
         "line": {
          "color": "#19d3f3",
          "dash": "solid"
         },
         "marker": {
          "symbol": "circle"
         },
         "mode": "lines",
         "name": "2013",
         "orientation": "v",
         "showlegend": true,
         "type": "scatter",
         "x": [
          1,
          2,
          3,
          4,
          5,
          6,
          7,
          8,
          9,
          10,
          11,
          12
         ],
         "xaxis": "x",
         "y": [
          38752,
          35681,
          39551,
          36174,
          38511,
          40520,
          40527,
          41778,
          36992,
          39633,
          38285,
          39118
         ],
         "yaxis": "y"
        },
        {
         "hovertemplate": "year=2014<br>month=%{x}<br>nbr_ratings=%{y}<extra></extra>",
         "legendgroup": "2014",
         "line": {
          "color": "#FF6692",
          "dash": "solid"
         },
         "marker": {
          "symbol": "circle"
         },
         "mode": "lines",
         "name": "2014",
         "orientation": "v",
         "showlegend": true,
         "type": "scatter",
         "x": [
          1,
          2,
          3,
          4,
          5,
          6,
          7,
          8,
          9,
          10,
          11,
          12
         ],
         "xaxis": "x",
         "y": [
          37577,
          35719,
          38002,
          35638,
          37587,
          38724,
          36532,
          40863,
          37953,
          37984,
          37090,
          40708
         ],
         "yaxis": "y"
        },
        {
         "hovertemplate": "year=2015<br>month=%{x}<br>nbr_ratings=%{y}<extra></extra>",
         "legendgroup": "2015",
         "line": {
          "color": "#B6E880",
          "dash": "solid"
         },
         "marker": {
          "symbol": "circle"
         },
         "mode": "lines",
         "name": "2015",
         "orientation": "v",
         "showlegend": true,
         "type": "scatter",
         "x": [
          1,
          2,
          3,
          4,
          5,
          6,
          7,
          8,
          9,
          10,
          11,
          12
         ],
         "xaxis": "x",
         "y": [
          44376,
          41650,
          47004,
          42924,
          44583,
          44383,
          44696,
          46530,
          38741,
          39565,
          38323,
          41538
         ],
         "yaxis": "y"
        },
        {
         "hovertemplate": "year=2016<br>month=%{x}<br>nbr_ratings=%{y}<extra></extra>",
         "legendgroup": "2016",
         "line": {
          "color": "#FF97FF",
          "dash": "solid"
         },
         "marker": {
          "symbol": "circle"
         },
         "mode": "lines",
         "name": "2016",
         "orientation": "v",
         "showlegend": true,
         "type": "scatter",
         "x": [
          1,
          2,
          3,
          4,
          5,
          6,
          7,
          8,
          9,
          10,
          11,
          12
         ],
         "xaxis": "x",
         "y": [
          40407,
          36725,
          38097,
          38532,
          38403,
          36596,
          37418,
          32653,
          30351,
          31438,
          28725,
          31056
         ],
         "yaxis": "y"
        },
        {
         "line": {
          "color": "black",
          "dash": "dash",
          "width": 4
         },
         "mode": "lines",
         "name": "Mean Number of Ratings",
         "type": "scatter",
         "x": [
          1,
          2,
          3,
          4,
          5,
          6,
          7,
          8,
          9,
          10,
          11,
          12,
          1,
          2,
          3,
          4,
          5,
          6,
          7,
          8,
          9,
          10,
          11,
          12,
          1,
          2,
          3,
          4,
          5,
          6,
          7,
          8,
          9,
          10,
          11,
          12,
          1,
          2,
          3,
          4,
          5,
          6,
          7,
          8,
          9,
          10,
          11,
          12,
          1,
          2,
          3,
          4,
          5,
          6,
          7,
          8,
          9,
          10,
          11,
          12,
          1,
          2,
          3,
          4,
          5,
          6,
          7,
          8,
          9,
          10,
          11,
          12,
          1,
          2,
          3,
          4,
          5,
          6,
          7,
          8,
          9,
          10,
          11,
          12,
          1,
          2,
          3,
          4,
          5,
          6,
          7,
          8,
          9,
          10,
          11,
          12,
          1,
          2,
          3,
          4,
          5,
          6,
          7,
          8,
          9,
          10,
          11,
          12
         ],
         "y": [
          40205.77777777778,
          37032.77777777778,
          40029.555555555555,
          37366.333333333336,
          38552,
          37459.555555555555,
          38221.333333333336,
          39481.555555555555,
          35708.77777777778,
          36583.666666666664,
          35111.333333333336,
          38773.555555555555
         ]
        }
       ],
       "layout": {
        "legend": {
         "title": {
          "text": "year"
         },
         "tracegroupgap": 0
        },
        "template": {
         "data": {
          "bar": [
           {
            "error_x": {
             "color": "#2a3f5f"
            },
            "error_y": {
             "color": "#2a3f5f"
            },
            "marker": {
             "line": {
              "color": "#E5ECF6",
              "width": 0.5
             },
             "pattern": {
              "fillmode": "overlay",
              "size": 10,
              "solidity": 0.2
             }
            },
            "type": "bar"
           }
          ],
          "barpolar": [
           {
            "marker": {
             "line": {
              "color": "#E5ECF6",
              "width": 0.5
             },
             "pattern": {
              "fillmode": "overlay",
              "size": 10,
              "solidity": 0.2
             }
            },
            "type": "barpolar"
           }
          ],
          "carpet": [
           {
            "aaxis": {
             "endlinecolor": "#2a3f5f",
             "gridcolor": "white",
             "linecolor": "white",
             "minorgridcolor": "white",
             "startlinecolor": "#2a3f5f"
            },
            "baxis": {
             "endlinecolor": "#2a3f5f",
             "gridcolor": "white",
             "linecolor": "white",
             "minorgridcolor": "white",
             "startlinecolor": "#2a3f5f"
            },
            "type": "carpet"
           }
          ],
          "choropleth": [
           {
            "colorbar": {
             "outlinewidth": 0,
             "ticks": ""
            },
            "type": "choropleth"
           }
          ],
          "contour": [
           {
            "colorbar": {
             "outlinewidth": 0,
             "ticks": ""
            },
            "colorscale": [
             [
              0,
              "#0d0887"
             ],
             [
              0.1111111111111111,
              "#46039f"
             ],
             [
              0.2222222222222222,
              "#7201a8"
             ],
             [
              0.3333333333333333,
              "#9c179e"
             ],
             [
              0.4444444444444444,
              "#bd3786"
             ],
             [
              0.5555555555555556,
              "#d8576b"
             ],
             [
              0.6666666666666666,
              "#ed7953"
             ],
             [
              0.7777777777777778,
              "#fb9f3a"
             ],
             [
              0.8888888888888888,
              "#fdca26"
             ],
             [
              1,
              "#f0f921"
             ]
            ],
            "type": "contour"
           }
          ],
          "contourcarpet": [
           {
            "colorbar": {
             "outlinewidth": 0,
             "ticks": ""
            },
            "type": "contourcarpet"
           }
          ],
          "heatmap": [
           {
            "colorbar": {
             "outlinewidth": 0,
             "ticks": ""
            },
            "colorscale": [
             [
              0,
              "#0d0887"
             ],
             [
              0.1111111111111111,
              "#46039f"
             ],
             [
              0.2222222222222222,
              "#7201a8"
             ],
             [
              0.3333333333333333,
              "#9c179e"
             ],
             [
              0.4444444444444444,
              "#bd3786"
             ],
             [
              0.5555555555555556,
              "#d8576b"
             ],
             [
              0.6666666666666666,
              "#ed7953"
             ],
             [
              0.7777777777777778,
              "#fb9f3a"
             ],
             [
              0.8888888888888888,
              "#fdca26"
             ],
             [
              1,
              "#f0f921"
             ]
            ],
            "type": "heatmap"
           }
          ],
          "heatmapgl": [
           {
            "colorbar": {
             "outlinewidth": 0,
             "ticks": ""
            },
            "colorscale": [
             [
              0,
              "#0d0887"
             ],
             [
              0.1111111111111111,
              "#46039f"
             ],
             [
              0.2222222222222222,
              "#7201a8"
             ],
             [
              0.3333333333333333,
              "#9c179e"
             ],
             [
              0.4444444444444444,
              "#bd3786"
             ],
             [
              0.5555555555555556,
              "#d8576b"
             ],
             [
              0.6666666666666666,
              "#ed7953"
             ],
             [
              0.7777777777777778,
              "#fb9f3a"
             ],
             [
              0.8888888888888888,
              "#fdca26"
             ],
             [
              1,
              "#f0f921"
             ]
            ],
            "type": "heatmapgl"
           }
          ],
          "histogram": [
           {
            "marker": {
             "pattern": {
              "fillmode": "overlay",
              "size": 10,
              "solidity": 0.2
             }
            },
            "type": "histogram"
           }
          ],
          "histogram2d": [
           {
            "colorbar": {
             "outlinewidth": 0,
             "ticks": ""
            },
            "colorscale": [
             [
              0,
              "#0d0887"
             ],
             [
              0.1111111111111111,
              "#46039f"
             ],
             [
              0.2222222222222222,
              "#7201a8"
             ],
             [
              0.3333333333333333,
              "#9c179e"
             ],
             [
              0.4444444444444444,
              "#bd3786"
             ],
             [
              0.5555555555555556,
              "#d8576b"
             ],
             [
              0.6666666666666666,
              "#ed7953"
             ],
             [
              0.7777777777777778,
              "#fb9f3a"
             ],
             [
              0.8888888888888888,
              "#fdca26"
             ],
             [
              1,
              "#f0f921"
             ]
            ],
            "type": "histogram2d"
           }
          ],
          "histogram2dcontour": [
           {
            "colorbar": {
             "outlinewidth": 0,
             "ticks": ""
            },
            "colorscale": [
             [
              0,
              "#0d0887"
             ],
             [
              0.1111111111111111,
              "#46039f"
             ],
             [
              0.2222222222222222,
              "#7201a8"
             ],
             [
              0.3333333333333333,
              "#9c179e"
             ],
             [
              0.4444444444444444,
              "#bd3786"
             ],
             [
              0.5555555555555556,
              "#d8576b"
             ],
             [
              0.6666666666666666,
              "#ed7953"
             ],
             [
              0.7777777777777778,
              "#fb9f3a"
             ],
             [
              0.8888888888888888,
              "#fdca26"
             ],
             [
              1,
              "#f0f921"
             ]
            ],
            "type": "histogram2dcontour"
           }
          ],
          "mesh3d": [
           {
            "colorbar": {
             "outlinewidth": 0,
             "ticks": ""
            },
            "type": "mesh3d"
           }
          ],
          "parcoords": [
           {
            "line": {
             "colorbar": {
              "outlinewidth": 0,
              "ticks": ""
             }
            },
            "type": "parcoords"
           }
          ],
          "pie": [
           {
            "automargin": true,
            "type": "pie"
           }
          ],
          "scatter": [
           {
            "fillpattern": {
             "fillmode": "overlay",
             "size": 10,
             "solidity": 0.2
            },
            "type": "scatter"
           }
          ],
          "scatter3d": [
           {
            "line": {
             "colorbar": {
              "outlinewidth": 0,
              "ticks": ""
             }
            },
            "marker": {
             "colorbar": {
              "outlinewidth": 0,
              "ticks": ""
             }
            },
            "type": "scatter3d"
           }
          ],
          "scattercarpet": [
           {
            "marker": {
             "colorbar": {
              "outlinewidth": 0,
              "ticks": ""
             }
            },
            "type": "scattercarpet"
           }
          ],
          "scattergeo": [
           {
            "marker": {
             "colorbar": {
              "outlinewidth": 0,
              "ticks": ""
             }
            },
            "type": "scattergeo"
           }
          ],
          "scattergl": [
           {
            "marker": {
             "colorbar": {
              "outlinewidth": 0,
              "ticks": ""
             }
            },
            "type": "scattergl"
           }
          ],
          "scattermapbox": [
           {
            "marker": {
             "colorbar": {
              "outlinewidth": 0,
              "ticks": ""
             }
            },
            "type": "scattermapbox"
           }
          ],
          "scatterpolar": [
           {
            "marker": {
             "colorbar": {
              "outlinewidth": 0,
              "ticks": ""
             }
            },
            "type": "scatterpolar"
           }
          ],
          "scatterpolargl": [
           {
            "marker": {
             "colorbar": {
              "outlinewidth": 0,
              "ticks": ""
             }
            },
            "type": "scatterpolargl"
           }
          ],
          "scatterternary": [
           {
            "marker": {
             "colorbar": {
              "outlinewidth": 0,
              "ticks": ""
             }
            },
            "type": "scatterternary"
           }
          ],
          "surface": [
           {
            "colorbar": {
             "outlinewidth": 0,
             "ticks": ""
            },
            "colorscale": [
             [
              0,
              "#0d0887"
             ],
             [
              0.1111111111111111,
              "#46039f"
             ],
             [
              0.2222222222222222,
              "#7201a8"
             ],
             [
              0.3333333333333333,
              "#9c179e"
             ],
             [
              0.4444444444444444,
              "#bd3786"
             ],
             [
              0.5555555555555556,
              "#d8576b"
             ],
             [
              0.6666666666666666,
              "#ed7953"
             ],
             [
              0.7777777777777778,
              "#fb9f3a"
             ],
             [
              0.8888888888888888,
              "#fdca26"
             ],
             [
              1,
              "#f0f921"
             ]
            ],
            "type": "surface"
           }
          ],
          "table": [
           {
            "cells": {
             "fill": {
              "color": "#EBF0F8"
             },
             "line": {
              "color": "white"
             }
            },
            "header": {
             "fill": {
              "color": "#C8D4E3"
             },
             "line": {
              "color": "white"
             }
            },
            "type": "table"
           }
          ]
         },
         "layout": {
          "annotationdefaults": {
           "arrowcolor": "#2a3f5f",
           "arrowhead": 0,
           "arrowwidth": 1
          },
          "autotypenumbers": "strict",
          "coloraxis": {
           "colorbar": {
            "outlinewidth": 0,
            "ticks": ""
           }
          },
          "colorscale": {
           "diverging": [
            [
             0,
             "#8e0152"
            ],
            [
             0.1,
             "#c51b7d"
            ],
            [
             0.2,
             "#de77ae"
            ],
            [
             0.3,
             "#f1b6da"
            ],
            [
             0.4,
             "#fde0ef"
            ],
            [
             0.5,
             "#f7f7f7"
            ],
            [
             0.6,
             "#e6f5d0"
            ],
            [
             0.7,
             "#b8e186"
            ],
            [
             0.8,
             "#7fbc41"
            ],
            [
             0.9,
             "#4d9221"
            ],
            [
             1,
             "#276419"
            ]
           ],
           "sequential": [
            [
             0,
             "#0d0887"
            ],
            [
             0.1111111111111111,
             "#46039f"
            ],
            [
             0.2222222222222222,
             "#7201a8"
            ],
            [
             0.3333333333333333,
             "#9c179e"
            ],
            [
             0.4444444444444444,
             "#bd3786"
            ],
            [
             0.5555555555555556,
             "#d8576b"
            ],
            [
             0.6666666666666666,
             "#ed7953"
            ],
            [
             0.7777777777777778,
             "#fb9f3a"
            ],
            [
             0.8888888888888888,
             "#fdca26"
            ],
            [
             1,
             "#f0f921"
            ]
           ],
           "sequentialminus": [
            [
             0,
             "#0d0887"
            ],
            [
             0.1111111111111111,
             "#46039f"
            ],
            [
             0.2222222222222222,
             "#7201a8"
            ],
            [
             0.3333333333333333,
             "#9c179e"
            ],
            [
             0.4444444444444444,
             "#bd3786"
            ],
            [
             0.5555555555555556,
             "#d8576b"
            ],
            [
             0.6666666666666666,
             "#ed7953"
            ],
            [
             0.7777777777777778,
             "#fb9f3a"
            ],
            [
             0.8888888888888888,
             "#fdca26"
            ],
            [
             1,
             "#f0f921"
            ]
           ]
          },
          "colorway": [
           "#636efa",
           "#EF553B",
           "#00cc96",
           "#ab63fa",
           "#FFA15A",
           "#19d3f3",
           "#FF6692",
           "#B6E880",
           "#FF97FF",
           "#FECB52"
          ],
          "font": {
           "color": "#2a3f5f"
          },
          "geo": {
           "bgcolor": "white",
           "lakecolor": "white",
           "landcolor": "#E5ECF6",
           "showlakes": true,
           "showland": true,
           "subunitcolor": "white"
          },
          "hoverlabel": {
           "align": "left"
          },
          "hovermode": "closest",
          "mapbox": {
           "style": "light"
          },
          "paper_bgcolor": "white",
          "plot_bgcolor": "#E5ECF6",
          "polar": {
           "angularaxis": {
            "gridcolor": "white",
            "linecolor": "white",
            "ticks": ""
           },
           "bgcolor": "#E5ECF6",
           "radialaxis": {
            "gridcolor": "white",
            "linecolor": "white",
            "ticks": ""
           }
          },
          "scene": {
           "xaxis": {
            "backgroundcolor": "#E5ECF6",
            "gridcolor": "white",
            "gridwidth": 2,
            "linecolor": "white",
            "showbackground": true,
            "ticks": "",
            "zerolinecolor": "white"
           },
           "yaxis": {
            "backgroundcolor": "#E5ECF6",
            "gridcolor": "white",
            "gridwidth": 2,
            "linecolor": "white",
            "showbackground": true,
            "ticks": "",
            "zerolinecolor": "white"
           },
           "zaxis": {
            "backgroundcolor": "#E5ECF6",
            "gridcolor": "white",
            "gridwidth": 2,
            "linecolor": "white",
            "showbackground": true,
            "ticks": "",
            "zerolinecolor": "white"
           }
          },
          "shapedefaults": {
           "line": {
            "color": "#2a3f5f"
           }
          },
          "ternary": {
           "aaxis": {
            "gridcolor": "white",
            "linecolor": "white",
            "ticks": ""
           },
           "baxis": {
            "gridcolor": "white",
            "linecolor": "white",
            "ticks": ""
           },
           "bgcolor": "#E5ECF6",
           "caxis": {
            "gridcolor": "white",
            "linecolor": "white",
            "ticks": ""
           }
          },
          "title": {
           "x": 0.05
          },
          "xaxis": {
           "automargin": true,
           "gridcolor": "white",
           "linecolor": "white",
           "ticks": "",
           "title": {
            "standoff": 15
           },
           "zerolinecolor": "white",
           "zerolinewidth": 2
          },
          "yaxis": {
           "automargin": true,
           "gridcolor": "white",
           "linecolor": "white",
           "ticks": "",
           "title": {
            "standoff": 15
           },
           "zerolinecolor": "white",
           "zerolinewidth": 2
          }
         }
        },
        "title": {
         "text": "Mean Number of Ratings per Month (from 2008 to 2016)"
        },
        "xaxis": {
         "anchor": "y",
         "domain": [
          0,
          1
         ],
         "title": {
          "text": "month"
         }
        },
        "yaxis": {
         "anchor": "x",
         "domain": [
          0,
          1
         ],
         "title": {
          "text": "nbr_ratings"
         }
        }
       }
      }
     },
     "metadata": {},
     "output_type": "display_data"
    }
   ],
   "source": [
    "year_month_ratings_count, year_month_ratings_count_filtered, mean_ratings_per_month = dataframe_time_analysis(ratings_combined_df, 2008, 2017)\n",
    "\n",
    "# plot with plotly the mean number of ratings per month\n",
    "fig = px.line(year_month_ratings_count_filtered, x='month', y='nbr_ratings', color='year', title='Mean Number of Ratings per Month (from 2008 to 2016)')\n",
    "fig.add_trace(go.Scatter(x=year_month_ratings_count_filtered.month, y=mean_ratings_per_month.mean_nbr_ratings, mode='lines', name='Mean Number of Ratings', line=dict(color='black', dash='dash', width=4)))\n",
    "\n",
    "fig.show()"
   ]
  },
  {
   "cell_type": "markdown",
   "metadata": {},
   "source": [
    "From the plot above, we observe some seasonality of the beer's ratings. Indeed, we can remark that some months have some peak of ratings. The months December/January have the biggest increase. We can also see that the months of March, August and also slightly less May and October, have increases of the number of ratings. "
   ]
  },
  {
   "cell_type": "markdown",
   "metadata": {},
   "source": [
    "Let's observe the count of good ratings now. As precised above, a rating is considered as good when it is over the average mean of the dataset. "
   ]
  },
  {
   "cell_type": "code",
   "execution_count": 46,
   "metadata": {},
   "outputs": [
    {
     "data": {
      "application/vnd.plotly.v1+json": {
       "config": {
        "plotlyServerURL": "https://plot.ly"
       },
       "data": [
        {
         "hovertemplate": "year=2008<br>month=%{x}<br>nbr_ratings=%{y}<extra></extra>",
         "legendgroup": "2008",
         "line": {
          "color": "#636efa",
          "dash": "solid"
         },
         "marker": {
          "symbol": "circle"
         },
         "mode": "lines",
         "name": "2008",
         "orientation": "v",
         "showlegend": true,
         "type": "scatter",
         "x": [
          1,
          2,
          3,
          4,
          5,
          6,
          7,
          8,
          9,
          10,
          11,
          12
         ],
         "xaxis": "x",
         "y": [
          34593,
          32398,
          36089,
          34451,
          36764,
          34264,
          33802,
          37247,
          32124,
          34235,
          27029,
          37254
         ],
         "yaxis": "y"
        },
        {
         "hovertemplate": "year=2009<br>month=%{x}<br>nbr_ratings=%{y}<extra></extra>",
         "legendgroup": "2009",
         "line": {
          "color": "#EF553B",
          "dash": "solid"
         },
         "marker": {
          "symbol": "circle"
         },
         "mode": "lines",
         "name": "2009",
         "orientation": "v",
         "showlegend": true,
         "type": "scatter",
         "x": [
          1,
          2,
          3,
          4,
          5,
          6,
          7,
          8,
          9,
          10,
          11,
          12
         ],
         "xaxis": "x",
         "y": [
          41066,
          35136,
          40716,
          36968,
          37226,
          33980,
          36240,
          37665,
          34699,
          33137,
          34539,
          36594
         ],
         "yaxis": "y"
        },
        {
         "hovertemplate": "year=2010<br>month=%{x}<br>nbr_ratings=%{y}<extra></extra>",
         "legendgroup": "2010",
         "line": {
          "color": "#00cc96",
          "dash": "solid"
         },
         "marker": {
          "symbol": "circle"
         },
         "mode": "lines",
         "name": "2010",
         "orientation": "v",
         "showlegend": true,
         "type": "scatter",
         "x": [
          1,
          2,
          3,
          4,
          5,
          6,
          7,
          8,
          9,
          10,
          11,
          12
         ],
         "xaxis": "x",
         "y": [
          38722,
          35091,
          37943,
          35471,
          37573,
          34226,
          36752,
          38450,
          36096,
          38002,
          37560,
          42714
         ],
         "yaxis": "y"
        },
        {
         "hovertemplate": "year=2011<br>month=%{x}<br>nbr_ratings=%{y}<extra></extra>",
         "legendgroup": "2011",
         "line": {
          "color": "#ab63fa",
          "dash": "solid"
         },
         "marker": {
          "symbol": "circle"
         },
         "mode": "lines",
         "name": "2011",
         "orientation": "v",
         "showlegend": true,
         "type": "scatter",
         "x": [
          1,
          2,
          3,
          4,
          5,
          6,
          7,
          8,
          9,
          10,
          11,
          12
         ],
         "xaxis": "x",
         "y": [
          44057,
          40914,
          43693,
          39500,
          40721,
          39024,
          40475,
          42447,
          40441,
          40318,
          40548,
          41852
         ],
         "yaxis": "y"
        },
        {
         "hovertemplate": "year=2012<br>month=%{x}<br>nbr_ratings=%{y}<extra></extra>",
         "legendgroup": "2012",
         "line": {
          "color": "#FFA15A",
          "dash": "solid"
         },
         "marker": {
          "symbol": "circle"
         },
         "mode": "lines",
         "name": "2012",
         "orientation": "v",
         "showlegend": true,
         "type": "scatter",
         "x": [
          1,
          2,
          3,
          4,
          5,
          6,
          7,
          8,
          9,
          10,
          11,
          12
         ],
         "xaxis": "x",
         "y": [
          42302,
          39981,
          39171,
          36639,
          35600,
          35419,
          37550,
          37701,
          33982,
          34941,
          33903,
          38128
         ],
         "yaxis": "y"
        },
        {
         "hovertemplate": "year=2013<br>month=%{x}<br>nbr_ratings=%{y}<extra></extra>",
         "legendgroup": "2013",
         "line": {
          "color": "#19d3f3",
          "dash": "solid"
         },
         "marker": {
          "symbol": "circle"
         },
         "mode": "lines",
         "name": "2013",
         "orientation": "v",
         "showlegend": true,
         "type": "scatter",
         "x": [
          1,
          2,
          3,
          4,
          5,
          6,
          7,
          8,
          9,
          10,
          11,
          12
         ],
         "xaxis": "x",
         "y": [
          38752,
          35681,
          39551,
          36174,
          38511,
          40520,
          40527,
          41778,
          36992,
          39633,
          38285,
          39118
         ],
         "yaxis": "y"
        },
        {
         "hovertemplate": "year=2014<br>month=%{x}<br>nbr_ratings=%{y}<extra></extra>",
         "legendgroup": "2014",
         "line": {
          "color": "#FF6692",
          "dash": "solid"
         },
         "marker": {
          "symbol": "circle"
         },
         "mode": "lines",
         "name": "2014",
         "orientation": "v",
         "showlegend": true,
         "type": "scatter",
         "x": [
          1,
          2,
          3,
          4,
          5,
          6,
          7,
          8,
          9,
          10,
          11,
          12
         ],
         "xaxis": "x",
         "y": [
          37577,
          35719,
          38002,
          35638,
          37587,
          38724,
          36532,
          40863,
          37953,
          37984,
          37090,
          40708
         ],
         "yaxis": "y"
        },
        {
         "hovertemplate": "year=2015<br>month=%{x}<br>nbr_ratings=%{y}<extra></extra>",
         "legendgroup": "2015",
         "line": {
          "color": "#B6E880",
          "dash": "solid"
         },
         "marker": {
          "symbol": "circle"
         },
         "mode": "lines",
         "name": "2015",
         "orientation": "v",
         "showlegend": true,
         "type": "scatter",
         "x": [
          1,
          2,
          3,
          4,
          5,
          6,
          7,
          8,
          9,
          10,
          11,
          12
         ],
         "xaxis": "x",
         "y": [
          44376,
          41650,
          47004,
          42924,
          44583,
          44383,
          44696,
          46530,
          38741,
          39565,
          38323,
          41538
         ],
         "yaxis": "y"
        },
        {
         "hovertemplate": "year=2016<br>month=%{x}<br>nbr_ratings=%{y}<extra></extra>",
         "legendgroup": "2016",
         "line": {
          "color": "#FF97FF",
          "dash": "solid"
         },
         "marker": {
          "symbol": "circle"
         },
         "mode": "lines",
         "name": "2016",
         "orientation": "v",
         "showlegend": true,
         "type": "scatter",
         "x": [
          1,
          2,
          3,
          4,
          5,
          6,
          7,
          8,
          9,
          10,
          11,
          12
         ],
         "xaxis": "x",
         "y": [
          40407,
          36725,
          38097,
          38532,
          38403,
          36596,
          37418,
          32653,
          30351,
          31438,
          28725,
          31056
         ],
         "yaxis": "y"
        },
        {
         "line": {
          "color": "black",
          "dash": "dash",
          "width": 4
         },
         "mode": "lines",
         "name": "Mean Number of Ratings",
         "type": "scatter",
         "x": [
          1,
          2,
          3,
          4,
          5,
          6,
          7,
          8,
          9,
          10,
          11,
          12,
          1,
          2,
          3,
          4,
          5,
          6,
          7,
          8,
          9,
          10,
          11,
          12,
          1,
          2,
          3,
          4,
          5,
          6,
          7,
          8,
          9,
          10,
          11,
          12,
          1,
          2,
          3,
          4,
          5,
          6,
          7,
          8,
          9,
          10,
          11,
          12,
          1,
          2,
          3,
          4,
          5,
          6,
          7,
          8,
          9,
          10,
          11,
          12,
          1,
          2,
          3,
          4,
          5,
          6,
          7,
          8,
          9,
          10,
          11,
          12,
          1,
          2,
          3,
          4,
          5,
          6,
          7,
          8,
          9,
          10,
          11,
          12,
          1,
          2,
          3,
          4,
          5,
          6,
          7,
          8,
          9,
          10,
          11,
          12,
          1,
          2,
          3,
          4,
          5,
          6,
          7,
          8,
          9,
          10,
          11,
          12
         ],
         "y": [
          40205.77777777778,
          37032.77777777778,
          40029.555555555555,
          37366.333333333336,
          38552,
          37459.555555555555,
          38221.333333333336,
          39481.555555555555,
          35708.77777777778,
          36583.666666666664,
          35111.333333333336,
          38773.555555555555
         ]
        }
       ],
       "layout": {
        "legend": {
         "title": {
          "text": "year"
         },
         "tracegroupgap": 0
        },
        "template": {
         "data": {
          "bar": [
           {
            "error_x": {
             "color": "#2a3f5f"
            },
            "error_y": {
             "color": "#2a3f5f"
            },
            "marker": {
             "line": {
              "color": "#E5ECF6",
              "width": 0.5
             },
             "pattern": {
              "fillmode": "overlay",
              "size": 10,
              "solidity": 0.2
             }
            },
            "type": "bar"
           }
          ],
          "barpolar": [
           {
            "marker": {
             "line": {
              "color": "#E5ECF6",
              "width": 0.5
             },
             "pattern": {
              "fillmode": "overlay",
              "size": 10,
              "solidity": 0.2
             }
            },
            "type": "barpolar"
           }
          ],
          "carpet": [
           {
            "aaxis": {
             "endlinecolor": "#2a3f5f",
             "gridcolor": "white",
             "linecolor": "white",
             "minorgridcolor": "white",
             "startlinecolor": "#2a3f5f"
            },
            "baxis": {
             "endlinecolor": "#2a3f5f",
             "gridcolor": "white",
             "linecolor": "white",
             "minorgridcolor": "white",
             "startlinecolor": "#2a3f5f"
            },
            "type": "carpet"
           }
          ],
          "choropleth": [
           {
            "colorbar": {
             "outlinewidth": 0,
             "ticks": ""
            },
            "type": "choropleth"
           }
          ],
          "contour": [
           {
            "colorbar": {
             "outlinewidth": 0,
             "ticks": ""
            },
            "colorscale": [
             [
              0,
              "#0d0887"
             ],
             [
              0.1111111111111111,
              "#46039f"
             ],
             [
              0.2222222222222222,
              "#7201a8"
             ],
             [
              0.3333333333333333,
              "#9c179e"
             ],
             [
              0.4444444444444444,
              "#bd3786"
             ],
             [
              0.5555555555555556,
              "#d8576b"
             ],
             [
              0.6666666666666666,
              "#ed7953"
             ],
             [
              0.7777777777777778,
              "#fb9f3a"
             ],
             [
              0.8888888888888888,
              "#fdca26"
             ],
             [
              1,
              "#f0f921"
             ]
            ],
            "type": "contour"
           }
          ],
          "contourcarpet": [
           {
            "colorbar": {
             "outlinewidth": 0,
             "ticks": ""
            },
            "type": "contourcarpet"
           }
          ],
          "heatmap": [
           {
            "colorbar": {
             "outlinewidth": 0,
             "ticks": ""
            },
            "colorscale": [
             [
              0,
              "#0d0887"
             ],
             [
              0.1111111111111111,
              "#46039f"
             ],
             [
              0.2222222222222222,
              "#7201a8"
             ],
             [
              0.3333333333333333,
              "#9c179e"
             ],
             [
              0.4444444444444444,
              "#bd3786"
             ],
             [
              0.5555555555555556,
              "#d8576b"
             ],
             [
              0.6666666666666666,
              "#ed7953"
             ],
             [
              0.7777777777777778,
              "#fb9f3a"
             ],
             [
              0.8888888888888888,
              "#fdca26"
             ],
             [
              1,
              "#f0f921"
             ]
            ],
            "type": "heatmap"
           }
          ],
          "heatmapgl": [
           {
            "colorbar": {
             "outlinewidth": 0,
             "ticks": ""
            },
            "colorscale": [
             [
              0,
              "#0d0887"
             ],
             [
              0.1111111111111111,
              "#46039f"
             ],
             [
              0.2222222222222222,
              "#7201a8"
             ],
             [
              0.3333333333333333,
              "#9c179e"
             ],
             [
              0.4444444444444444,
              "#bd3786"
             ],
             [
              0.5555555555555556,
              "#d8576b"
             ],
             [
              0.6666666666666666,
              "#ed7953"
             ],
             [
              0.7777777777777778,
              "#fb9f3a"
             ],
             [
              0.8888888888888888,
              "#fdca26"
             ],
             [
              1,
              "#f0f921"
             ]
            ],
            "type": "heatmapgl"
           }
          ],
          "histogram": [
           {
            "marker": {
             "pattern": {
              "fillmode": "overlay",
              "size": 10,
              "solidity": 0.2
             }
            },
            "type": "histogram"
           }
          ],
          "histogram2d": [
           {
            "colorbar": {
             "outlinewidth": 0,
             "ticks": ""
            },
            "colorscale": [
             [
              0,
              "#0d0887"
             ],
             [
              0.1111111111111111,
              "#46039f"
             ],
             [
              0.2222222222222222,
              "#7201a8"
             ],
             [
              0.3333333333333333,
              "#9c179e"
             ],
             [
              0.4444444444444444,
              "#bd3786"
             ],
             [
              0.5555555555555556,
              "#d8576b"
             ],
             [
              0.6666666666666666,
              "#ed7953"
             ],
             [
              0.7777777777777778,
              "#fb9f3a"
             ],
             [
              0.8888888888888888,
              "#fdca26"
             ],
             [
              1,
              "#f0f921"
             ]
            ],
            "type": "histogram2d"
           }
          ],
          "histogram2dcontour": [
           {
            "colorbar": {
             "outlinewidth": 0,
             "ticks": ""
            },
            "colorscale": [
             [
              0,
              "#0d0887"
             ],
             [
              0.1111111111111111,
              "#46039f"
             ],
             [
              0.2222222222222222,
              "#7201a8"
             ],
             [
              0.3333333333333333,
              "#9c179e"
             ],
             [
              0.4444444444444444,
              "#bd3786"
             ],
             [
              0.5555555555555556,
              "#d8576b"
             ],
             [
              0.6666666666666666,
              "#ed7953"
             ],
             [
              0.7777777777777778,
              "#fb9f3a"
             ],
             [
              0.8888888888888888,
              "#fdca26"
             ],
             [
              1,
              "#f0f921"
             ]
            ],
            "type": "histogram2dcontour"
           }
          ],
          "mesh3d": [
           {
            "colorbar": {
             "outlinewidth": 0,
             "ticks": ""
            },
            "type": "mesh3d"
           }
          ],
          "parcoords": [
           {
            "line": {
             "colorbar": {
              "outlinewidth": 0,
              "ticks": ""
             }
            },
            "type": "parcoords"
           }
          ],
          "pie": [
           {
            "automargin": true,
            "type": "pie"
           }
          ],
          "scatter": [
           {
            "fillpattern": {
             "fillmode": "overlay",
             "size": 10,
             "solidity": 0.2
            },
            "type": "scatter"
           }
          ],
          "scatter3d": [
           {
            "line": {
             "colorbar": {
              "outlinewidth": 0,
              "ticks": ""
             }
            },
            "marker": {
             "colorbar": {
              "outlinewidth": 0,
              "ticks": ""
             }
            },
            "type": "scatter3d"
           }
          ],
          "scattercarpet": [
           {
            "marker": {
             "colorbar": {
              "outlinewidth": 0,
              "ticks": ""
             }
            },
            "type": "scattercarpet"
           }
          ],
          "scattergeo": [
           {
            "marker": {
             "colorbar": {
              "outlinewidth": 0,
              "ticks": ""
             }
            },
            "type": "scattergeo"
           }
          ],
          "scattergl": [
           {
            "marker": {
             "colorbar": {
              "outlinewidth": 0,
              "ticks": ""
             }
            },
            "type": "scattergl"
           }
          ],
          "scattermapbox": [
           {
            "marker": {
             "colorbar": {
              "outlinewidth": 0,
              "ticks": ""
             }
            },
            "type": "scattermapbox"
           }
          ],
          "scatterpolar": [
           {
            "marker": {
             "colorbar": {
              "outlinewidth": 0,
              "ticks": ""
             }
            },
            "type": "scatterpolar"
           }
          ],
          "scatterpolargl": [
           {
            "marker": {
             "colorbar": {
              "outlinewidth": 0,
              "ticks": ""
             }
            },
            "type": "scatterpolargl"
           }
          ],
          "scatterternary": [
           {
            "marker": {
             "colorbar": {
              "outlinewidth": 0,
              "ticks": ""
             }
            },
            "type": "scatterternary"
           }
          ],
          "surface": [
           {
            "colorbar": {
             "outlinewidth": 0,
             "ticks": ""
            },
            "colorscale": [
             [
              0,
              "#0d0887"
             ],
             [
              0.1111111111111111,
              "#46039f"
             ],
             [
              0.2222222222222222,
              "#7201a8"
             ],
             [
              0.3333333333333333,
              "#9c179e"
             ],
             [
              0.4444444444444444,
              "#bd3786"
             ],
             [
              0.5555555555555556,
              "#d8576b"
             ],
             [
              0.6666666666666666,
              "#ed7953"
             ],
             [
              0.7777777777777778,
              "#fb9f3a"
             ],
             [
              0.8888888888888888,
              "#fdca26"
             ],
             [
              1,
              "#f0f921"
             ]
            ],
            "type": "surface"
           }
          ],
          "table": [
           {
            "cells": {
             "fill": {
              "color": "#EBF0F8"
             },
             "line": {
              "color": "white"
             }
            },
            "header": {
             "fill": {
              "color": "#C8D4E3"
             },
             "line": {
              "color": "white"
             }
            },
            "type": "table"
           }
          ]
         },
         "layout": {
          "annotationdefaults": {
           "arrowcolor": "#2a3f5f",
           "arrowhead": 0,
           "arrowwidth": 1
          },
          "autotypenumbers": "strict",
          "coloraxis": {
           "colorbar": {
            "outlinewidth": 0,
            "ticks": ""
           }
          },
          "colorscale": {
           "diverging": [
            [
             0,
             "#8e0152"
            ],
            [
             0.1,
             "#c51b7d"
            ],
            [
             0.2,
             "#de77ae"
            ],
            [
             0.3,
             "#f1b6da"
            ],
            [
             0.4,
             "#fde0ef"
            ],
            [
             0.5,
             "#f7f7f7"
            ],
            [
             0.6,
             "#e6f5d0"
            ],
            [
             0.7,
             "#b8e186"
            ],
            [
             0.8,
             "#7fbc41"
            ],
            [
             0.9,
             "#4d9221"
            ],
            [
             1,
             "#276419"
            ]
           ],
           "sequential": [
            [
             0,
             "#0d0887"
            ],
            [
             0.1111111111111111,
             "#46039f"
            ],
            [
             0.2222222222222222,
             "#7201a8"
            ],
            [
             0.3333333333333333,
             "#9c179e"
            ],
            [
             0.4444444444444444,
             "#bd3786"
            ],
            [
             0.5555555555555556,
             "#d8576b"
            ],
            [
             0.6666666666666666,
             "#ed7953"
            ],
            [
             0.7777777777777778,
             "#fb9f3a"
            ],
            [
             0.8888888888888888,
             "#fdca26"
            ],
            [
             1,
             "#f0f921"
            ]
           ],
           "sequentialminus": [
            [
             0,
             "#0d0887"
            ],
            [
             0.1111111111111111,
             "#46039f"
            ],
            [
             0.2222222222222222,
             "#7201a8"
            ],
            [
             0.3333333333333333,
             "#9c179e"
            ],
            [
             0.4444444444444444,
             "#bd3786"
            ],
            [
             0.5555555555555556,
             "#d8576b"
            ],
            [
             0.6666666666666666,
             "#ed7953"
            ],
            [
             0.7777777777777778,
             "#fb9f3a"
            ],
            [
             0.8888888888888888,
             "#fdca26"
            ],
            [
             1,
             "#f0f921"
            ]
           ]
          },
          "colorway": [
           "#636efa",
           "#EF553B",
           "#00cc96",
           "#ab63fa",
           "#FFA15A",
           "#19d3f3",
           "#FF6692",
           "#B6E880",
           "#FF97FF",
           "#FECB52"
          ],
          "font": {
           "color": "#2a3f5f"
          },
          "geo": {
           "bgcolor": "white",
           "lakecolor": "white",
           "landcolor": "#E5ECF6",
           "showlakes": true,
           "showland": true,
           "subunitcolor": "white"
          },
          "hoverlabel": {
           "align": "left"
          },
          "hovermode": "closest",
          "mapbox": {
           "style": "light"
          },
          "paper_bgcolor": "white",
          "plot_bgcolor": "#E5ECF6",
          "polar": {
           "angularaxis": {
            "gridcolor": "white",
            "linecolor": "white",
            "ticks": ""
           },
           "bgcolor": "#E5ECF6",
           "radialaxis": {
            "gridcolor": "white",
            "linecolor": "white",
            "ticks": ""
           }
          },
          "scene": {
           "xaxis": {
            "backgroundcolor": "#E5ECF6",
            "gridcolor": "white",
            "gridwidth": 2,
            "linecolor": "white",
            "showbackground": true,
            "ticks": "",
            "zerolinecolor": "white"
           },
           "yaxis": {
            "backgroundcolor": "#E5ECF6",
            "gridcolor": "white",
            "gridwidth": 2,
            "linecolor": "white",
            "showbackground": true,
            "ticks": "",
            "zerolinecolor": "white"
           },
           "zaxis": {
            "backgroundcolor": "#E5ECF6",
            "gridcolor": "white",
            "gridwidth": 2,
            "linecolor": "white",
            "showbackground": true,
            "ticks": "",
            "zerolinecolor": "white"
           }
          },
          "shapedefaults": {
           "line": {
            "color": "#2a3f5f"
           }
          },
          "ternary": {
           "aaxis": {
            "gridcolor": "white",
            "linecolor": "white",
            "ticks": ""
           },
           "baxis": {
            "gridcolor": "white",
            "linecolor": "white",
            "ticks": ""
           },
           "bgcolor": "#E5ECF6",
           "caxis": {
            "gridcolor": "white",
            "linecolor": "white",
            "ticks": ""
           }
          },
          "title": {
           "x": 0.05
          },
          "xaxis": {
           "automargin": true,
           "gridcolor": "white",
           "linecolor": "white",
           "ticks": "",
           "title": {
            "standoff": 15
           },
           "zerolinecolor": "white",
           "zerolinewidth": 2
          },
          "yaxis": {
           "automargin": true,
           "gridcolor": "white",
           "linecolor": "white",
           "ticks": "",
           "title": {
            "standoff": 15
           },
           "zerolinecolor": "white",
           "zerolinewidth": 2
          }
         }
        },
        "title": {
         "text": "Mean Number of Ratings per Month (from 2008 to 2016)"
        },
        "xaxis": {
         "anchor": "y",
         "domain": [
          0,
          1
         ],
         "title": {
          "text": "month"
         }
        },
        "yaxis": {
         "anchor": "x",
         "domain": [
          0,
          1
         ],
         "title": {
          "text": "nbr_ratings"
         }
        }
       }
      }
     },
     "metadata": {},
     "output_type": "display_data"
    }
   ],
   "source": [
    "# Create a new dataframe with the number of ratings per year_month\n",
    "year_month_ratings_count_df = pd.DataFrame({'year_month': year_month_ratings_count.index, 'nbr_ratings': year_month_ratings_count.values})\n",
    "\n",
    "# Create column year and month\n",
    "year_month_ratings_count_df['year'] = year_month_ratings_count_df['year_month'].dt.year\n",
    "year_month_ratings_count_df['month'] = year_month_ratings_count_df['year_month'].dt.month\n",
    "\n",
    "# Keep only rows where the year is greater than 2011 and less than 2017 \n",
    "year_month_ratings_count_filtered = year_month_ratings_count_df[(year_month_ratings_count_df.year >= 2008) & (year_month_ratings_count_df.year < 2017)]\n",
    "\n",
    "# Compute the mean number of ratings per month\n",
    "mean_ratings_per_month = year_month_ratings_count_filtered.groupby('month')['nbr_ratings'].mean().reset_index(name='mean_nbr_ratings')\n",
    "\n",
    "# Plot with plotly the mean number of ratings per month\n",
    "fig = px.line(year_month_ratings_count_filtered, x='month', y='nbr_ratings', color='year', title='Mean Number of Ratings per Month (from 2008 to 2016)')\n",
    "fig.add_trace(go.Scatter(x=year_month_ratings_count_filtered.month, y=mean_ratings_per_month.mean_nbr_ratings, mode='lines', name='Mean Number of Ratings', line=dict(color='black', dash='dash', width=4)))\n",
    "\n",
    "fig.show()"
   ]
  },
  {
   "cell_type": "markdown",
   "metadata": {},
   "source": [
    "From the plot above, we observe some seasonality of the beer's ratings. Indeed, we can remark that some months have some peak of ratings. The months December/January have the biggest increase. We can also see that the months of March, August and also slightly less May and October, have increases of the number of ratings."
   ]
  },
  {
   "cell_type": "markdown",
   "metadata": {},
   "source": [
    "Let's observe the count of good ratings now. As precised above, a rating is considered as good when it is over the average mean of the dataset. "
   ]
  },
  {
   "cell_type": "code",
   "execution_count": 47,
   "metadata": {},
   "outputs": [
    {
     "name": "stdout",
     "output_type": "stream",
     "text": [
      "Average rating for BeerAdvocate: 3.846906563579535\n",
      "Average rating for RateBeer: 3.3793541115704993\n"
     ]
    }
   ],
   "source": [
    "average_ratings_ba_df = ratings_ba_df.rating.mean()\n",
    "average_ratings_rb_df = ratings_rb_df.rating.mean()\n",
    "\n",
    "print('Average rating for BeerAdvocate:', average_ratings_ba_df)\n",
    "print('Average rating for RateBeer:', average_ratings_rb_df)"
   ]
  },
  {
   "cell_type": "code",
   "execution_count": 48,
   "metadata": {},
   "outputs": [
    {
     "name": "stdout",
     "output_type": "stream",
     "text": [
      "Number of good ratings for BeerAdvocate: 1358021\n",
      "Number of good ratings for RateBeer: 1863770\n"
     ]
    }
   ],
   "source": [
    "good_ratings_ba_df = ratings_ba_df[ratings_ba_df.rating >= average_ratings_ba_df]\n",
    "good_ratings_rb_df = ratings_rb_df[ratings_rb_df.rating >= average_ratings_rb_df]\n",
    "\n",
    "print('Number of good ratings for BeerAdvocate:', good_ratings_ba_df.shape[0])\n",
    "print('Number of good ratings for RateBeer:', good_ratings_rb_df.shape[0])"
   ]
  },
  {
   "cell_type": "code",
   "execution_count": 49,
   "metadata": {},
   "outputs": [
    {
     "data": {
      "application/vnd.plotly.v1+json": {
       "config": {
        "plotlyServerURL": "https://plot.ly"
       },
       "data": [
        {
         "hovertemplate": "year=2008<br>month=%{x}<br>nbr_ratings=%{y}<extra></extra>",
         "legendgroup": "2008",
         "line": {
          "color": "#636efa",
          "dash": "solid"
         },
         "marker": {
          "symbol": "circle"
         },
         "mode": "lines",
         "name": "2008",
         "orientation": "v",
         "showlegend": true,
         "type": "scatter",
         "x": [
          1,
          2,
          3,
          4,
          5,
          6,
          7,
          8,
          9,
          10,
          11,
          12
         ],
         "xaxis": "x",
         "y": [
          19518,
          18400,
          19738,
          18956,
          19869,
          18834,
          18504,
          20343,
          17623,
          18680,
          15063,
          20389
         ],
         "yaxis": "y"
        },
        {
         "hovertemplate": "year=2009<br>month=%{x}<br>nbr_ratings=%{y}<extra></extra>",
         "legendgroup": "2009",
         "line": {
          "color": "#EF553B",
          "dash": "solid"
         },
         "marker": {
          "symbol": "circle"
         },
         "mode": "lines",
         "name": "2009",
         "orientation": "v",
         "showlegend": true,
         "type": "scatter",
         "x": [
          1,
          2,
          3,
          4,
          5,
          6,
          7,
          8,
          9,
          10,
          11,
          12
         ],
         "xaxis": "x",
         "y": [
          23259,
          20224,
          23292,
          21000,
          21116,
          19209,
          19896,
          20932,
          19393,
          18821,
          20107,
          21799
         ],
         "yaxis": "y"
        },
        {
         "hovertemplate": "year=2010<br>month=%{x}<br>nbr_ratings=%{y}<extra></extra>",
         "legendgroup": "2010",
         "line": {
          "color": "#00cc96",
          "dash": "solid"
         },
         "marker": {
          "symbol": "circle"
         },
         "mode": "lines",
         "name": "2010",
         "orientation": "v",
         "showlegend": true,
         "type": "scatter",
         "x": [
          1,
          2,
          3,
          4,
          5,
          6,
          7,
          8,
          9,
          10,
          11,
          12
         ],
         "xaxis": "x",
         "y": [
          23155,
          20946,
          22732,
          21526,
          22681,
          20200,
          21137,
          22553,
          20921,
          22033,
          22206,
          25462
         ],
         "yaxis": "y"
        },
        {
         "hovertemplate": "year=2011<br>month=%{x}<br>nbr_ratings=%{y}<extra></extra>",
         "legendgroup": "2011",
         "line": {
          "color": "#ab63fa",
          "dash": "solid"
         },
         "marker": {
          "symbol": "circle"
         },
         "mode": "lines",
         "name": "2011",
         "orientation": "v",
         "showlegend": true,
         "type": "scatter",
         "x": [
          1,
          2,
          3,
          4,
          5,
          6,
          7,
          8,
          9,
          10,
          11,
          12
         ],
         "xaxis": "x",
         "y": [
          26720,
          24177,
          25392,
          22679,
          23370,
          22076,
          23163,
          23644,
          22640,
          23298,
          23654,
          24407
         ],
         "yaxis": "y"
        },
        {
         "hovertemplate": "year=2012<br>month=%{x}<br>nbr_ratings=%{y}<extra></extra>",
         "legendgroup": "2012",
         "line": {
          "color": "#FFA15A",
          "dash": "solid"
         },
         "marker": {
          "symbol": "circle"
         },
         "mode": "lines",
         "name": "2012",
         "orientation": "v",
         "showlegend": true,
         "type": "scatter",
         "x": [
          1,
          2,
          3,
          4,
          5,
          6,
          7,
          8,
          9,
          10,
          11,
          12
         ],
         "xaxis": "x",
         "y": [
          25052,
          23930,
          23419,
          21540,
          20815,
          20719,
          21928,
          22040,
          19418,
          20774,
          20318,
          22995
         ],
         "yaxis": "y"
        },
        {
         "hovertemplate": "year=2013<br>month=%{x}<br>nbr_ratings=%{y}<extra></extra>",
         "legendgroup": "2013",
         "line": {
          "color": "#19d3f3",
          "dash": "solid"
         },
         "marker": {
          "symbol": "circle"
         },
         "mode": "lines",
         "name": "2013",
         "orientation": "v",
         "showlegend": true,
         "type": "scatter",
         "x": [
          1,
          2,
          3,
          4,
          5,
          6,
          7,
          8,
          9,
          10,
          11,
          12
         ],
         "xaxis": "x",
         "y": [
          23863,
          22165,
          24802,
          22497,
          23706,
          24141,
          24021,
          25069,
          21904,
          24000,
          24262,
          24428
         ],
         "yaxis": "y"
        },
        {
         "hovertemplate": "year=2014<br>month=%{x}<br>nbr_ratings=%{y}<extra></extra>",
         "legendgroup": "2014",
         "line": {
          "color": "#FF6692",
          "dash": "solid"
         },
         "marker": {
          "symbol": "circle"
         },
         "mode": "lines",
         "name": "2014",
         "orientation": "v",
         "showlegend": true,
         "type": "scatter",
         "x": [
          1,
          2,
          3,
          4,
          5,
          6,
          7,
          8,
          9,
          10,
          11,
          12
         ],
         "xaxis": "x",
         "y": [
          23410,
          22970,
          24395,
          22314,
          23437,
          23541,
          21868,
          24816,
          23305,
          23889,
          24079,
          25855
         ],
         "yaxis": "y"
        },
        {
         "hovertemplate": "year=2015<br>month=%{x}<br>nbr_ratings=%{y}<extra></extra>",
         "legendgroup": "2015",
         "line": {
          "color": "#B6E880",
          "dash": "solid"
         },
         "marker": {
          "symbol": "circle"
         },
         "mode": "lines",
         "name": "2015",
         "orientation": "v",
         "showlegend": true,
         "type": "scatter",
         "x": [
          1,
          2,
          3,
          4,
          5,
          6,
          7,
          8,
          9,
          10,
          11,
          12
         ],
         "xaxis": "x",
         "y": [
          28061,
          27018,
          30011,
          27524,
          28007,
          27940,
          28369,
          30263,
          25178,
          26005,
          25762,
          27737
         ],
         "yaxis": "y"
        },
        {
         "hovertemplate": "year=2016<br>month=%{x}<br>nbr_ratings=%{y}<extra></extra>",
         "legendgroup": "2016",
         "line": {
          "color": "#FF97FF",
          "dash": "solid"
         },
         "marker": {
          "symbol": "circle"
         },
         "mode": "lines",
         "name": "2016",
         "orientation": "v",
         "showlegend": true,
         "type": "scatter",
         "x": [
          1,
          2,
          3,
          4,
          5,
          6,
          7,
          8,
          9,
          10,
          11,
          12
         ],
         "xaxis": "x",
         "y": [
          27209,
          25125,
          25666,
          25496,
          25368,
          24177,
          24823,
          21923,
          20501,
          21224,
          20041,
          21778
         ],
         "yaxis": "y"
        },
        {
         "line": {
          "color": "black",
          "dash": "dash",
          "width": 4
         },
         "mode": "lines",
         "name": "Mean Number of Good Ratings",
         "type": "scatter",
         "x": [
          1,
          2,
          3,
          4,
          5,
          6,
          7,
          8,
          9,
          10,
          11,
          12,
          1,
          2,
          3,
          4,
          5,
          6,
          7,
          8,
          9,
          10,
          11,
          12,
          1,
          2,
          3,
          4,
          5,
          6,
          7,
          8,
          9,
          10,
          11,
          12,
          1,
          2,
          3,
          4,
          5,
          6,
          7,
          8,
          9,
          10,
          11,
          12,
          1,
          2,
          3,
          4,
          5,
          6,
          7,
          8,
          9,
          10,
          11,
          12,
          1,
          2,
          3,
          4,
          5,
          6,
          7,
          8,
          9,
          10,
          11,
          12,
          1,
          2,
          3,
          4,
          5,
          6,
          7,
          8,
          9,
          10,
          11,
          12,
          1,
          2,
          3,
          4,
          5,
          6,
          7,
          8,
          9,
          10,
          11,
          12,
          1,
          2,
          3,
          4,
          5,
          6,
          7,
          8,
          9,
          10,
          11,
          12
         ],
         "y": [
          24471.88888888889,
          22772.777777777777,
          24383,
          22614.666666666668,
          23152.11111111111,
          22315.222222222223,
          22634.333333333332,
          23509.222222222223,
          21209.222222222223,
          22080.444444444445,
          21721.333333333332,
          23872.222222222223
         ]
        }
       ],
       "layout": {
        "legend": {
         "title": {
          "text": "year"
         },
         "tracegroupgap": 0
        },
        "template": {
         "data": {
          "bar": [
           {
            "error_x": {
             "color": "#2a3f5f"
            },
            "error_y": {
             "color": "#2a3f5f"
            },
            "marker": {
             "line": {
              "color": "#E5ECF6",
              "width": 0.5
             },
             "pattern": {
              "fillmode": "overlay",
              "size": 10,
              "solidity": 0.2
             }
            },
            "type": "bar"
           }
          ],
          "barpolar": [
           {
            "marker": {
             "line": {
              "color": "#E5ECF6",
              "width": 0.5
             },
             "pattern": {
              "fillmode": "overlay",
              "size": 10,
              "solidity": 0.2
             }
            },
            "type": "barpolar"
           }
          ],
          "carpet": [
           {
            "aaxis": {
             "endlinecolor": "#2a3f5f",
             "gridcolor": "white",
             "linecolor": "white",
             "minorgridcolor": "white",
             "startlinecolor": "#2a3f5f"
            },
            "baxis": {
             "endlinecolor": "#2a3f5f",
             "gridcolor": "white",
             "linecolor": "white",
             "minorgridcolor": "white",
             "startlinecolor": "#2a3f5f"
            },
            "type": "carpet"
           }
          ],
          "choropleth": [
           {
            "colorbar": {
             "outlinewidth": 0,
             "ticks": ""
            },
            "type": "choropleth"
           }
          ],
          "contour": [
           {
            "colorbar": {
             "outlinewidth": 0,
             "ticks": ""
            },
            "colorscale": [
             [
              0,
              "#0d0887"
             ],
             [
              0.1111111111111111,
              "#46039f"
             ],
             [
              0.2222222222222222,
              "#7201a8"
             ],
             [
              0.3333333333333333,
              "#9c179e"
             ],
             [
              0.4444444444444444,
              "#bd3786"
             ],
             [
              0.5555555555555556,
              "#d8576b"
             ],
             [
              0.6666666666666666,
              "#ed7953"
             ],
             [
              0.7777777777777778,
              "#fb9f3a"
             ],
             [
              0.8888888888888888,
              "#fdca26"
             ],
             [
              1,
              "#f0f921"
             ]
            ],
            "type": "contour"
           }
          ],
          "contourcarpet": [
           {
            "colorbar": {
             "outlinewidth": 0,
             "ticks": ""
            },
            "type": "contourcarpet"
           }
          ],
          "heatmap": [
           {
            "colorbar": {
             "outlinewidth": 0,
             "ticks": ""
            },
            "colorscale": [
             [
              0,
              "#0d0887"
             ],
             [
              0.1111111111111111,
              "#46039f"
             ],
             [
              0.2222222222222222,
              "#7201a8"
             ],
             [
              0.3333333333333333,
              "#9c179e"
             ],
             [
              0.4444444444444444,
              "#bd3786"
             ],
             [
              0.5555555555555556,
              "#d8576b"
             ],
             [
              0.6666666666666666,
              "#ed7953"
             ],
             [
              0.7777777777777778,
              "#fb9f3a"
             ],
             [
              0.8888888888888888,
              "#fdca26"
             ],
             [
              1,
              "#f0f921"
             ]
            ],
            "type": "heatmap"
           }
          ],
          "heatmapgl": [
           {
            "colorbar": {
             "outlinewidth": 0,
             "ticks": ""
            },
            "colorscale": [
             [
              0,
              "#0d0887"
             ],
             [
              0.1111111111111111,
              "#46039f"
             ],
             [
              0.2222222222222222,
              "#7201a8"
             ],
             [
              0.3333333333333333,
              "#9c179e"
             ],
             [
              0.4444444444444444,
              "#bd3786"
             ],
             [
              0.5555555555555556,
              "#d8576b"
             ],
             [
              0.6666666666666666,
              "#ed7953"
             ],
             [
              0.7777777777777778,
              "#fb9f3a"
             ],
             [
              0.8888888888888888,
              "#fdca26"
             ],
             [
              1,
              "#f0f921"
             ]
            ],
            "type": "heatmapgl"
           }
          ],
          "histogram": [
           {
            "marker": {
             "pattern": {
              "fillmode": "overlay",
              "size": 10,
              "solidity": 0.2
             }
            },
            "type": "histogram"
           }
          ],
          "histogram2d": [
           {
            "colorbar": {
             "outlinewidth": 0,
             "ticks": ""
            },
            "colorscale": [
             [
              0,
              "#0d0887"
             ],
             [
              0.1111111111111111,
              "#46039f"
             ],
             [
              0.2222222222222222,
              "#7201a8"
             ],
             [
              0.3333333333333333,
              "#9c179e"
             ],
             [
              0.4444444444444444,
              "#bd3786"
             ],
             [
              0.5555555555555556,
              "#d8576b"
             ],
             [
              0.6666666666666666,
              "#ed7953"
             ],
             [
              0.7777777777777778,
              "#fb9f3a"
             ],
             [
              0.8888888888888888,
              "#fdca26"
             ],
             [
              1,
              "#f0f921"
             ]
            ],
            "type": "histogram2d"
           }
          ],
          "histogram2dcontour": [
           {
            "colorbar": {
             "outlinewidth": 0,
             "ticks": ""
            },
            "colorscale": [
             [
              0,
              "#0d0887"
             ],
             [
              0.1111111111111111,
              "#46039f"
             ],
             [
              0.2222222222222222,
              "#7201a8"
             ],
             [
              0.3333333333333333,
              "#9c179e"
             ],
             [
              0.4444444444444444,
              "#bd3786"
             ],
             [
              0.5555555555555556,
              "#d8576b"
             ],
             [
              0.6666666666666666,
              "#ed7953"
             ],
             [
              0.7777777777777778,
              "#fb9f3a"
             ],
             [
              0.8888888888888888,
              "#fdca26"
             ],
             [
              1,
              "#f0f921"
             ]
            ],
            "type": "histogram2dcontour"
           }
          ],
          "mesh3d": [
           {
            "colorbar": {
             "outlinewidth": 0,
             "ticks": ""
            },
            "type": "mesh3d"
           }
          ],
          "parcoords": [
           {
            "line": {
             "colorbar": {
              "outlinewidth": 0,
              "ticks": ""
             }
            },
            "type": "parcoords"
           }
          ],
          "pie": [
           {
            "automargin": true,
            "type": "pie"
           }
          ],
          "scatter": [
           {
            "fillpattern": {
             "fillmode": "overlay",
             "size": 10,
             "solidity": 0.2
            },
            "type": "scatter"
           }
          ],
          "scatter3d": [
           {
            "line": {
             "colorbar": {
              "outlinewidth": 0,
              "ticks": ""
             }
            },
            "marker": {
             "colorbar": {
              "outlinewidth": 0,
              "ticks": ""
             }
            },
            "type": "scatter3d"
           }
          ],
          "scattercarpet": [
           {
            "marker": {
             "colorbar": {
              "outlinewidth": 0,
              "ticks": ""
             }
            },
            "type": "scattercarpet"
           }
          ],
          "scattergeo": [
           {
            "marker": {
             "colorbar": {
              "outlinewidth": 0,
              "ticks": ""
             }
            },
            "type": "scattergeo"
           }
          ],
          "scattergl": [
           {
            "marker": {
             "colorbar": {
              "outlinewidth": 0,
              "ticks": ""
             }
            },
            "type": "scattergl"
           }
          ],
          "scattermapbox": [
           {
            "marker": {
             "colorbar": {
              "outlinewidth": 0,
              "ticks": ""
             }
            },
            "type": "scattermapbox"
           }
          ],
          "scatterpolar": [
           {
            "marker": {
             "colorbar": {
              "outlinewidth": 0,
              "ticks": ""
             }
            },
            "type": "scatterpolar"
           }
          ],
          "scatterpolargl": [
           {
            "marker": {
             "colorbar": {
              "outlinewidth": 0,
              "ticks": ""
             }
            },
            "type": "scatterpolargl"
           }
          ],
          "scatterternary": [
           {
            "marker": {
             "colorbar": {
              "outlinewidth": 0,
              "ticks": ""
             }
            },
            "type": "scatterternary"
           }
          ],
          "surface": [
           {
            "colorbar": {
             "outlinewidth": 0,
             "ticks": ""
            },
            "colorscale": [
             [
              0,
              "#0d0887"
             ],
             [
              0.1111111111111111,
              "#46039f"
             ],
             [
              0.2222222222222222,
              "#7201a8"
             ],
             [
              0.3333333333333333,
              "#9c179e"
             ],
             [
              0.4444444444444444,
              "#bd3786"
             ],
             [
              0.5555555555555556,
              "#d8576b"
             ],
             [
              0.6666666666666666,
              "#ed7953"
             ],
             [
              0.7777777777777778,
              "#fb9f3a"
             ],
             [
              0.8888888888888888,
              "#fdca26"
             ],
             [
              1,
              "#f0f921"
             ]
            ],
            "type": "surface"
           }
          ],
          "table": [
           {
            "cells": {
             "fill": {
              "color": "#EBF0F8"
             },
             "line": {
              "color": "white"
             }
            },
            "header": {
             "fill": {
              "color": "#C8D4E3"
             },
             "line": {
              "color": "white"
             }
            },
            "type": "table"
           }
          ]
         },
         "layout": {
          "annotationdefaults": {
           "arrowcolor": "#2a3f5f",
           "arrowhead": 0,
           "arrowwidth": 1
          },
          "autotypenumbers": "strict",
          "coloraxis": {
           "colorbar": {
            "outlinewidth": 0,
            "ticks": ""
           }
          },
          "colorscale": {
           "diverging": [
            [
             0,
             "#8e0152"
            ],
            [
             0.1,
             "#c51b7d"
            ],
            [
             0.2,
             "#de77ae"
            ],
            [
             0.3,
             "#f1b6da"
            ],
            [
             0.4,
             "#fde0ef"
            ],
            [
             0.5,
             "#f7f7f7"
            ],
            [
             0.6,
             "#e6f5d0"
            ],
            [
             0.7,
             "#b8e186"
            ],
            [
             0.8,
             "#7fbc41"
            ],
            [
             0.9,
             "#4d9221"
            ],
            [
             1,
             "#276419"
            ]
           ],
           "sequential": [
            [
             0,
             "#0d0887"
            ],
            [
             0.1111111111111111,
             "#46039f"
            ],
            [
             0.2222222222222222,
             "#7201a8"
            ],
            [
             0.3333333333333333,
             "#9c179e"
            ],
            [
             0.4444444444444444,
             "#bd3786"
            ],
            [
             0.5555555555555556,
             "#d8576b"
            ],
            [
             0.6666666666666666,
             "#ed7953"
            ],
            [
             0.7777777777777778,
             "#fb9f3a"
            ],
            [
             0.8888888888888888,
             "#fdca26"
            ],
            [
             1,
             "#f0f921"
            ]
           ],
           "sequentialminus": [
            [
             0,
             "#0d0887"
            ],
            [
             0.1111111111111111,
             "#46039f"
            ],
            [
             0.2222222222222222,
             "#7201a8"
            ],
            [
             0.3333333333333333,
             "#9c179e"
            ],
            [
             0.4444444444444444,
             "#bd3786"
            ],
            [
             0.5555555555555556,
             "#d8576b"
            ],
            [
             0.6666666666666666,
             "#ed7953"
            ],
            [
             0.7777777777777778,
             "#fb9f3a"
            ],
            [
             0.8888888888888888,
             "#fdca26"
            ],
            [
             1,
             "#f0f921"
            ]
           ]
          },
          "colorway": [
           "#636efa",
           "#EF553B",
           "#00cc96",
           "#ab63fa",
           "#FFA15A",
           "#19d3f3",
           "#FF6692",
           "#B6E880",
           "#FF97FF",
           "#FECB52"
          ],
          "font": {
           "color": "#2a3f5f"
          },
          "geo": {
           "bgcolor": "white",
           "lakecolor": "white",
           "landcolor": "#E5ECF6",
           "showlakes": true,
           "showland": true,
           "subunitcolor": "white"
          },
          "hoverlabel": {
           "align": "left"
          },
          "hovermode": "closest",
          "mapbox": {
           "style": "light"
          },
          "paper_bgcolor": "white",
          "plot_bgcolor": "#E5ECF6",
          "polar": {
           "angularaxis": {
            "gridcolor": "white",
            "linecolor": "white",
            "ticks": ""
           },
           "bgcolor": "#E5ECF6",
           "radialaxis": {
            "gridcolor": "white",
            "linecolor": "white",
            "ticks": ""
           }
          },
          "scene": {
           "xaxis": {
            "backgroundcolor": "#E5ECF6",
            "gridcolor": "white",
            "gridwidth": 2,
            "linecolor": "white",
            "showbackground": true,
            "ticks": "",
            "zerolinecolor": "white"
           },
           "yaxis": {
            "backgroundcolor": "#E5ECF6",
            "gridcolor": "white",
            "gridwidth": 2,
            "linecolor": "white",
            "showbackground": true,
            "ticks": "",
            "zerolinecolor": "white"
           },
           "zaxis": {
            "backgroundcolor": "#E5ECF6",
            "gridcolor": "white",
            "gridwidth": 2,
            "linecolor": "white",
            "showbackground": true,
            "ticks": "",
            "zerolinecolor": "white"
           }
          },
          "shapedefaults": {
           "line": {
            "color": "#2a3f5f"
           }
          },
          "ternary": {
           "aaxis": {
            "gridcolor": "white",
            "linecolor": "white",
            "ticks": ""
           },
           "baxis": {
            "gridcolor": "white",
            "linecolor": "white",
            "ticks": ""
           },
           "bgcolor": "#E5ECF6",
           "caxis": {
            "gridcolor": "white",
            "linecolor": "white",
            "ticks": ""
           }
          },
          "title": {
           "x": 0.05
          },
          "xaxis": {
           "automargin": true,
           "gridcolor": "white",
           "linecolor": "white",
           "ticks": "",
           "title": {
            "standoff": 15
           },
           "zerolinecolor": "white",
           "zerolinewidth": 2
          },
          "yaxis": {
           "automargin": true,
           "gridcolor": "white",
           "linecolor": "white",
           "ticks": "",
           "title": {
            "standoff": 15
           },
           "zerolinecolor": "white",
           "zerolinewidth": 2
          }
         }
        },
        "title": {
         "text": "Mean Number of Good Ratings per Month (from 2008 to 2016)"
        },
        "xaxis": {
         "anchor": "y",
         "domain": [
          0,
          1
         ],
         "title": {
          "text": "month"
         }
        },
        "yaxis": {
         "anchor": "x",
         "domain": [
          0,
          1
         ],
         "title": {
          "text": "nbr_ratings"
         }
        }
       }
      }
     },
     "metadata": {},
     "output_type": "display_data"
    }
   ],
   "source": [
    "good_ratings_df = pd.concat([good_ratings_ba_df, good_ratings_rb_df], ignore_index=True)\n",
    "\n",
    "year_month_good_ratings_count, year_month_good_ratings_count_filtered, mean_good_ratings_per_month = dataframe_time_analysis(good_ratings_df, 2008, 2017)\n",
    "\n",
    "# plot with plotly the mean number of ratings per month\n",
    "fig = px.line(year_month_good_ratings_count_filtered, x='month', y='nbr_ratings', color='year', title='Mean Number of Good Ratings per Month (from 2008 to 2016)')\n",
    "fig.add_trace(go.Scatter(x=year_month_good_ratings_count_filtered.month, y=mean_good_ratings_per_month.mean_nbr_ratings, mode='lines', name='Mean Number of Good Ratings', line=dict(color='black', dash='dash', width=4)))\n",
    "\n",
    "fig.show()"
   ]
  },
  {
   "cell_type": "markdown",
   "metadata": {},
   "source": [
    "We have proved that there are some seasonality in the beer's number of ratings, and even more specifically, in the number of good ratings.\n",
    "\n",
    "Let's quantify it by a statistical test. "
   ]
  },
  {
   "cell_type": "code",
   "execution_count": 50,
   "metadata": {},
   "outputs": [],
   "source": [
    "ratings_ba_df_copy = ratings_ba_df.copy()\n",
    "ratings_rb_df_copy = ratings_rb_df.copy()"
   ]
  },
  {
   "cell_type": "code",
   "execution_count": 51,
   "metadata": {},
   "outputs": [],
   "source": [
    "# add a new column \"is_good\" to the ratings data frame to indicate if the rating is good or not\n",
    "ratings_ba_df_copy['is_good'] = ratings_ba_df_copy['rating'] >= average_ratings_ba_df\n",
    "ratings_rb_df_copy['is_good'] = ratings_rb_df_copy['rating'] >= average_ratings_rb_df\n",
    "\n",
    "ratings_ba_df_copy['is_bad'] = ratings_ba_df_copy['rating'] < average_ratings_ba_df\n",
    "ratings_rb_df_copy['is_bad'] = ratings_rb_df_copy['rating'] < average_ratings_rb_df\n",
    "\n",
    "# concatenate the two data frames\n",
    "ratings_combined_df_copy = pd.concat([ratings_ba_df_copy, ratings_rb_df_copy], ignore_index=True)\n",
    "\n",
    "# conveert to int \n",
    "ratings_combined_df_copy['is_good'] = ratings_combined_df_copy['is_good'].astype(int)\n",
    "ratings_combined_df_copy['is_bad'] = ratings_combined_df_copy['is_bad'].astype(int)"
   ]
  },
  {
   "cell_type": "code",
   "execution_count": 52,
   "metadata": {},
   "outputs": [],
   "source": [
    "# group by beer_id and then by year and count the number of good and bad ratings\n",
    "beer_good_bad_ratings_monthly = ratings_combined_df_copy.groupby(['new_id_beer', 'month'])[['is_good', 'is_bad']].sum().reset_index()\n",
    "beer_good_bad_ratings_monthly['total_nbr_ratings'] = beer_good_bad_ratings_monthly['is_good'] + beer_good_bad_ratings_monthly['is_bad']"
   ]
  },
  {
   "cell_type": "code",
   "execution_count": 53,
   "metadata": {},
   "outputs": [],
   "source": [
    "# group by beer_id and then by year and count the number of good and bad ratings\n",
    "beer_good_bad_ratings_yearly = ratings_combined_df_copy.groupby(['new_id_beer', 'year'])[['is_good', 'is_bad']].sum().reset_index()\n",
    "beer_good_bad_ratings_yearly['total_nbr_ratings'] = beer_good_bad_ratings_yearly['is_good'] + beer_good_bad_ratings_yearly['is_bad']"
   ]
  },
  {
   "cell_type": "code",
   "execution_count": 54,
   "metadata": {},
   "outputs": [],
   "source": [
    "# change name of columns \n",
    "beer_good_bad_ratings_monthly.rename(columns={'is_good': 'nbr_good_ratings', 'is_bad': 'nbr_bad_ratings'}, inplace=True)\n",
    "beer_good_bad_ratings_yearly.rename(columns={'is_good': 'nbr_good_ratings', 'is_bad': 'nbr_bad_ratings'}, inplace=True)"
   ]
  },
  {
   "cell_type": "markdown",
   "metadata": {},
   "source": [
    "We do a ANOVA test to see if there is any significant difference in the means of the number of good ratings across months. "
   ]
  },
  {
   "cell_type": "code",
   "execution_count": 55,
   "metadata": {},
   "outputs": [
    {
     "name": "stdout",
     "output_type": "stream",
     "text": [
      "p-value for ANOVA test: 8.421747857216745e-56\n",
      "F-statistic for ANOVA test: 26.419871895827423\n"
     ]
    }
   ],
   "source": [
    "grouped_data = [group['nbr_good_ratings'] for _, group in beer_good_bad_ratings_monthly.groupby('month')]\n",
    "result_anova, p_anova = f_oneway(*grouped_data)\n",
    "\n",
    "print('p-value for ANOVA test:', p_anova)\n",
    "print('F-statistic for ANOVA test:', result_anova)"
   ]
  },
  {
   "cell_type": "markdown",
   "metadata": {},
   "source": [
    "**Interpetation:**\n",
    "\n",
    "* Assuming here that : \n",
    "    * Null Hypothesis: There is no significant difference in the means of the number of good ratings across months.\n",
    "    * Alternative Hypothesis (H1): There is a significant difference in the means of the number of good ratings across at least two months.\n",
    "\n",
    "* Given the very small p-value, you would reject the null hypothesis. Therefore, you have statistical evidence to conclude that there are significant differences in the means of the number of good ratings across different months. The F-statistic indicates the strength of this evidence, with a larger F-statistic supporting the rejection of the null hypothesis."
   ]
  },
  {
   "cell_type": "markdown",
   "metadata": {},
   "source": [
    "Let's observe now if there is any statistical difference between the average rating over the months "
   ]
  },
  {
   "cell_type": "code",
   "execution_count": 56,
   "metadata": {},
   "outputs": [],
   "source": [
    "# group by beer_id and then by year and count the number of good and bad ratings\n",
    "beer_ratings_monthly = ratings_combined_df_copy.groupby(['new_id_beer', 'month'])['rating'].mean().reset_index()\n",
    "beer_ratings_monthly.rename(columns={'rating': 'average_rating'}, inplace=True)"
   ]
  },
  {
   "cell_type": "code",
   "execution_count": 57,
   "metadata": {},
   "outputs": [
    {
     "name": "stdout",
     "output_type": "stream",
     "text": [
      "p-value for ANOVA test: 2.6455334969582316e-145\n",
      "F-statistic for ANOVA test: 64.63517229474856\n"
     ]
    }
   ],
   "source": [
    "grouped_average = [group['average_rating'] for _, group in beer_ratings_monthly.groupby('month')]\n",
    "result_anova, p_anova = f_oneway(*grouped_average)\n",
    "\n",
    "print('p-value for ANOVA test:', p_anova)\n",
    "print('F-statistic for ANOVA test:', result_anova)"
   ]
  },
  {
   "cell_type": "markdown",
   "metadata": {},
   "source": [
    "**Interpetation:**\n",
    "\n",
    "* Assuming here that : \n",
    "    * Null Hypothesis: There is no significant difference in the average ratings across months.\n",
    "    * Alternative Hypothesis (H1): There is a significant difference in the average ratings across at least two months.\n",
    "\n",
    "* Given the very small p-value, you would reject the null hypothesis. Therefore, you have statistical evidence to conclude that there are significant differences in the average ratings across different months. The F-statistic indicates the strength of this evidence, with a larger F-statistic supporting the rejection of the null hypothesis."
   ]
  },
  {
   "cell_type": "markdown",
   "metadata": {},
   "source": [
    "**Conclusion:** \n",
    "* We observe statistical significance of the number of good ratings across months. \n",
    "* We observe statistical significance of the average ratings across months. \n",
    "* Thus, we quantify the existence of seasonality of the popularity of beers. "
   ]
  },
  {
   "cell_type": "markdown",
   "metadata": {},
   "source": [
    "### Some examples"
   ]
  },
  {
   "cell_type": "markdown",
   "metadata": {},
   "source": [
    "Let's now observe the average ratings per month of some Beer's style. Can we see any particular differences? Have those styles any period where the number of ratings increases?"
   ]
  },
  {
   "cell_type": "code",
   "execution_count": 58,
   "metadata": {},
   "outputs": [
    {
     "data": {
      "application/vnd.plotly.v1+json": {
       "config": {
        "plotlyServerURL": "https://plot.ly"
       },
       "data": [
        {
         "hovertemplate": "year=2008<br>month=%{x}<br>nbr_ratings=%{y}<extra></extra>",
         "legendgroup": "2008",
         "line": {
          "color": "#636efa",
          "dash": "solid"
         },
         "marker": {
          "symbol": "circle"
         },
         "mode": "lines",
         "name": "2008",
         "orientation": "v",
         "showlegend": true,
         "type": "scatter",
         "x": [
          1,
          2,
          3,
          4,
          5,
          6,
          7,
          8,
          9,
          10,
          11,
          12
         ],
         "xaxis": "x",
         "y": [
          178,
          141,
          148,
          116,
          111,
          102,
          82,
          194,
          798,
          922,
          237,
          227
         ],
         "yaxis": "y"
        },
        {
         "hovertemplate": "year=2009<br>month=%{x}<br>nbr_ratings=%{y}<extra></extra>",
         "legendgroup": "2009",
         "line": {
          "color": "#EF553B",
          "dash": "solid"
         },
         "marker": {
          "symbol": "circle"
         },
         "mode": "lines",
         "name": "2009",
         "orientation": "v",
         "showlegend": true,
         "type": "scatter",
         "x": [
          1,
          2,
          3,
          4,
          5,
          6,
          7,
          8,
          9,
          10,
          11,
          12
         ],
         "xaxis": "x",
         "y": [
          217,
          124,
          133,
          98,
          85,
          69,
          74,
          207,
          771,
          821,
          357,
          238
         ],
         "yaxis": "y"
        },
        {
         "hovertemplate": "year=2010<br>month=%{x}<br>nbr_ratings=%{y}<extra></extra>",
         "legendgroup": "2010",
         "line": {
          "color": "#00cc96",
          "dash": "solid"
         },
         "marker": {
          "symbol": "circle"
         },
         "mode": "lines",
         "name": "2010",
         "orientation": "v",
         "showlegend": true,
         "type": "scatter",
         "x": [
          1,
          2,
          3,
          4,
          5,
          6,
          7,
          8,
          9,
          10,
          11,
          12
         ],
         "xaxis": "x",
         "y": [
          188,
          121,
          119,
          108,
          82,
          84,
          90,
          235,
          755,
          732,
          331,
          188
         ],
         "yaxis": "y"
        },
        {
         "hovertemplate": "year=2011<br>month=%{x}<br>nbr_ratings=%{y}<extra></extra>",
         "legendgroup": "2011",
         "line": {
          "color": "#ab63fa",
          "dash": "solid"
         },
         "marker": {
          "symbol": "circle"
         },
         "mode": "lines",
         "name": "2011",
         "orientation": "v",
         "showlegend": true,
         "type": "scatter",
         "x": [
          1,
          2,
          3,
          4,
          5,
          6,
          7,
          8,
          9,
          10,
          11,
          12
         ],
         "xaxis": "x",
         "y": [
          146,
          127,
          123,
          106,
          75,
          70,
          56,
          176,
          713,
          715,
          347,
          162
         ],
         "yaxis": "y"
        },
        {
         "hovertemplate": "year=2012<br>month=%{x}<br>nbr_ratings=%{y}<extra></extra>",
         "legendgroup": "2012",
         "line": {
          "color": "#FFA15A",
          "dash": "solid"
         },
         "marker": {
          "symbol": "circle"
         },
         "mode": "lines",
         "name": "2012",
         "orientation": "v",
         "showlegend": true,
         "type": "scatter",
         "x": [
          1,
          2,
          3,
          4,
          5,
          6,
          7,
          8,
          9,
          10,
          11,
          12
         ],
         "xaxis": "x",
         "y": [
          125,
          132,
          109,
          110,
          80,
          55,
          98,
          247,
          724,
          837,
          371,
          182
         ],
         "yaxis": "y"
        },
        {
         "hovertemplate": "year=2013<br>month=%{x}<br>nbr_ratings=%{y}<extra></extra>",
         "legendgroup": "2013",
         "line": {
          "color": "#19d3f3",
          "dash": "solid"
         },
         "marker": {
          "symbol": "circle"
         },
         "mode": "lines",
         "name": "2013",
         "orientation": "v",
         "showlegend": true,
         "type": "scatter",
         "x": [
          1,
          2,
          3,
          4,
          5,
          6,
          7,
          8,
          9,
          10,
          11,
          12
         ],
         "xaxis": "x",
         "y": [
          168,
          91,
          84,
          66,
          90,
          71,
          55,
          217,
          822,
          798,
          331,
          196
         ],
         "yaxis": "y"
        },
        {
         "hovertemplate": "year=2014<br>month=%{x}<br>nbr_ratings=%{y}<extra></extra>",
         "legendgroup": "2014",
         "line": {
          "color": "#FF6692",
          "dash": "solid"
         },
         "marker": {
          "symbol": "circle"
         },
         "mode": "lines",
         "name": "2014",
         "orientation": "v",
         "showlegend": true,
         "type": "scatter",
         "x": [
          1,
          2,
          3,
          4,
          5,
          6,
          7,
          8,
          9,
          10,
          11,
          12
         ],
         "xaxis": "x",
         "y": [
          138,
          81,
          74,
          76,
          59,
          101,
          65,
          261,
          751,
          736,
          305,
          152
         ],
         "yaxis": "y"
        },
        {
         "hovertemplate": "year=2015<br>month=%{x}<br>nbr_ratings=%{y}<extra></extra>",
         "legendgroup": "2015",
         "line": {
          "color": "#B6E880",
          "dash": "solid"
         },
         "marker": {
          "symbol": "circle"
         },
         "mode": "lines",
         "name": "2015",
         "orientation": "v",
         "showlegend": true,
         "type": "scatter",
         "x": [
          1,
          2,
          3,
          4,
          5,
          6,
          7,
          8,
          9,
          10,
          11,
          12
         ],
         "xaxis": "x",
         "y": [
          112,
          100,
          61,
          54,
          56,
          43,
          43,
          192,
          565,
          634,
          265,
          181
         ],
         "yaxis": "y"
        },
        {
         "hovertemplate": "year=2016<br>month=%{x}<br>nbr_ratings=%{y}<extra></extra>",
         "legendgroup": "2016",
         "line": {
          "color": "#FF97FF",
          "dash": "solid"
         },
         "marker": {
          "symbol": "circle"
         },
         "mode": "lines",
         "name": "2016",
         "orientation": "v",
         "showlegend": true,
         "type": "scatter",
         "x": [
          1,
          2,
          3,
          4,
          5,
          6,
          7,
          8,
          9,
          10,
          11,
          12
         ],
         "xaxis": "x",
         "y": [
          92,
          48,
          64,
          62,
          38,
          41,
          20,
          127,
          453,
          548,
          244,
          157
         ],
         "yaxis": "y"
        },
        {
         "line": {
          "color": "black",
          "dash": "dash",
          "width": 4
         },
         "mode": "lines",
         "name": "Mean Number of Ratings",
         "type": "scatter",
         "x": [
          1,
          2,
          3,
          4,
          5,
          6,
          7,
          8,
          9,
          10,
          11,
          12,
          1,
          2,
          3,
          4,
          5,
          6,
          7,
          8,
          9,
          10,
          11,
          12,
          1,
          2,
          3,
          4,
          5,
          6,
          7,
          8,
          9,
          10,
          11,
          12,
          1,
          2,
          3,
          4,
          5,
          6,
          7,
          8,
          9,
          10,
          11,
          12,
          1,
          2,
          3,
          4,
          5,
          6,
          7,
          8,
          9,
          10,
          11,
          12,
          1,
          2,
          3,
          4,
          5,
          6,
          7,
          8,
          9,
          10,
          11,
          12,
          1,
          2,
          3,
          4,
          5,
          6,
          7,
          8,
          9,
          10,
          11,
          12,
          1,
          2,
          3,
          4,
          5,
          6,
          7,
          8,
          9,
          10,
          11,
          12,
          1,
          2,
          3,
          4,
          5,
          6,
          7,
          8,
          9,
          10,
          11,
          12
         ],
         "y": [
          151.55555555555554,
          107.22222222222223,
          101.66666666666667,
          88.44444444444444,
          75.11111111111111,
          70.66666666666667,
          64.77777777777777,
          206.22222222222223,
          705.7777777777778,
          749.2222222222222,
          309.77777777777777,
          187
         ]
        }
       ],
       "layout": {
        "legend": {
         "title": {
          "text": "year"
         },
         "tracegroupgap": 0
        },
        "template": {
         "data": {
          "bar": [
           {
            "error_x": {
             "color": "#2a3f5f"
            },
            "error_y": {
             "color": "#2a3f5f"
            },
            "marker": {
             "line": {
              "color": "#E5ECF6",
              "width": 0.5
             },
             "pattern": {
              "fillmode": "overlay",
              "size": 10,
              "solidity": 0.2
             }
            },
            "type": "bar"
           }
          ],
          "barpolar": [
           {
            "marker": {
             "line": {
              "color": "#E5ECF6",
              "width": 0.5
             },
             "pattern": {
              "fillmode": "overlay",
              "size": 10,
              "solidity": 0.2
             }
            },
            "type": "barpolar"
           }
          ],
          "carpet": [
           {
            "aaxis": {
             "endlinecolor": "#2a3f5f",
             "gridcolor": "white",
             "linecolor": "white",
             "minorgridcolor": "white",
             "startlinecolor": "#2a3f5f"
            },
            "baxis": {
             "endlinecolor": "#2a3f5f",
             "gridcolor": "white",
             "linecolor": "white",
             "minorgridcolor": "white",
             "startlinecolor": "#2a3f5f"
            },
            "type": "carpet"
           }
          ],
          "choropleth": [
           {
            "colorbar": {
             "outlinewidth": 0,
             "ticks": ""
            },
            "type": "choropleth"
           }
          ],
          "contour": [
           {
            "colorbar": {
             "outlinewidth": 0,
             "ticks": ""
            },
            "colorscale": [
             [
              0,
              "#0d0887"
             ],
             [
              0.1111111111111111,
              "#46039f"
             ],
             [
              0.2222222222222222,
              "#7201a8"
             ],
             [
              0.3333333333333333,
              "#9c179e"
             ],
             [
              0.4444444444444444,
              "#bd3786"
             ],
             [
              0.5555555555555556,
              "#d8576b"
             ],
             [
              0.6666666666666666,
              "#ed7953"
             ],
             [
              0.7777777777777778,
              "#fb9f3a"
             ],
             [
              0.8888888888888888,
              "#fdca26"
             ],
             [
              1,
              "#f0f921"
             ]
            ],
            "type": "contour"
           }
          ],
          "contourcarpet": [
           {
            "colorbar": {
             "outlinewidth": 0,
             "ticks": ""
            },
            "type": "contourcarpet"
           }
          ],
          "heatmap": [
           {
            "colorbar": {
             "outlinewidth": 0,
             "ticks": ""
            },
            "colorscale": [
             [
              0,
              "#0d0887"
             ],
             [
              0.1111111111111111,
              "#46039f"
             ],
             [
              0.2222222222222222,
              "#7201a8"
             ],
             [
              0.3333333333333333,
              "#9c179e"
             ],
             [
              0.4444444444444444,
              "#bd3786"
             ],
             [
              0.5555555555555556,
              "#d8576b"
             ],
             [
              0.6666666666666666,
              "#ed7953"
             ],
             [
              0.7777777777777778,
              "#fb9f3a"
             ],
             [
              0.8888888888888888,
              "#fdca26"
             ],
             [
              1,
              "#f0f921"
             ]
            ],
            "type": "heatmap"
           }
          ],
          "heatmapgl": [
           {
            "colorbar": {
             "outlinewidth": 0,
             "ticks": ""
            },
            "colorscale": [
             [
              0,
              "#0d0887"
             ],
             [
              0.1111111111111111,
              "#46039f"
             ],
             [
              0.2222222222222222,
              "#7201a8"
             ],
             [
              0.3333333333333333,
              "#9c179e"
             ],
             [
              0.4444444444444444,
              "#bd3786"
             ],
             [
              0.5555555555555556,
              "#d8576b"
             ],
             [
              0.6666666666666666,
              "#ed7953"
             ],
             [
              0.7777777777777778,
              "#fb9f3a"
             ],
             [
              0.8888888888888888,
              "#fdca26"
             ],
             [
              1,
              "#f0f921"
             ]
            ],
            "type": "heatmapgl"
           }
          ],
          "histogram": [
           {
            "marker": {
             "pattern": {
              "fillmode": "overlay",
              "size": 10,
              "solidity": 0.2
             }
            },
            "type": "histogram"
           }
          ],
          "histogram2d": [
           {
            "colorbar": {
             "outlinewidth": 0,
             "ticks": ""
            },
            "colorscale": [
             [
              0,
              "#0d0887"
             ],
             [
              0.1111111111111111,
              "#46039f"
             ],
             [
              0.2222222222222222,
              "#7201a8"
             ],
             [
              0.3333333333333333,
              "#9c179e"
             ],
             [
              0.4444444444444444,
              "#bd3786"
             ],
             [
              0.5555555555555556,
              "#d8576b"
             ],
             [
              0.6666666666666666,
              "#ed7953"
             ],
             [
              0.7777777777777778,
              "#fb9f3a"
             ],
             [
              0.8888888888888888,
              "#fdca26"
             ],
             [
              1,
              "#f0f921"
             ]
            ],
            "type": "histogram2d"
           }
          ],
          "histogram2dcontour": [
           {
            "colorbar": {
             "outlinewidth": 0,
             "ticks": ""
            },
            "colorscale": [
             [
              0,
              "#0d0887"
             ],
             [
              0.1111111111111111,
              "#46039f"
             ],
             [
              0.2222222222222222,
              "#7201a8"
             ],
             [
              0.3333333333333333,
              "#9c179e"
             ],
             [
              0.4444444444444444,
              "#bd3786"
             ],
             [
              0.5555555555555556,
              "#d8576b"
             ],
             [
              0.6666666666666666,
              "#ed7953"
             ],
             [
              0.7777777777777778,
              "#fb9f3a"
             ],
             [
              0.8888888888888888,
              "#fdca26"
             ],
             [
              1,
              "#f0f921"
             ]
            ],
            "type": "histogram2dcontour"
           }
          ],
          "mesh3d": [
           {
            "colorbar": {
             "outlinewidth": 0,
             "ticks": ""
            },
            "type": "mesh3d"
           }
          ],
          "parcoords": [
           {
            "line": {
             "colorbar": {
              "outlinewidth": 0,
              "ticks": ""
             }
            },
            "type": "parcoords"
           }
          ],
          "pie": [
           {
            "automargin": true,
            "type": "pie"
           }
          ],
          "scatter": [
           {
            "fillpattern": {
             "fillmode": "overlay",
             "size": 10,
             "solidity": 0.2
            },
            "type": "scatter"
           }
          ],
          "scatter3d": [
           {
            "line": {
             "colorbar": {
              "outlinewidth": 0,
              "ticks": ""
             }
            },
            "marker": {
             "colorbar": {
              "outlinewidth": 0,
              "ticks": ""
             }
            },
            "type": "scatter3d"
           }
          ],
          "scattercarpet": [
           {
            "marker": {
             "colorbar": {
              "outlinewidth": 0,
              "ticks": ""
             }
            },
            "type": "scattercarpet"
           }
          ],
          "scattergeo": [
           {
            "marker": {
             "colorbar": {
              "outlinewidth": 0,
              "ticks": ""
             }
            },
            "type": "scattergeo"
           }
          ],
          "scattergl": [
           {
            "marker": {
             "colorbar": {
              "outlinewidth": 0,
              "ticks": ""
             }
            },
            "type": "scattergl"
           }
          ],
          "scattermapbox": [
           {
            "marker": {
             "colorbar": {
              "outlinewidth": 0,
              "ticks": ""
             }
            },
            "type": "scattermapbox"
           }
          ],
          "scatterpolar": [
           {
            "marker": {
             "colorbar": {
              "outlinewidth": 0,
              "ticks": ""
             }
            },
            "type": "scatterpolar"
           }
          ],
          "scatterpolargl": [
           {
            "marker": {
             "colorbar": {
              "outlinewidth": 0,
              "ticks": ""
             }
            },
            "type": "scatterpolargl"
           }
          ],
          "scatterternary": [
           {
            "marker": {
             "colorbar": {
              "outlinewidth": 0,
              "ticks": ""
             }
            },
            "type": "scatterternary"
           }
          ],
          "surface": [
           {
            "colorbar": {
             "outlinewidth": 0,
             "ticks": ""
            },
            "colorscale": [
             [
              0,
              "#0d0887"
             ],
             [
              0.1111111111111111,
              "#46039f"
             ],
             [
              0.2222222222222222,
              "#7201a8"
             ],
             [
              0.3333333333333333,
              "#9c179e"
             ],
             [
              0.4444444444444444,
              "#bd3786"
             ],
             [
              0.5555555555555556,
              "#d8576b"
             ],
             [
              0.6666666666666666,
              "#ed7953"
             ],
             [
              0.7777777777777778,
              "#fb9f3a"
             ],
             [
              0.8888888888888888,
              "#fdca26"
             ],
             [
              1,
              "#f0f921"
             ]
            ],
            "type": "surface"
           }
          ],
          "table": [
           {
            "cells": {
             "fill": {
              "color": "#EBF0F8"
             },
             "line": {
              "color": "white"
             }
            },
            "header": {
             "fill": {
              "color": "#C8D4E3"
             },
             "line": {
              "color": "white"
             }
            },
            "type": "table"
           }
          ]
         },
         "layout": {
          "annotationdefaults": {
           "arrowcolor": "#2a3f5f",
           "arrowhead": 0,
           "arrowwidth": 1
          },
          "autotypenumbers": "strict",
          "coloraxis": {
           "colorbar": {
            "outlinewidth": 0,
            "ticks": ""
           }
          },
          "colorscale": {
           "diverging": [
            [
             0,
             "#8e0152"
            ],
            [
             0.1,
             "#c51b7d"
            ],
            [
             0.2,
             "#de77ae"
            ],
            [
             0.3,
             "#f1b6da"
            ],
            [
             0.4,
             "#fde0ef"
            ],
            [
             0.5,
             "#f7f7f7"
            ],
            [
             0.6,
             "#e6f5d0"
            ],
            [
             0.7,
             "#b8e186"
            ],
            [
             0.8,
             "#7fbc41"
            ],
            [
             0.9,
             "#4d9221"
            ],
            [
             1,
             "#276419"
            ]
           ],
           "sequential": [
            [
             0,
             "#0d0887"
            ],
            [
             0.1111111111111111,
             "#46039f"
            ],
            [
             0.2222222222222222,
             "#7201a8"
            ],
            [
             0.3333333333333333,
             "#9c179e"
            ],
            [
             0.4444444444444444,
             "#bd3786"
            ],
            [
             0.5555555555555556,
             "#d8576b"
            ],
            [
             0.6666666666666666,
             "#ed7953"
            ],
            [
             0.7777777777777778,
             "#fb9f3a"
            ],
            [
             0.8888888888888888,
             "#fdca26"
            ],
            [
             1,
             "#f0f921"
            ]
           ],
           "sequentialminus": [
            [
             0,
             "#0d0887"
            ],
            [
             0.1111111111111111,
             "#46039f"
            ],
            [
             0.2222222222222222,
             "#7201a8"
            ],
            [
             0.3333333333333333,
             "#9c179e"
            ],
            [
             0.4444444444444444,
             "#bd3786"
            ],
            [
             0.5555555555555556,
             "#d8576b"
            ],
            [
             0.6666666666666666,
             "#ed7953"
            ],
            [
             0.7777777777777778,
             "#fb9f3a"
            ],
            [
             0.8888888888888888,
             "#fdca26"
            ],
            [
             1,
             "#f0f921"
            ]
           ]
          },
          "colorway": [
           "#636efa",
           "#EF553B",
           "#00cc96",
           "#ab63fa",
           "#FFA15A",
           "#19d3f3",
           "#FF6692",
           "#B6E880",
           "#FF97FF",
           "#FECB52"
          ],
          "font": {
           "color": "#2a3f5f"
          },
          "geo": {
           "bgcolor": "white",
           "lakecolor": "white",
           "landcolor": "#E5ECF6",
           "showlakes": true,
           "showland": true,
           "subunitcolor": "white"
          },
          "hoverlabel": {
           "align": "left"
          },
          "hovermode": "closest",
          "mapbox": {
           "style": "light"
          },
          "paper_bgcolor": "white",
          "plot_bgcolor": "#E5ECF6",
          "polar": {
           "angularaxis": {
            "gridcolor": "white",
            "linecolor": "white",
            "ticks": ""
           },
           "bgcolor": "#E5ECF6",
           "radialaxis": {
            "gridcolor": "white",
            "linecolor": "white",
            "ticks": ""
           }
          },
          "scene": {
           "xaxis": {
            "backgroundcolor": "#E5ECF6",
            "gridcolor": "white",
            "gridwidth": 2,
            "linecolor": "white",
            "showbackground": true,
            "ticks": "",
            "zerolinecolor": "white"
           },
           "yaxis": {
            "backgroundcolor": "#E5ECF6",
            "gridcolor": "white",
            "gridwidth": 2,
            "linecolor": "white",
            "showbackground": true,
            "ticks": "",
            "zerolinecolor": "white"
           },
           "zaxis": {
            "backgroundcolor": "#E5ECF6",
            "gridcolor": "white",
            "gridwidth": 2,
            "linecolor": "white",
            "showbackground": true,
            "ticks": "",
            "zerolinecolor": "white"
           }
          },
          "shapedefaults": {
           "line": {
            "color": "#2a3f5f"
           }
          },
          "ternary": {
           "aaxis": {
            "gridcolor": "white",
            "linecolor": "white",
            "ticks": ""
           },
           "baxis": {
            "gridcolor": "white",
            "linecolor": "white",
            "ticks": ""
           },
           "bgcolor": "#E5ECF6",
           "caxis": {
            "gridcolor": "white",
            "linecolor": "white",
            "ticks": ""
           }
          },
          "title": {
           "x": 0.05
          },
          "xaxis": {
           "automargin": true,
           "gridcolor": "white",
           "linecolor": "white",
           "ticks": "",
           "title": {
            "standoff": 15
           },
           "zerolinecolor": "white",
           "zerolinewidth": 2
          },
          "yaxis": {
           "automargin": true,
           "gridcolor": "white",
           "linecolor": "white",
           "ticks": "",
           "title": {
            "standoff": 15
           },
           "zerolinecolor": "white",
           "zerolinewidth": 2
          }
         }
        },
        "title": {
         "text": "Mean Number of Ratings per Month for Oktoberfest/Märzen"
        },
        "xaxis": {
         "anchor": "y",
         "domain": [
          0,
          1
         ],
         "title": {
          "text": "month"
         }
        },
        "yaxis": {
         "anchor": "x",
         "domain": [
          0,
          1
         ],
         "title": {
          "text": "nbr_ratings"
         }
        }
       }
      }
     },
     "metadata": {},
     "output_type": "display_data"
    },
    {
     "data": {
      "application/vnd.plotly.v1+json": {
       "config": {
        "plotlyServerURL": "https://plot.ly"
       },
       "data": [
        {
         "hovertemplate": "year=2008<br>month=%{x}<br>nbr_ratings=%{y}<extra></extra>",
         "legendgroup": "2008",
         "line": {
          "color": "#636efa",
          "dash": "solid"
         },
         "marker": {
          "symbol": "circle"
         },
         "mode": "lines",
         "name": "2008",
         "orientation": "v",
         "showlegend": true,
         "type": "scatter",
         "x": [
          1,
          2,
          3,
          4,
          5,
          6,
          7,
          8,
          9,
          10,
          11,
          12
         ],
         "xaxis": "x",
         "y": [
          671,
          616,
          629,
          682,
          710,
          722,
          736,
          761,
          591,
          651,
          293,
          496
         ],
         "yaxis": "y"
        },
        {
         "hovertemplate": "year=2009<br>month=%{x}<br>nbr_ratings=%{y}<extra></extra>",
         "legendgroup": "2009",
         "line": {
          "color": "#EF553B",
          "dash": "solid"
         },
         "marker": {
          "symbol": "circle"
         },
         "mode": "lines",
         "name": "2009",
         "orientation": "v",
         "showlegend": true,
         "type": "scatter",
         "x": [
          1,
          2,
          3,
          4,
          5,
          6,
          7,
          8,
          9,
          10,
          11,
          12
         ],
         "xaxis": "x",
         "y": [
          644,
          571,
          680,
          701,
          823,
          753,
          785,
          716,
          643,
          657,
          571,
          604
         ],
         "yaxis": "y"
        },
        {
         "hovertemplate": "year=2010<br>month=%{x}<br>nbr_ratings=%{y}<extra></extra>",
         "legendgroup": "2010",
         "line": {
          "color": "#00cc96",
          "dash": "solid"
         },
         "marker": {
          "symbol": "circle"
         },
         "mode": "lines",
         "name": "2010",
         "orientation": "v",
         "showlegend": true,
         "type": "scatter",
         "x": [
          1,
          2,
          3,
          4,
          5,
          6,
          7,
          8,
          9,
          10,
          11,
          12
         ],
         "xaxis": "x",
         "y": [
          635,
          572,
          709,
          621,
          795,
          716,
          751,
          742,
          635,
          682,
          547,
          544
         ],
         "yaxis": "y"
        },
        {
         "hovertemplate": "year=2011<br>month=%{x}<br>nbr_ratings=%{y}<extra></extra>",
         "legendgroup": "2011",
         "line": {
          "color": "#ab63fa",
          "dash": "solid"
         },
         "marker": {
          "symbol": "circle"
         },
         "mode": "lines",
         "name": "2011",
         "orientation": "v",
         "showlegend": true,
         "type": "scatter",
         "x": [
          1,
          2,
          3,
          4,
          5,
          6,
          7,
          8,
          9,
          10,
          11,
          12
         ],
         "xaxis": "x",
         "y": [
          544,
          549,
          676,
          625,
          627,
          685,
          742,
          762,
          695,
          734,
          648,
          666
         ],
         "yaxis": "y"
        },
        {
         "hovertemplate": "year=2012<br>month=%{x}<br>nbr_ratings=%{y}<extra></extra>",
         "legendgroup": "2012",
         "line": {
          "color": "#FFA15A",
          "dash": "solid"
         },
         "marker": {
          "symbol": "circle"
         },
         "mode": "lines",
         "name": "2012",
         "orientation": "v",
         "showlegend": true,
         "type": "scatter",
         "x": [
          1,
          2,
          3,
          4,
          5,
          6,
          7,
          8,
          9,
          10,
          11,
          12
         ],
         "xaxis": "x",
         "y": [
          701,
          771,
          802,
          842,
          805,
          867,
          1112,
          986,
          876,
          948,
          830,
          830
         ],
         "yaxis": "y"
        },
        {
         "hovertemplate": "year=2013<br>month=%{x}<br>nbr_ratings=%{y}<extra></extra>",
         "legendgroup": "2013",
         "line": {
          "color": "#19d3f3",
          "dash": "solid"
         },
         "marker": {
          "symbol": "circle"
         },
         "mode": "lines",
         "name": "2013",
         "orientation": "v",
         "showlegend": true,
         "type": "scatter",
         "x": [
          1,
          2,
          3,
          4,
          5,
          6,
          7,
          8,
          9,
          10,
          11,
          12
         ],
         "xaxis": "x",
         "y": [
          856,
          847,
          998,
          1068,
          1102,
          1268,
          1381,
          1411,
          1068,
          1190,
          1116,
          1104
         ],
         "yaxis": "y"
        },
        {
         "hovertemplate": "year=2014<br>month=%{x}<br>nbr_ratings=%{y}<extra></extra>",
         "legendgroup": "2014",
         "line": {
          "color": "#FF6692",
          "dash": "solid"
         },
         "marker": {
          "symbol": "circle"
         },
         "mode": "lines",
         "name": "2014",
         "orientation": "v",
         "showlegend": true,
         "type": "scatter",
         "x": [
          1,
          2,
          3,
          4,
          5,
          6,
          7,
          8,
          9,
          10,
          11,
          12
         ],
         "xaxis": "x",
         "y": [
          1159,
          1007,
          1048,
          1040,
          1206,
          1263,
          1148,
          1258,
          1026,
          1172,
          1029,
          910
         ],
         "yaxis": "y"
        },
        {
         "hovertemplate": "year=2015<br>month=%{x}<br>nbr_ratings=%{y}<extra></extra>",
         "legendgroup": "2015",
         "line": {
          "color": "#B6E880",
          "dash": "solid"
         },
         "marker": {
          "symbol": "circle"
         },
         "mode": "lines",
         "name": "2015",
         "orientation": "v",
         "showlegend": true,
         "type": "scatter",
         "x": [
          1,
          2,
          3,
          4,
          5,
          6,
          7,
          8,
          9,
          10,
          11,
          12
         ],
         "xaxis": "x",
         "y": [
          969,
          947,
          1071,
          1014,
          1083,
          1079,
          1214,
          1224,
          933,
          1136,
          1085,
          968
         ],
         "yaxis": "y"
        },
        {
         "hovertemplate": "year=2016<br>month=%{x}<br>nbr_ratings=%{y}<extra></extra>",
         "legendgroup": "2016",
         "line": {
          "color": "#FF97FF",
          "dash": "solid"
         },
         "marker": {
          "symbol": "circle"
         },
         "mode": "lines",
         "name": "2016",
         "orientation": "v",
         "showlegend": true,
         "type": "scatter",
         "x": [
          1,
          2,
          3,
          4,
          5,
          6,
          7,
          8,
          9,
          10,
          11,
          12
         ],
         "xaxis": "x",
         "y": [
          858,
          767,
          838,
          948,
          1042,
          1128,
          1135,
          1157,
          1013,
          1121,
          876,
          772
         ],
         "yaxis": "y"
        },
        {
         "line": {
          "color": "black",
          "dash": "dash",
          "width": 4
         },
         "mode": "lines",
         "name": "Mean Number of Ratings",
         "type": "scatter",
         "x": [
          1,
          2,
          3,
          4,
          5,
          6,
          7,
          8,
          9,
          10,
          11,
          12,
          1,
          2,
          3,
          4,
          5,
          6,
          7,
          8,
          9,
          10,
          11,
          12,
          1,
          2,
          3,
          4,
          5,
          6,
          7,
          8,
          9,
          10,
          11,
          12,
          1,
          2,
          3,
          4,
          5,
          6,
          7,
          8,
          9,
          10,
          11,
          12,
          1,
          2,
          3,
          4,
          5,
          6,
          7,
          8,
          9,
          10,
          11,
          12,
          1,
          2,
          3,
          4,
          5,
          6,
          7,
          8,
          9,
          10,
          11,
          12,
          1,
          2,
          3,
          4,
          5,
          6,
          7,
          8,
          9,
          10,
          11,
          12,
          1,
          2,
          3,
          4,
          5,
          6,
          7,
          8,
          9,
          10,
          11,
          12,
          1,
          2,
          3,
          4,
          5,
          6,
          7,
          8,
          9,
          10,
          11,
          12
         ],
         "y": [
          781.8888888888889,
          738.5555555555555,
          827.8888888888889,
          837.8888888888889,
          910.3333333333334,
          942.3333333333334,
          1000.4444444444445,
          1001.8888888888889,
          831.1111111111111,
          921.2222222222222,
          777.2222222222222,
          766
         ]
        }
       ],
       "layout": {
        "legend": {
         "title": {
          "text": "year"
         },
         "tracegroupgap": 0
        },
        "template": {
         "data": {
          "bar": [
           {
            "error_x": {
             "color": "#2a3f5f"
            },
            "error_y": {
             "color": "#2a3f5f"
            },
            "marker": {
             "line": {
              "color": "#E5ECF6",
              "width": 0.5
             },
             "pattern": {
              "fillmode": "overlay",
              "size": 10,
              "solidity": 0.2
             }
            },
            "type": "bar"
           }
          ],
          "barpolar": [
           {
            "marker": {
             "line": {
              "color": "#E5ECF6",
              "width": 0.5
             },
             "pattern": {
              "fillmode": "overlay",
              "size": 10,
              "solidity": 0.2
             }
            },
            "type": "barpolar"
           }
          ],
          "carpet": [
           {
            "aaxis": {
             "endlinecolor": "#2a3f5f",
             "gridcolor": "white",
             "linecolor": "white",
             "minorgridcolor": "white",
             "startlinecolor": "#2a3f5f"
            },
            "baxis": {
             "endlinecolor": "#2a3f5f",
             "gridcolor": "white",
             "linecolor": "white",
             "minorgridcolor": "white",
             "startlinecolor": "#2a3f5f"
            },
            "type": "carpet"
           }
          ],
          "choropleth": [
           {
            "colorbar": {
             "outlinewidth": 0,
             "ticks": ""
            },
            "type": "choropleth"
           }
          ],
          "contour": [
           {
            "colorbar": {
             "outlinewidth": 0,
             "ticks": ""
            },
            "colorscale": [
             [
              0,
              "#0d0887"
             ],
             [
              0.1111111111111111,
              "#46039f"
             ],
             [
              0.2222222222222222,
              "#7201a8"
             ],
             [
              0.3333333333333333,
              "#9c179e"
             ],
             [
              0.4444444444444444,
              "#bd3786"
             ],
             [
              0.5555555555555556,
              "#d8576b"
             ],
             [
              0.6666666666666666,
              "#ed7953"
             ],
             [
              0.7777777777777778,
              "#fb9f3a"
             ],
             [
              0.8888888888888888,
              "#fdca26"
             ],
             [
              1,
              "#f0f921"
             ]
            ],
            "type": "contour"
           }
          ],
          "contourcarpet": [
           {
            "colorbar": {
             "outlinewidth": 0,
             "ticks": ""
            },
            "type": "contourcarpet"
           }
          ],
          "heatmap": [
           {
            "colorbar": {
             "outlinewidth": 0,
             "ticks": ""
            },
            "colorscale": [
             [
              0,
              "#0d0887"
             ],
             [
              0.1111111111111111,
              "#46039f"
             ],
             [
              0.2222222222222222,
              "#7201a8"
             ],
             [
              0.3333333333333333,
              "#9c179e"
             ],
             [
              0.4444444444444444,
              "#bd3786"
             ],
             [
              0.5555555555555556,
              "#d8576b"
             ],
             [
              0.6666666666666666,
              "#ed7953"
             ],
             [
              0.7777777777777778,
              "#fb9f3a"
             ],
             [
              0.8888888888888888,
              "#fdca26"
             ],
             [
              1,
              "#f0f921"
             ]
            ],
            "type": "heatmap"
           }
          ],
          "heatmapgl": [
           {
            "colorbar": {
             "outlinewidth": 0,
             "ticks": ""
            },
            "colorscale": [
             [
              0,
              "#0d0887"
             ],
             [
              0.1111111111111111,
              "#46039f"
             ],
             [
              0.2222222222222222,
              "#7201a8"
             ],
             [
              0.3333333333333333,
              "#9c179e"
             ],
             [
              0.4444444444444444,
              "#bd3786"
             ],
             [
              0.5555555555555556,
              "#d8576b"
             ],
             [
              0.6666666666666666,
              "#ed7953"
             ],
             [
              0.7777777777777778,
              "#fb9f3a"
             ],
             [
              0.8888888888888888,
              "#fdca26"
             ],
             [
              1,
              "#f0f921"
             ]
            ],
            "type": "heatmapgl"
           }
          ],
          "histogram": [
           {
            "marker": {
             "pattern": {
              "fillmode": "overlay",
              "size": 10,
              "solidity": 0.2
             }
            },
            "type": "histogram"
           }
          ],
          "histogram2d": [
           {
            "colorbar": {
             "outlinewidth": 0,
             "ticks": ""
            },
            "colorscale": [
             [
              0,
              "#0d0887"
             ],
             [
              0.1111111111111111,
              "#46039f"
             ],
             [
              0.2222222222222222,
              "#7201a8"
             ],
             [
              0.3333333333333333,
              "#9c179e"
             ],
             [
              0.4444444444444444,
              "#bd3786"
             ],
             [
              0.5555555555555556,
              "#d8576b"
             ],
             [
              0.6666666666666666,
              "#ed7953"
             ],
             [
              0.7777777777777778,
              "#fb9f3a"
             ],
             [
              0.8888888888888888,
              "#fdca26"
             ],
             [
              1,
              "#f0f921"
             ]
            ],
            "type": "histogram2d"
           }
          ],
          "histogram2dcontour": [
           {
            "colorbar": {
             "outlinewidth": 0,
             "ticks": ""
            },
            "colorscale": [
             [
              0,
              "#0d0887"
             ],
             [
              0.1111111111111111,
              "#46039f"
             ],
             [
              0.2222222222222222,
              "#7201a8"
             ],
             [
              0.3333333333333333,
              "#9c179e"
             ],
             [
              0.4444444444444444,
              "#bd3786"
             ],
             [
              0.5555555555555556,
              "#d8576b"
             ],
             [
              0.6666666666666666,
              "#ed7953"
             ],
             [
              0.7777777777777778,
              "#fb9f3a"
             ],
             [
              0.8888888888888888,
              "#fdca26"
             ],
             [
              1,
              "#f0f921"
             ]
            ],
            "type": "histogram2dcontour"
           }
          ],
          "mesh3d": [
           {
            "colorbar": {
             "outlinewidth": 0,
             "ticks": ""
            },
            "type": "mesh3d"
           }
          ],
          "parcoords": [
           {
            "line": {
             "colorbar": {
              "outlinewidth": 0,
              "ticks": ""
             }
            },
            "type": "parcoords"
           }
          ],
          "pie": [
           {
            "automargin": true,
            "type": "pie"
           }
          ],
          "scatter": [
           {
            "fillpattern": {
             "fillmode": "overlay",
             "size": 10,
             "solidity": 0.2
            },
            "type": "scatter"
           }
          ],
          "scatter3d": [
           {
            "line": {
             "colorbar": {
              "outlinewidth": 0,
              "ticks": ""
             }
            },
            "marker": {
             "colorbar": {
              "outlinewidth": 0,
              "ticks": ""
             }
            },
            "type": "scatter3d"
           }
          ],
          "scattercarpet": [
           {
            "marker": {
             "colorbar": {
              "outlinewidth": 0,
              "ticks": ""
             }
            },
            "type": "scattercarpet"
           }
          ],
          "scattergeo": [
           {
            "marker": {
             "colorbar": {
              "outlinewidth": 0,
              "ticks": ""
             }
            },
            "type": "scattergeo"
           }
          ],
          "scattergl": [
           {
            "marker": {
             "colorbar": {
              "outlinewidth": 0,
              "ticks": ""
             }
            },
            "type": "scattergl"
           }
          ],
          "scattermapbox": [
           {
            "marker": {
             "colorbar": {
              "outlinewidth": 0,
              "ticks": ""
             }
            },
            "type": "scattermapbox"
           }
          ],
          "scatterpolar": [
           {
            "marker": {
             "colorbar": {
              "outlinewidth": 0,
              "ticks": ""
             }
            },
            "type": "scatterpolar"
           }
          ],
          "scatterpolargl": [
           {
            "marker": {
             "colorbar": {
              "outlinewidth": 0,
              "ticks": ""
             }
            },
            "type": "scatterpolargl"
           }
          ],
          "scatterternary": [
           {
            "marker": {
             "colorbar": {
              "outlinewidth": 0,
              "ticks": ""
             }
            },
            "type": "scatterternary"
           }
          ],
          "surface": [
           {
            "colorbar": {
             "outlinewidth": 0,
             "ticks": ""
            },
            "colorscale": [
             [
              0,
              "#0d0887"
             ],
             [
              0.1111111111111111,
              "#46039f"
             ],
             [
              0.2222222222222222,
              "#7201a8"
             ],
             [
              0.3333333333333333,
              "#9c179e"
             ],
             [
              0.4444444444444444,
              "#bd3786"
             ],
             [
              0.5555555555555556,
              "#d8576b"
             ],
             [
              0.6666666666666666,
              "#ed7953"
             ],
             [
              0.7777777777777778,
              "#fb9f3a"
             ],
             [
              0.8888888888888888,
              "#fdca26"
             ],
             [
              1,
              "#f0f921"
             ]
            ],
            "type": "surface"
           }
          ],
          "table": [
           {
            "cells": {
             "fill": {
              "color": "#EBF0F8"
             },
             "line": {
              "color": "white"
             }
            },
            "header": {
             "fill": {
              "color": "#C8D4E3"
             },
             "line": {
              "color": "white"
             }
            },
            "type": "table"
           }
          ]
         },
         "layout": {
          "annotationdefaults": {
           "arrowcolor": "#2a3f5f",
           "arrowhead": 0,
           "arrowwidth": 1
          },
          "autotypenumbers": "strict",
          "coloraxis": {
           "colorbar": {
            "outlinewidth": 0,
            "ticks": ""
           }
          },
          "colorscale": {
           "diverging": [
            [
             0,
             "#8e0152"
            ],
            [
             0.1,
             "#c51b7d"
            ],
            [
             0.2,
             "#de77ae"
            ],
            [
             0.3,
             "#f1b6da"
            ],
            [
             0.4,
             "#fde0ef"
            ],
            [
             0.5,
             "#f7f7f7"
            ],
            [
             0.6,
             "#e6f5d0"
            ],
            [
             0.7,
             "#b8e186"
            ],
            [
             0.8,
             "#7fbc41"
            ],
            [
             0.9,
             "#4d9221"
            ],
            [
             1,
             "#276419"
            ]
           ],
           "sequential": [
            [
             0,
             "#0d0887"
            ],
            [
             0.1111111111111111,
             "#46039f"
            ],
            [
             0.2222222222222222,
             "#7201a8"
            ],
            [
             0.3333333333333333,
             "#9c179e"
            ],
            [
             0.4444444444444444,
             "#bd3786"
            ],
            [
             0.5555555555555556,
             "#d8576b"
            ],
            [
             0.6666666666666666,
             "#ed7953"
            ],
            [
             0.7777777777777778,
             "#fb9f3a"
            ],
            [
             0.8888888888888888,
             "#fdca26"
            ],
            [
             1,
             "#f0f921"
            ]
           ],
           "sequentialminus": [
            [
             0,
             "#0d0887"
            ],
            [
             0.1111111111111111,
             "#46039f"
            ],
            [
             0.2222222222222222,
             "#7201a8"
            ],
            [
             0.3333333333333333,
             "#9c179e"
            ],
            [
             0.4444444444444444,
             "#bd3786"
            ],
            [
             0.5555555555555556,
             "#d8576b"
            ],
            [
             0.6666666666666666,
             "#ed7953"
            ],
            [
             0.7777777777777778,
             "#fb9f3a"
            ],
            [
             0.8888888888888888,
             "#fdca26"
            ],
            [
             1,
             "#f0f921"
            ]
           ]
          },
          "colorway": [
           "#636efa",
           "#EF553B",
           "#00cc96",
           "#ab63fa",
           "#FFA15A",
           "#19d3f3",
           "#FF6692",
           "#B6E880",
           "#FF97FF",
           "#FECB52"
          ],
          "font": {
           "color": "#2a3f5f"
          },
          "geo": {
           "bgcolor": "white",
           "lakecolor": "white",
           "landcolor": "#E5ECF6",
           "showlakes": true,
           "showland": true,
           "subunitcolor": "white"
          },
          "hoverlabel": {
           "align": "left"
          },
          "hovermode": "closest",
          "mapbox": {
           "style": "light"
          },
          "paper_bgcolor": "white",
          "plot_bgcolor": "#E5ECF6",
          "polar": {
           "angularaxis": {
            "gridcolor": "white",
            "linecolor": "white",
            "ticks": ""
           },
           "bgcolor": "#E5ECF6",
           "radialaxis": {
            "gridcolor": "white",
            "linecolor": "white",
            "ticks": ""
           }
          },
          "scene": {
           "xaxis": {
            "backgroundcolor": "#E5ECF6",
            "gridcolor": "white",
            "gridwidth": 2,
            "linecolor": "white",
            "showbackground": true,
            "ticks": "",
            "zerolinecolor": "white"
           },
           "yaxis": {
            "backgroundcolor": "#E5ECF6",
            "gridcolor": "white",
            "gridwidth": 2,
            "linecolor": "white",
            "showbackground": true,
            "ticks": "",
            "zerolinecolor": "white"
           },
           "zaxis": {
            "backgroundcolor": "#E5ECF6",
            "gridcolor": "white",
            "gridwidth": 2,
            "linecolor": "white",
            "showbackground": true,
            "ticks": "",
            "zerolinecolor": "white"
           }
          },
          "shapedefaults": {
           "line": {
            "color": "#2a3f5f"
           }
          },
          "ternary": {
           "aaxis": {
            "gridcolor": "white",
            "linecolor": "white",
            "ticks": ""
           },
           "baxis": {
            "gridcolor": "white",
            "linecolor": "white",
            "ticks": ""
           },
           "bgcolor": "#E5ECF6",
           "caxis": {
            "gridcolor": "white",
            "linecolor": "white",
            "ticks": ""
           }
          },
          "title": {
           "x": 0.05
          },
          "xaxis": {
           "automargin": true,
           "gridcolor": "white",
           "linecolor": "white",
           "ticks": "",
           "title": {
            "standoff": 15
           },
           "zerolinecolor": "white",
           "zerolinewidth": 2
          },
          "yaxis": {
           "automargin": true,
           "gridcolor": "white",
           "linecolor": "white",
           "ticks": "",
           "title": {
            "standoff": 15
           },
           "zerolinecolor": "white",
           "zerolinewidth": 2
          }
         }
        },
        "title": {
         "text": "Mean Number of Ratings per Month for American Pale Ale"
        },
        "xaxis": {
         "anchor": "y",
         "domain": [
          0,
          1
         ],
         "title": {
          "text": "month"
         }
        },
        "yaxis": {
         "anchor": "x",
         "domain": [
          0,
          1
         ],
         "title": {
          "text": "nbr_ratings"
         }
        }
       }
      }
     },
     "metadata": {},
     "output_type": "display_data"
    },
    {
     "data": {
      "application/vnd.plotly.v1+json": {
       "config": {
        "plotlyServerURL": "https://plot.ly"
       },
       "data": [
        {
         "hovertemplate": "year=2008<br>month=%{x}<br>nbr_ratings=%{y}<extra></extra>",
         "legendgroup": "2008",
         "line": {
          "color": "#636efa",
          "dash": "solid"
         },
         "marker": {
          "symbol": "circle"
         },
         "mode": "lines",
         "name": "2008",
         "orientation": "v",
         "showlegend": true,
         "type": "scatter",
         "x": [
          1,
          2,
          3,
          4,
          5,
          6,
          7,
          8,
          9,
          10,
          11,
          12
         ],
         "xaxis": "x",
         "y": [
          465,
          372,
          381,
          340,
          322,
          270,
          264,
          294,
          277,
          300,
          442,
          620
         ],
         "yaxis": "y"
        },
        {
         "hovertemplate": "year=2009<br>month=%{x}<br>nbr_ratings=%{y}<extra></extra>",
         "legendgroup": "2009",
         "line": {
          "color": "#EF553B",
          "dash": "solid"
         },
         "marker": {
          "symbol": "circle"
         },
         "mode": "lines",
         "name": "2009",
         "orientation": "v",
         "showlegend": true,
         "type": "scatter",
         "x": [
          1,
          2,
          3,
          4,
          5,
          6,
          7,
          8,
          9,
          10,
          11,
          12
         ],
         "xaxis": "x",
         "y": [
          489,
          403,
          467,
          402,
          343,
          299,
          307,
          311,
          375,
          372,
          476,
          718
         ],
         "yaxis": "y"
        },
        {
         "hovertemplate": "year=2010<br>month=%{x}<br>nbr_ratings=%{y}<extra></extra>",
         "legendgroup": "2010",
         "line": {
          "color": "#00cc96",
          "dash": "solid"
         },
         "marker": {
          "symbol": "circle"
         },
         "mode": "lines",
         "name": "2010",
         "orientation": "v",
         "showlegend": true,
         "type": "scatter",
         "x": [
          1,
          2,
          3,
          4,
          5,
          6,
          7,
          8,
          9,
          10,
          11,
          12
         ],
         "xaxis": "x",
         "y": [
          617,
          447,
          405,
          370,
          387,
          279,
          330,
          307,
          306,
          346,
          496,
          812
         ],
         "yaxis": "y"
        },
        {
         "hovertemplate": "year=2011<br>month=%{x}<br>nbr_ratings=%{y}<extra></extra>",
         "legendgroup": "2011",
         "line": {
          "color": "#ab63fa",
          "dash": "solid"
         },
         "marker": {
          "symbol": "circle"
         },
         "mode": "lines",
         "name": "2011",
         "orientation": "v",
         "showlegend": true,
         "type": "scatter",
         "x": [
          1,
          2,
          3,
          4,
          5,
          6,
          7,
          8,
          9,
          10,
          11,
          12
         ],
         "xaxis": "x",
         "y": [
          639,
          528,
          510,
          441,
          420,
          361,
          330,
          361,
          311,
          282,
          458,
          637
         ],
         "yaxis": "y"
        },
        {
         "hovertemplate": "year=2012<br>month=%{x}<br>nbr_ratings=%{y}<extra></extra>",
         "legendgroup": "2012",
         "line": {
          "color": "#FFA15A",
          "dash": "solid"
         },
         "marker": {
          "symbol": "circle"
         },
         "mode": "lines",
         "name": "2012",
         "orientation": "v",
         "showlegend": true,
         "type": "scatter",
         "x": [
          1,
          2,
          3,
          4,
          5,
          6,
          7,
          8,
          9,
          10,
          11,
          12
         ],
         "xaxis": "x",
         "y": [
          553,
          346,
          353,
          294,
          252,
          228,
          185,
          222,
          188,
          175,
          248,
          546
         ],
         "yaxis": "y"
        },
        {
         "hovertemplate": "year=2013<br>month=%{x}<br>nbr_ratings=%{y}<extra></extra>",
         "legendgroup": "2013",
         "line": {
          "color": "#19d3f3",
          "dash": "solid"
         },
         "marker": {
          "symbol": "circle"
         },
         "mode": "lines",
         "name": "2013",
         "orientation": "v",
         "showlegend": true,
         "type": "scatter",
         "x": [
          1,
          2,
          3,
          4,
          5,
          6,
          7,
          8,
          9,
          10,
          11,
          12
         ],
         "xaxis": "x",
         "y": [
          409,
          259,
          258,
          206,
          201,
          222,
          186,
          148,
          146,
          134,
          183,
          319
         ],
         "yaxis": "y"
        },
        {
         "hovertemplate": "year=2014<br>month=%{x}<br>nbr_ratings=%{y}<extra></extra>",
         "legendgroup": "2014",
         "line": {
          "color": "#FF6692",
          "dash": "solid"
         },
         "marker": {
          "symbol": "circle"
         },
         "mode": "lines",
         "name": "2014",
         "orientation": "v",
         "showlegend": true,
         "type": "scatter",
         "x": [
          1,
          2,
          3,
          4,
          5,
          6,
          7,
          8,
          9,
          10,
          11,
          12
         ],
         "xaxis": "x",
         "y": [
          231,
          162,
          150,
          164,
          129,
          120,
          100,
          109,
          128,
          114,
          185,
          287
         ],
         "yaxis": "y"
        },
        {
         "hovertemplate": "year=2015<br>month=%{x}<br>nbr_ratings=%{y}<extra></extra>",
         "legendgroup": "2015",
         "line": {
          "color": "#B6E880",
          "dash": "solid"
         },
         "marker": {
          "symbol": "circle"
         },
         "mode": "lines",
         "name": "2015",
         "orientation": "v",
         "showlegend": true,
         "type": "scatter",
         "x": [
          1,
          2,
          3,
          4,
          5,
          6,
          7,
          8,
          9,
          10,
          11,
          12
         ],
         "xaxis": "x",
         "y": [
          318,
          240,
          258,
          189,
          151,
          150,
          149,
          165,
          129,
          113,
          170,
          290
         ],
         "yaxis": "y"
        },
        {
         "hovertemplate": "year=2016<br>month=%{x}<br>nbr_ratings=%{y}<extra></extra>",
         "legendgroup": "2016",
         "line": {
          "color": "#FF97FF",
          "dash": "solid"
         },
         "marker": {
          "symbol": "circle"
         },
         "mode": "lines",
         "name": "2016",
         "orientation": "v",
         "showlegend": true,
         "type": "scatter",
         "x": [
          1,
          2,
          3,
          4,
          5,
          6,
          7,
          8,
          9,
          10,
          11,
          12
         ],
         "xaxis": "x",
         "y": [
          232,
          152,
          152,
          173,
          134,
          119,
          88,
          91,
          67,
          76,
          99,
          158
         ],
         "yaxis": "y"
        },
        {
         "line": {
          "color": "black",
          "dash": "dash",
          "width": 4
         },
         "mode": "lines",
         "name": "Mean Number of Ratings",
         "type": "scatter",
         "x": [
          1,
          2,
          3,
          4,
          5,
          6,
          7,
          8,
          9,
          10,
          11,
          12,
          1,
          2,
          3,
          4,
          5,
          6,
          7,
          8,
          9,
          10,
          11,
          12,
          1,
          2,
          3,
          4,
          5,
          6,
          7,
          8,
          9,
          10,
          11,
          12,
          1,
          2,
          3,
          4,
          5,
          6,
          7,
          8,
          9,
          10,
          11,
          12,
          1,
          2,
          3,
          4,
          5,
          6,
          7,
          8,
          9,
          10,
          11,
          12,
          1,
          2,
          3,
          4,
          5,
          6,
          7,
          8,
          9,
          10,
          11,
          12,
          1,
          2,
          3,
          4,
          5,
          6,
          7,
          8,
          9,
          10,
          11,
          12,
          1,
          2,
          3,
          4,
          5,
          6,
          7,
          8,
          9,
          10,
          11,
          12,
          1,
          2,
          3,
          4,
          5,
          6,
          7,
          8,
          9,
          10,
          11,
          12
         ],
         "y": [
          439.22222222222223,
          323.22222222222223,
          326,
          286.55555555555554,
          259.8888888888889,
          227.55555555555554,
          215.44444444444446,
          223.11111111111111,
          214.11111111111111,
          212.44444444444446,
          306.3333333333333,
          487.44444444444446
         ]
        }
       ],
       "layout": {
        "legend": {
         "title": {
          "text": "year"
         },
         "tracegroupgap": 0
        },
        "template": {
         "data": {
          "bar": [
           {
            "error_x": {
             "color": "#2a3f5f"
            },
            "error_y": {
             "color": "#2a3f5f"
            },
            "marker": {
             "line": {
              "color": "#E5ECF6",
              "width": 0.5
             },
             "pattern": {
              "fillmode": "overlay",
              "size": 10,
              "solidity": 0.2
             }
            },
            "type": "bar"
           }
          ],
          "barpolar": [
           {
            "marker": {
             "line": {
              "color": "#E5ECF6",
              "width": 0.5
             },
             "pattern": {
              "fillmode": "overlay",
              "size": 10,
              "solidity": 0.2
             }
            },
            "type": "barpolar"
           }
          ],
          "carpet": [
           {
            "aaxis": {
             "endlinecolor": "#2a3f5f",
             "gridcolor": "white",
             "linecolor": "white",
             "minorgridcolor": "white",
             "startlinecolor": "#2a3f5f"
            },
            "baxis": {
             "endlinecolor": "#2a3f5f",
             "gridcolor": "white",
             "linecolor": "white",
             "minorgridcolor": "white",
             "startlinecolor": "#2a3f5f"
            },
            "type": "carpet"
           }
          ],
          "choropleth": [
           {
            "colorbar": {
             "outlinewidth": 0,
             "ticks": ""
            },
            "type": "choropleth"
           }
          ],
          "contour": [
           {
            "colorbar": {
             "outlinewidth": 0,
             "ticks": ""
            },
            "colorscale": [
             [
              0,
              "#0d0887"
             ],
             [
              0.1111111111111111,
              "#46039f"
             ],
             [
              0.2222222222222222,
              "#7201a8"
             ],
             [
              0.3333333333333333,
              "#9c179e"
             ],
             [
              0.4444444444444444,
              "#bd3786"
             ],
             [
              0.5555555555555556,
              "#d8576b"
             ],
             [
              0.6666666666666666,
              "#ed7953"
             ],
             [
              0.7777777777777778,
              "#fb9f3a"
             ],
             [
              0.8888888888888888,
              "#fdca26"
             ],
             [
              1,
              "#f0f921"
             ]
            ],
            "type": "contour"
           }
          ],
          "contourcarpet": [
           {
            "colorbar": {
             "outlinewidth": 0,
             "ticks": ""
            },
            "type": "contourcarpet"
           }
          ],
          "heatmap": [
           {
            "colorbar": {
             "outlinewidth": 0,
             "ticks": ""
            },
            "colorscale": [
             [
              0,
              "#0d0887"
             ],
             [
              0.1111111111111111,
              "#46039f"
             ],
             [
              0.2222222222222222,
              "#7201a8"
             ],
             [
              0.3333333333333333,
              "#9c179e"
             ],
             [
              0.4444444444444444,
              "#bd3786"
             ],
             [
              0.5555555555555556,
              "#d8576b"
             ],
             [
              0.6666666666666666,
              "#ed7953"
             ],
             [
              0.7777777777777778,
              "#fb9f3a"
             ],
             [
              0.8888888888888888,
              "#fdca26"
             ],
             [
              1,
              "#f0f921"
             ]
            ],
            "type": "heatmap"
           }
          ],
          "heatmapgl": [
           {
            "colorbar": {
             "outlinewidth": 0,
             "ticks": ""
            },
            "colorscale": [
             [
              0,
              "#0d0887"
             ],
             [
              0.1111111111111111,
              "#46039f"
             ],
             [
              0.2222222222222222,
              "#7201a8"
             ],
             [
              0.3333333333333333,
              "#9c179e"
             ],
             [
              0.4444444444444444,
              "#bd3786"
             ],
             [
              0.5555555555555556,
              "#d8576b"
             ],
             [
              0.6666666666666666,
              "#ed7953"
             ],
             [
              0.7777777777777778,
              "#fb9f3a"
             ],
             [
              0.8888888888888888,
              "#fdca26"
             ],
             [
              1,
              "#f0f921"
             ]
            ],
            "type": "heatmapgl"
           }
          ],
          "histogram": [
           {
            "marker": {
             "pattern": {
              "fillmode": "overlay",
              "size": 10,
              "solidity": 0.2
             }
            },
            "type": "histogram"
           }
          ],
          "histogram2d": [
           {
            "colorbar": {
             "outlinewidth": 0,
             "ticks": ""
            },
            "colorscale": [
             [
              0,
              "#0d0887"
             ],
             [
              0.1111111111111111,
              "#46039f"
             ],
             [
              0.2222222222222222,
              "#7201a8"
             ],
             [
              0.3333333333333333,
              "#9c179e"
             ],
             [
              0.4444444444444444,
              "#bd3786"
             ],
             [
              0.5555555555555556,
              "#d8576b"
             ],
             [
              0.6666666666666666,
              "#ed7953"
             ],
             [
              0.7777777777777778,
              "#fb9f3a"
             ],
             [
              0.8888888888888888,
              "#fdca26"
             ],
             [
              1,
              "#f0f921"
             ]
            ],
            "type": "histogram2d"
           }
          ],
          "histogram2dcontour": [
           {
            "colorbar": {
             "outlinewidth": 0,
             "ticks": ""
            },
            "colorscale": [
             [
              0,
              "#0d0887"
             ],
             [
              0.1111111111111111,
              "#46039f"
             ],
             [
              0.2222222222222222,
              "#7201a8"
             ],
             [
              0.3333333333333333,
              "#9c179e"
             ],
             [
              0.4444444444444444,
              "#bd3786"
             ],
             [
              0.5555555555555556,
              "#d8576b"
             ],
             [
              0.6666666666666666,
              "#ed7953"
             ],
             [
              0.7777777777777778,
              "#fb9f3a"
             ],
             [
              0.8888888888888888,
              "#fdca26"
             ],
             [
              1,
              "#f0f921"
             ]
            ],
            "type": "histogram2dcontour"
           }
          ],
          "mesh3d": [
           {
            "colorbar": {
             "outlinewidth": 0,
             "ticks": ""
            },
            "type": "mesh3d"
           }
          ],
          "parcoords": [
           {
            "line": {
             "colorbar": {
              "outlinewidth": 0,
              "ticks": ""
             }
            },
            "type": "parcoords"
           }
          ],
          "pie": [
           {
            "automargin": true,
            "type": "pie"
           }
          ],
          "scatter": [
           {
            "fillpattern": {
             "fillmode": "overlay",
             "size": 10,
             "solidity": 0.2
            },
            "type": "scatter"
           }
          ],
          "scatter3d": [
           {
            "line": {
             "colorbar": {
              "outlinewidth": 0,
              "ticks": ""
             }
            },
            "marker": {
             "colorbar": {
              "outlinewidth": 0,
              "ticks": ""
             }
            },
            "type": "scatter3d"
           }
          ],
          "scattercarpet": [
           {
            "marker": {
             "colorbar": {
              "outlinewidth": 0,
              "ticks": ""
             }
            },
            "type": "scattercarpet"
           }
          ],
          "scattergeo": [
           {
            "marker": {
             "colorbar": {
              "outlinewidth": 0,
              "ticks": ""
             }
            },
            "type": "scattergeo"
           }
          ],
          "scattergl": [
           {
            "marker": {
             "colorbar": {
              "outlinewidth": 0,
              "ticks": ""
             }
            },
            "type": "scattergl"
           }
          ],
          "scattermapbox": [
           {
            "marker": {
             "colorbar": {
              "outlinewidth": 0,
              "ticks": ""
             }
            },
            "type": "scattermapbox"
           }
          ],
          "scatterpolar": [
           {
            "marker": {
             "colorbar": {
              "outlinewidth": 0,
              "ticks": ""
             }
            },
            "type": "scatterpolar"
           }
          ],
          "scatterpolargl": [
           {
            "marker": {
             "colorbar": {
              "outlinewidth": 0,
              "ticks": ""
             }
            },
            "type": "scatterpolargl"
           }
          ],
          "scatterternary": [
           {
            "marker": {
             "colorbar": {
              "outlinewidth": 0,
              "ticks": ""
             }
            },
            "type": "scatterternary"
           }
          ],
          "surface": [
           {
            "colorbar": {
             "outlinewidth": 0,
             "ticks": ""
            },
            "colorscale": [
             [
              0,
              "#0d0887"
             ],
             [
              0.1111111111111111,
              "#46039f"
             ],
             [
              0.2222222222222222,
              "#7201a8"
             ],
             [
              0.3333333333333333,
              "#9c179e"
             ],
             [
              0.4444444444444444,
              "#bd3786"
             ],
             [
              0.5555555555555556,
              "#d8576b"
             ],
             [
              0.6666666666666666,
              "#ed7953"
             ],
             [
              0.7777777777777778,
              "#fb9f3a"
             ],
             [
              0.8888888888888888,
              "#fdca26"
             ],
             [
              1,
              "#f0f921"
             ]
            ],
            "type": "surface"
           }
          ],
          "table": [
           {
            "cells": {
             "fill": {
              "color": "#EBF0F8"
             },
             "line": {
              "color": "white"
             }
            },
            "header": {
             "fill": {
              "color": "#C8D4E3"
             },
             "line": {
              "color": "white"
             }
            },
            "type": "table"
           }
          ]
         },
         "layout": {
          "annotationdefaults": {
           "arrowcolor": "#2a3f5f",
           "arrowhead": 0,
           "arrowwidth": 1
          },
          "autotypenumbers": "strict",
          "coloraxis": {
           "colorbar": {
            "outlinewidth": 0,
            "ticks": ""
           }
          },
          "colorscale": {
           "diverging": [
            [
             0,
             "#8e0152"
            ],
            [
             0.1,
             "#c51b7d"
            ],
            [
             0.2,
             "#de77ae"
            ],
            [
             0.3,
             "#f1b6da"
            ],
            [
             0.4,
             "#fde0ef"
            ],
            [
             0.5,
             "#f7f7f7"
            ],
            [
             0.6,
             "#e6f5d0"
            ],
            [
             0.7,
             "#b8e186"
            ],
            [
             0.8,
             "#7fbc41"
            ],
            [
             0.9,
             "#4d9221"
            ],
            [
             1,
             "#276419"
            ]
           ],
           "sequential": [
            [
             0,
             "#0d0887"
            ],
            [
             0.1111111111111111,
             "#46039f"
            ],
            [
             0.2222222222222222,
             "#7201a8"
            ],
            [
             0.3333333333333333,
             "#9c179e"
            ],
            [
             0.4444444444444444,
             "#bd3786"
            ],
            [
             0.5555555555555556,
             "#d8576b"
            ],
            [
             0.6666666666666666,
             "#ed7953"
            ],
            [
             0.7777777777777778,
             "#fb9f3a"
            ],
            [
             0.8888888888888888,
             "#fdca26"
            ],
            [
             1,
             "#f0f921"
            ]
           ],
           "sequentialminus": [
            [
             0,
             "#0d0887"
            ],
            [
             0.1111111111111111,
             "#46039f"
            ],
            [
             0.2222222222222222,
             "#7201a8"
            ],
            [
             0.3333333333333333,
             "#9c179e"
            ],
            [
             0.4444444444444444,
             "#bd3786"
            ],
            [
             0.5555555555555556,
             "#d8576b"
            ],
            [
             0.6666666666666666,
             "#ed7953"
            ],
            [
             0.7777777777777778,
             "#fb9f3a"
            ],
            [
             0.8888888888888888,
             "#fdca26"
            ],
            [
             1,
             "#f0f921"
            ]
           ]
          },
          "colorway": [
           "#636efa",
           "#EF553B",
           "#00cc96",
           "#ab63fa",
           "#FFA15A",
           "#19d3f3",
           "#FF6692",
           "#B6E880",
           "#FF97FF",
           "#FECB52"
          ],
          "font": {
           "color": "#2a3f5f"
          },
          "geo": {
           "bgcolor": "white",
           "lakecolor": "white",
           "landcolor": "#E5ECF6",
           "showlakes": true,
           "showland": true,
           "subunitcolor": "white"
          },
          "hoverlabel": {
           "align": "left"
          },
          "hovermode": "closest",
          "mapbox": {
           "style": "light"
          },
          "paper_bgcolor": "white",
          "plot_bgcolor": "#E5ECF6",
          "polar": {
           "angularaxis": {
            "gridcolor": "white",
            "linecolor": "white",
            "ticks": ""
           },
           "bgcolor": "#E5ECF6",
           "radialaxis": {
            "gridcolor": "white",
            "linecolor": "white",
            "ticks": ""
           }
          },
          "scene": {
           "xaxis": {
            "backgroundcolor": "#E5ECF6",
            "gridcolor": "white",
            "gridwidth": 2,
            "linecolor": "white",
            "showbackground": true,
            "ticks": "",
            "zerolinecolor": "white"
           },
           "yaxis": {
            "backgroundcolor": "#E5ECF6",
            "gridcolor": "white",
            "gridwidth": 2,
            "linecolor": "white",
            "showbackground": true,
            "ticks": "",
            "zerolinecolor": "white"
           },
           "zaxis": {
            "backgroundcolor": "#E5ECF6",
            "gridcolor": "white",
            "gridwidth": 2,
            "linecolor": "white",
            "showbackground": true,
            "ticks": "",
            "zerolinecolor": "white"
           }
          },
          "shapedefaults": {
           "line": {
            "color": "#2a3f5f"
           }
          },
          "ternary": {
           "aaxis": {
            "gridcolor": "white",
            "linecolor": "white",
            "ticks": ""
           },
           "baxis": {
            "gridcolor": "white",
            "linecolor": "white",
            "ticks": ""
           },
           "bgcolor": "#E5ECF6",
           "caxis": {
            "gridcolor": "white",
            "linecolor": "white",
            "ticks": ""
           }
          },
          "title": {
           "x": 0.05
          },
          "xaxis": {
           "automargin": true,
           "gridcolor": "white",
           "linecolor": "white",
           "ticks": "",
           "title": {
            "standoff": 15
           },
           "zerolinecolor": "white",
           "zerolinewidth": 2
          },
          "yaxis": {
           "automargin": true,
           "gridcolor": "white",
           "linecolor": "white",
           "ticks": "",
           "title": {
            "standoff": 15
           },
           "zerolinecolor": "white",
           "zerolinewidth": 2
          }
         }
        },
        "title": {
         "text": "Mean Number of Ratings per Month for Belgian Strong Dark Ale"
        },
        "xaxis": {
         "anchor": "y",
         "domain": [
          0,
          1
         ],
         "title": {
          "text": "month"
         }
        },
        "yaxis": {
         "anchor": "x",
         "domain": [
          0,
          1
         ],
         "title": {
          "text": "nbr_ratings"
         }
        }
       }
      }
     },
     "metadata": {},
     "output_type": "display_data"
    }
   ],
   "source": [
    "sample_styles = ['Oktoberfest/Märzen', 'American Pale Ale', 'Belgian Strong Dark Ale']\n",
    "\n",
    "for style in sample_styles: \n",
    "    ratings_users_sample = ratings_combined_df[ratings_combined_df['style'] == style]\n",
    "\n",
    "    year_month_ratings_count, year_month_ratings_count_filtered, mean_ratings_per_month = dataframe_time_analysis(ratings_users_sample, 2008, 2017)\n",
    "    \n",
    "    # Plot with plotly the mean number of ratings per month\n",
    "    fig = px.line(year_month_ratings_count_filtered, x='month', y='nbr_ratings', color='year', title='Mean Number of Ratings per Month for {}'.format(style))\n",
    "    fig.add_trace(go.Scatter(x=year_month_ratings_count_filtered.month, y=mean_ratings_per_month.mean_nbr_ratings, mode='lines', name='Mean Number of Ratings', line=dict(color='black', dash='dash', width=4)))\n",
    "\n",
    "    fig.show()"
   ]
  },
  {
   "cell_type": "markdown",
   "metadata": {},
   "source": [
    "From the three plots, we observe big differences of the average ratings over a year. The 'Oktoberfest/Märzen' style of beers has a big increases of the ratings during the Oktoberfest period, in October. During the rest of the year, the number of ratings is low and does not fluctuates at all.\n",
    "\n",
    "One of the most rated style is the APA, and as observed in the plot, the number of ratings does not have huge increases at some period. The style is quite popular throughout the year.\n",
    "\n",
    "Finally the Belgian Strong Dark has a hight number of ratings around the end of the year, as observed from the mean number of ratings line."
   ]
  },
  {
   "cell_type": "markdown",
   "metadata": {},
   "source": [
    "# On the road for the perfect beer ! "
   ]
  },
  {
   "cell_type": "markdown",
   "metadata": {},
   "source": [
    "# Location analysis"
   ]
  },
  {
   "cell_type": "code",
   "execution_count": 59,
   "metadata": {},
   "outputs": [],
   "source": [
    "ratings_combinedLOCATION_df = ratings_combined_df.copy()"
   ]
  },
  {
   "cell_type": "markdown",
   "metadata": {},
   "source": [
    "Add good_review column, this is later needed to rank the different beers."
   ]
  },
  {
   "cell_type": "code",
   "execution_count": 60,
   "metadata": {},
   "outputs": [],
   "source": [
    "# compute the average rating for each dataframe\n",
    "avg_BA = ratings_combinedLOCATION_df[ratings_combinedLOCATION_df['dataset'] == 'BeerAdvocate']['rating'].mean()\n",
    "avg_RB = ratings_combinedLOCATION_df[ratings_combinedLOCATION_df['dataset'] == 'RateBeer']['rating'].mean()\n",
    "\n",
    "# compare the rating to average_rating for the respective subset\n",
    "ratings_combinedLOCATION_df['good_review'] = False\n",
    "ratings_combinedLOCATION_df.loc[ratings_combinedLOCATION_df['dataset'] == 'BeerAdvocate', 'good_review'] = ratings_combinedLOCATION_df['rating'] > avg_BA\n",
    "ratings_combinedLOCATION_df.loc[ratings_combinedLOCATION_df['dataset'] == 'RateBeer', 'good_review'] = ratings_combinedLOCATION_df['rating'] > avg_RB\n"
   ]
  },
  {
   "cell_type": "code",
   "execution_count": 61,
   "metadata": {},
   "outputs": [
    {
     "name": "stdout",
     "output_type": "stream",
     "text": [
      "Minimum rating for BeerAdvocate: 1.0\n",
      "Minimum rating for RateBeer: 0.5\n",
      "Maximum rating for BeerAdvocate: 5.0\n",
      "Maximum rating for RateBeer: 5.0\n"
     ]
    }
   ],
   "source": [
    "# do the same as below but for ratings_combinedLOCATION_df\n",
    "min_r_BA = ratings_combinedLOCATION_df[ratings_combinedLOCATION_df['dataset'] == 'BeerAdvocate']['rating'].min()\n",
    "max_r_BA = ratings_combinedLOCATION_df[ratings_combinedLOCATION_df['dataset'] == 'BeerAdvocate']['rating'].max()\n",
    "min_r_RB = ratings_combinedLOCATION_df[ratings_combinedLOCATION_df['dataset'] == 'RateBeer']['rating'].min()\n",
    "max_r_RB = ratings_combinedLOCATION_df[ratings_combinedLOCATION_df['dataset'] == 'RateBeer']['rating'].max()\n",
    "print('Minimum rating for BeerAdvocate:', min_r_BA)\n",
    "print('Minimum rating for RateBeer:', min_r_RB)\n",
    "print('Maximum rating for BeerAdvocate:', max_r_BA)\n",
    "print('Maximum rating for RateBeer:', max_r_RB)"
   ]
  },
  {
   "cell_type": "markdown",
   "metadata": {},
   "source": [
    "As the worst rating that can possible be given for the two datasets, it is necessary to put the ratings on the same scale. We decide to scale all ratings to [0, 1]."
   ]
  },
  {
   "cell_type": "code",
   "execution_count": 62,
   "metadata": {},
   "outputs": [],
   "source": [
    "ratings_combinedLOCATION_df.loc[ratings_combinedLOCATION_df['dataset'] == 'BeerAdvocate', 'rating'] = (ratings_combinedLOCATION_df['rating'] - min_r_BA) / (max_r_BA - min_r_BA)\n",
    "ratings_combinedLOCATION_df.loc[ratings_combinedLOCATION_df['dataset'] == 'RateBeer', 'rating'] = (ratings_combinedLOCATION_df['rating'] - min_r_RB) / (max_r_RB - min_r_RB)"
   ]
  },
  {
   "cell_type": "markdown",
   "metadata": {},
   "source": [
    "## Group, merge and rank ratings: product, month, year"
   ]
  },
  {
   "cell_type": "markdown",
   "metadata": {},
   "source": [
    "### Group according to new_beer_id, month and year"
   ]
  },
  {
   "cell_type": "code",
   "execution_count": 63,
   "metadata": {},
   "outputs": [],
   "source": [
    "ratings_groupBeerIDMonthYear_df = ratings_combinedLOCATION_df.copy()\n",
    "\n",
    "# group the ratings by new_id_beer & month and take average of rating and sum of above_average\n",
    "ratings_groupBeerIDMonthYear_df = ratings_groupBeerIDMonthYear_df.groupby(['new_id_beer', 'month', 'year']).agg({'beer_name': 'first', 'beer_id': 'first', 'brewery_id': 'first', 'brewery_name': 'first', 'style': 'first', 'rating': ['mean', 'count'], 'good_review': 'sum', 'brewery_location': 'first', 'dataset': 'first'}).reset_index()\n",
    "ratings_groupBeerIDMonthYear_df.columns = ['new_id_beer', 'month', 'year', 'beer_name', 'beer_id', 'brewery_id', 'brewery_name', 'style', 'average_rating', 'total_ratings', 'good_review_count', 'brewery_location', 'dataset']"
   ]
  },
  {
   "cell_type": "code",
   "execution_count": 64,
   "metadata": {},
   "outputs": [
    {
     "data": {
      "text/html": [
       "<div>\n",
       "<style scoped>\n",
       "    .dataframe tbody tr th:only-of-type {\n",
       "        vertical-align: middle;\n",
       "    }\n",
       "\n",
       "    .dataframe tbody tr th {\n",
       "        vertical-align: top;\n",
       "    }\n",
       "\n",
       "    .dataframe thead th {\n",
       "        text-align: right;\n",
       "    }\n",
       "</style>\n",
       "<table border=\"1\" class=\"dataframe\">\n",
       "  <thead>\n",
       "    <tr style=\"text-align: right;\">\n",
       "      <th></th>\n",
       "      <th>new_id_beer</th>\n",
       "      <th>month</th>\n",
       "      <th>year</th>\n",
       "      <th>beer_name</th>\n",
       "      <th>beer_id</th>\n",
       "      <th>brewery_id</th>\n",
       "      <th>brewery_name</th>\n",
       "      <th>style</th>\n",
       "      <th>average_rating</th>\n",
       "      <th>total_ratings</th>\n",
       "      <th>good_review_count</th>\n",
       "      <th>brewery_location</th>\n",
       "      <th>dataset</th>\n",
       "    </tr>\n",
       "  </thead>\n",
       "  <tbody>\n",
       "    <tr>\n",
       "      <th>0</th>\n",
       "      <td>00000116c3a21ada35ff7c555358011d08cebb52a198e3...</td>\n",
       "      <td>2</td>\n",
       "      <td>2012</td>\n",
       "      <td>Greenbush Velvet Valentine</td>\n",
       "      <td>166632</td>\n",
       "      <td>13011</td>\n",
       "      <td>Greenbush Brewing Company</td>\n",
       "      <td>Brown Ale</td>\n",
       "      <td>0.644444</td>\n",
       "      <td>1</td>\n",
       "      <td>1</td>\n",
       "      <td>United States, Michigan</td>\n",
       "      <td>RateBeer</td>\n",
       "    </tr>\n",
       "    <tr>\n",
       "      <th>1</th>\n",
       "      <td>00001ef6d8cda0ac58d6f5a5c61b9ecd14d418ee1b6917...</td>\n",
       "      <td>4</td>\n",
       "      <td>2012</td>\n",
       "      <td>Dry Dock Heidi Klum</td>\n",
       "      <td>171811</td>\n",
       "      <td>6252</td>\n",
       "      <td>Dry Dock Brewing Company</td>\n",
       "      <td>Golden Ale/Blond Ale</td>\n",
       "      <td>0.566667</td>\n",
       "      <td>2</td>\n",
       "      <td>0</td>\n",
       "      <td>United States, Colorado</td>\n",
       "      <td>RateBeer</td>\n",
       "    </tr>\n",
       "    <tr>\n",
       "      <th>2</th>\n",
       "      <td>0000a2a166dfefaee08c40ed0fade7a152f3ed1374486d...</td>\n",
       "      <td>11</td>\n",
       "      <td>2009</td>\n",
       "      <td>Moonberg Lager</td>\n",
       "      <td>54022</td>\n",
       "      <td>21471</td>\n",
       "      <td>Parambot Breweries</td>\n",
       "      <td>American Adjunct Lager</td>\n",
       "      <td>0.457500</td>\n",
       "      <td>1</td>\n",
       "      <td>0</td>\n",
       "      <td>Uganda</td>\n",
       "      <td>BeerAdvocate</td>\n",
       "    </tr>\n",
       "    <tr>\n",
       "      <th>3</th>\n",
       "      <td>0000afde246ad9dbc941454402f0237203051ddd883d17...</td>\n",
       "      <td>4</td>\n",
       "      <td>2012</td>\n",
       "      <td>Old School ESB</td>\n",
       "      <td>80079</td>\n",
       "      <td>835</td>\n",
       "      <td>Barley Creek Brewing Company</td>\n",
       "      <td>Extra Special / Strong Bitter (ESB)</td>\n",
       "      <td>0.500000</td>\n",
       "      <td>1</td>\n",
       "      <td>0</td>\n",
       "      <td>United States, Pennsylvania</td>\n",
       "      <td>BeerAdvocate</td>\n",
       "    </tr>\n",
       "    <tr>\n",
       "      <th>4</th>\n",
       "      <td>0000b3e4815a35587e384f9d7aecbfbc34482f08a145b4...</td>\n",
       "      <td>9</td>\n",
       "      <td>2016</td>\n",
       "      <td>Goldhorn Oktoberfest</td>\n",
       "      <td>450534</td>\n",
       "      <td>27843</td>\n",
       "      <td>Goldhorn Brewery</td>\n",
       "      <td>Oktoberfest/Märzen</td>\n",
       "      <td>0.688889</td>\n",
       "      <td>1</td>\n",
       "      <td>1</td>\n",
       "      <td>United States, Ohio</td>\n",
       "      <td>RateBeer</td>\n",
       "    </tr>\n",
       "  </tbody>\n",
       "</table>\n",
       "</div>"
      ],
      "text/plain": [
       "                                         new_id_beer  month  year  \\\n",
       "0  00000116c3a21ada35ff7c555358011d08cebb52a198e3...      2  2012   \n",
       "1  00001ef6d8cda0ac58d6f5a5c61b9ecd14d418ee1b6917...      4  2012   \n",
       "2  0000a2a166dfefaee08c40ed0fade7a152f3ed1374486d...     11  2009   \n",
       "3  0000afde246ad9dbc941454402f0237203051ddd883d17...      4  2012   \n",
       "4  0000b3e4815a35587e384f9d7aecbfbc34482f08a145b4...      9  2016   \n",
       "\n",
       "                    beer_name  beer_id  brewery_id  \\\n",
       "0  Greenbush Velvet Valentine   166632       13011   \n",
       "1         Dry Dock Heidi Klum   171811        6252   \n",
       "2              Moonberg Lager    54022       21471   \n",
       "3              Old School ESB    80079         835   \n",
       "4        Goldhorn Oktoberfest   450534       27843   \n",
       "\n",
       "                   brewery_name                                style  \\\n",
       "0     Greenbush Brewing Company                            Brown Ale   \n",
       "1      Dry Dock Brewing Company                 Golden Ale/Blond Ale   \n",
       "2            Parambot Breweries               American Adjunct Lager   \n",
       "3  Barley Creek Brewing Company  Extra Special / Strong Bitter (ESB)   \n",
       "4              Goldhorn Brewery                   Oktoberfest/Märzen   \n",
       "\n",
       "   average_rating  total_ratings  good_review_count  \\\n",
       "0        0.644444              1                  1   \n",
       "1        0.566667              2                  0   \n",
       "2        0.457500              1                  0   \n",
       "3        0.500000              1                  0   \n",
       "4        0.688889              1                  1   \n",
       "\n",
       "              brewery_location       dataset  \n",
       "0      United States, Michigan      RateBeer  \n",
       "1      United States, Colorado      RateBeer  \n",
       "2                       Uganda  BeerAdvocate  \n",
       "3  United States, Pennsylvania  BeerAdvocate  \n",
       "4          United States, Ohio      RateBeer  "
      ]
     },
     "execution_count": 64,
     "metadata": {},
     "output_type": "execute_result"
    }
   ],
   "source": [
    "ratings_groupBeerIDMonthYear_df.head()"
   ]
  },
  {
   "cell_type": "markdown",
   "metadata": {},
   "source": [
    "### Merge the two datasets: beer_name (product), month and year"
   ]
  },
  {
   "cell_type": "markdown",
   "metadata": {},
   "source": [
    "To correctly get the average_rating, need to:\n",
    "- weigh average_rating, as weight total_ratings is used\n",
    "- take the sum of weighted average_ratings for the same beer\n",
    "- divide by the sum of weights\n",
    "  \n",
    "The aggregate function takes the sum of the weights and the sum of the weighted average_ratings --> only need to divide by the weight, which at this point is the sum of weights.\n"
   ]
  },
  {
   "cell_type": "code",
   "execution_count": 65,
   "metadata": {},
   "outputs": [],
   "source": [
    "ratings_mergeBeerMonthYear_df = ratings_groupBeerIDMonthYear_df.copy()\n",
    "\n",
    "# weigh average_rating\n",
    "ratings_mergeBeerMonthYear_df['average_rating'] = ratings_mergeBeerMonthYear_df['average_rating'] * ratings_mergeBeerMonthYear_df['total_ratings']\n",
    "\n",
    "# group by beer_name and specify how to aggregate the columns (coluns beer_id, dataset and brewery_id are dropped automatically)\n",
    "ratings_mergeBeerMonthYear_df = ratings_mergeBeerMonthYear_df.groupby(['beer_name', 'month', 'year']).agg({'brewery_name': 'first', 'brewery_location': 'first', 'style': 'first', 'average_rating': 'sum', 'total_ratings': 'sum', 'good_review_count': 'sum', 'new_id_beer': 'first'}).reset_index()\n",
    "\n",
    "# divide the sum of average_rating by the sum of weight\n",
    "ratings_mergeBeerMonthYear_df['average_rating'] = ratings_mergeBeerMonthYear_df['average_rating'] / ratings_mergeBeerMonthYear_df['total_ratings']\n"
   ]
  },
  {
   "cell_type": "code",
   "execution_count": 66,
   "metadata": {},
   "outputs": [
    {
     "data": {
      "text/html": [
       "<div>\n",
       "<style scoped>\n",
       "    .dataframe tbody tr th:only-of-type {\n",
       "        vertical-align: middle;\n",
       "    }\n",
       "\n",
       "    .dataframe tbody tr th {\n",
       "        vertical-align: top;\n",
       "    }\n",
       "\n",
       "    .dataframe thead th {\n",
       "        text-align: right;\n",
       "    }\n",
       "</style>\n",
       "<table border=\"1\" class=\"dataframe\">\n",
       "  <thead>\n",
       "    <tr style=\"text-align: right;\">\n",
       "      <th></th>\n",
       "      <th>beer_name</th>\n",
       "      <th>month</th>\n",
       "      <th>year</th>\n",
       "      <th>brewery_name</th>\n",
       "      <th>brewery_location</th>\n",
       "      <th>style</th>\n",
       "      <th>average_rating</th>\n",
       "      <th>total_ratings</th>\n",
       "      <th>good_review_count</th>\n",
       "      <th>new_id_beer</th>\n",
       "    </tr>\n",
       "  </thead>\n",
       "  <tbody>\n",
       "    <tr>\n",
       "      <th>0</th>\n",
       "      <td>!</td>\n",
       "      <td>4</td>\n",
       "      <td>2016</td>\n",
       "      <td>Other Half Brewing Co.</td>\n",
       "      <td>United States, New York</td>\n",
       "      <td>American Double / Imperial IPA</td>\n",
       "      <td>0.845000</td>\n",
       "      <td>1</td>\n",
       "      <td>1</td>\n",
       "      <td>580535d5953492fb045a47d159d0f3bd8f6cb6d13f719a...</td>\n",
       "    </tr>\n",
       "    <tr>\n",
       "      <th>1</th>\n",
       "      <td>!</td>\n",
       "      <td>8</td>\n",
       "      <td>2016</td>\n",
       "      <td>Other Half Brewing Co.</td>\n",
       "      <td>United States, New York</td>\n",
       "      <td>American Double / Imperial IPA</td>\n",
       "      <td>0.812813</td>\n",
       "      <td>8</td>\n",
       "      <td>7</td>\n",
       "      <td>580535d5953492fb045a47d159d0f3bd8f6cb6d13f719a...</td>\n",
       "    </tr>\n",
       "    <tr>\n",
       "      <th>2</th>\n",
       "      <td>!</td>\n",
       "      <td>9</td>\n",
       "      <td>2016</td>\n",
       "      <td>Other Half Brewing Co.</td>\n",
       "      <td>United States, New York</td>\n",
       "      <td>American Double / Imperial IPA</td>\n",
       "      <td>0.776250</td>\n",
       "      <td>2</td>\n",
       "      <td>2</td>\n",
       "      <td>580535d5953492fb045a47d159d0f3bd8f6cb6d13f719a...</td>\n",
       "    </tr>\n",
       "    <tr>\n",
       "      <th>3</th>\n",
       "      <td>!</td>\n",
       "      <td>10</td>\n",
       "      <td>2016</td>\n",
       "      <td>Other Half Brewing Co.</td>\n",
       "      <td>United States, New York</td>\n",
       "      <td>American Double / Imperial IPA</td>\n",
       "      <td>0.795000</td>\n",
       "      <td>1</td>\n",
       "      <td>1</td>\n",
       "      <td>580535d5953492fb045a47d159d0f3bd8f6cb6d13f719a...</td>\n",
       "    </tr>\n",
       "    <tr>\n",
       "      <th>4</th>\n",
       "      <td>! (Old Ale)</td>\n",
       "      <td>4</td>\n",
       "      <td>2010</td>\n",
       "      <td>Närke Kulturbryggeri AB</td>\n",
       "      <td>Sweden</td>\n",
       "      <td>Old Ale</td>\n",
       "      <td>0.830000</td>\n",
       "      <td>1</td>\n",
       "      <td>1</td>\n",
       "      <td>354332301648c481d7277d5cbd74abe95743f57afac8f6...</td>\n",
       "    </tr>\n",
       "  </tbody>\n",
       "</table>\n",
       "</div>"
      ],
      "text/plain": [
       "     beer_name  month  year             brewery_name         brewery_location  \\\n",
       "0            !      4  2016   Other Half Brewing Co.  United States, New York   \n",
       "1            !      8  2016   Other Half Brewing Co.  United States, New York   \n",
       "2            !      9  2016   Other Half Brewing Co.  United States, New York   \n",
       "3            !     10  2016   Other Half Brewing Co.  United States, New York   \n",
       "4  ! (Old Ale)      4  2010  Närke Kulturbryggeri AB                   Sweden   \n",
       "\n",
       "                            style  average_rating  total_ratings  \\\n",
       "0  American Double / Imperial IPA        0.845000              1   \n",
       "1  American Double / Imperial IPA        0.812813              8   \n",
       "2  American Double / Imperial IPA        0.776250              2   \n",
       "3  American Double / Imperial IPA        0.795000              1   \n",
       "4                         Old Ale        0.830000              1   \n",
       "\n",
       "   good_review_count                                        new_id_beer  \n",
       "0                  1  580535d5953492fb045a47d159d0f3bd8f6cb6d13f719a...  \n",
       "1                  7  580535d5953492fb045a47d159d0f3bd8f6cb6d13f719a...  \n",
       "2                  2  580535d5953492fb045a47d159d0f3bd8f6cb6d13f719a...  \n",
       "3                  1  580535d5953492fb045a47d159d0f3bd8f6cb6d13f719a...  \n",
       "4                  1  354332301648c481d7277d5cbd74abe95743f57afac8f6...  "
      ]
     },
     "execution_count": 66,
     "metadata": {},
     "output_type": "execute_result"
    }
   ],
   "source": [
    "ratings_mergeBeerMonthYear_df.head()"
   ]
  },
  {
   "cell_type": "markdown",
   "metadata": {},
   "source": [
    "### Merge the two datasets: beer_name (product) and month"
   ]
  },
  {
   "cell_type": "markdown",
   "metadata": {},
   "source": [
    "Similar to the merge above, to merge ratings from all years for a secific beer and month, we need to pay attention to the weights, for this we will again:\n",
    "- weigh average_rating with total_ratings\n",
    "- take the sume of the weighted average_ratings for the same beer\n",
    "- divide by the sum of weights (sum of total_ratings)"
   ]
  },
  {
   "cell_type": "code",
   "execution_count": 67,
   "metadata": {},
   "outputs": [],
   "source": [
    "ratings_mergeBeerMonth_df = ratings_mergeBeerMonthYear_df.copy()\n",
    "\n",
    "# weigh average_rating\n",
    "ratings_mergeBeerMonth_df['average_rating'] = ratings_mergeBeerMonth_df['average_rating'] * ratings_mergeBeerMonth_df['total_ratings']\n",
    "\n",
    "# group by beer_name and specify how to aggregate the columns (coluns beer_id, dataset and brewery_id are dropped automatically)\n",
    "ratings_mergeBeerMonth_df = ratings_mergeBeerMonth_df.groupby(['beer_name', 'month']).agg({'brewery_name': 'first', 'brewery_location': 'first', 'style': 'first', 'average_rating': 'sum', 'total_ratings': 'sum', 'good_review_count': 'sum', 'new_id_beer': 'first'}).reset_index()\n",
    "\n",
    "# divide the sum of average_rating by the sum of weight\n",
    "ratings_mergeBeerMonth_df['average_rating'] = ratings_mergeBeerMonth_df['average_rating'] / ratings_mergeBeerMonth_df['total_ratings']\n"
   ]
  },
  {
   "cell_type": "code",
   "execution_count": 68,
   "metadata": {},
   "outputs": [
    {
     "data": {
      "text/html": [
       "<div>\n",
       "<style scoped>\n",
       "    .dataframe tbody tr th:only-of-type {\n",
       "        vertical-align: middle;\n",
       "    }\n",
       "\n",
       "    .dataframe tbody tr th {\n",
       "        vertical-align: top;\n",
       "    }\n",
       "\n",
       "    .dataframe thead th {\n",
       "        text-align: right;\n",
       "    }\n",
       "</style>\n",
       "<table border=\"1\" class=\"dataframe\">\n",
       "  <thead>\n",
       "    <tr style=\"text-align: right;\">\n",
       "      <th></th>\n",
       "      <th>beer_name</th>\n",
       "      <th>month</th>\n",
       "      <th>brewery_name</th>\n",
       "      <th>brewery_location</th>\n",
       "      <th>style</th>\n",
       "      <th>average_rating</th>\n",
       "      <th>total_ratings</th>\n",
       "      <th>good_review_count</th>\n",
       "      <th>new_id_beer</th>\n",
       "    </tr>\n",
       "  </thead>\n",
       "  <tbody>\n",
       "    <tr>\n",
       "      <th>0</th>\n",
       "      <td>!</td>\n",
       "      <td>4</td>\n",
       "      <td>Other Half Brewing Co.</td>\n",
       "      <td>United States, New York</td>\n",
       "      <td>American Double / Imperial IPA</td>\n",
       "      <td>0.845000</td>\n",
       "      <td>1</td>\n",
       "      <td>1</td>\n",
       "      <td>580535d5953492fb045a47d159d0f3bd8f6cb6d13f719a...</td>\n",
       "    </tr>\n",
       "    <tr>\n",
       "      <th>1</th>\n",
       "      <td>!</td>\n",
       "      <td>8</td>\n",
       "      <td>Other Half Brewing Co.</td>\n",
       "      <td>United States, New York</td>\n",
       "      <td>American Double / Imperial IPA</td>\n",
       "      <td>0.812813</td>\n",
       "      <td>8</td>\n",
       "      <td>7</td>\n",
       "      <td>580535d5953492fb045a47d159d0f3bd8f6cb6d13f719a...</td>\n",
       "    </tr>\n",
       "    <tr>\n",
       "      <th>2</th>\n",
       "      <td>!</td>\n",
       "      <td>9</td>\n",
       "      <td>Other Half Brewing Co.</td>\n",
       "      <td>United States, New York</td>\n",
       "      <td>American Double / Imperial IPA</td>\n",
       "      <td>0.776250</td>\n",
       "      <td>2</td>\n",
       "      <td>2</td>\n",
       "      <td>580535d5953492fb045a47d159d0f3bd8f6cb6d13f719a...</td>\n",
       "    </tr>\n",
       "    <tr>\n",
       "      <th>3</th>\n",
       "      <td>!</td>\n",
       "      <td>10</td>\n",
       "      <td>Other Half Brewing Co.</td>\n",
       "      <td>United States, New York</td>\n",
       "      <td>American Double / Imperial IPA</td>\n",
       "      <td>0.795000</td>\n",
       "      <td>1</td>\n",
       "      <td>1</td>\n",
       "      <td>580535d5953492fb045a47d159d0f3bd8f6cb6d13f719a...</td>\n",
       "    </tr>\n",
       "    <tr>\n",
       "      <th>4</th>\n",
       "      <td>! (Old Ale)</td>\n",
       "      <td>4</td>\n",
       "      <td>Närke Kulturbryggeri AB</td>\n",
       "      <td>Sweden</td>\n",
       "      <td>Old Ale</td>\n",
       "      <td>0.830000</td>\n",
       "      <td>1</td>\n",
       "      <td>1</td>\n",
       "      <td>354332301648c481d7277d5cbd74abe95743f57afac8f6...</td>\n",
       "    </tr>\n",
       "  </tbody>\n",
       "</table>\n",
       "</div>"
      ],
      "text/plain": [
       "     beer_name  month             brewery_name         brewery_location  \\\n",
       "0            !      4   Other Half Brewing Co.  United States, New York   \n",
       "1            !      8   Other Half Brewing Co.  United States, New York   \n",
       "2            !      9   Other Half Brewing Co.  United States, New York   \n",
       "3            !     10   Other Half Brewing Co.  United States, New York   \n",
       "4  ! (Old Ale)      4  Närke Kulturbryggeri AB                   Sweden   \n",
       "\n",
       "                            style  average_rating  total_ratings  \\\n",
       "0  American Double / Imperial IPA        0.845000              1   \n",
       "1  American Double / Imperial IPA        0.812813              8   \n",
       "2  American Double / Imperial IPA        0.776250              2   \n",
       "3  American Double / Imperial IPA        0.795000              1   \n",
       "4                         Old Ale        0.830000              1   \n",
       "\n",
       "   good_review_count                                        new_id_beer  \n",
       "0                  1  580535d5953492fb045a47d159d0f3bd8f6cb6d13f719a...  \n",
       "1                  7  580535d5953492fb045a47d159d0f3bd8f6cb6d13f719a...  \n",
       "2                  2  580535d5953492fb045a47d159d0f3bd8f6cb6d13f719a...  \n",
       "3                  1  580535d5953492fb045a47d159d0f3bd8f6cb6d13f719a...  \n",
       "4                  1  354332301648c481d7277d5cbd74abe95743f57afac8f6...  "
      ]
     },
     "execution_count": 68,
     "metadata": {},
     "output_type": "execute_result"
    }
   ],
   "source": [
    "ratings_mergeBeerMonth_df.head()"
   ]
  },
  {
   "cell_type": "markdown",
   "metadata": {},
   "source": [
    "### Rank dataframes"
   ]
  },
  {
   "cell_type": "markdown",
   "metadata": {},
   "source": [
    "For the dataframe that contains the ratings for distinct beers, months and years we rank according to year, month, highest average_rating and good_review_count"
   ]
  },
  {
   "cell_type": "code",
   "execution_count": 69,
   "metadata": {},
   "outputs": [],
   "source": [
    "ratings_rankBeerMonthYear_df = ratings_mergeBeerMonthYear_df.copy()\n",
    "\n",
    "# rank dataframe\n",
    "ratings_rankBeerMonthYear_df = ratings_rankBeerMonthYear_df.sort_values(by=['year', 'month', 'good_review_count', 'average_rating'], ascending=[False, True, False, False])\n",
    "\n",
    "# to obtain the top beer for each month of each year, group by year and month and take the first instance of each group\n",
    "ratings_rankBeerMonthYear_df = ratings_rankBeerMonthYear_df.groupby(['year', 'month']).first().reset_index()"
   ]
  },
  {
   "cell_type": "code",
   "execution_count": 70,
   "metadata": {},
   "outputs": [
    {
     "data": {
      "text/html": [
       "<div>\n",
       "<style scoped>\n",
       "    .dataframe tbody tr th:only-of-type {\n",
       "        vertical-align: middle;\n",
       "    }\n",
       "\n",
       "    .dataframe tbody tr th {\n",
       "        vertical-align: top;\n",
       "    }\n",
       "\n",
       "    .dataframe thead th {\n",
       "        text-align: right;\n",
       "    }\n",
       "</style>\n",
       "<table border=\"1\" class=\"dataframe\">\n",
       "  <thead>\n",
       "    <tr style=\"text-align: right;\">\n",
       "      <th></th>\n",
       "      <th>year</th>\n",
       "      <th>month</th>\n",
       "      <th>beer_name</th>\n",
       "      <th>brewery_name</th>\n",
       "      <th>brewery_location</th>\n",
       "      <th>style</th>\n",
       "      <th>average_rating</th>\n",
       "      <th>total_ratings</th>\n",
       "      <th>good_review_count</th>\n",
       "      <th>new_id_beer</th>\n",
       "    </tr>\n",
       "  </thead>\n",
       "  <tbody>\n",
       "    <tr>\n",
       "      <th>0</th>\n",
       "      <td>1996</td>\n",
       "      <td>8</td>\n",
       "      <td>Steel Rail Extra Pale Ale</td>\n",
       "      <td>Berkshire Brewing Company Inc.</td>\n",
       "      <td>United States, Massachusetts</td>\n",
       "      <td>American Pale Ale (APA)</td>\n",
       "      <td>0.7125</td>\n",
       "      <td>1</td>\n",
       "      <td>1</td>\n",
       "      <td>1482b576ff6e0a1e9b9e05b4c88310097a36ec2b7f8d6d...</td>\n",
       "    </tr>\n",
       "    <tr>\n",
       "      <th>1</th>\n",
       "      <td>1998</td>\n",
       "      <td>1</td>\n",
       "      <td>Samuel Adams Cream Ale</td>\n",
       "      <td>Boston Beer Company (Samuel Adams)</td>\n",
       "      <td>United States, Massachusetts</td>\n",
       "      <td>Cream Ale</td>\n",
       "      <td>0.8325</td>\n",
       "      <td>1</td>\n",
       "      <td>1</td>\n",
       "      <td>8cf868dadf9cb77a017912d93a3ac3b2b74a99e619bdbc...</td>\n",
       "    </tr>\n",
       "    <tr>\n",
       "      <th>2</th>\n",
       "      <td>1998</td>\n",
       "      <td>2</td>\n",
       "      <td>Bigfoot Barleywine-Style Ale</td>\n",
       "      <td>Sierra Nevada Brewing Co.</td>\n",
       "      <td>United States, California</td>\n",
       "      <td>American Barleywine</td>\n",
       "      <td>0.8250</td>\n",
       "      <td>1</td>\n",
       "      <td>1</td>\n",
       "      <td>94c74e780d6a1fecd2ae11f8fc9911c507fc21ad644fc3...</td>\n",
       "    </tr>\n",
       "    <tr>\n",
       "      <th>3</th>\n",
       "      <td>1998</td>\n",
       "      <td>3</td>\n",
       "      <td>Mackeson Triple XXX Stout</td>\n",
       "      <td>Whitbread PLC</td>\n",
       "      <td>England</td>\n",
       "      <td>Milk / Sweet Stout</td>\n",
       "      <td>0.8700</td>\n",
       "      <td>1</td>\n",
       "      <td>1</td>\n",
       "      <td>44361f3ce99ef5b6ae69d9e4528639e77735f8f44e04df...</td>\n",
       "    </tr>\n",
       "    <tr>\n",
       "      <th>4</th>\n",
       "      <td>1998</td>\n",
       "      <td>4</td>\n",
       "      <td>Cobnut Nut Brown Ale</td>\n",
       "      <td>Tollemache &amp; Cobbold Brewery Ltd</td>\n",
       "      <td>United Kingdom, England</td>\n",
       "      <td>English Brown Ale</td>\n",
       "      <td>0.8450</td>\n",
       "      <td>1</td>\n",
       "      <td>1</td>\n",
       "      <td>1a8b5f411bd9f5ab62d2b67335f4e744e94a55dbecd876...</td>\n",
       "    </tr>\n",
       "  </tbody>\n",
       "</table>\n",
       "</div>"
      ],
      "text/plain": [
       "   year  month                     beer_name  \\\n",
       "0  1996      8     Steel Rail Extra Pale Ale   \n",
       "1  1998      1        Samuel Adams Cream Ale   \n",
       "2  1998      2  Bigfoot Barleywine-Style Ale   \n",
       "3  1998      3     Mackeson Triple XXX Stout   \n",
       "4  1998      4          Cobnut Nut Brown Ale   \n",
       "\n",
       "                         brewery_name              brewery_location  \\\n",
       "0      Berkshire Brewing Company Inc.  United States, Massachusetts   \n",
       "1  Boston Beer Company (Samuel Adams)  United States, Massachusetts   \n",
       "2           Sierra Nevada Brewing Co.     United States, California   \n",
       "3                       Whitbread PLC                       England   \n",
       "4    Tollemache & Cobbold Brewery Ltd       United Kingdom, England   \n",
       "\n",
       "                     style  average_rating  total_ratings  good_review_count  \\\n",
       "0  American Pale Ale (APA)          0.7125              1                  1   \n",
       "1                Cream Ale          0.8325              1                  1   \n",
       "2      American Barleywine          0.8250              1                  1   \n",
       "3       Milk / Sweet Stout          0.8700              1                  1   \n",
       "4        English Brown Ale          0.8450              1                  1   \n",
       "\n",
       "                                         new_id_beer  \n",
       "0  1482b576ff6e0a1e9b9e05b4c88310097a36ec2b7f8d6d...  \n",
       "1  8cf868dadf9cb77a017912d93a3ac3b2b74a99e619bdbc...  \n",
       "2  94c74e780d6a1fecd2ae11f8fc9911c507fc21ad644fc3...  \n",
       "3  44361f3ce99ef5b6ae69d9e4528639e77735f8f44e04df...  \n",
       "4  1a8b5f411bd9f5ab62d2b67335f4e744e94a55dbecd876...  "
      ]
     },
     "execution_count": 70,
     "metadata": {},
     "output_type": "execute_result"
    }
   ],
   "source": [
    "ratings_rankBeerMonthYear_df.head()"
   ]
  },
  {
   "cell_type": "code",
   "execution_count": 71,
   "metadata": {},
   "outputs": [
    {
     "data": {
      "application/vnd.plotly.v1+json": {
       "config": {
        "plotlyServerURL": "https://plot.ly"
       },
       "data": [
        {
         "hovertemplate": "year=%{x}<br>total_ratings=%{y}<extra></extra>",
         "legendgroup": "",
         "line": {
          "color": "#636efa",
          "dash": "solid"
         },
         "marker": {
          "symbol": "circle"
         },
         "mode": "lines",
         "name": "",
         "orientation": "v",
         "showlegend": false,
         "type": "scatter",
         "x": [
          1996,
          1998,
          1999,
          2000,
          2001,
          2002,
          2003,
          2004,
          2005,
          2006,
          2007,
          2008,
          2009,
          2010,
          2011,
          2012,
          2013,
          2014,
          2015,
          2016,
          2017
         ],
         "xaxis": "x",
         "y": [
          1,
          12,
          12,
          31,
          100,
          304,
          408,
          477,
          507,
          692,
          997,
          1136,
          1610,
          2019,
          1924,
          1636,
          1394,
          1254,
          1503,
          1181,
          485
         ],
         "yaxis": "y"
        }
       ],
       "layout": {
        "legend": {
         "tracegroupgap": 0
        },
        "template": {
         "data": {
          "bar": [
           {
            "error_x": {
             "color": "#2a3f5f"
            },
            "error_y": {
             "color": "#2a3f5f"
            },
            "marker": {
             "line": {
              "color": "#E5ECF6",
              "width": 0.5
             },
             "pattern": {
              "fillmode": "overlay",
              "size": 10,
              "solidity": 0.2
             }
            },
            "type": "bar"
           }
          ],
          "barpolar": [
           {
            "marker": {
             "line": {
              "color": "#E5ECF6",
              "width": 0.5
             },
             "pattern": {
              "fillmode": "overlay",
              "size": 10,
              "solidity": 0.2
             }
            },
            "type": "barpolar"
           }
          ],
          "carpet": [
           {
            "aaxis": {
             "endlinecolor": "#2a3f5f",
             "gridcolor": "white",
             "linecolor": "white",
             "minorgridcolor": "white",
             "startlinecolor": "#2a3f5f"
            },
            "baxis": {
             "endlinecolor": "#2a3f5f",
             "gridcolor": "white",
             "linecolor": "white",
             "minorgridcolor": "white",
             "startlinecolor": "#2a3f5f"
            },
            "type": "carpet"
           }
          ],
          "choropleth": [
           {
            "colorbar": {
             "outlinewidth": 0,
             "ticks": ""
            },
            "type": "choropleth"
           }
          ],
          "contour": [
           {
            "colorbar": {
             "outlinewidth": 0,
             "ticks": ""
            },
            "colorscale": [
             [
              0,
              "#0d0887"
             ],
             [
              0.1111111111111111,
              "#46039f"
             ],
             [
              0.2222222222222222,
              "#7201a8"
             ],
             [
              0.3333333333333333,
              "#9c179e"
             ],
             [
              0.4444444444444444,
              "#bd3786"
             ],
             [
              0.5555555555555556,
              "#d8576b"
             ],
             [
              0.6666666666666666,
              "#ed7953"
             ],
             [
              0.7777777777777778,
              "#fb9f3a"
             ],
             [
              0.8888888888888888,
              "#fdca26"
             ],
             [
              1,
              "#f0f921"
             ]
            ],
            "type": "contour"
           }
          ],
          "contourcarpet": [
           {
            "colorbar": {
             "outlinewidth": 0,
             "ticks": ""
            },
            "type": "contourcarpet"
           }
          ],
          "heatmap": [
           {
            "colorbar": {
             "outlinewidth": 0,
             "ticks": ""
            },
            "colorscale": [
             [
              0,
              "#0d0887"
             ],
             [
              0.1111111111111111,
              "#46039f"
             ],
             [
              0.2222222222222222,
              "#7201a8"
             ],
             [
              0.3333333333333333,
              "#9c179e"
             ],
             [
              0.4444444444444444,
              "#bd3786"
             ],
             [
              0.5555555555555556,
              "#d8576b"
             ],
             [
              0.6666666666666666,
              "#ed7953"
             ],
             [
              0.7777777777777778,
              "#fb9f3a"
             ],
             [
              0.8888888888888888,
              "#fdca26"
             ],
             [
              1,
              "#f0f921"
             ]
            ],
            "type": "heatmap"
           }
          ],
          "heatmapgl": [
           {
            "colorbar": {
             "outlinewidth": 0,
             "ticks": ""
            },
            "colorscale": [
             [
              0,
              "#0d0887"
             ],
             [
              0.1111111111111111,
              "#46039f"
             ],
             [
              0.2222222222222222,
              "#7201a8"
             ],
             [
              0.3333333333333333,
              "#9c179e"
             ],
             [
              0.4444444444444444,
              "#bd3786"
             ],
             [
              0.5555555555555556,
              "#d8576b"
             ],
             [
              0.6666666666666666,
              "#ed7953"
             ],
             [
              0.7777777777777778,
              "#fb9f3a"
             ],
             [
              0.8888888888888888,
              "#fdca26"
             ],
             [
              1,
              "#f0f921"
             ]
            ],
            "type": "heatmapgl"
           }
          ],
          "histogram": [
           {
            "marker": {
             "pattern": {
              "fillmode": "overlay",
              "size": 10,
              "solidity": 0.2
             }
            },
            "type": "histogram"
           }
          ],
          "histogram2d": [
           {
            "colorbar": {
             "outlinewidth": 0,
             "ticks": ""
            },
            "colorscale": [
             [
              0,
              "#0d0887"
             ],
             [
              0.1111111111111111,
              "#46039f"
             ],
             [
              0.2222222222222222,
              "#7201a8"
             ],
             [
              0.3333333333333333,
              "#9c179e"
             ],
             [
              0.4444444444444444,
              "#bd3786"
             ],
             [
              0.5555555555555556,
              "#d8576b"
             ],
             [
              0.6666666666666666,
              "#ed7953"
             ],
             [
              0.7777777777777778,
              "#fb9f3a"
             ],
             [
              0.8888888888888888,
              "#fdca26"
             ],
             [
              1,
              "#f0f921"
             ]
            ],
            "type": "histogram2d"
           }
          ],
          "histogram2dcontour": [
           {
            "colorbar": {
             "outlinewidth": 0,
             "ticks": ""
            },
            "colorscale": [
             [
              0,
              "#0d0887"
             ],
             [
              0.1111111111111111,
              "#46039f"
             ],
             [
              0.2222222222222222,
              "#7201a8"
             ],
             [
              0.3333333333333333,
              "#9c179e"
             ],
             [
              0.4444444444444444,
              "#bd3786"
             ],
             [
              0.5555555555555556,
              "#d8576b"
             ],
             [
              0.6666666666666666,
              "#ed7953"
             ],
             [
              0.7777777777777778,
              "#fb9f3a"
             ],
             [
              0.8888888888888888,
              "#fdca26"
             ],
             [
              1,
              "#f0f921"
             ]
            ],
            "type": "histogram2dcontour"
           }
          ],
          "mesh3d": [
           {
            "colorbar": {
             "outlinewidth": 0,
             "ticks": ""
            },
            "type": "mesh3d"
           }
          ],
          "parcoords": [
           {
            "line": {
             "colorbar": {
              "outlinewidth": 0,
              "ticks": ""
             }
            },
            "type": "parcoords"
           }
          ],
          "pie": [
           {
            "automargin": true,
            "type": "pie"
           }
          ],
          "scatter": [
           {
            "fillpattern": {
             "fillmode": "overlay",
             "size": 10,
             "solidity": 0.2
            },
            "type": "scatter"
           }
          ],
          "scatter3d": [
           {
            "line": {
             "colorbar": {
              "outlinewidth": 0,
              "ticks": ""
             }
            },
            "marker": {
             "colorbar": {
              "outlinewidth": 0,
              "ticks": ""
             }
            },
            "type": "scatter3d"
           }
          ],
          "scattercarpet": [
           {
            "marker": {
             "colorbar": {
              "outlinewidth": 0,
              "ticks": ""
             }
            },
            "type": "scattercarpet"
           }
          ],
          "scattergeo": [
           {
            "marker": {
             "colorbar": {
              "outlinewidth": 0,
              "ticks": ""
             }
            },
            "type": "scattergeo"
           }
          ],
          "scattergl": [
           {
            "marker": {
             "colorbar": {
              "outlinewidth": 0,
              "ticks": ""
             }
            },
            "type": "scattergl"
           }
          ],
          "scattermapbox": [
           {
            "marker": {
             "colorbar": {
              "outlinewidth": 0,
              "ticks": ""
             }
            },
            "type": "scattermapbox"
           }
          ],
          "scatterpolar": [
           {
            "marker": {
             "colorbar": {
              "outlinewidth": 0,
              "ticks": ""
             }
            },
            "type": "scatterpolar"
           }
          ],
          "scatterpolargl": [
           {
            "marker": {
             "colorbar": {
              "outlinewidth": 0,
              "ticks": ""
             }
            },
            "type": "scatterpolargl"
           }
          ],
          "scatterternary": [
           {
            "marker": {
             "colorbar": {
              "outlinewidth": 0,
              "ticks": ""
             }
            },
            "type": "scatterternary"
           }
          ],
          "surface": [
           {
            "colorbar": {
             "outlinewidth": 0,
             "ticks": ""
            },
            "colorscale": [
             [
              0,
              "#0d0887"
             ],
             [
              0.1111111111111111,
              "#46039f"
             ],
             [
              0.2222222222222222,
              "#7201a8"
             ],
             [
              0.3333333333333333,
              "#9c179e"
             ],
             [
              0.4444444444444444,
              "#bd3786"
             ],
             [
              0.5555555555555556,
              "#d8576b"
             ],
             [
              0.6666666666666666,
              "#ed7953"
             ],
             [
              0.7777777777777778,
              "#fb9f3a"
             ],
             [
              0.8888888888888888,
              "#fdca26"
             ],
             [
              1,
              "#f0f921"
             ]
            ],
            "type": "surface"
           }
          ],
          "table": [
           {
            "cells": {
             "fill": {
              "color": "#EBF0F8"
             },
             "line": {
              "color": "white"
             }
            },
            "header": {
             "fill": {
              "color": "#C8D4E3"
             },
             "line": {
              "color": "white"
             }
            },
            "type": "table"
           }
          ]
         },
         "layout": {
          "annotationdefaults": {
           "arrowcolor": "#2a3f5f",
           "arrowhead": 0,
           "arrowwidth": 1
          },
          "autotypenumbers": "strict",
          "coloraxis": {
           "colorbar": {
            "outlinewidth": 0,
            "ticks": ""
           }
          },
          "colorscale": {
           "diverging": [
            [
             0,
             "#8e0152"
            ],
            [
             0.1,
             "#c51b7d"
            ],
            [
             0.2,
             "#de77ae"
            ],
            [
             0.3,
             "#f1b6da"
            ],
            [
             0.4,
             "#fde0ef"
            ],
            [
             0.5,
             "#f7f7f7"
            ],
            [
             0.6,
             "#e6f5d0"
            ],
            [
             0.7,
             "#b8e186"
            ],
            [
             0.8,
             "#7fbc41"
            ],
            [
             0.9,
             "#4d9221"
            ],
            [
             1,
             "#276419"
            ]
           ],
           "sequential": [
            [
             0,
             "#0d0887"
            ],
            [
             0.1111111111111111,
             "#46039f"
            ],
            [
             0.2222222222222222,
             "#7201a8"
            ],
            [
             0.3333333333333333,
             "#9c179e"
            ],
            [
             0.4444444444444444,
             "#bd3786"
            ],
            [
             0.5555555555555556,
             "#d8576b"
            ],
            [
             0.6666666666666666,
             "#ed7953"
            ],
            [
             0.7777777777777778,
             "#fb9f3a"
            ],
            [
             0.8888888888888888,
             "#fdca26"
            ],
            [
             1,
             "#f0f921"
            ]
           ],
           "sequentialminus": [
            [
             0,
             "#0d0887"
            ],
            [
             0.1111111111111111,
             "#46039f"
            ],
            [
             0.2222222222222222,
             "#7201a8"
            ],
            [
             0.3333333333333333,
             "#9c179e"
            ],
            [
             0.4444444444444444,
             "#bd3786"
            ],
            [
             0.5555555555555556,
             "#d8576b"
            ],
            [
             0.6666666666666666,
             "#ed7953"
            ],
            [
             0.7777777777777778,
             "#fb9f3a"
            ],
            [
             0.8888888888888888,
             "#fdca26"
            ],
            [
             1,
             "#f0f921"
            ]
           ]
          },
          "colorway": [
           "#636efa",
           "#EF553B",
           "#00cc96",
           "#ab63fa",
           "#FFA15A",
           "#19d3f3",
           "#FF6692",
           "#B6E880",
           "#FF97FF",
           "#FECB52"
          ],
          "font": {
           "color": "#2a3f5f"
          },
          "geo": {
           "bgcolor": "white",
           "lakecolor": "white",
           "landcolor": "#E5ECF6",
           "showlakes": true,
           "showland": true,
           "subunitcolor": "white"
          },
          "hoverlabel": {
           "align": "left"
          },
          "hovermode": "closest",
          "mapbox": {
           "style": "light"
          },
          "paper_bgcolor": "white",
          "plot_bgcolor": "#E5ECF6",
          "polar": {
           "angularaxis": {
            "gridcolor": "white",
            "linecolor": "white",
            "ticks": ""
           },
           "bgcolor": "#E5ECF6",
           "radialaxis": {
            "gridcolor": "white",
            "linecolor": "white",
            "ticks": ""
           }
          },
          "scene": {
           "xaxis": {
            "backgroundcolor": "#E5ECF6",
            "gridcolor": "white",
            "gridwidth": 2,
            "linecolor": "white",
            "showbackground": true,
            "ticks": "",
            "zerolinecolor": "white"
           },
           "yaxis": {
            "backgroundcolor": "#E5ECF6",
            "gridcolor": "white",
            "gridwidth": 2,
            "linecolor": "white",
            "showbackground": true,
            "ticks": "",
            "zerolinecolor": "white"
           },
           "zaxis": {
            "backgroundcolor": "#E5ECF6",
            "gridcolor": "white",
            "gridwidth": 2,
            "linecolor": "white",
            "showbackground": true,
            "ticks": "",
            "zerolinecolor": "white"
           }
          },
          "shapedefaults": {
           "line": {
            "color": "#2a3f5f"
           }
          },
          "ternary": {
           "aaxis": {
            "gridcolor": "white",
            "linecolor": "white",
            "ticks": ""
           },
           "baxis": {
            "gridcolor": "white",
            "linecolor": "white",
            "ticks": ""
           },
           "bgcolor": "#E5ECF6",
           "caxis": {
            "gridcolor": "white",
            "linecolor": "white",
            "ticks": ""
           }
          },
          "title": {
           "x": 0.05
          },
          "xaxis": {
           "automargin": true,
           "gridcolor": "white",
           "linecolor": "white",
           "ticks": "",
           "title": {
            "standoff": 15
           },
           "zerolinecolor": "white",
           "zerolinewidth": 2
          },
          "yaxis": {
           "automargin": true,
           "gridcolor": "white",
           "linecolor": "white",
           "ticks": "",
           "title": {
            "standoff": 15
           },
           "zerolinecolor": "white",
           "zerolinewidth": 2
          }
         }
        },
        "title": {
         "text": "Total Number of Ratings for the monthly Top Beer per Year"
        },
        "xaxis": {
         "anchor": "y",
         "domain": [
          0,
          1
         ],
         "title": {
          "text": "year"
         }
        },
        "yaxis": {
         "anchor": "x",
         "domain": [
          0,
          1
         ],
         "title": {
          "text": "total_ratings"
         }
        }
       }
      }
     },
     "metadata": {},
     "output_type": "display_data"
    }
   ],
   "source": [
    "# in ratings_rankBeerMonthYear_df look at the sum of total_ratings for each year\n",
    "topBeerYearTotal_df = ratings_rankBeerMonthYear_df.groupby('year').agg({'total_ratings': 'sum'}).reset_index()\n",
    "\n",
    "# plot the number of total ratings per year\n",
    "fig = px.line(topBeerYearTotal_df, x='year', y='total_ratings', title='Total Number of Ratings for the monthly Top Beer per Year')\n",
    "fig.show()"
   ]
  },
  {
   "cell_type": "markdown",
   "metadata": {},
   "source": [
    "The graph indicates that years before 2005 and after 2016 in total contain less than 500 ratings distributed among the twelve monthly top beers for each year. Thus these years might yield less insight and potentially even negatively affect the integrity of the numbers obtained later by grouping. Now we can look at what the locations the top beer for each month within the years of 2005 to 2016 comes from."
   ]
  },
  {
   "cell_type": "code",
   "execution_count": 72,
   "metadata": {},
   "outputs": [],
   "source": [
    "# get rid of all entries where year is not in [2005, 2016]\n",
    "ratings_rankBeerMonthYearCUT_df = ratings_rankBeerMonthYear_df.copy()\n",
    "ratings_rankBeerMonthYearCUT_df = ratings_rankBeerMonthYearCUT_df[ratings_rankBeerMonthYearCUT_df['year'] >= 2005]\n",
    "ratings_rankBeerMonthYearCUT_df = ratings_rankBeerMonthYearCUT_df[ratings_rankBeerMonthYearCUT_df['year'] <= 2016]"
   ]
  },
  {
   "cell_type": "code",
   "execution_count": 73,
   "metadata": {},
   "outputs": [],
   "source": [
    "# import requests\n",
    "\n",
    "def get_geocodeLAT(location):\n",
    "    base_url = \"https://nominatim.openstreetmap.org/search\"\n",
    "    params = {\n",
    "        'q': location,\n",
    "        'format': 'json'\n",
    "    }\n",
    "    response = requests.get(base_url, params=params)\n",
    "    if response.status_code == 200:\n",
    "        data = response.json()\n",
    "        if data:\n",
    "            return data[0]['lat']\n",
    "    return None\n",
    "\n",
    "def get_geocodeLON(location):\n",
    "    base_url = \"https://nominatim.openstreetmap.org/search\"\n",
    "    params = {\n",
    "        'q': location,\n",
    "        'format': 'json'\n",
    "    }\n",
    "    response = requests.get(base_url, params=params)\n",
    "    if response.status_code == 200:\n",
    "        data = response.json()\n",
    "        if data:\n",
    "            return data[0]['lon']\n",
    "    return None"
   ]
  },
  {
   "cell_type": "code",
   "execution_count": 74,
   "metadata": {},
   "outputs": [
    {
     "name": "stdout",
     "output_type": "stream",
     "text": [
      "Lattitude and Longitude of Germany given by function:\t\t 34.895926 -83.4665496\n",
      "Lattitude and Longitude of Marysville, Ohio given by function:\t 40.2364486 -83.3671432\n",
      "Lattitude and Longitude of Kassel given by function:\t\t 51.3154546 9.4924096\n"
     ]
    }
   ],
   "source": [
    "l = 'Germany'\n",
    "print(\"Lattitude and Longitude of {} given by function:\\t\\t {} {}\".format(l, get_geocodeLAT(l), get_geocodeLON(l)))\n",
    "l = 'Marysville, Ohio'\n",
    "print(\"Lattitude and Longitude of {} given by function:\\t {} {}\".format(l, get_geocodeLAT(l), get_geocodeLON(l)))\n",
    "l = 'Kassel'\n",
    "print(\"Lattitude and Longitude of {} given by function:\\t\\t {} {}\".format(l, get_geocodeLAT(l), get_geocodeLON(l)))"
   ]
  },
  {
   "cell_type": "markdown",
   "metadata": {},
   "source": [
    "For some reason Germany returns the wrong Lattitude and Longitude. As a consequence the location of entries with Germany is changed to Kassel, which is a centrally situated german city."
   ]
  },
  {
   "cell_type": "code",
   "execution_count": 75,
   "metadata": {},
   "outputs": [],
   "source": [
    "# modify functions to return proper value also for location = Germany\n",
    "\n",
    "# import requests\n",
    "\n",
    "def get_geocodeLAT(location):\n",
    "    if location == 'Germany':\n",
    "        location = 'Kassel'\n",
    "    base_url = \"https://nominatim.openstreetmap.org/search\"\n",
    "    params = {\n",
    "        'q': location,\n",
    "        'format': 'json'\n",
    "    }\n",
    "    response = requests.get(base_url, params=params)\n",
    "    if response.status_code == 200:\n",
    "        data = response.json()\n",
    "        if data:\n",
    "            return data[0]['lat']\n",
    "    return None\n",
    "\n",
    "def get_geocodeLON(location):\n",
    "    if location == 'Germany':\n",
    "        location = 'Kassel'\n",
    "    base_url = \"https://nominatim.openstreetmap.org/search\"\n",
    "    params = {\n",
    "        'q': location,\n",
    "        'format': 'json'\n",
    "    }\n",
    "    response = requests.get(base_url, params=params)\n",
    "    if response.status_code == 200:\n",
    "        data = response.json()\n",
    "        if data:\n",
    "            return data[0]['lon']\n",
    "    return None"
   ]
  },
  {
   "cell_type": "code",
   "execution_count": 76,
   "metadata": {},
   "outputs": [],
   "source": [
    "# add the coordinates of the breweries to the dataframe\n",
    "ratings_rankBeerMonthYearCUT_df['lat'] = ratings_rankBeerMonthYearCUT_df['brewery_location'].apply(get_geocodeLAT)\n",
    "ratings_rankBeerMonthYearCUT_df['lon'] = ratings_rankBeerMonthYearCUT_df['brewery_location'].apply(get_geocodeLON)"
   ]
  },
  {
   "cell_type": "code",
   "execution_count": 77,
   "metadata": {},
   "outputs": [
    {
     "data": {
      "text/html": [
       "<div>\n",
       "<style scoped>\n",
       "    .dataframe tbody tr th:only-of-type {\n",
       "        vertical-align: middle;\n",
       "    }\n",
       "\n",
       "    .dataframe tbody tr th {\n",
       "        vertical-align: top;\n",
       "    }\n",
       "\n",
       "    .dataframe thead th {\n",
       "        text-align: right;\n",
       "    }\n",
       "</style>\n",
       "<table border=\"1\" class=\"dataframe\">\n",
       "  <thead>\n",
       "    <tr style=\"text-align: right;\">\n",
       "      <th></th>\n",
       "      <th>year</th>\n",
       "      <th>month</th>\n",
       "      <th>beer_name</th>\n",
       "      <th>brewery_name</th>\n",
       "      <th>brewery_location</th>\n",
       "      <th>style</th>\n",
       "      <th>average_rating</th>\n",
       "      <th>total_ratings</th>\n",
       "      <th>good_review_count</th>\n",
       "      <th>new_id_beer</th>\n",
       "      <th>lat</th>\n",
       "      <th>lon</th>\n",
       "    </tr>\n",
       "  </thead>\n",
       "  <tbody>\n",
       "    <tr>\n",
       "      <th>191</th>\n",
       "      <td>2014</td>\n",
       "      <td>1</td>\n",
       "      <td>Hop Ranch</td>\n",
       "      <td>Victory Brewing Company - Downingtown</td>\n",
       "      <td>United States, Pennsylvania</td>\n",
       "      <td>American Double / Imperial IPA</td>\n",
       "      <td>0.809536</td>\n",
       "      <td>124</td>\n",
       "      <td>112</td>\n",
       "      <td>3eb097057d9781fde8cd9f76151223ef2c7fa192b264ad...</td>\n",
       "      <td>40.9699889</td>\n",
       "      <td>-77.7278831</td>\n",
       "    </tr>\n",
       "    <tr>\n",
       "      <th>192</th>\n",
       "      <td>2014</td>\n",
       "      <td>2</td>\n",
       "      <td>Hopslam Ale</td>\n",
       "      <td>Bell's Brewery, Inc.</td>\n",
       "      <td>United States, Michigan</td>\n",
       "      <td>American Double / Imperial IPA</td>\n",
       "      <td>0.851165</td>\n",
       "      <td>103</td>\n",
       "      <td>93</td>\n",
       "      <td>d2f53c222ed269ba56a088ac5f7b14f5b416df729348fb...</td>\n",
       "      <td>43.6211955</td>\n",
       "      <td>-84.6824346</td>\n",
       "    </tr>\n",
       "    <tr>\n",
       "      <th>193</th>\n",
       "      <td>2014</td>\n",
       "      <td>3</td>\n",
       "      <td>Stochasticity Project Grapefruit Slam IPA</td>\n",
       "      <td>Stone Brewing</td>\n",
       "      <td>United States, California</td>\n",
       "      <td>American Double / Imperial IPA</td>\n",
       "      <td>0.759196</td>\n",
       "      <td>112</td>\n",
       "      <td>90</td>\n",
       "      <td>5b46768483fe4313733863852cdd98c382e06c431a5306...</td>\n",
       "      <td>36.7014631</td>\n",
       "      <td>-118.755997</td>\n",
       "    </tr>\n",
       "    <tr>\n",
       "      <th>194</th>\n",
       "      <td>2014</td>\n",
       "      <td>4</td>\n",
       "      <td>Ommegang Game of Thrones #3 - Fire and Blood</td>\n",
       "      <td>Brewery Ommegang  &amp;#40;Duvel-Moortgat&amp;#41;</td>\n",
       "      <td>United States, New York</td>\n",
       "      <td>Spice/Herb/Vegetable</td>\n",
       "      <td>0.678395</td>\n",
       "      <td>144</td>\n",
       "      <td>105</td>\n",
       "      <td>e16f305924ab93e91283625603b88d74d3b0d11a7a9f84...</td>\n",
       "      <td>40.7127281</td>\n",
       "      <td>-74.0060152</td>\n",
       "    </tr>\n",
       "    <tr>\n",
       "      <th>195</th>\n",
       "      <td>2014</td>\n",
       "      <td>5</td>\n",
       "      <td>Lagunitas NightTime Ale</td>\n",
       "      <td>Lagunitas Brewing Company &amp;#40;Heineken&amp;#41;</td>\n",
       "      <td>United States, California</td>\n",
       "      <td>Black IPA</td>\n",
       "      <td>0.738933</td>\n",
       "      <td>127</td>\n",
       "      <td>120</td>\n",
       "      <td>16b49dddfdfeb6f3f1c4e6832500a8969483f887845fb3...</td>\n",
       "      <td>36.7014631</td>\n",
       "      <td>-118.755997</td>\n",
       "    </tr>\n",
       "    <tr>\n",
       "      <th>196</th>\n",
       "      <td>2014</td>\n",
       "      <td>6</td>\n",
       "      <td>Lagunitas NightTime Ale</td>\n",
       "      <td>Lagunitas Brewing Company &amp;#40;Heineken&amp;#41;</td>\n",
       "      <td>United States, California</td>\n",
       "      <td>Black IPA</td>\n",
       "      <td>0.744734</td>\n",
       "      <td>115</td>\n",
       "      <td>109</td>\n",
       "      <td>16b49dddfdfeb6f3f1c4e6832500a8969483f887845fb3...</td>\n",
       "      <td>36.7014631</td>\n",
       "      <td>-118.755997</td>\n",
       "    </tr>\n",
       "    <tr>\n",
       "      <th>197</th>\n",
       "      <td>2014</td>\n",
       "      <td>7</td>\n",
       "      <td>Lagunitas NightTime Ale</td>\n",
       "      <td>Lagunitas Brewing Company &amp;#40;Heineken&amp;#41;</td>\n",
       "      <td>United States, California</td>\n",
       "      <td>Black IPA</td>\n",
       "      <td>0.739643</td>\n",
       "      <td>81</td>\n",
       "      <td>73</td>\n",
       "      <td>16b49dddfdfeb6f3f1c4e6832500a8969483f887845fb3...</td>\n",
       "      <td>36.7014631</td>\n",
       "      <td>-118.755997</td>\n",
       "    </tr>\n",
       "    <tr>\n",
       "      <th>198</th>\n",
       "      <td>2014</td>\n",
       "      <td>8</td>\n",
       "      <td>Founders Dissenter Imperial India Pale Lager</td>\n",
       "      <td>Founders Brewing Company</td>\n",
       "      <td>United States, Michigan</td>\n",
       "      <td>American Double / Imperial Pilsner</td>\n",
       "      <td>0.769570</td>\n",
       "      <td>93</td>\n",
       "      <td>82</td>\n",
       "      <td>f798fbbb0e0c90558c316700bca1b799eafe4e59f7e9fc...</td>\n",
       "      <td>43.6211955</td>\n",
       "      <td>-84.6824346</td>\n",
       "    </tr>\n",
       "    <tr>\n",
       "      <th>199</th>\n",
       "      <td>2014</td>\n",
       "      <td>9</td>\n",
       "      <td>Stone Xocoveza</td>\n",
       "      <td>Stone Brewing</td>\n",
       "      <td>United States, California</td>\n",
       "      <td>Milk / Sweet Stout</td>\n",
       "      <td>0.841618</td>\n",
       "      <td>85</td>\n",
       "      <td>82</td>\n",
       "      <td>7169f967723287ac07c587e531bd5a4f4ffed345dfea34...</td>\n",
       "      <td>36.7014631</td>\n",
       "      <td>-118.755997</td>\n",
       "    </tr>\n",
       "    <tr>\n",
       "      <th>200</th>\n",
       "      <td>2014</td>\n",
       "      <td>10</td>\n",
       "      <td>Stone Xocoveza</td>\n",
       "      <td>Stone Brewing</td>\n",
       "      <td>United States, California</td>\n",
       "      <td>Milk / Sweet Stout</td>\n",
       "      <td>0.828255</td>\n",
       "      <td>96</td>\n",
       "      <td>89</td>\n",
       "      <td>7169f967723287ac07c587e531bd5a4f4ffed345dfea34...</td>\n",
       "      <td>36.7014631</td>\n",
       "      <td>-118.755997</td>\n",
       "    </tr>\n",
       "    <tr>\n",
       "      <th>201</th>\n",
       "      <td>2014</td>\n",
       "      <td>11</td>\n",
       "      <td>Founders Backwoods Bastard</td>\n",
       "      <td>Founders Brewing Company</td>\n",
       "      <td>United States, Michigan</td>\n",
       "      <td>Scotch Ale / Wee Heavy</td>\n",
       "      <td>0.827346</td>\n",
       "      <td>65</td>\n",
       "      <td>59</td>\n",
       "      <td>13e431a41e29a4471e49049ff1ea0db0c371aa3859e4b7...</td>\n",
       "      <td>43.6211955</td>\n",
       "      <td>-84.6824346</td>\n",
       "    </tr>\n",
       "    <tr>\n",
       "      <th>202</th>\n",
       "      <td>2014</td>\n",
       "      <td>12</td>\n",
       "      <td>Bourbon County Brand Stout</td>\n",
       "      <td>Goose Island Beer Co.</td>\n",
       "      <td>United States, Illinois</td>\n",
       "      <td>American Double / Imperial Stout</td>\n",
       "      <td>0.900138</td>\n",
       "      <td>109</td>\n",
       "      <td>103</td>\n",
       "      <td>fed70a57cb48d601e46ef4c1b0d29759bf1642413098f7...</td>\n",
       "      <td>40.0796606</td>\n",
       "      <td>-89.4337288</td>\n",
       "    </tr>\n",
       "  </tbody>\n",
       "</table>\n",
       "</div>"
      ],
      "text/plain": [
       "     year  month                                     beer_name  \\\n",
       "191  2014      1                                     Hop Ranch   \n",
       "192  2014      2                                   Hopslam Ale   \n",
       "193  2014      3     Stochasticity Project Grapefruit Slam IPA   \n",
       "194  2014      4  Ommegang Game of Thrones #3 - Fire and Blood   \n",
       "195  2014      5                       Lagunitas NightTime Ale   \n",
       "196  2014      6                       Lagunitas NightTime Ale   \n",
       "197  2014      7                       Lagunitas NightTime Ale   \n",
       "198  2014      8  Founders Dissenter Imperial India Pale Lager   \n",
       "199  2014      9                                Stone Xocoveza   \n",
       "200  2014     10                                Stone Xocoveza   \n",
       "201  2014     11                    Founders Backwoods Bastard   \n",
       "202  2014     12                    Bourbon County Brand Stout   \n",
       "\n",
       "                                     brewery_name  \\\n",
       "191         Victory Brewing Company - Downingtown   \n",
       "192                          Bell's Brewery, Inc.   \n",
       "193                                 Stone Brewing   \n",
       "194    Brewery Ommegang  &#40;Duvel-Moortgat&#41;   \n",
       "195  Lagunitas Brewing Company &#40;Heineken&#41;   \n",
       "196  Lagunitas Brewing Company &#40;Heineken&#41;   \n",
       "197  Lagunitas Brewing Company &#40;Heineken&#41;   \n",
       "198                      Founders Brewing Company   \n",
       "199                                 Stone Brewing   \n",
       "200                                 Stone Brewing   \n",
       "201                      Founders Brewing Company   \n",
       "202                         Goose Island Beer Co.   \n",
       "\n",
       "                brewery_location                               style  \\\n",
       "191  United States, Pennsylvania      American Double / Imperial IPA   \n",
       "192      United States, Michigan      American Double / Imperial IPA   \n",
       "193    United States, California      American Double / Imperial IPA   \n",
       "194      United States, New York                Spice/Herb/Vegetable   \n",
       "195    United States, California                           Black IPA   \n",
       "196    United States, California                           Black IPA   \n",
       "197    United States, California                           Black IPA   \n",
       "198      United States, Michigan  American Double / Imperial Pilsner   \n",
       "199    United States, California                  Milk / Sweet Stout   \n",
       "200    United States, California                  Milk / Sweet Stout   \n",
       "201      United States, Michigan              Scotch Ale / Wee Heavy   \n",
       "202      United States, Illinois    American Double / Imperial Stout   \n",
       "\n",
       "     average_rating  total_ratings  good_review_count  \\\n",
       "191        0.809536            124                112   \n",
       "192        0.851165            103                 93   \n",
       "193        0.759196            112                 90   \n",
       "194        0.678395            144                105   \n",
       "195        0.738933            127                120   \n",
       "196        0.744734            115                109   \n",
       "197        0.739643             81                 73   \n",
       "198        0.769570             93                 82   \n",
       "199        0.841618             85                 82   \n",
       "200        0.828255             96                 89   \n",
       "201        0.827346             65                 59   \n",
       "202        0.900138            109                103   \n",
       "\n",
       "                                           new_id_beer         lat  \\\n",
       "191  3eb097057d9781fde8cd9f76151223ef2c7fa192b264ad...  40.9699889   \n",
       "192  d2f53c222ed269ba56a088ac5f7b14f5b416df729348fb...  43.6211955   \n",
       "193  5b46768483fe4313733863852cdd98c382e06c431a5306...  36.7014631   \n",
       "194  e16f305924ab93e91283625603b88d74d3b0d11a7a9f84...  40.7127281   \n",
       "195  16b49dddfdfeb6f3f1c4e6832500a8969483f887845fb3...  36.7014631   \n",
       "196  16b49dddfdfeb6f3f1c4e6832500a8969483f887845fb3...  36.7014631   \n",
       "197  16b49dddfdfeb6f3f1c4e6832500a8969483f887845fb3...  36.7014631   \n",
       "198  f798fbbb0e0c90558c316700bca1b799eafe4e59f7e9fc...  43.6211955   \n",
       "199  7169f967723287ac07c587e531bd5a4f4ffed345dfea34...  36.7014631   \n",
       "200  7169f967723287ac07c587e531bd5a4f4ffed345dfea34...  36.7014631   \n",
       "201  13e431a41e29a4471e49049ff1ea0db0c371aa3859e4b7...  43.6211955   \n",
       "202  fed70a57cb48d601e46ef4c1b0d29759bf1642413098f7...  40.0796606   \n",
       "\n",
       "             lon  \n",
       "191  -77.7278831  \n",
       "192  -84.6824346  \n",
       "193  -118.755997  \n",
       "194  -74.0060152  \n",
       "195  -118.755997  \n",
       "196  -118.755997  \n",
       "197  -118.755997  \n",
       "198  -84.6824346  \n",
       "199  -118.755997  \n",
       "200  -118.755997  \n",
       "201  -84.6824346  \n",
       "202  -89.4337288  "
      ]
     },
     "execution_count": 77,
     "metadata": {},
     "output_type": "execute_result"
    }
   ],
   "source": [
    "ratings_rankBeerMonthYearCUT_df[ratings_rankBeerMonthYearCUT_df['year'] == 2014]\n"
   ]
  },
  {
   "cell_type": "code",
   "execution_count": 78,
   "metadata": {},
   "outputs": [],
   "source": [
    "# group by brewery_location & month and aggregate by first and count\n",
    "ratings_MonthLocationCUT_df = ratings_rankBeerMonthYearCUT_df.groupby(['brewery_location', 'month']).agg({'lat': 'first', 'lon': 'first', 'total_ratings': 'count'}).reset_index()\n",
    "\n",
    "# rename column total_ratings to count\n",
    "ratings_MonthLocationCUT_df.rename(columns={'total_ratings': 'count'}, inplace=True)\n",
    "\n",
    "# due to nature of distribution take log of count\n",
    "ratings_MonthLocationCUT_df['log_count'] = np.log(ratings_MonthLocationCUT_df['count'])"
   ]
  },
  {
   "cell_type": "code",
   "execution_count": 79,
   "metadata": {},
   "outputs": [
    {
     "data": {
      "text/html": [
       "<div>\n",
       "<style scoped>\n",
       "    .dataframe tbody tr th:only-of-type {\n",
       "        vertical-align: middle;\n",
       "    }\n",
       "\n",
       "    .dataframe tbody tr th {\n",
       "        vertical-align: top;\n",
       "    }\n",
       "\n",
       "    .dataframe thead th {\n",
       "        text-align: right;\n",
       "    }\n",
       "</style>\n",
       "<table border=\"1\" class=\"dataframe\">\n",
       "  <thead>\n",
       "    <tr style=\"text-align: right;\">\n",
       "      <th></th>\n",
       "      <th>brewery_location</th>\n",
       "      <th>month</th>\n",
       "      <th>lat</th>\n",
       "      <th>lon</th>\n",
       "      <th>count</th>\n",
       "      <th>log_count</th>\n",
       "    </tr>\n",
       "  </thead>\n",
       "  <tbody>\n",
       "    <tr>\n",
       "      <th>50</th>\n",
       "      <td>United States, Pennsylvania</td>\n",
       "      <td>1</td>\n",
       "      <td>40.9699889</td>\n",
       "      <td>-77.7278831</td>\n",
       "      <td>1</td>\n",
       "      <td>0.0</td>\n",
       "    </tr>\n",
       "    <tr>\n",
       "      <th>51</th>\n",
       "      <td>United States, Pennsylvania</td>\n",
       "      <td>6</td>\n",
       "      <td>40.9699889</td>\n",
       "      <td>-77.7278831</td>\n",
       "      <td>1</td>\n",
       "      <td>0.0</td>\n",
       "    </tr>\n",
       "    <tr>\n",
       "      <th>52</th>\n",
       "      <td>United States, Pennsylvania</td>\n",
       "      <td>7</td>\n",
       "      <td>40.9699889</td>\n",
       "      <td>-77.7278831</td>\n",
       "      <td>1</td>\n",
       "      <td>0.0</td>\n",
       "    </tr>\n",
       "    <tr>\n",
       "      <th>53</th>\n",
       "      <td>United States, Pennsylvania</td>\n",
       "      <td>11</td>\n",
       "      <td>40.9699889</td>\n",
       "      <td>-77.7278831</td>\n",
       "      <td>1</td>\n",
       "      <td>0.0</td>\n",
       "    </tr>\n",
       "    <tr>\n",
       "      <th>54</th>\n",
       "      <td>United States, Wisconsin</td>\n",
       "      <td>3</td>\n",
       "      <td>44.4308975</td>\n",
       "      <td>-89.6884637</td>\n",
       "      <td>1</td>\n",
       "      <td>0.0</td>\n",
       "    </tr>\n",
       "  </tbody>\n",
       "</table>\n",
       "</div>"
      ],
      "text/plain": [
       "               brewery_location  month         lat          lon  count  \\\n",
       "50  United States, Pennsylvania      1  40.9699889  -77.7278831      1   \n",
       "51  United States, Pennsylvania      6  40.9699889  -77.7278831      1   \n",
       "52  United States, Pennsylvania      7  40.9699889  -77.7278831      1   \n",
       "53  United States, Pennsylvania     11  40.9699889  -77.7278831      1   \n",
       "54     United States, Wisconsin      3  44.4308975  -89.6884637      1   \n",
       "\n",
       "    log_count  \n",
       "50        0.0  \n",
       "51        0.0  \n",
       "52        0.0  \n",
       "53        0.0  \n",
       "54        0.0  "
      ]
     },
     "execution_count": 79,
     "metadata": {},
     "output_type": "execute_result"
    }
   ],
   "source": [
    "ratings_MonthLocationCUT_df.tail()"
   ]
  },
  {
   "cell_type": "code",
   "execution_count": 80,
   "metadata": {},
   "outputs": [
    {
     "data": {
      "application/vnd.plotly.v1+json": {
       "config": {
        "plotlyServerURL": "https://plot.ly"
       },
       "data": [
        {
         "customdata": [
          [
           "9.4924096",
           "51.3154546",
           "Germany",
           1
          ],
          [
           "-118.755997",
           "36.7014631",
           "United States, California",
           1
          ],
          [
           "-84.6824346",
           "43.6211955",
           "United States, Michigan",
           1
          ],
          [
           "-1.2649062",
           "52.5310214",
           "England",
           1
          ],
          [
           "-72.032366",
           "42.3788774",
           "United States, Massachusetts",
           1
          ],
          [
           "-74.0060152",
           "40.7127281",
           "United States, New York",
           1
          ],
          [
           "-77.7278831",
           "40.9699889",
           "United States, Pennsylvania",
           1
          ]
         ],
         "geo": "geo",
         "hovertemplate": "count=%{marker.size}<br>brewery_location=%{customdata[2]}<extra></extra>",
         "lat": [
          "51.3154546",
          "36.7014631",
          "43.6211955",
          "52.5310214",
          "42.3788774",
          "40.7127281",
          "40.9699889"
         ],
         "legendgroup": "",
         "lon": [
          "9.4924096",
          "-118.755997",
          "-84.6824346",
          "-1.2649062",
          "-72.032366",
          "-74.0060152",
          "-77.7278831"
         ],
         "marker": {
          "color": "#636efa",
          "size": [
           1,
           4,
           2,
           1,
           1,
           2,
           1
          ],
          "sizemode": "area",
          "sizeref": 0.0225,
          "symbol": "circle"
         },
         "mode": "markers",
         "name": "",
         "showlegend": false,
         "type": "scattergeo"
        }
       ],
       "frames": [
        {
         "data": [
          {
           "customdata": [
            [
             "9.4924096",
             "51.3154546",
             "Germany",
             1
            ],
            [
             "-118.755997",
             "36.7014631",
             "United States, California",
             1
            ],
            [
             "-84.6824346",
             "43.6211955",
             "United States, Michigan",
             1
            ],
            [
             "-1.2649062",
             "52.5310214",
             "England",
             1
            ],
            [
             "-72.032366",
             "42.3788774",
             "United States, Massachusetts",
             1
            ],
            [
             "-74.0060152",
             "40.7127281",
             "United States, New York",
             1
            ],
            [
             "-77.7278831",
             "40.9699889",
             "United States, Pennsylvania",
             1
            ]
           ],
           "geo": "geo",
           "hovertemplate": "count=%{marker.size}<br>brewery_location=%{customdata[2]}<extra></extra>",
           "lat": [
            "51.3154546",
            "36.7014631",
            "43.6211955",
            "52.5310214",
            "42.3788774",
            "40.7127281",
            "40.9699889"
           ],
           "legendgroup": "",
           "lon": [
            "9.4924096",
            "-118.755997",
            "-84.6824346",
            "-1.2649062",
            "-72.032366",
            "-74.0060152",
            "-77.7278831"
           ],
           "marker": {
            "color": "#636efa",
            "size": [
             1,
             4,
             2,
             1,
             1,
             2,
             1
            ],
            "sizemode": "area",
            "sizeref": 0.0225,
            "symbol": "circle"
           },
           "mode": "markers",
           "name": "",
           "showlegend": false,
           "type": "scattergeo"
          }
         ],
         "name": "1"
        },
        {
         "data": [
          {
           "customdata": [
            [
             "-84.6824346",
             "43.6211955",
             "United States, Michigan",
             2
            ],
            [
             "-72.032366",
             "42.3788774",
             "United States, Massachusetts",
             2
            ],
            [
             "9.4924096",
             "51.3154546",
             "Germany",
             2
            ],
            [
             "-118.755997",
             "36.7014631",
             "United States, California",
             2
            ]
           ],
           "geo": "geo",
           "hovertemplate": "count=%{marker.size}<br>brewery_location=%{customdata[2]}<extra></extra>",
           "lat": [
            "43.6211955",
            "42.3788774",
            "51.3154546",
            "36.7014631"
           ],
           "legendgroup": "",
           "lon": [
            "-84.6824346",
            "-72.032366",
            "9.4924096",
            "-118.755997"
           ],
           "marker": {
            "color": "#636efa",
            "size": [
             4,
             1,
             2,
             5
            ],
            "sizemode": "area",
            "sizeref": 0.0225,
            "symbol": "circle"
           },
           "mode": "markers",
           "name": "",
           "showlegend": false,
           "type": "scattergeo"
          }
         ],
         "name": "2"
        },
        {
         "data": [
          {
           "customdata": [
            [
             "-84.6824346",
             "43.6211955",
             "United States, Michigan",
             3
            ],
            [
             "-118.755997",
             "36.7014631",
             "United States, California",
             3
            ],
            [
             "-72.032366",
             "42.3788774",
             "United States, Massachusetts",
             3
            ],
            [
             "-89.6884637",
             "44.4308975",
             "United States, Wisconsin",
             3
            ]
           ],
           "geo": "geo",
           "hovertemplate": "count=%{marker.size}<br>brewery_location=%{customdata[2]}<extra></extra>",
           "lat": [
            "43.6211955",
            "36.7014631",
            "42.3788774",
            "44.4308975"
           ],
           "legendgroup": "",
           "lon": [
            "-84.6824346",
            "-118.755997",
            "-72.032366",
            "-89.6884637"
           ],
           "marker": {
            "color": "#636efa",
            "size": [
             2,
             8,
             1,
             1
            ],
            "sizemode": "area",
            "sizeref": 0.0225,
            "symbol": "circle"
           },
           "mode": "markers",
           "name": "",
           "showlegend": false,
           "type": "scattergeo"
          }
         ],
         "name": "3"
        },
        {
         "data": [
          {
           "customdata": [
            [
             "-74.0060152",
             "40.7127281",
             "United States, New York",
             4
            ],
            [
             "-84.6824346",
             "43.6211955",
             "United States, Michigan",
             4
            ],
            [
             "4.6667145",
             "50.6402809",
             "Belgium",
             4
            ],
            [
             "-107.991707",
             "61.0666922",
             "Canada",
             4
            ],
            [
             "-118.755997",
             "36.7014631",
             "United States, California",
             4
            ]
           ],
           "geo": "geo",
           "hovertemplate": "count=%{marker.size}<br>brewery_location=%{customdata[2]}<extra></extra>",
           "lat": [
            "40.7127281",
            "43.6211955",
            "50.6402809",
            "61.0666922",
            "36.7014631"
           ],
           "legendgroup": "",
           "lon": [
            "-74.0060152",
            "-84.6824346",
            "4.6667145",
            "-107.991707",
            "-118.755997"
           ],
           "marker": {
            "color": "#636efa",
            "size": [
             1,
             3,
             1,
             1,
             6
            ],
            "sizemode": "area",
            "sizeref": 0.0225,
            "symbol": "circle"
           },
           "mode": "markers",
           "name": "",
           "showlegend": false,
           "type": "scattergeo"
          }
         ],
         "name": "4"
        },
        {
         "data": [
          {
           "customdata": [
            [
             "4.6667145",
             "50.6402809",
             "Belgium",
             5
            ],
            [
             "-75.4013315",
             "38.6920451",
             "United States, Delaware",
             5
            ],
            [
             "-89.4337288",
             "40.0796606",
             "United States, Illinois",
             5
            ],
            [
             "-84.6824346",
             "43.6211955",
             "United States, Michigan",
             5
            ],
            [
             "-107.991707",
             "61.0666922",
             "Canada",
             5
            ],
            [
             "-118.755997",
             "36.7014631",
             "United States, California",
             5
            ]
           ],
           "geo": "geo",
           "hovertemplate": "count=%{marker.size}<br>brewery_location=%{customdata[2]}<extra></extra>",
           "lat": [
            "50.6402809",
            "38.6920451",
            "40.0796606",
            "43.6211955",
            "61.0666922",
            "36.7014631"
           ],
           "legendgroup": "",
           "lon": [
            "4.6667145",
            "-75.4013315",
            "-89.4337288",
            "-84.6824346",
            "-107.991707",
            "-118.755997"
           ],
           "marker": {
            "color": "#636efa",
            "size": [
             2,
             1,
             1,
             1,
             1,
             6
            ],
            "sizemode": "area",
            "sizeref": 0.0225,
            "symbol": "circle"
           },
           "mode": "markers",
           "name": "",
           "showlegend": false,
           "type": "scattergeo"
          }
         ],
         "name": "5"
        },
        {
         "data": [
          {
           "customdata": [
            [
             "-77.7278831",
             "40.9699889",
             "United States, Pennsylvania",
             6
            ],
            [
             "-74.0060152",
             "40.7127281",
             "United States, New York",
             6
            ],
            [
             "4.6667145",
             "50.6402809",
             "Belgium",
             6
            ],
            [
             "-118.755997",
             "36.7014631",
             "United States, California",
             6
            ]
           ],
           "geo": "geo",
           "hovertemplate": "count=%{marker.size}<br>brewery_location=%{customdata[2]}<extra></extra>",
           "lat": [
            "40.9699889",
            "40.7127281",
            "50.6402809",
            "36.7014631"
           ],
           "legendgroup": "",
           "lon": [
            "-77.7278831",
            "-74.0060152",
            "4.6667145",
            "-118.755997"
           ],
           "marker": {
            "color": "#636efa",
            "size": [
             1,
             2,
             1,
             8
            ],
            "sizemode": "area",
            "sizeref": 0.0225,
            "symbol": "circle"
           },
           "mode": "markers",
           "name": "",
           "showlegend": false,
           "type": "scattergeo"
          }
         ],
         "name": "6"
        },
        {
         "data": [
          {
           "customdata": [
            [
             "-77.7278831",
             "40.9699889",
             "United States, Pennsylvania",
             7
            ],
            [
             "-84.6824346",
             "43.6211955",
             "United States, Michigan",
             7
            ],
            [
             "-118.755997",
             "36.7014631",
             "United States, California",
             7
            ],
            [
             "-76.9382069",
             "39.5162401",
             "United States, Maryland",
             7
            ]
           ],
           "geo": "geo",
           "hovertemplate": "count=%{marker.size}<br>brewery_location=%{customdata[2]}<extra></extra>",
           "lat": [
            "40.9699889",
            "43.6211955",
            "36.7014631",
            "39.5162401"
           ],
           "legendgroup": "",
           "lon": [
            "-77.7278831",
            "-84.6824346",
            "-118.755997",
            "-76.9382069"
           ],
           "marker": {
            "color": "#636efa",
            "size": [
             1,
             1,
             9,
             1
            ],
            "sizemode": "area",
            "sizeref": 0.0225,
            "symbol": "circle"
           },
           "mode": "markers",
           "name": "",
           "showlegend": false,
           "type": "scattergeo"
          }
         ],
         "name": "7"
        },
        {
         "data": [
          {
           "customdata": [
            [
             "9.4924096",
             "51.3154546",
             "Germany",
             8
            ],
            [
             "-74.0060152",
             "40.7127281",
             "United States, New York",
             8
            ],
            [
             "4.6667145",
             "50.6402809",
             "Belgium",
             8
            ],
            [
             "-84.6824346",
             "43.6211955",
             "United States, Michigan",
             8
            ],
            [
             "-118.755997",
             "36.7014631",
             "United States, California",
             8
            ],
            [
             "-76.9382069",
             "39.5162401",
             "United States, Maryland",
             8
            ]
           ],
           "geo": "geo",
           "hovertemplate": "count=%{marker.size}<br>brewery_location=%{customdata[2]}<extra></extra>",
           "lat": [
            "51.3154546",
            "40.7127281",
            "50.6402809",
            "43.6211955",
            "36.7014631",
            "39.5162401"
           ],
           "legendgroup": "",
           "lon": [
            "9.4924096",
            "-74.0060152",
            "4.6667145",
            "-84.6824346",
            "-118.755997",
            "-76.9382069"
           ],
           "marker": {
            "color": "#636efa",
            "size": [
             1,
             1,
             1,
             1,
             7,
             1
            ],
            "sizemode": "area",
            "sizeref": 0.0225,
            "symbol": "circle"
           },
           "mode": "markers",
           "name": "",
           "showlegend": false,
           "type": "scattergeo"
          }
         ],
         "name": "8"
        },
        {
         "data": [
          {
           "customdata": [
            [
             "-84.6824346",
             "43.6211955",
             "United States, Michigan",
             9
            ],
            [
             "-76.9382069",
             "39.5162401",
             "United States, Maryland",
             9
            ],
            [
             "-118.755997",
             "36.7014631",
             "United States, California",
             9
            ]
           ],
           "geo": "geo",
           "hovertemplate": "count=%{marker.size}<br>brewery_location=%{customdata[2]}<extra></extra>",
           "lat": [
            "43.6211955",
            "39.5162401",
            "36.7014631"
           ],
           "legendgroup": "",
           "lon": [
            "-84.6824346",
            "-76.9382069",
            "-118.755997"
           ],
           "marker": {
            "color": "#636efa",
            "size": [
             2,
             1,
             9
            ],
            "sizemode": "area",
            "sizeref": 0.0225,
            "symbol": "circle"
           },
           "mode": "markers",
           "name": "",
           "showlegend": false,
           "type": "scattergeo"
          }
         ],
         "name": "9"
        },
        {
         "data": [
          {
           "customdata": [
            [
             "-84.6824346",
             "43.6211955",
             "United States, Michigan",
             10
            ],
            [
             "-76.9382069",
             "39.5162401",
             "United States, Maryland",
             10
            ],
            [
             "-118.755997",
             "36.7014631",
             "United States, California",
             10
            ]
           ],
           "geo": "geo",
           "hovertemplate": "count=%{marker.size}<br>brewery_location=%{customdata[2]}<extra></extra>",
           "lat": [
            "43.6211955",
            "39.5162401",
            "36.7014631"
           ],
           "legendgroup": "",
           "lon": [
            "-84.6824346",
            "-76.9382069",
            "-118.755997"
           ],
           "marker": {
            "color": "#636efa",
            "size": [
             2,
             1,
             9
            ],
            "sizemode": "area",
            "sizeref": 0.0225,
            "symbol": "circle"
           },
           "mode": "markers",
           "name": "",
           "showlegend": false,
           "type": "scattergeo"
          }
         ],
         "name": "10"
        },
        {
         "data": [
          {
           "customdata": [
            [
             "-84.6824346",
             "43.6211955",
             "United States, Michigan",
             11
            ],
            [
             "-74.0060152",
             "40.7127281",
             "United States, New York",
             11
            ],
            [
             "-118.755997",
             "36.7014631",
             "United States, California",
             11
            ],
            [
             "-77.7278831",
             "40.9699889",
             "United States, Pennsylvania",
             11
            ]
           ],
           "geo": "geo",
           "hovertemplate": "count=%{marker.size}<br>brewery_location=%{customdata[2]}<extra></extra>",
           "lat": [
            "43.6211955",
            "40.7127281",
            "36.7014631",
            "40.9699889"
           ],
           "legendgroup": "",
           "lon": [
            "-84.6824346",
            "-74.0060152",
            "-118.755997",
            "-77.7278831"
           ],
           "marker": {
            "color": "#636efa",
            "size": [
             2,
             1,
             8,
             1
            ],
            "sizemode": "area",
            "sizeref": 0.0225,
            "symbol": "circle"
           },
           "mode": "markers",
           "name": "",
           "showlegend": false,
           "type": "scattergeo"
          }
         ],
         "name": "11"
        },
        {
         "data": [
          {
           "customdata": [
            [
             "-89.4337288",
             "40.0796606",
             "United States, Illinois",
             12
            ],
            [
             "4.6667145",
             "50.6402809",
             "Belgium",
             12
            ],
            [
             "-105.607716",
             "38.7251776",
             "United States, Colorado",
             12
            ],
            [
             "-118.755997",
             "36.7014631",
             "United States, California",
             12
            ],
            [
             "-84.6824346",
             "43.6211955",
             "United States, Michigan",
             12
            ]
           ],
           "geo": "geo",
           "hovertemplate": "count=%{marker.size}<br>brewery_location=%{customdata[2]}<extra></extra>",
           "lat": [
            "40.0796606",
            "50.6402809",
            "38.7251776",
            "36.7014631",
            "43.6211955"
           ],
           "legendgroup": "",
           "lon": [
            "-89.4337288",
            "4.6667145",
            "-105.607716",
            "-118.755997",
            "-84.6824346"
           ],
           "marker": {
            "color": "#636efa",
            "size": [
             2,
             2,
             1,
             6,
             1
            ],
            "sizemode": "area",
            "sizeref": 0.0225,
            "symbol": "circle"
           },
           "mode": "markers",
           "name": "",
           "showlegend": false,
           "type": "scattergeo"
          }
         ],
         "name": "12"
        }
       ],
       "layout": {
        "geo": {
         "center": {},
         "domain": {
          "x": [
           0,
           1
          ],
          "y": [
           0,
           1
          ]
         }
        },
        "height": 600,
        "legend": {
         "itemsizing": "constant",
         "tracegroupgap": 0
        },
        "sliders": [
         {
          "active": 0,
          "currentvalue": {
           "prefix": "month="
          },
          "len": 0.9,
          "pad": {
           "b": 10,
           "t": 60
          },
          "steps": [
           {
            "args": [
             [
              "1"
             ],
             {
              "frame": {
               "duration": 0,
               "redraw": true
              },
              "fromcurrent": true,
              "mode": "immediate",
              "transition": {
               "duration": 0,
               "easing": "linear"
              }
             }
            ],
            "label": "1",
            "method": "animate"
           },
           {
            "args": [
             [
              "2"
             ],
             {
              "frame": {
               "duration": 0,
               "redraw": true
              },
              "fromcurrent": true,
              "mode": "immediate",
              "transition": {
               "duration": 0,
               "easing": "linear"
              }
             }
            ],
            "label": "2",
            "method": "animate"
           },
           {
            "args": [
             [
              "3"
             ],
             {
              "frame": {
               "duration": 0,
               "redraw": true
              },
              "fromcurrent": true,
              "mode": "immediate",
              "transition": {
               "duration": 0,
               "easing": "linear"
              }
             }
            ],
            "label": "3",
            "method": "animate"
           },
           {
            "args": [
             [
              "4"
             ],
             {
              "frame": {
               "duration": 0,
               "redraw": true
              },
              "fromcurrent": true,
              "mode": "immediate",
              "transition": {
               "duration": 0,
               "easing": "linear"
              }
             }
            ],
            "label": "4",
            "method": "animate"
           },
           {
            "args": [
             [
              "5"
             ],
             {
              "frame": {
               "duration": 0,
               "redraw": true
              },
              "fromcurrent": true,
              "mode": "immediate",
              "transition": {
               "duration": 0,
               "easing": "linear"
              }
             }
            ],
            "label": "5",
            "method": "animate"
           },
           {
            "args": [
             [
              "6"
             ],
             {
              "frame": {
               "duration": 0,
               "redraw": true
              },
              "fromcurrent": true,
              "mode": "immediate",
              "transition": {
               "duration": 0,
               "easing": "linear"
              }
             }
            ],
            "label": "6",
            "method": "animate"
           },
           {
            "args": [
             [
              "7"
             ],
             {
              "frame": {
               "duration": 0,
               "redraw": true
              },
              "fromcurrent": true,
              "mode": "immediate",
              "transition": {
               "duration": 0,
               "easing": "linear"
              }
             }
            ],
            "label": "7",
            "method": "animate"
           },
           {
            "args": [
             [
              "8"
             ],
             {
              "frame": {
               "duration": 0,
               "redraw": true
              },
              "fromcurrent": true,
              "mode": "immediate",
              "transition": {
               "duration": 0,
               "easing": "linear"
              }
             }
            ],
            "label": "8",
            "method": "animate"
           },
           {
            "args": [
             [
              "9"
             ],
             {
              "frame": {
               "duration": 0,
               "redraw": true
              },
              "fromcurrent": true,
              "mode": "immediate",
              "transition": {
               "duration": 0,
               "easing": "linear"
              }
             }
            ],
            "label": "9",
            "method": "animate"
           },
           {
            "args": [
             [
              "10"
             ],
             {
              "frame": {
               "duration": 0,
               "redraw": true
              },
              "fromcurrent": true,
              "mode": "immediate",
              "transition": {
               "duration": 0,
               "easing": "linear"
              }
             }
            ],
            "label": "10",
            "method": "animate"
           },
           {
            "args": [
             [
              "11"
             ],
             {
              "frame": {
               "duration": 0,
               "redraw": true
              },
              "fromcurrent": true,
              "mode": "immediate",
              "transition": {
               "duration": 0,
               "easing": "linear"
              }
             }
            ],
            "label": "11",
            "method": "animate"
           },
           {
            "args": [
             [
              "12"
             ],
             {
              "frame": {
               "duration": 0,
               "redraw": true
              },
              "fromcurrent": true,
              "mode": "immediate",
              "transition": {
               "duration": 0,
               "easing": "linear"
              }
             }
            ],
            "label": "12",
            "method": "animate"
           }
          ],
          "x": 0.1,
          "xanchor": "left",
          "y": 0,
          "yanchor": "top"
         }
        ],
        "template": {
         "data": {
          "bar": [
           {
            "error_x": {
             "color": "#2a3f5f"
            },
            "error_y": {
             "color": "#2a3f5f"
            },
            "marker": {
             "line": {
              "color": "#E5ECF6",
              "width": 0.5
             },
             "pattern": {
              "fillmode": "overlay",
              "size": 10,
              "solidity": 0.2
             }
            },
            "type": "bar"
           }
          ],
          "barpolar": [
           {
            "marker": {
             "line": {
              "color": "#E5ECF6",
              "width": 0.5
             },
             "pattern": {
              "fillmode": "overlay",
              "size": 10,
              "solidity": 0.2
             }
            },
            "type": "barpolar"
           }
          ],
          "carpet": [
           {
            "aaxis": {
             "endlinecolor": "#2a3f5f",
             "gridcolor": "white",
             "linecolor": "white",
             "minorgridcolor": "white",
             "startlinecolor": "#2a3f5f"
            },
            "baxis": {
             "endlinecolor": "#2a3f5f",
             "gridcolor": "white",
             "linecolor": "white",
             "minorgridcolor": "white",
             "startlinecolor": "#2a3f5f"
            },
            "type": "carpet"
           }
          ],
          "choropleth": [
           {
            "colorbar": {
             "outlinewidth": 0,
             "ticks": ""
            },
            "type": "choropleth"
           }
          ],
          "contour": [
           {
            "colorbar": {
             "outlinewidth": 0,
             "ticks": ""
            },
            "colorscale": [
             [
              0,
              "#0d0887"
             ],
             [
              0.1111111111111111,
              "#46039f"
             ],
             [
              0.2222222222222222,
              "#7201a8"
             ],
             [
              0.3333333333333333,
              "#9c179e"
             ],
             [
              0.4444444444444444,
              "#bd3786"
             ],
             [
              0.5555555555555556,
              "#d8576b"
             ],
             [
              0.6666666666666666,
              "#ed7953"
             ],
             [
              0.7777777777777778,
              "#fb9f3a"
             ],
             [
              0.8888888888888888,
              "#fdca26"
             ],
             [
              1,
              "#f0f921"
             ]
            ],
            "type": "contour"
           }
          ],
          "contourcarpet": [
           {
            "colorbar": {
             "outlinewidth": 0,
             "ticks": ""
            },
            "type": "contourcarpet"
           }
          ],
          "heatmap": [
           {
            "colorbar": {
             "outlinewidth": 0,
             "ticks": ""
            },
            "colorscale": [
             [
              0,
              "#0d0887"
             ],
             [
              0.1111111111111111,
              "#46039f"
             ],
             [
              0.2222222222222222,
              "#7201a8"
             ],
             [
              0.3333333333333333,
              "#9c179e"
             ],
             [
              0.4444444444444444,
              "#bd3786"
             ],
             [
              0.5555555555555556,
              "#d8576b"
             ],
             [
              0.6666666666666666,
              "#ed7953"
             ],
             [
              0.7777777777777778,
              "#fb9f3a"
             ],
             [
              0.8888888888888888,
              "#fdca26"
             ],
             [
              1,
              "#f0f921"
             ]
            ],
            "type": "heatmap"
           }
          ],
          "heatmapgl": [
           {
            "colorbar": {
             "outlinewidth": 0,
             "ticks": ""
            },
            "colorscale": [
             [
              0,
              "#0d0887"
             ],
             [
              0.1111111111111111,
              "#46039f"
             ],
             [
              0.2222222222222222,
              "#7201a8"
             ],
             [
              0.3333333333333333,
              "#9c179e"
             ],
             [
              0.4444444444444444,
              "#bd3786"
             ],
             [
              0.5555555555555556,
              "#d8576b"
             ],
             [
              0.6666666666666666,
              "#ed7953"
             ],
             [
              0.7777777777777778,
              "#fb9f3a"
             ],
             [
              0.8888888888888888,
              "#fdca26"
             ],
             [
              1,
              "#f0f921"
             ]
            ],
            "type": "heatmapgl"
           }
          ],
          "histogram": [
           {
            "marker": {
             "pattern": {
              "fillmode": "overlay",
              "size": 10,
              "solidity": 0.2
             }
            },
            "type": "histogram"
           }
          ],
          "histogram2d": [
           {
            "colorbar": {
             "outlinewidth": 0,
             "ticks": ""
            },
            "colorscale": [
             [
              0,
              "#0d0887"
             ],
             [
              0.1111111111111111,
              "#46039f"
             ],
             [
              0.2222222222222222,
              "#7201a8"
             ],
             [
              0.3333333333333333,
              "#9c179e"
             ],
             [
              0.4444444444444444,
              "#bd3786"
             ],
             [
              0.5555555555555556,
              "#d8576b"
             ],
             [
              0.6666666666666666,
              "#ed7953"
             ],
             [
              0.7777777777777778,
              "#fb9f3a"
             ],
             [
              0.8888888888888888,
              "#fdca26"
             ],
             [
              1,
              "#f0f921"
             ]
            ],
            "type": "histogram2d"
           }
          ],
          "histogram2dcontour": [
           {
            "colorbar": {
             "outlinewidth": 0,
             "ticks": ""
            },
            "colorscale": [
             [
              0,
              "#0d0887"
             ],
             [
              0.1111111111111111,
              "#46039f"
             ],
             [
              0.2222222222222222,
              "#7201a8"
             ],
             [
              0.3333333333333333,
              "#9c179e"
             ],
             [
              0.4444444444444444,
              "#bd3786"
             ],
             [
              0.5555555555555556,
              "#d8576b"
             ],
             [
              0.6666666666666666,
              "#ed7953"
             ],
             [
              0.7777777777777778,
              "#fb9f3a"
             ],
             [
              0.8888888888888888,
              "#fdca26"
             ],
             [
              1,
              "#f0f921"
             ]
            ],
            "type": "histogram2dcontour"
           }
          ],
          "mesh3d": [
           {
            "colorbar": {
             "outlinewidth": 0,
             "ticks": ""
            },
            "type": "mesh3d"
           }
          ],
          "parcoords": [
           {
            "line": {
             "colorbar": {
              "outlinewidth": 0,
              "ticks": ""
             }
            },
            "type": "parcoords"
           }
          ],
          "pie": [
           {
            "automargin": true,
            "type": "pie"
           }
          ],
          "scatter": [
           {
            "fillpattern": {
             "fillmode": "overlay",
             "size": 10,
             "solidity": 0.2
            },
            "type": "scatter"
           }
          ],
          "scatter3d": [
           {
            "line": {
             "colorbar": {
              "outlinewidth": 0,
              "ticks": ""
             }
            },
            "marker": {
             "colorbar": {
              "outlinewidth": 0,
              "ticks": ""
             }
            },
            "type": "scatter3d"
           }
          ],
          "scattercarpet": [
           {
            "marker": {
             "colorbar": {
              "outlinewidth": 0,
              "ticks": ""
             }
            },
            "type": "scattercarpet"
           }
          ],
          "scattergeo": [
           {
            "marker": {
             "colorbar": {
              "outlinewidth": 0,
              "ticks": ""
             }
            },
            "type": "scattergeo"
           }
          ],
          "scattergl": [
           {
            "marker": {
             "colorbar": {
              "outlinewidth": 0,
              "ticks": ""
             }
            },
            "type": "scattergl"
           }
          ],
          "scattermapbox": [
           {
            "marker": {
             "colorbar": {
              "outlinewidth": 0,
              "ticks": ""
             }
            },
            "type": "scattermapbox"
           }
          ],
          "scatterpolar": [
           {
            "marker": {
             "colorbar": {
              "outlinewidth": 0,
              "ticks": ""
             }
            },
            "type": "scatterpolar"
           }
          ],
          "scatterpolargl": [
           {
            "marker": {
             "colorbar": {
              "outlinewidth": 0,
              "ticks": ""
             }
            },
            "type": "scatterpolargl"
           }
          ],
          "scatterternary": [
           {
            "marker": {
             "colorbar": {
              "outlinewidth": 0,
              "ticks": ""
             }
            },
            "type": "scatterternary"
           }
          ],
          "surface": [
           {
            "colorbar": {
             "outlinewidth": 0,
             "ticks": ""
            },
            "colorscale": [
             [
              0,
              "#0d0887"
             ],
             [
              0.1111111111111111,
              "#46039f"
             ],
             [
              0.2222222222222222,
              "#7201a8"
             ],
             [
              0.3333333333333333,
              "#9c179e"
             ],
             [
              0.4444444444444444,
              "#bd3786"
             ],
             [
              0.5555555555555556,
              "#d8576b"
             ],
             [
              0.6666666666666666,
              "#ed7953"
             ],
             [
              0.7777777777777778,
              "#fb9f3a"
             ],
             [
              0.8888888888888888,
              "#fdca26"
             ],
             [
              1,
              "#f0f921"
             ]
            ],
            "type": "surface"
           }
          ],
          "table": [
           {
            "cells": {
             "fill": {
              "color": "#EBF0F8"
             },
             "line": {
              "color": "white"
             }
            },
            "header": {
             "fill": {
              "color": "#C8D4E3"
             },
             "line": {
              "color": "white"
             }
            },
            "type": "table"
           }
          ]
         },
         "layout": {
          "annotationdefaults": {
           "arrowcolor": "#2a3f5f",
           "arrowhead": 0,
           "arrowwidth": 1
          },
          "autotypenumbers": "strict",
          "coloraxis": {
           "colorbar": {
            "outlinewidth": 0,
            "ticks": ""
           }
          },
          "colorscale": {
           "diverging": [
            [
             0,
             "#8e0152"
            ],
            [
             0.1,
             "#c51b7d"
            ],
            [
             0.2,
             "#de77ae"
            ],
            [
             0.3,
             "#f1b6da"
            ],
            [
             0.4,
             "#fde0ef"
            ],
            [
             0.5,
             "#f7f7f7"
            ],
            [
             0.6,
             "#e6f5d0"
            ],
            [
             0.7,
             "#b8e186"
            ],
            [
             0.8,
             "#7fbc41"
            ],
            [
             0.9,
             "#4d9221"
            ],
            [
             1,
             "#276419"
            ]
           ],
           "sequential": [
            [
             0,
             "#0d0887"
            ],
            [
             0.1111111111111111,
             "#46039f"
            ],
            [
             0.2222222222222222,
             "#7201a8"
            ],
            [
             0.3333333333333333,
             "#9c179e"
            ],
            [
             0.4444444444444444,
             "#bd3786"
            ],
            [
             0.5555555555555556,
             "#d8576b"
            ],
            [
             0.6666666666666666,
             "#ed7953"
            ],
            [
             0.7777777777777778,
             "#fb9f3a"
            ],
            [
             0.8888888888888888,
             "#fdca26"
            ],
            [
             1,
             "#f0f921"
            ]
           ],
           "sequentialminus": [
            [
             0,
             "#0d0887"
            ],
            [
             0.1111111111111111,
             "#46039f"
            ],
            [
             0.2222222222222222,
             "#7201a8"
            ],
            [
             0.3333333333333333,
             "#9c179e"
            ],
            [
             0.4444444444444444,
             "#bd3786"
            ],
            [
             0.5555555555555556,
             "#d8576b"
            ],
            [
             0.6666666666666666,
             "#ed7953"
            ],
            [
             0.7777777777777778,
             "#fb9f3a"
            ],
            [
             0.8888888888888888,
             "#fdca26"
            ],
            [
             1,
             "#f0f921"
            ]
           ]
          },
          "colorway": [
           "#636efa",
           "#EF553B",
           "#00cc96",
           "#ab63fa",
           "#FFA15A",
           "#19d3f3",
           "#FF6692",
           "#B6E880",
           "#FF97FF",
           "#FECB52"
          ],
          "font": {
           "color": "#2a3f5f"
          },
          "geo": {
           "bgcolor": "white",
           "lakecolor": "white",
           "landcolor": "#E5ECF6",
           "showlakes": true,
           "showland": true,
           "subunitcolor": "white"
          },
          "hoverlabel": {
           "align": "left"
          },
          "hovermode": "closest",
          "mapbox": {
           "style": "light"
          },
          "paper_bgcolor": "white",
          "plot_bgcolor": "#E5ECF6",
          "polar": {
           "angularaxis": {
            "gridcolor": "white",
            "linecolor": "white",
            "ticks": ""
           },
           "bgcolor": "#E5ECF6",
           "radialaxis": {
            "gridcolor": "white",
            "linecolor": "white",
            "ticks": ""
           }
          },
          "scene": {
           "xaxis": {
            "backgroundcolor": "#E5ECF6",
            "gridcolor": "white",
            "gridwidth": 2,
            "linecolor": "white",
            "showbackground": true,
            "ticks": "",
            "zerolinecolor": "white"
           },
           "yaxis": {
            "backgroundcolor": "#E5ECF6",
            "gridcolor": "white",
            "gridwidth": 2,
            "linecolor": "white",
            "showbackground": true,
            "ticks": "",
            "zerolinecolor": "white"
           },
           "zaxis": {
            "backgroundcolor": "#E5ECF6",
            "gridcolor": "white",
            "gridwidth": 2,
            "linecolor": "white",
            "showbackground": true,
            "ticks": "",
            "zerolinecolor": "white"
           }
          },
          "shapedefaults": {
           "line": {
            "color": "#2a3f5f"
           }
          },
          "ternary": {
           "aaxis": {
            "gridcolor": "white",
            "linecolor": "white",
            "ticks": ""
           },
           "baxis": {
            "gridcolor": "white",
            "linecolor": "white",
            "ticks": ""
           },
           "bgcolor": "#E5ECF6",
           "caxis": {
            "gridcolor": "white",
            "linecolor": "white",
            "ticks": ""
           }
          },
          "title": {
           "x": 0.05
          },
          "xaxis": {
           "automargin": true,
           "gridcolor": "white",
           "linecolor": "white",
           "ticks": "",
           "title": {
            "standoff": 15
           },
           "zerolinecolor": "white",
           "zerolinewidth": 2
          },
          "yaxis": {
           "automargin": true,
           "gridcolor": "white",
           "linecolor": "white",
           "ticks": "",
           "title": {
            "standoff": 15
           },
           "zerolinecolor": "white",
           "zerolinewidth": 2
          }
         }
        },
        "title": {
         "text": "Locations of the Breweries of the monthly Top Beers"
        },
        "updatemenus": [
         {
          "buttons": [
           {
            "args": [
             null,
             {
              "frame": {
               "duration": 500,
               "redraw": true
              },
              "fromcurrent": true,
              "mode": "immediate",
              "transition": {
               "duration": 500,
               "easing": "linear"
              }
             }
            ],
            "label": "&#9654;",
            "method": "animate"
           },
           {
            "args": [
             [
              null
             ],
             {
              "frame": {
               "duration": 0,
               "redraw": true
              },
              "fromcurrent": true,
              "mode": "immediate",
              "transition": {
               "duration": 0,
               "easing": "linear"
              }
             }
            ],
            "label": "&#9724;",
            "method": "animate"
           }
          ],
          "direction": "left",
          "pad": {
           "r": 10,
           "t": 70
          },
          "showactive": false,
          "type": "buttons",
          "x": 0.1,
          "xanchor": "right",
          "y": 0,
          "yanchor": "top"
         }
        ],
        "width": 800
       }
      }
     },
     "metadata": {},
     "output_type": "display_data"
    }
   ],
   "source": [
    "# in order for month slider to be strictly increasing\n",
    "ratings_MonthLocationCUT_df = ratings_MonthLocationCUT_df.sort_values(by='month', ascending=True)\n",
    "\n",
    "fig = px.scatter_geo(ratings_MonthLocationCUT_df, \n",
    "                     lat='lat', \n",
    "                     lon='lon', \n",
    "                     # color='month', \n",
    "                     size='count',  # size of points determined by 'count' column\n",
    "                     title='Locations of the Breweries of the monthly Top Beers between 2005 and 2016', \n",
    "                     # color_continuous_scale='Viridis', \n",
    "                     hover_data={'lon': False, 'lat': False, 'brewery_location': True, 'month': False},\n",
    "                     animation_frame='month')  # add a slider for 'month' column\n",
    "\n",
    "fig.update_layout(width=800, height=600)\n",
    "\n",
    "fig.show()\n",
    "\n",
    "fig.to_html(full_html=False, include_plotlyjs='cdn')\n",
    "# Saves a html doc that you can copy paste\n",
    "fig.write_html(\"MonthlyBreweryLocation.html\", full_html=False, include_plotlyjs='cdn')"
   ]
  },
  {
   "cell_type": "markdown",
   "metadata": {},
   "source": [
    "From the scatter plot, it quickly becomes visible that breweries in United States, California frequently have produced the best rated beer. Let's investigate this a bit closer."
   ]
  },
  {
   "cell_type": "code",
   "execution_count": 81,
   "metadata": {},
   "outputs": [
    {
     "name": "stdout",
     "output_type": "stream",
     "text": [
      "Minimum count for United States, California: 4\n",
      "Maximum count for United States, California: 9\n",
      "Average count for United States, California: 7.08\n",
      "Percentage of top beers from United States, California among all top beers: 59.03\n"
     ]
    }
   ],
   "source": [
    "# minimum count for the location United States, California\n",
    "min_count = ratings_MonthLocationCUT_df[ratings_MonthLocationCUT_df['brewery_location'] == 'United States, California']['count'].min()\n",
    "max_count = ratings_MonthLocationCUT_df[ratings_MonthLocationCUT_df['brewery_location'] == 'United States, California']['count'].max()\n",
    "avg_count = ratings_MonthLocationCUT_df[ratings_MonthLocationCUT_df['brewery_location'] == 'United States, California']['count'].mean()\n",
    "numYears = 2016 - 2005 + 1\n",
    "print('Minimum count for United States, California:', min_count)\n",
    "print('Maximum count for United States, California:', max_count)\n",
    "print('Average count for United States, California:', round(avg_count, 2))\n",
    "print('Percentage of top beers from United States, California among all top beers:', round((avg_count / numYears) * 100, 2))\n"
   ]
  },
  {
   "cell_type": "markdown",
   "metadata": {},
   "source": [
    "As a matter of fact, lets do this for all locations."
   ]
  },
  {
   "cell_type": "code",
   "execution_count": 82,
   "metadata": {},
   "outputs": [
    {
     "name": "stdout",
     "output_type": "stream",
     "text": [
      "14\n"
     ]
    }
   ],
   "source": [
    "locationAVG_df = ratings_MonthLocationCUT_df.copy()\n",
    "locationAVG_df = locationAVG_df.groupby('brewery_location').agg({'count': 'mean'}).reset_index()\n",
    "locationAVG_df = locationAVG_df.sort_values(by='count', ascending=False)\n",
    "numYears = 2016 - 2005 + 1\n",
    "locationAVG_df['percentage'] = (locationAVG_df['count'] / numYears) * 100\n",
    "print(len(locationAVG_df))"
   ]
  },
  {
   "cell_type": "code",
   "execution_count": 83,
   "metadata": {},
   "outputs": [
    {
     "data": {
      "image/png": "[encoded data removed]",
      "text/plain": [
       "<Figure size 1500x600 with 1 Axes>"
      ]
     },
     "metadata": {},
     "output_type": "display_data"
    }
   ],
   "source": [
    "# Set the figure size\n",
    "plt.figure(figsize=(15, 6))\n",
    "\n",
    "# Plot the bar chart\n",
    "sns.barplot(x='percentage', y='brewery_location', data=locationAVG_df)\n",
    "\n",
    "# Set the labels and title\n",
    "plt.xlabel('Percentage')\n",
    "plt.ylabel('Brewery Location')\n",
    "plt.title('Percentage of top beers per location among all top beers in the years 2005-2016')\n",
    "\n",
    "# Adjust the layout and display the plot\n",
    "plt.tight_layout()\n",
    "plt.show()"
   ]
  },
  {
   "cell_type": "markdown",
   "metadata": {},
   "source": [
    "Is there a single month for which the location of the brewery of the average top beer for that month does not come from the US? Lets find out."
   ]
  },
  {
   "cell_type": "code",
   "execution_count": 84,
   "metadata": {},
   "outputs": [
    {
     "name": "stdout",
     "output_type": "stream",
     "text": [
      "There is a month for which the most top beers for that month come from a brewery outside the US: False\n"
     ]
    }
   ],
   "source": [
    "singleLocationMonthCUT_df = ratings_MonthLocationCUT_df.copy()\n",
    "\n",
    "# sort by month and count\n",
    "singleLocationMonthCUT_df = singleLocationMonthCUT_df.sort_values(by=['month', 'count'], ascending=[True, False])\n",
    "\n",
    "# group by month and take first instance of each group\n",
    "singleLocationMonthCUT_df = singleLocationMonthCUT_df.groupby('month').first().reset_index()\n",
    "\n",
    "# display all locations which dont start with United States\n",
    "print('There is a month for which the most top beers for that month come from a brewery outside the US: {}'.format(not(singleLocationMonthCUT_df[~singleLocationMonthCUT_df['brewery_location'].str.startswith('United States')].empty)))"
   ]
  },
  {
   "cell_type": "markdown",
   "metadata": {},
   "source": [
    "By the two plots above it becomes obvious that it is most frequently the US, that is home to the breweries which produce the top beer of the month. How does this relate to the fact that we only chose reviews by users located in the US? One could assume that they would be more likely to review or even favor beers by US breweries. Lets see if the location of the brewery has a significant impact on the rating by performing an observational study."
   ]
  },
  {
   "cell_type": "markdown",
   "metadata": {},
   "source": [
    "## Observational Study"
   ]
  },
  {
   "cell_type": "markdown",
   "metadata": {},
   "source": [
    "The idea is to balance the covariates by calculating the propensity score of each review, using all covariates except for the rating and the location of the brewery corresponding to the beer reviewed. Reviews with similar propensity scores are then matched between the groups of beers produced by breweries within the US to those produced by breweries outside the US in order to determine if any statistically significance can be attributed to the location of the brewery being in the US."
   ]
  },
  {
   "cell_type": "code",
   "execution_count": 85,
   "metadata": {},
   "outputs": [
    {
     "data": {
      "text/plain": [
       "Index(['beer_name', 'beer_id', 'brewery_id', 'brewery_name', 'style', 'date',\n",
       "       'user_id', 'user_name', 'appearance', 'aroma', 'palate', 'taste',\n",
       "       'overall', 'rating', 'text', 'year', 'month', 'year_month',\n",
       "       'new_id_beer', 'new_id_brewery', 'abv', 'brewery_location', 'dataset',\n",
       "       'good_review'],\n",
       "      dtype='object')"
      ]
     },
     "execution_count": 85,
     "metadata": {},
     "output_type": "execute_result"
    }
   ],
   "source": [
    "ratings_combinedLOCATION_df.columns"
   ]
  },
  {
   "cell_type": "markdown",
   "metadata": {},
   "source": [
    "Covariates that should be matched / included to calculate the propensity score:\n",
    "- style\n",
    "- month\n",
    "- abv\n",
    "- dataset"
   ]
  },
  {
   "cell_type": "markdown",
   "metadata": {},
   "source": [
    "Since the dataset is very bulky, the size is reduced by only considering reviews from 2005 to 2016 and only sampling 5%"
   ]
  },
  {
   "cell_type": "code",
   "execution_count": 109,
   "metadata": {},
   "outputs": [
    {
     "name": "stdout",
     "output_type": "stream",
     "text": [
      "Number of ratings before sampling: 4865783\n",
      "Number of ratings after sampling: 243289\n"
     ]
    },
    {
     "data": {
      "text/html": [
       "<div>\n",
       "<style scoped>\n",
       "    .dataframe tbody tr th:only-of-type {\n",
       "        vertical-align: middle;\n",
       "    }\n",
       "\n",
       "    .dataframe tbody tr th {\n",
       "        vertical-align: top;\n",
       "    }\n",
       "\n",
       "    .dataframe thead th {\n",
       "        text-align: right;\n",
       "    }\n",
       "</style>\n",
       "<table border=\"1\" class=\"dataframe\">\n",
       "  <thead>\n",
       "    <tr style=\"text-align: right;\">\n",
       "      <th></th>\n",
       "      <th>beer_name</th>\n",
       "      <th>brewery_name</th>\n",
       "      <th>style</th>\n",
       "      <th>rating</th>\n",
       "      <th>year</th>\n",
       "      <th>month</th>\n",
       "      <th>new_id_beer</th>\n",
       "      <th>abv</th>\n",
       "      <th>brewery_location</th>\n",
       "      <th>dataset</th>\n",
       "      <th>good_review</th>\n",
       "      <th>US_location</th>\n",
       "    </tr>\n",
       "  </thead>\n",
       "  <tbody>\n",
       "    <tr>\n",
       "      <th>2069848</th>\n",
       "      <td>Old Brewery Pale Ale</td>\n",
       "      <td>Nelson Brewing Company</td>\n",
       "      <td>American Pale Ale (APA)</td>\n",
       "      <td>0.750000</td>\n",
       "      <td>2006</td>\n",
       "      <td>3</td>\n",
       "      <td>8ba62e541bfd02554ca92dd676631f3eb1e77e1d04b0dd...</td>\n",
       "      <td>5.0</td>\n",
       "      <td>Canada</td>\n",
       "      <td>BeerAdvocate</td>\n",
       "      <td>True</td>\n",
       "      <td>False</td>\n",
       "    </tr>\n",
       "    <tr>\n",
       "      <th>1242690</th>\n",
       "      <td>Blue Point Summer Ale</td>\n",
       "      <td>Blue Point Brewing Company</td>\n",
       "      <td>American Blonde Ale</td>\n",
       "      <td>0.595000</td>\n",
       "      <td>2012</td>\n",
       "      <td>8</td>\n",
       "      <td>3f0b384f1a9898fade56a5834c1d1ec89c6a5b7ed2bff4...</td>\n",
       "      <td>4.4</td>\n",
       "      <td>United States, New York</td>\n",
       "      <td>BeerAdvocate</td>\n",
       "      <td>False</td>\n",
       "      <td>True</td>\n",
       "    </tr>\n",
       "    <tr>\n",
       "      <th>2983104</th>\n",
       "      <td>Hi-Wire Strongman Coffee Milk Stout</td>\n",
       "      <td>Hi-Wire Brewing</td>\n",
       "      <td>Stout</td>\n",
       "      <td>0.711111</td>\n",
       "      <td>2016</td>\n",
       "      <td>1</td>\n",
       "      <td>a749b00ea9be669746da99fee715a6b86a8fe68d0469e4...</td>\n",
       "      <td>5.3</td>\n",
       "      <td>United States, North Carolina</td>\n",
       "      <td>RateBeer</td>\n",
       "      <td>True</td>\n",
       "      <td>True</td>\n",
       "    </tr>\n",
       "    <tr>\n",
       "      <th>3173239</th>\n",
       "      <td>Southampton Imperial Russian Stout</td>\n",
       "      <td>Southampton Publick House</td>\n",
       "      <td>Imperial Stout</td>\n",
       "      <td>0.866667</td>\n",
       "      <td>2009</td>\n",
       "      <td>12</td>\n",
       "      <td>dcb8dc709f06861db18ceeb67be1d483fbe1cb153a8fcf...</td>\n",
       "      <td>10.5</td>\n",
       "      <td>United States, New York</td>\n",
       "      <td>RateBeer</td>\n",
       "      <td>True</td>\n",
       "      <td>True</td>\n",
       "    </tr>\n",
       "    <tr>\n",
       "      <th>1397475</th>\n",
       "      <td>Weihenstephaner Festbier</td>\n",
       "      <td>Bayerische Staatsbrauerei Weihenstephan</td>\n",
       "      <td>Märzen / Oktoberfest</td>\n",
       "      <td>0.812500</td>\n",
       "      <td>2014</td>\n",
       "      <td>8</td>\n",
       "      <td>ded6287856a95f137de1963dffad847e42c775b781c1c6...</td>\n",
       "      <td>5.8</td>\n",
       "      <td>Germany</td>\n",
       "      <td>BeerAdvocate</td>\n",
       "      <td>True</td>\n",
       "      <td>False</td>\n",
       "    </tr>\n",
       "  </tbody>\n",
       "</table>\n",
       "</div>"
      ],
      "text/plain": [
       "                                   beer_name  \\\n",
       "2069848                 Old Brewery Pale Ale   \n",
       "1242690                Blue Point Summer Ale   \n",
       "2983104  Hi-Wire Strongman Coffee Milk Stout   \n",
       "3173239   Southampton Imperial Russian Stout   \n",
       "1397475             Weihenstephaner Festbier   \n",
       "\n",
       "                                    brewery_name                    style  \\\n",
       "2069848                   Nelson Brewing Company  American Pale Ale (APA)   \n",
       "1242690               Blue Point Brewing Company      American Blonde Ale   \n",
       "2983104                          Hi-Wire Brewing                    Stout   \n",
       "3173239                Southampton Publick House           Imperial Stout   \n",
       "1397475  Bayerische Staatsbrauerei Weihenstephan     Märzen / Oktoberfest   \n",
       "\n",
       "           rating  year  month  \\\n",
       "2069848  0.750000  2006      3   \n",
       "1242690  0.595000  2012      8   \n",
       "2983104  0.711111  2016      1   \n",
       "3173239  0.866667  2009     12   \n",
       "1397475  0.812500  2014      8   \n",
       "\n",
       "                                               new_id_beer   abv  \\\n",
       "2069848  8ba62e541bfd02554ca92dd676631f3eb1e77e1d04b0dd...   5.0   \n",
       "1242690  3f0b384f1a9898fade56a5834c1d1ec89c6a5b7ed2bff4...   4.4   \n",
       "2983104  a749b00ea9be669746da99fee715a6b86a8fe68d0469e4...   5.3   \n",
       "3173239  dcb8dc709f06861db18ceeb67be1d483fbe1cb153a8fcf...  10.5   \n",
       "1397475  ded6287856a95f137de1963dffad847e42c775b781c1c6...   5.8   \n",
       "\n",
       "                      brewery_location       dataset  good_review  US_location  \n",
       "2069848                         Canada  BeerAdvocate         True        False  \n",
       "1242690        United States, New York  BeerAdvocate        False         True  \n",
       "2983104  United States, North Carolina      RateBeer         True         True  \n",
       "3173239        United States, New York      RateBeer         True         True  \n",
       "1397475                        Germany  BeerAdvocate         True        False  "
      ]
     },
     "execution_count": 109,
     "metadata": {},
     "output_type": "execute_result"
    }
   ],
   "source": [
    "ratings_obsStudy_df = ratings_combinedLOCATION_df.copy()\n",
    "ratings_obsStudy_df.drop(columns=['beer_id', 'brewery_id', 'date', 'user_id', 'user_name', 'appearance', 'aroma', 'palate', 'taste', 'overall', 'text', 'year_month', 'new_id_brewery'], inplace=True)\n",
    "# only keep ratings from 2005 to 2016\n",
    "ratings_obsStudy_df = ratings_obsStudy_df[ratings_obsStudy_df['year'] >= 2005]\n",
    "ratings_obsStudy_df = ratings_obsStudy_df[ratings_obsStudy_df['year'] <= 2016]\n",
    "# only keep 10% of the ratings\n",
    "print('Number of ratings before sampling:', ratings_obsStudy_df.shape[0])\n",
    "ratings_obsStudy_df = ratings_obsStudy_df.sample(frac=0.05, random_state=42)\n",
    "print('Number of ratings after sampling:', ratings_obsStudy_df.shape[0])\n",
    "# create a column US_location which is True if the location is in the US and False otherwise\n",
    "ratings_obsStudy_df['US_location'] = ratings_obsStudy_df['brewery_location'].str.startswith('United States')\n",
    "ratings_obsStudy_df.head()"
   ]
  },
  {
   "cell_type": "markdown",
   "metadata": {},
   "source": [
    "Next we would have liked to perform a logistic regression to get the propensity score of each entry. For this we would have fit a model taking the variables declared above to the variable US_location, which indicates if a beer is coming from a brewery within the US. However this approach is not feasible as it is computationally too intense and crashes the kernel."
   ]
  },
  {
   "cell_type": "code",
   "execution_count": 110,
   "metadata": {},
   "outputs": [],
   "source": [
    "# import statsmodels.formula.api as smf\n",
    "\n",
    "# mod = smf.logit(formula='US_location ~ style + year + month + abv + dataset', data=ratings_obsStudy_df)\n",
    "# res = mod.fit()\n",
    "\n",
    "# Adding the propensity score to the dataframe\n",
    "# atings_obsStudy_df['propensity_score'] = res.predict(ratings_obsStudy_df)"
   ]
  },
  {
   "cell_type": "markdown",
   "metadata": {},
   "source": [
    "Instead we now opt for Stratification to obtain the propensity scores.  \n",
    "In our case it is done as follows:\n",
    "- Divide your dataset into strata based on relevant covariates:\n",
    "    - Style\n",
    "    - Alcohol Content (abv, binned otherwise too many strata --> overfitting)\n",
    "    - Month\n",
    "    - Dataset\n",
    "- Within each stratum, calculate the proportion of US and non-US beers.\n",
    "- Assign each review a propensity score based on the proportion of reviews of US beers in its stratum."
   ]
  },
  {
   "cell_type": "code",
   "execution_count": 111,
   "metadata": {},
   "outputs": [],
   "source": [
    "# ratings_obsStudy_df['strata'] = pd.qcut(ratings_obsStudy_df['propensity_score'], 10)\n",
    "\n",
    "# create a column abv_bin which maps the continuous values of abv to bins of size 2\n",
    "ratings_obsStudy_df['abv_bin'] = pd.cut(ratings_obsStudy_df['abv'], bins=np.arange(0, 100, 2))\n",
    "\n",
    "# Create a new column 'strata' that combines 'style', 'abv', 'year', 'month' and 'dataset'\n",
    "ratings_obsStudy_df['strata'] = ratings_obsStudy_df['style'].astype(str) + '_' + \\\n",
    "                                ratings_obsStudy_df['abv_bin'].astype(str) + '_' + \\\n",
    "                                ratings_obsStudy_df['month'].astype(str) + '_' + \\\n",
    "                                ratings_obsStudy_df['dataset'].astype(str)"
   ]
  },
  {
   "cell_type": "code",
   "execution_count": 112,
   "metadata": {},
   "outputs": [
    {
     "data": {
      "text/html": [
       "<div>\n",
       "<style scoped>\n",
       "    .dataframe tbody tr th:only-of-type {\n",
       "        vertical-align: middle;\n",
       "    }\n",
       "\n",
       "    .dataframe tbody tr th {\n",
       "        vertical-align: top;\n",
       "    }\n",
       "\n",
       "    .dataframe thead th {\n",
       "        text-align: right;\n",
       "    }\n",
       "</style>\n",
       "<table border=\"1\" class=\"dataframe\">\n",
       "  <thead>\n",
       "    <tr style=\"text-align: right;\">\n",
       "      <th></th>\n",
       "      <th>beer_name</th>\n",
       "      <th>brewery_name</th>\n",
       "      <th>style</th>\n",
       "      <th>rating</th>\n",
       "      <th>year</th>\n",
       "      <th>month</th>\n",
       "      <th>new_id_beer</th>\n",
       "      <th>abv</th>\n",
       "      <th>brewery_location</th>\n",
       "      <th>dataset</th>\n",
       "      <th>good_review</th>\n",
       "      <th>US_location</th>\n",
       "      <th>abv_bin</th>\n",
       "      <th>strata</th>\n",
       "    </tr>\n",
       "  </thead>\n",
       "  <tbody>\n",
       "    <tr>\n",
       "      <th>208541</th>\n",
       "      <td>Tactical Nuclear Penguin</td>\n",
       "      <td>BrewDog</td>\n",
       "      <td>American Double / Imperial Stout</td>\n",
       "      <td>0.600000</td>\n",
       "      <td>2010</td>\n",
       "      <td>9</td>\n",
       "      <td>d102ce0ce93e70fb0ad19ecbd90ab70d4776ce0a0c3dcf...</td>\n",
       "      <td>32.00</td>\n",
       "      <td>Scotland</td>\n",
       "      <td>BeerAdvocate</td>\n",
       "      <td>False</td>\n",
       "      <td>False</td>\n",
       "      <td>(30, 32]</td>\n",
       "      <td>American Double / Imperial Stout_(30, 32]_9_Be...</td>\n",
       "    </tr>\n",
       "    <tr>\n",
       "      <th>981304</th>\n",
       "      <td>Samuel Adams Utopias</td>\n",
       "      <td>Boston Beer Company (Samuel Adams)</td>\n",
       "      <td>American Strong Ale</td>\n",
       "      <td>1.000000</td>\n",
       "      <td>2016</td>\n",
       "      <td>11</td>\n",
       "      <td>f9afe142f75bb813750ea3e52f1274b87451b2cf6de7d1...</td>\n",
       "      <td>29.00</td>\n",
       "      <td>United States, Massachusetts</td>\n",
       "      <td>BeerAdvocate</td>\n",
       "      <td>True</td>\n",
       "      <td>True</td>\n",
       "      <td>(28, 30]</td>\n",
       "      <td>American Strong Ale_(28, 30]_11_BeerAdvocate</td>\n",
       "    </tr>\n",
       "    <tr>\n",
       "      <th>3196309</th>\n",
       "      <td>DuClaw Colossus (2006 &amp; 2011)</td>\n",
       "      <td>DuClaw Brewing Company</td>\n",
       "      <td>American Strong Ale</td>\n",
       "      <td>0.711111</td>\n",
       "      <td>2009</td>\n",
       "      <td>8</td>\n",
       "      <td>bfe604486e53599f5fe1d67fd725f99d11adcaeaf1788c...</td>\n",
       "      <td>21.92</td>\n",
       "      <td>United States, Maryland</td>\n",
       "      <td>RateBeer</td>\n",
       "      <td>True</td>\n",
       "      <td>True</td>\n",
       "      <td>(20, 22]</td>\n",
       "      <td>American Strong Ale_(20, 22]_8_RateBeer</td>\n",
       "    </tr>\n",
       "    <tr>\n",
       "      <th>1528407</th>\n",
       "      <td>Samuel Adams Utopias</td>\n",
       "      <td>Boston Beer Company (Samuel Adams)</td>\n",
       "      <td>American Strong Ale</td>\n",
       "      <td>0.707500</td>\n",
       "      <td>2011</td>\n",
       "      <td>12</td>\n",
       "      <td>f9afe142f75bb813750ea3e52f1274b87451b2cf6de7d1...</td>\n",
       "      <td>29.00</td>\n",
       "      <td>United States, Massachusetts</td>\n",
       "      <td>BeerAdvocate</td>\n",
       "      <td>False</td>\n",
       "      <td>True</td>\n",
       "      <td>(28, 30]</td>\n",
       "      <td>American Strong Ale_(28, 30]_12_BeerAdvocate</td>\n",
       "    </tr>\n",
       "    <tr>\n",
       "      <th>554103</th>\n",
       "      <td>Samuel Adams Utopias</td>\n",
       "      <td>Boston Beer Company (Samuel Adams)</td>\n",
       "      <td>American Strong Ale</td>\n",
       "      <td>0.807500</td>\n",
       "      <td>2012</td>\n",
       "      <td>12</td>\n",
       "      <td>f9afe142f75bb813750ea3e52f1274b87451b2cf6de7d1...</td>\n",
       "      <td>29.00</td>\n",
       "      <td>United States, Massachusetts</td>\n",
       "      <td>BeerAdvocate</td>\n",
       "      <td>True</td>\n",
       "      <td>True</td>\n",
       "      <td>(28, 30]</td>\n",
       "      <td>American Strong Ale_(28, 30]_12_BeerAdvocate</td>\n",
       "    </tr>\n",
       "  </tbody>\n",
       "</table>\n",
       "</div>"
      ],
      "text/plain": [
       "                             beer_name                        brewery_name  \\\n",
       "208541        Tactical Nuclear Penguin                             BrewDog   \n",
       "981304            Samuel Adams Utopias  Boston Beer Company (Samuel Adams)   \n",
       "3196309  DuClaw Colossus (2006 & 2011)              DuClaw Brewing Company   \n",
       "1528407           Samuel Adams Utopias  Boston Beer Company (Samuel Adams)   \n",
       "554103            Samuel Adams Utopias  Boston Beer Company (Samuel Adams)   \n",
       "\n",
       "                                    style    rating  year  month  \\\n",
       "208541   American Double / Imperial Stout  0.600000  2010      9   \n",
       "981304                American Strong Ale  1.000000  2016     11   \n",
       "3196309               American Strong Ale  0.711111  2009      8   \n",
       "1528407               American Strong Ale  0.707500  2011     12   \n",
       "554103                American Strong Ale  0.807500  2012     12   \n",
       "\n",
       "                                               new_id_beer    abv  \\\n",
       "208541   d102ce0ce93e70fb0ad19ecbd90ab70d4776ce0a0c3dcf...  32.00   \n",
       "981304   f9afe142f75bb813750ea3e52f1274b87451b2cf6de7d1...  29.00   \n",
       "3196309  bfe604486e53599f5fe1d67fd725f99d11adcaeaf1788c...  21.92   \n",
       "1528407  f9afe142f75bb813750ea3e52f1274b87451b2cf6de7d1...  29.00   \n",
       "554103   f9afe142f75bb813750ea3e52f1274b87451b2cf6de7d1...  29.00   \n",
       "\n",
       "                     brewery_location       dataset  good_review  US_location  \\\n",
       "208541                       Scotland  BeerAdvocate        False        False   \n",
       "981304   United States, Massachusetts  BeerAdvocate         True         True   \n",
       "3196309       United States, Maryland      RateBeer         True         True   \n",
       "1528407  United States, Massachusetts  BeerAdvocate        False         True   \n",
       "554103   United States, Massachusetts  BeerAdvocate         True         True   \n",
       "\n",
       "          abv_bin                                             strata  \n",
       "208541   (30, 32]  American Double / Imperial Stout_(30, 32]_9_Be...  \n",
       "981304   (28, 30]       American Strong Ale_(28, 30]_11_BeerAdvocate  \n",
       "3196309  (20, 22]            American Strong Ale_(20, 22]_8_RateBeer  \n",
       "1528407  (28, 30]       American Strong Ale_(28, 30]_12_BeerAdvocate  \n",
       "554103   (28, 30]       American Strong Ale_(28, 30]_12_BeerAdvocate  "
      ]
     },
     "execution_count": 112,
     "metadata": {},
     "output_type": "execute_result"
    }
   ],
   "source": [
    "ratings_obsStudy_df[ratings_obsStudy_df['abv'] >= 20].head()"
   ]
  },
  {
   "cell_type": "markdown",
   "metadata": {},
   "source": [
    "Assign to each strata a propensity score based on the fraction of review of beers that are from the US. This fraction equals the mean of the US_location column as it consists of booleans (0s or 1s)."
   ]
  },
  {
   "cell_type": "code",
   "execution_count": 113,
   "metadata": {},
   "outputs": [
    {
     "data": {
      "text/html": [
       "<div>\n",
       "<style scoped>\n",
       "    .dataframe tbody tr th:only-of-type {\n",
       "        vertical-align: middle;\n",
       "    }\n",
       "\n",
       "    .dataframe tbody tr th {\n",
       "        vertical-align: top;\n",
       "    }\n",
       "\n",
       "    .dataframe thead th {\n",
       "        text-align: right;\n",
       "    }\n",
       "</style>\n",
       "<table border=\"1\" class=\"dataframe\">\n",
       "  <thead>\n",
       "    <tr style=\"text-align: right;\">\n",
       "      <th></th>\n",
       "      <th>beer_name</th>\n",
       "      <th>brewery_name</th>\n",
       "      <th>style</th>\n",
       "      <th>rating</th>\n",
       "      <th>year</th>\n",
       "      <th>month</th>\n",
       "      <th>new_id_beer</th>\n",
       "      <th>abv</th>\n",
       "      <th>brewery_location</th>\n",
       "      <th>dataset</th>\n",
       "      <th>good_review</th>\n",
       "      <th>US_location</th>\n",
       "      <th>abv_bin</th>\n",
       "      <th>strata</th>\n",
       "      <th>propensity_score</th>\n",
       "    </tr>\n",
       "  </thead>\n",
       "  <tbody>\n",
       "    <tr>\n",
       "      <th>2069848</th>\n",
       "      <td>Old Brewery Pale Ale</td>\n",
       "      <td>Nelson Brewing Company</td>\n",
       "      <td>American Pale Ale (APA)</td>\n",
       "      <td>0.750000</td>\n",
       "      <td>2006</td>\n",
       "      <td>3</td>\n",
       "      <td>8ba62e541bfd02554ca92dd676631f3eb1e77e1d04b0dd...</td>\n",
       "      <td>5.0</td>\n",
       "      <td>Canada</td>\n",
       "      <td>BeerAdvocate</td>\n",
       "      <td>True</td>\n",
       "      <td>False</td>\n",
       "      <td>(4, 6]</td>\n",
       "      <td>American Pale Ale (APA)_(4, 6]_3_BeerAdvocate</td>\n",
       "      <td>0.974729</td>\n",
       "    </tr>\n",
       "    <tr>\n",
       "      <th>1242690</th>\n",
       "      <td>Blue Point Summer Ale</td>\n",
       "      <td>Blue Point Brewing Company</td>\n",
       "      <td>American Blonde Ale</td>\n",
       "      <td>0.595000</td>\n",
       "      <td>2012</td>\n",
       "      <td>8</td>\n",
       "      <td>3f0b384f1a9898fade56a5834c1d1ec89c6a5b7ed2bff4...</td>\n",
       "      <td>4.4</td>\n",
       "      <td>United States, New York</td>\n",
       "      <td>BeerAdvocate</td>\n",
       "      <td>False</td>\n",
       "      <td>True</td>\n",
       "      <td>(4, 6]</td>\n",
       "      <td>American Blonde Ale_(4, 6]_8_BeerAdvocate</td>\n",
       "      <td>0.927536</td>\n",
       "    </tr>\n",
       "    <tr>\n",
       "      <th>2983104</th>\n",
       "      <td>Hi-Wire Strongman Coffee Milk Stout</td>\n",
       "      <td>Hi-Wire Brewing</td>\n",
       "      <td>Stout</td>\n",
       "      <td>0.711111</td>\n",
       "      <td>2016</td>\n",
       "      <td>1</td>\n",
       "      <td>a749b00ea9be669746da99fee715a6b86a8fe68d0469e4...</td>\n",
       "      <td>5.3</td>\n",
       "      <td>United States, North Carolina</td>\n",
       "      <td>RateBeer</td>\n",
       "      <td>True</td>\n",
       "      <td>True</td>\n",
       "      <td>(4, 6]</td>\n",
       "      <td>Stout_(4, 6]_1_RateBeer</td>\n",
       "      <td>0.739130</td>\n",
       "    </tr>\n",
       "    <tr>\n",
       "      <th>3173239</th>\n",
       "      <td>Southampton Imperial Russian Stout</td>\n",
       "      <td>Southampton Publick House</td>\n",
       "      <td>Imperial Stout</td>\n",
       "      <td>0.866667</td>\n",
       "      <td>2009</td>\n",
       "      <td>12</td>\n",
       "      <td>dcb8dc709f06861db18ceeb67be1d483fbe1cb153a8fcf...</td>\n",
       "      <td>10.5</td>\n",
       "      <td>United States, New York</td>\n",
       "      <td>RateBeer</td>\n",
       "      <td>True</td>\n",
       "      <td>True</td>\n",
       "      <td>(10, 12]</td>\n",
       "      <td>Imperial Stout_(10, 12]_12_RateBeer</td>\n",
       "      <td>0.859223</td>\n",
       "    </tr>\n",
       "    <tr>\n",
       "      <th>1397475</th>\n",
       "      <td>Weihenstephaner Festbier</td>\n",
       "      <td>Bayerische Staatsbrauerei Weihenstephan</td>\n",
       "      <td>Märzen / Oktoberfest</td>\n",
       "      <td>0.812500</td>\n",
       "      <td>2014</td>\n",
       "      <td>8</td>\n",
       "      <td>ded6287856a95f137de1963dffad847e42c775b781c1c6...</td>\n",
       "      <td>5.8</td>\n",
       "      <td>Germany</td>\n",
       "      <td>BeerAdvocate</td>\n",
       "      <td>True</td>\n",
       "      <td>False</td>\n",
       "      <td>(4, 6]</td>\n",
       "      <td>Märzen / Oktoberfest_(4, 6]_8_BeerAdvocate</td>\n",
       "      <td>0.826923</td>\n",
       "    </tr>\n",
       "  </tbody>\n",
       "</table>\n",
       "</div>"
      ],
      "text/plain": [
       "                                   beer_name  \\\n",
       "2069848                 Old Brewery Pale Ale   \n",
       "1242690                Blue Point Summer Ale   \n",
       "2983104  Hi-Wire Strongman Coffee Milk Stout   \n",
       "3173239   Southampton Imperial Russian Stout   \n",
       "1397475             Weihenstephaner Festbier   \n",
       "\n",
       "                                    brewery_name                    style  \\\n",
       "2069848                   Nelson Brewing Company  American Pale Ale (APA)   \n",
       "1242690               Blue Point Brewing Company      American Blonde Ale   \n",
       "2983104                          Hi-Wire Brewing                    Stout   \n",
       "3173239                Southampton Publick House           Imperial Stout   \n",
       "1397475  Bayerische Staatsbrauerei Weihenstephan     Märzen / Oktoberfest   \n",
       "\n",
       "           rating  year  month  \\\n",
       "2069848  0.750000  2006      3   \n",
       "1242690  0.595000  2012      8   \n",
       "2983104  0.711111  2016      1   \n",
       "3173239  0.866667  2009     12   \n",
       "1397475  0.812500  2014      8   \n",
       "\n",
       "                                               new_id_beer   abv  \\\n",
       "2069848  8ba62e541bfd02554ca92dd676631f3eb1e77e1d04b0dd...   5.0   \n",
       "1242690  3f0b384f1a9898fade56a5834c1d1ec89c6a5b7ed2bff4...   4.4   \n",
       "2983104  a749b00ea9be669746da99fee715a6b86a8fe68d0469e4...   5.3   \n",
       "3173239  dcb8dc709f06861db18ceeb67be1d483fbe1cb153a8fcf...  10.5   \n",
       "1397475  ded6287856a95f137de1963dffad847e42c775b781c1c6...   5.8   \n",
       "\n",
       "                      brewery_location       dataset  good_review  \\\n",
       "2069848                         Canada  BeerAdvocate         True   \n",
       "1242690        United States, New York  BeerAdvocate        False   \n",
       "2983104  United States, North Carolina      RateBeer         True   \n",
       "3173239        United States, New York      RateBeer         True   \n",
       "1397475                        Germany  BeerAdvocate         True   \n",
       "\n",
       "         US_location   abv_bin                                         strata  \\\n",
       "2069848        False    (4, 6]  American Pale Ale (APA)_(4, 6]_3_BeerAdvocate   \n",
       "1242690         True    (4, 6]      American Blonde Ale_(4, 6]_8_BeerAdvocate   \n",
       "2983104         True    (4, 6]                        Stout_(4, 6]_1_RateBeer   \n",
       "3173239         True  (10, 12]            Imperial Stout_(10, 12]_12_RateBeer   \n",
       "1397475        False    (4, 6]     Märzen / Oktoberfest_(4, 6]_8_BeerAdvocate   \n",
       "\n",
       "         propensity_score  \n",
       "2069848          0.974729  \n",
       "1242690          0.927536  \n",
       "2983104          0.739130  \n",
       "3173239          0.859223  \n",
       "1397475          0.826923  "
      ]
     },
     "execution_count": 113,
     "metadata": {},
     "output_type": "execute_result"
    }
   ],
   "source": [
    "ratings_obsStudy_df['propensity_score'] = ratings_obsStudy_df.groupby('strata')['US_location'].transform('mean')\n",
    "ratings_obsStudy_df.head()"
   ]
  },
  {
   "cell_type": "code",
   "execution_count": 114,
   "metadata": {},
   "outputs": [],
   "source": [
    "# maybe the kernel wont crash if we bin the propensity scores in bins of size 0.05\n",
    "ratings_obsStudy_df['propensity_score_bin'] = pd.cut(ratings_obsStudy_df['propensity_score'], bins=np.arange(0, 1.05, 0.05))\n",
    "# set the propensity score bins to the upper bound of the bin\n",
    "ratings_obsStudy_df['propensity_score_bin'] = ratings_obsStudy_df['propensity_score_bin'].apply(lambda x: x.right)"
   ]
  },
  {
   "cell_type": "code",
   "execution_count": 115,
   "metadata": {},
   "outputs": [
    {
     "data": {
      "text/html": [
       "<div>\n",
       "<style scoped>\n",
       "    .dataframe tbody tr th:only-of-type {\n",
       "        vertical-align: middle;\n",
       "    }\n",
       "\n",
       "    .dataframe tbody tr th {\n",
       "        vertical-align: top;\n",
       "    }\n",
       "\n",
       "    .dataframe thead th {\n",
       "        text-align: right;\n",
       "    }\n",
       "</style>\n",
       "<table border=\"1\" class=\"dataframe\">\n",
       "  <thead>\n",
       "    <tr style=\"text-align: right;\">\n",
       "      <th></th>\n",
       "      <th>beer_name</th>\n",
       "      <th>brewery_name</th>\n",
       "      <th>style</th>\n",
       "      <th>rating</th>\n",
       "      <th>year</th>\n",
       "      <th>month</th>\n",
       "      <th>new_id_beer</th>\n",
       "      <th>abv</th>\n",
       "      <th>brewery_location</th>\n",
       "      <th>dataset</th>\n",
       "      <th>good_review</th>\n",
       "      <th>US_location</th>\n",
       "      <th>abv_bin</th>\n",
       "      <th>strata</th>\n",
       "      <th>propensity_score</th>\n",
       "      <th>propensity_score_bin</th>\n",
       "    </tr>\n",
       "  </thead>\n",
       "  <tbody>\n",
       "    <tr>\n",
       "      <th>2069848</th>\n",
       "      <td>Old Brewery Pale Ale</td>\n",
       "      <td>Nelson Brewing Company</td>\n",
       "      <td>American Pale Ale (APA)</td>\n",
       "      <td>0.750000</td>\n",
       "      <td>2006</td>\n",
       "      <td>3</td>\n",
       "      <td>8ba62e541bfd02554ca92dd676631f3eb1e77e1d04b0dd...</td>\n",
       "      <td>5.0</td>\n",
       "      <td>Canada</td>\n",
       "      <td>BeerAdvocate</td>\n",
       "      <td>True</td>\n",
       "      <td>False</td>\n",
       "      <td>(4, 6]</td>\n",
       "      <td>American Pale Ale (APA)_(4, 6]_3_BeerAdvocate</td>\n",
       "      <td>0.974729</td>\n",
       "      <td>1.00</td>\n",
       "    </tr>\n",
       "    <tr>\n",
       "      <th>1242690</th>\n",
       "      <td>Blue Point Summer Ale</td>\n",
       "      <td>Blue Point Brewing Company</td>\n",
       "      <td>American Blonde Ale</td>\n",
       "      <td>0.595000</td>\n",
       "      <td>2012</td>\n",
       "      <td>8</td>\n",
       "      <td>3f0b384f1a9898fade56a5834c1d1ec89c6a5b7ed2bff4...</td>\n",
       "      <td>4.4</td>\n",
       "      <td>United States, New York</td>\n",
       "      <td>BeerAdvocate</td>\n",
       "      <td>False</td>\n",
       "      <td>True</td>\n",
       "      <td>(4, 6]</td>\n",
       "      <td>American Blonde Ale_(4, 6]_8_BeerAdvocate</td>\n",
       "      <td>0.927536</td>\n",
       "      <td>0.95</td>\n",
       "    </tr>\n",
       "    <tr>\n",
       "      <th>2983104</th>\n",
       "      <td>Hi-Wire Strongman Coffee Milk Stout</td>\n",
       "      <td>Hi-Wire Brewing</td>\n",
       "      <td>Stout</td>\n",
       "      <td>0.711111</td>\n",
       "      <td>2016</td>\n",
       "      <td>1</td>\n",
       "      <td>a749b00ea9be669746da99fee715a6b86a8fe68d0469e4...</td>\n",
       "      <td>5.3</td>\n",
       "      <td>United States, North Carolina</td>\n",
       "      <td>RateBeer</td>\n",
       "      <td>True</td>\n",
       "      <td>True</td>\n",
       "      <td>(4, 6]</td>\n",
       "      <td>Stout_(4, 6]_1_RateBeer</td>\n",
       "      <td>0.739130</td>\n",
       "      <td>0.75</td>\n",
       "    </tr>\n",
       "    <tr>\n",
       "      <th>3173239</th>\n",
       "      <td>Southampton Imperial Russian Stout</td>\n",
       "      <td>Southampton Publick House</td>\n",
       "      <td>Imperial Stout</td>\n",
       "      <td>0.866667</td>\n",
       "      <td>2009</td>\n",
       "      <td>12</td>\n",
       "      <td>dcb8dc709f06861db18ceeb67be1d483fbe1cb153a8fcf...</td>\n",
       "      <td>10.5</td>\n",
       "      <td>United States, New York</td>\n",
       "      <td>RateBeer</td>\n",
       "      <td>True</td>\n",
       "      <td>True</td>\n",
       "      <td>(10, 12]</td>\n",
       "      <td>Imperial Stout_(10, 12]_12_RateBeer</td>\n",
       "      <td>0.859223</td>\n",
       "      <td>0.90</td>\n",
       "    </tr>\n",
       "    <tr>\n",
       "      <th>1397475</th>\n",
       "      <td>Weihenstephaner Festbier</td>\n",
       "      <td>Bayerische Staatsbrauerei Weihenstephan</td>\n",
       "      <td>Märzen / Oktoberfest</td>\n",
       "      <td>0.812500</td>\n",
       "      <td>2014</td>\n",
       "      <td>8</td>\n",
       "      <td>ded6287856a95f137de1963dffad847e42c775b781c1c6...</td>\n",
       "      <td>5.8</td>\n",
       "      <td>Germany</td>\n",
       "      <td>BeerAdvocate</td>\n",
       "      <td>True</td>\n",
       "      <td>False</td>\n",
       "      <td>(4, 6]</td>\n",
       "      <td>Märzen / Oktoberfest_(4, 6]_8_BeerAdvocate</td>\n",
       "      <td>0.826923</td>\n",
       "      <td>0.85</td>\n",
       "    </tr>\n",
       "  </tbody>\n",
       "</table>\n",
       "</div>"
      ],
      "text/plain": [
       "                                   beer_name  \\\n",
       "2069848                 Old Brewery Pale Ale   \n",
       "1242690                Blue Point Summer Ale   \n",
       "2983104  Hi-Wire Strongman Coffee Milk Stout   \n",
       "3173239   Southampton Imperial Russian Stout   \n",
       "1397475             Weihenstephaner Festbier   \n",
       "\n",
       "                                    brewery_name                    style  \\\n",
       "2069848                   Nelson Brewing Company  American Pale Ale (APA)   \n",
       "1242690               Blue Point Brewing Company      American Blonde Ale   \n",
       "2983104                          Hi-Wire Brewing                    Stout   \n",
       "3173239                Southampton Publick House           Imperial Stout   \n",
       "1397475  Bayerische Staatsbrauerei Weihenstephan     Märzen / Oktoberfest   \n",
       "\n",
       "           rating  year  month  \\\n",
       "2069848  0.750000  2006      3   \n",
       "1242690  0.595000  2012      8   \n",
       "2983104  0.711111  2016      1   \n",
       "3173239  0.866667  2009     12   \n",
       "1397475  0.812500  2014      8   \n",
       "\n",
       "                                               new_id_beer   abv  \\\n",
       "2069848  8ba62e541bfd02554ca92dd676631f3eb1e77e1d04b0dd...   5.0   \n",
       "1242690  3f0b384f1a9898fade56a5834c1d1ec89c6a5b7ed2bff4...   4.4   \n",
       "2983104  a749b00ea9be669746da99fee715a6b86a8fe68d0469e4...   5.3   \n",
       "3173239  dcb8dc709f06861db18ceeb67be1d483fbe1cb153a8fcf...  10.5   \n",
       "1397475  ded6287856a95f137de1963dffad847e42c775b781c1c6...   5.8   \n",
       "\n",
       "                      brewery_location       dataset  good_review  \\\n",
       "2069848                         Canada  BeerAdvocate         True   \n",
       "1242690        United States, New York  BeerAdvocate        False   \n",
       "2983104  United States, North Carolina      RateBeer         True   \n",
       "3173239        United States, New York      RateBeer         True   \n",
       "1397475                        Germany  BeerAdvocate         True   \n",
       "\n",
       "         US_location   abv_bin                                         strata  \\\n",
       "2069848        False    (4, 6]  American Pale Ale (APA)_(4, 6]_3_BeerAdvocate   \n",
       "1242690         True    (4, 6]      American Blonde Ale_(4, 6]_8_BeerAdvocate   \n",
       "2983104         True    (4, 6]                        Stout_(4, 6]_1_RateBeer   \n",
       "3173239         True  (10, 12]            Imperial Stout_(10, 12]_12_RateBeer   \n",
       "1397475        False    (4, 6]     Märzen / Oktoberfest_(4, 6]_8_BeerAdvocate   \n",
       "\n",
       "         propensity_score propensity_score_bin  \n",
       "2069848          0.974729                 1.00  \n",
       "1242690          0.927536                 0.95  \n",
       "2983104          0.739130                 0.75  \n",
       "3173239          0.859223                 0.90  \n",
       "1397475          0.826923                 0.85  "
      ]
     },
     "execution_count": 115,
     "metadata": {},
     "output_type": "execute_result"
    }
   ],
   "source": [
    "ratings_obsStudy_df.head()"
   ]
  },
  {
   "cell_type": "markdown",
   "metadata": {},
   "source": [
    "Now, let's create a function to compute similarity, based on propensity score. To do this, we want to minimize the difference between propensity scores according to the following formula:\n",
    "\n",
    "$$similarity(propensity\\_score1, propensity\\_score2) = 1 - |propensity\\_score1 - propensity\\_score2|$$\n",
    "\n"
   ]
  },
  {
   "cell_type": "code",
   "execution_count": 128,
   "metadata": {},
   "outputs": [],
   "source": [
    "def get_similarity(propensity_score1, propensity_score2):\n",
    "    return 1 - np.abs(propensity_score1 - propensity_score2)"
   ]
  },
  {
   "cell_type": "markdown",
   "metadata": {},
   "source": [
    "We now separate treatment and control group."
   ]
  },
  {
   "cell_type": "code",
   "execution_count": 129,
   "metadata": {},
   "outputs": [],
   "source": [
    "treatment_group = ratings_obsStudy_df[ratings_obsStudy_df['US_location'] == True]\n",
    "control_group = ratings_obsStudy_df[ratings_obsStudy_df['US_location'] == False]"
   ]
  },
  {
   "cell_type": "markdown",
   "metadata": {},
   "source": [
    "Now, we loop over all possible pairs (treatment, control) and compute their similarity, based on the propensity score. We will represent it with a Graph. Each treatment node is linked to a control node with an edge which weight is the similarity between the nodes."
   ]
  },
  {
   "cell_type": "markdown",
   "metadata": {},
   "source": [
    "Let's create the Graph."
   ]
  },
  {
   "cell_type": "code",
   "execution_count": 130,
   "metadata": {},
   "outputs": [],
   "source": [
    "# import networkx as nx\n",
    "\n",
    "G = nx.Graph()"
   ]
  },
  {
   "cell_type": "code",
   "execution_count": 131,
   "metadata": {},
   "outputs": [],
   "source": [
    "# for control_id, control_row in control_group.iterrows():\n",
    "#     for treatment_id, treatment_row in treatment_group.iterrows():\n",
    "\n",
    "#         # compute the similarity between the control and treatement instances.\n",
    "#         similarity = get_similarity(treatment_row['propensity_score'], control_row['propensity_score'])\n",
    "\n",
    "#         # We add an edge between control and treatment instance, weighted by their similarity\n",
    "#         G.add_weighted_edges_from([(control_id, treatment_id, similarity)])"
   ]
  },
  {
   "cell_type": "code",
   "execution_count": 142,
   "metadata": {},
   "outputs": [],
   "source": [
    "# potentially optimized version of the above code\n",
    "\n",
    "# control_scores and treatment_scores need to be of the same size\n",
    "if len(control_group) > len(treatment_group):\n",
    "    control_scores = control_group.sample(n=len(treatment_group), random_state=42)\n",
    "    control_scores = control_scores['propensity_score'].values\n",
    "    treatment_scores = treatment_group['propensity_score'].values\n",
    "    print('control_scores is bigger')\n",
    "if len(control_group) < len(treatment_group):\n",
    "    treatment_scores = treatment_group.sample(n=len(control_group), random_state=42)\n",
    "    treatment_scores = treatment_scores['propensity_score'].values\n",
    "    control_scores = control_group['propensity_score'].values\n",
    "\n",
    "similarities = get_similarity(treatment_scores, control_scores)\n",
    "\n",
    "G.add_weighted_edges_from(zip(control_group.index, treatment_group.index, similarities))"
   ]
  },
  {
   "cell_type": "markdown",
   "metadata": {},
   "source": [
    "Let's now compute the matching."
   ]
  },
  {
   "cell_type": "code",
   "execution_count": 143,
   "metadata": {},
   "outputs": [],
   "source": [
    "matching = list(nx.max_weight_matching(G))\n",
    "\n",
    "# all reviews that have a 'match'\n",
    "matched_reviews = ([m[0] for m in matching] + [m[1] for m in matching])\n",
    "\n",
    "# dataframe of matched reviews only\n",
    "matched_df = (ratings_obsStudy_df.loc[matched_reviews]).sort_index()\n",
    "\n",
    "display(matched_df)"
   ]
  },
  {
   "cell_type": "code",
   "execution_count": null,
   "metadata": {},
   "outputs": [],
   "source": [
    "# calculate the linear regression of \"good_review ~ US_location\"\n",
    "mod = smf.ols(formula='good_review ~ US_location', data=matched_df)\n",
    "res = mod.fit()\n",
    "print(f\"Model Summary: \\n {mod.summary()} \\n\")\n",
    "print(f'p-value: {res.pvalues[\"US_location\"]:.3f}')\n",
    "print(f'Reject null hypothesis (alpha = 0.05): {res.pvalues[\"US_location\"] < 0.05}')"
   ]
  },
  {
   "cell_type": "markdown",
   "metadata": {},
   "source": [
    "# whoopwhooop"
   ]
  },
  {
   "cell_type": "markdown",
   "metadata": {},
   "source": [
    "For the dataframe that also groups the years together we rank according to month, highest average_rating and good_review_count"
   ]
  },
  {
   "cell_type": "code",
   "execution_count": 85,
   "metadata": {},
   "outputs": [],
   "source": [
    "# rank dataframe\n",
    "ratings_mergeBeerMonth_df = ratings_mergeBeerMonth_df.sort_values(by=['month', 'good_review_count', 'average_rating'], ascending=[True, False, False])\n",
    "\n",
    "ratings_rankBeerMonth_df = ratings_mergeBeerMonth_df.copy()\n",
    "\n",
    "# to obtain the top beer for each month, group by month and take the first instance of each month\n",
    "ratings_rankBeerMonth_df = ratings_rankBeerMonth_df.groupby('month').first().reset_index()"
   ]
  },
  {
   "cell_type": "markdown",
   "metadata": {},
   "source": [
    "List the location for each month"
   ]
  },
  {
   "cell_type": "code",
   "execution_count": 86,
   "metadata": {},
   "outputs": [
    {
     "name": "stdout",
     "output_type": "stream",
     "text": [
      "Month: 1\n",
      "          brewery_location\n",
      "0  United States, Michigan\n",
      "Month: 2\n",
      "          brewery_location\n",
      "1  United States, Michigan\n",
      "Month: 3\n",
      "              brewery_location\n",
      "2  United States, Pennsylvania\n",
      "Month: 4\n",
      "          brewery_location\n",
      "3  United States, Michigan\n",
      "Month: 5\n",
      "            brewery_location\n",
      "4  United States, California\n",
      "Month: 6\n",
      "            brewery_location\n",
      "5  United States, California\n",
      "Month: 7\n",
      "            brewery_location\n",
      "6  United States, California\n",
      "Month: 8\n",
      "            brewery_location\n",
      "7  United States, California\n",
      "Month: 9\n",
      "  brewery_location\n",
      "8          Germany\n",
      "Month: 10\n",
      "          brewery_location\n",
      "9  United States, Michigan\n",
      "Month: 11\n",
      "             brewery_location\n",
      "10  United States, California\n",
      "Month: 12\n",
      "             brewery_location\n",
      "11  United States, California\n"
     ]
    }
   ],
   "source": [
    "# list the location for each month\n",
    "for month in range(1, 13):\n",
    "    print('Month:', month)\n",
    "    print(ratings_rankBeerMonth_df[ratings_rankBeerMonth_df['month'] == month][['brewery_location']])"
   ]
  },
  {
   "cell_type": "markdown",
   "metadata": {},
   "source": [
    "Plot the locations of the top beers for each month."
   ]
  },
  {
   "cell_type": "code",
   "execution_count": 87,
   "metadata": {},
   "outputs": [
    {
     "data": {
      "image/png": "[encoded data removed]",
      "text/plain": [
       "<Figure size 500x200 with 1 Axes>"
      ]
     },
     "metadata": {},
     "output_type": "display_data"
    }
   ],
   "source": [
    "# to group all states in the US together only take the first part of the location\n",
    "shortened_top_locations = ratings_rankBeerMonth_df['brewery_location'].str.split(',').str[0]\n",
    "\n",
    "# plot the top locations\n",
    "plt.figure(figsize=(5, 2))\n",
    "sns.countplot(shortened_top_locations, order=shortened_top_locations.value_counts().index)\n",
    "plt.title('Top Locations')\n",
    "plt.xticks(rotation=45)\n",
    "plt.show()"
   ]
  },
  {
   "cell_type": "code",
   "execution_count": 88,
   "metadata": {},
   "outputs": [
    {
     "data": {
      "text/html": [
       "<div>\n",
       "<style scoped>\n",
       "    .dataframe tbody tr th:only-of-type {\n",
       "        vertical-align: middle;\n",
       "    }\n",
       "\n",
       "    .dataframe tbody tr th {\n",
       "        vertical-align: top;\n",
       "    }\n",
       "\n",
       "    .dataframe thead th {\n",
       "        text-align: right;\n",
       "    }\n",
       "</style>\n",
       "<table border=\"1\" class=\"dataframe\">\n",
       "  <thead>\n",
       "    <tr style=\"text-align: right;\">\n",
       "      <th></th>\n",
       "      <th>month</th>\n",
       "      <th>beer_name</th>\n",
       "      <th>brewery_name</th>\n",
       "      <th>brewery_location</th>\n",
       "      <th>style</th>\n",
       "      <th>average_rating</th>\n",
       "      <th>total_ratings</th>\n",
       "      <th>good_review_count</th>\n",
       "      <th>new_id_beer</th>\n",
       "    </tr>\n",
       "  </thead>\n",
       "  <tbody>\n",
       "    <tr>\n",
       "      <th>8</th>\n",
       "      <td>9</td>\n",
       "      <td>Ayinger Oktober Fest-Märzen</td>\n",
       "      <td>Brauerei Aying</td>\n",
       "      <td>Germany</td>\n",
       "      <td>Oktoberfest/Märzen</td>\n",
       "      <td>0.720714</td>\n",
       "      <td>719</td>\n",
       "      <td>542</td>\n",
       "      <td>ac9e4412a97b0b8229323576abe8caa82f12959bebc0a9...</td>\n",
       "    </tr>\n",
       "  </tbody>\n",
       "</table>\n",
       "</div>"
      ],
      "text/plain": [
       "   month                    beer_name    brewery_name brewery_location  \\\n",
       "8      9  Ayinger Oktober Fest-Märzen  Brauerei Aying          Germany   \n",
       "\n",
       "                style  average_rating  total_ratings  good_review_count  \\\n",
       "8  Oktoberfest/Märzen        0.720714            719                542   \n",
       "\n",
       "                                         new_id_beer  \n",
       "8  ac9e4412a97b0b8229323576abe8caa82f12959bebc0a9...  "
      ]
     },
     "metadata": {},
     "output_type": "display_data"
    }
   ],
   "source": [
    "# show the month for which the top beer is from germany\n",
    "display(ratings_rankBeerMonth_df[ratings_rankBeerMonth_df['brewery_location'] == 'Germany'])"
   ]
  },
  {
   "cell_type": "markdown",
   "metadata": {},
   "source": [
    "The top beer for the month of September is an Oktoberfest-style beer while this is not the case for the month of October. Interestingly the bigger part of Oktoberfest actually happens during September and not October, which might explain this fact. Also the assumption can be made that Oktoberfest-style beers are reviewed in the events building up to the Oktoberfest rather than after the Oktoberfest as the information that can be gained from such a review can be seen as most valuable right before the event."
   ]
  }
 ],
 "metadata": {
  "kernelspec": {
   "display_name": "Python 3 (ipykernel)",
   "language": "python",
   "name": "python3"
  },
  "language_info": {
   "codemirror_mode": {
    "name": "ipython",
    "version": 3
   },
   "file_extension": ".py",
   "mimetype": "text/x-python",
   "name": "python",
   "nbconvert_exporter": "python",
   "pygments_lexer": "ipython3",
   "version": "3.8.5"
  }
 },
 "nbformat": 4,
 "nbformat_minor": 2
}
