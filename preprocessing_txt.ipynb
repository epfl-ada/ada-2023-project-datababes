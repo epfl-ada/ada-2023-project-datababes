{
 "cells": [
  {
   "cell_type": "markdown",
   "metadata": {},
   "source": [
    "# Preprocessing"
   ]
  },
  {
   "cell_type": "markdown",
   "metadata": {},
   "source": [
    "By looking at the datasets, we observe that the reviews are grouped in a txt file, i.e. 'ratings.txt', for the two websites. \n",
    "To keep as much as reviews as possible, we decide to use those txt files and convert them to CSV files for easier manipulation. \n",
    "\n",
    "The 'ratings.txt' from BeerAdvocate is named 'ratings_BA.csv' and the 'ratings.txt' from RateBeer is named 'ratings_RB.csv'."
   ]
  },
  {
   "cell_type": "code",
   "execution_count": null,
   "metadata": {},
   "outputs": [],
   "source": [
    "# imports\n",
    "\n",
    "import pandas as pd \n",
    "import numpy as np"
   ]
  },
  {
   "cell_type": "markdown",
   "metadata": {},
   "source": [
    "### BeerAdvocate file"
   ]
  },
  {
   "cell_type": "code",
   "execution_count": null,
   "metadata": {},
   "outputs": [],
   "source": [
    "with open(\"./data/BeerAdvocate/ratings.txt\") as f:\n",
    "  \n",
    "  for i, line in enumerate(f):\n",
    "    print(line)\n",
    "    if i > 20:\n",
    "      break"
   ]
  },
  {
   "cell_type": "markdown",
   "metadata": {},
   "source": [
    "We observe that we can construct a row containing all the infos of a rating with 18 lines of the txt file. "
   ]
  },
  {
   "cell_type": "code",
   "execution_count": null,
   "metadata": {},
   "outputs": [],
   "source": [
    "len = 0\n",
    "\n",
    "with open(\"./data/BeerAdvocate/ratings.txt\") as f:\n",
    "  for i, line in enumerate(f):\n",
    "    len += 1\n",
    "    if i > 151074570:\n",
    "      print(line)\n",
    "      \n",
    "true_length = len/18\n",
    "\n",
    "print(\"True length of the dataset :\", true_length)  # divide by 18 because there are 17 keys and every \"row\" is separated by a blank line (even at the end)"
   ]
  },
  {
   "cell_type": "markdown",
   "metadata": {},
   "source": [
    "We also find a potential length of the dataframe and use it to convert the txt to a dataframe"
   ]
  },
  {
   "cell_type": "code",
   "execution_count": null,
   "metadata": {},
   "outputs": [],
   "source": [
    "path = \"./data/BeerAdvocate/ratings.txt\"\n",
    "\n",
    "keys = ['beer_name','beer_id', 'brewery_id','brewery_name', \n",
    "        'style', 'date', 'user_id', 'user_name', 'appearance', 'aroma', 'palate', 'taste', 'overall', 'rating', 'text']"
   ]
  },
  {
   "cell_type": "code",
   "execution_count": 8,
   "metadata": {},
   "outputs": [],
   "source": [
    "def read_lines(file_path, start, end):\n",
    "    with open(file_path) as f:\n",
    "        for i, line in enumerate(f):\n",
    "            if start <= i < end and line.strip():\n",
    "                yield line.rstrip()\n",
    "\n",
    "def txt_to_df(min_row, max_row, path=path, keys=keys, nb_lines=18):\n",
    "    df_dict = {k: [] for k in keys}\n",
    "    \n",
    "    for line in read_lines(path, min_row * nb_lines, max_row * nb_lines):\n",
    "        key, value = line.split(\":\", maxsplit=1)\n",
    "        if key in df_dict:\n",
    "            df_dict[key].append(value.strip())\n",
    "\n",
    "    df = pd.DataFrame.from_dict(df_dict)\n",
    "    df.replace('nan', np.nan, inplace=True)\n",
    "    df.dropna(subset=['text'], inplace=True)\n",
    "    \n",
    "    return df"
   ]
  },
  {
   "cell_type": "code",
   "execution_count": 9,
   "metadata": {},
   "outputs": [],
   "source": [
    "df = pd.concat([txt_to_df(0, 3_000_000), txt_to_df(3_000_000, 6_000_000), txt_to_df(6_000_000, 9_000_000)], ignore_index=True)\n",
    "\n",
    "# Finally, we save the dataframe as a csv file\n",
    "df.to_csv(\"./data/BeerAdvocate/ratings_BA.csv\", index=False)"
   ]
  },
  {
   "cell_type": "markdown",
   "metadata": {},
   "source": [
    "### RateBeer file"
   ]
  },
  {
   "cell_type": "code",
   "execution_count": null,
   "metadata": {},
   "outputs": [],
   "source": [
    "with open(\"./data/RateBeer/ratings.txt\") as f:\n",
    "  \n",
    "  for i, line in enumerate(f):\n",
    "    print(line)\n",
    "    if i > 20:\n",
    "      break"
   ]
  },
  {
   "cell_type": "markdown",
   "metadata": {},
   "source": [
    "We find that there are approximately 17 lines to form a rating. "
   ]
  },
  {
   "cell_type": "code",
   "execution_count": null,
   "metadata": {},
   "outputs": [],
   "source": [
    "len = 0\n",
    "with open(\"./data/RateBeer/ratings.txt\") as f:\n",
    "  for i, line in enumerate(f):\n",
    "    len += 1\n",
    "    if i > 151074570:\n",
    "      print(line)\n",
    "      \n",
    "true_length = len/17\n",
    "\n",
    "print(\"True length of the dataset :\", true_length)"
   ]
  },
  {
   "cell_type": "code",
   "execution_count": 18,
   "metadata": {},
   "outputs": [],
   "source": [
    "path = \"./data/RateBeer/ratings.txt\"\n",
    "keys = ['beer_name','beer_id', 'brewery_id','brewery_name', \n",
    "        'style', 'date', 'user_id', 'user_name', 'appearance', 'aroma', 'palate', 'taste', 'overall', 'rating', 'text']\n",
    "\n",
    "df = pd.concat([txt_to_df(0, 3_000_000, nb_lines=17), txt_to_df(3_000_000, 6_000_000, nb_lines=17), txt_to_df(6_000_000, 9_000_000, nb_lines=17)], ignore_index=True)"
   ]
  },
  {
   "cell_type": "code",
   "execution_count": 25,
   "metadata": {},
   "outputs": [
    {
     "data": {
      "text/plain": [
       "beer_name       object\n",
       "beer_id         object\n",
       "brewery_id      object\n",
       "brewery_name    object\n",
       "style           object\n",
       "date            object\n",
       "user_id         object\n",
       "user_name       object\n",
       "appearance      object\n",
       "aroma           object\n",
       "palate          object\n",
       "taste           object\n",
       "overall         object\n",
       "rating          object\n",
       "text            object\n",
       "dtype: object"
      ]
     },
     "execution_count": 25,
     "metadata": {},
     "output_type": "execute_result"
    }
   ],
   "source": [
    "df.dtypes"
   ]
  },
  {
   "cell_type": "markdown",
   "metadata": {},
   "source": [
    "We need to convert the fields into the correct type. "
   ]
  },
  {
   "cell_type": "code",
   "execution_count": 26,
   "metadata": {},
   "outputs": [],
   "source": [
    "# convert date to int64 \n",
    "df['date'] = df['date'].astype('int64')\n",
    "\n",
    "# convert columns 'appearance', 'aroma', 'palate', 'taste', 'overall', 'rating' to float64\n",
    "df[['appearance', 'aroma', 'palate', 'taste', 'overall', 'rating']] = df[['appearance', 'aroma', 'palate', 'taste', 'overall', 'rating']].astype('float64')\n",
    "\n",
    "# convert beer_id, brewery_id to int64\n",
    "df[['beer_id', 'brewery_id']] = df[['beer_id', 'brewery_id']].astype('int64')"
   ]
  },
  {
   "cell_type": "code",
   "execution_count": 28,
   "metadata": {},
   "outputs": [
    {
     "data": {
      "text/plain": [
       "beer_name        object\n",
       "beer_id           int64\n",
       "brewery_id        int64\n",
       "brewery_name     object\n",
       "style            object\n",
       "date              int64\n",
       "user_id          object\n",
       "user_name        object\n",
       "appearance      float64\n",
       "aroma           float64\n",
       "palate          float64\n",
       "taste           float64\n",
       "overall         float64\n",
       "rating          float64\n",
       "text             object\n",
       "dtype: object"
      ]
     },
     "execution_count": 28,
     "metadata": {},
     "output_type": "execute_result"
    }
   ],
   "source": [
    "df.dtypes"
   ]
  },
  {
   "cell_type": "code",
   "execution_count": 29,
   "metadata": {},
   "outputs": [],
   "source": [
    "df.to_csv(\"./data/RateBeer/ratings_RB.csv\", index=False)"
   ]
  }
 ],
 "metadata": {
  "kernelspec": {
   "display_name": "Python 3",
   "language": "python",
   "name": "python3"
  },
  "language_info": {
   "codemirror_mode": {
    "name": "ipython",
    "version": 3
   },
   "file_extension": ".py",
   "mimetype": "text/x-python",
   "name": "python",
   "nbconvert_exporter": "python",
   "pygments_lexer": "ipython3",
   "version": "3.11.5"
  }
 },
 "nbformat": 4,
 "nbformat_minor": 2
}
