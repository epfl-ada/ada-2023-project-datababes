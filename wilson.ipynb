{
 "cells": [
  {
   "cell_type": "code",
   "execution_count": 28,
   "metadata": {},
   "outputs": [],
   "source": [
    "import pandas as pd \n",
    "import numpy as np\n",
    "\n",
    "import math\n",
    "import scipy.stats as st"
   ]
  },
  {
   "cell_type": "code",
   "execution_count": 14,
   "metadata": {},
   "outputs": [],
   "source": [
    "# loading the two datasets \n",
    "\n",
    "ratings_ba_df = pd.read_csv('data/BeerAdvocate/ratings_BA.csv')\n",
    "ratings_rb_df = pd.read_csv('data/RateBeer/ratings_RB.csv')\n",
    "\n",
    "\n",
    "# loading the users dataset \n",
    "\n",
    "users_ba_df = pd.read_csv('data/BeerAdvocate/users.csv')\n",
    "users_rb_df = pd.read_csv('data/RateBeer/users.csv')\n",
    "\n",
    "# loading the beers dataset\n",
    "\n",
    "beers_ba_df = pd.read_csv('data/BeerAdvocate/beers.csv')\n",
    "beers_rb_df = pd.read_csv('data/RateBeer/beers.csv')"
   ]
  },
  {
   "cell_type": "code",
   "execution_count": 15,
   "metadata": {},
   "outputs": [],
   "source": [
    "# Convert the date column to datetime format for BeerAdvocate\n",
    "ratings_ba_df['date'] = pd.to_datetime(ratings_ba_df['date'], unit='s')\n",
    "ratings_ba_df['year'] = ratings_ba_df['date'].dt.year\n",
    "ratings_ba_df['month'] = ratings_ba_df['date'].dt.month\n",
    "\n",
    "# Convert the date column to datetime format for RateBeer\n",
    "ratings_rb_df['date'] = pd.to_datetime(ratings_rb_df['date'], unit='s')\n",
    "ratings_rb_df['year'] = ratings_rb_df['date'].dt.year\n",
    "ratings_rb_df['month'] = ratings_rb_df['date'].dt.month"
   ]
  },
  {
   "cell_type": "markdown",
   "metadata": {},
   "source": [
    "## Filter on location"
   ]
  },
  {
   "cell_type": "code",
   "execution_count": 16,
   "metadata": {},
   "outputs": [],
   "source": [
    "users_rb_df['location'] = users_rb_df['location'].str.split(',').str[0]\n",
    "users_ba_df['location'] = users_ba_df['location'].str.split(',').str[0]\n",
    "\n",
    "US_country = 'United States'\n",
    "\n",
    "# keep only the rows where the user country is United States\n",
    "users_ba_df = users_ba_df[users_ba_df.location == US_country]\n",
    "users_rb_df = users_rb_df[users_rb_df.location == US_country]\n",
    "\n",
    "# merge the ratings and users data frames to get the location of the user for each rating\n",
    "ratings_users_ba_df = pd.merge(ratings_ba_df, users_ba_df[['user_id', 'location']], on='user_id', how='inner')\n",
    "ratings_users_rb_df = pd.merge(ratings_rb_df, users_rb_df[['user_id', 'location']], on='user_id', how='inner')\n",
    "\n",
    "# filter the ratings dataframes to only keep the popular ratings of the users from the US\n",
    "ratings_ba_df = ratings_users_ba_df[ratings_users_ba_df.location == US_country]\n",
    "ratings_ba_df.drop('location', axis=1, inplace=True)\n",
    "ratings_rb_df = ratings_users_rb_df[ratings_users_rb_df.location == US_country]\n",
    "ratings_rb_df.drop('location', axis=1, inplace=True)"
   ]
  },
  {
   "cell_type": "markdown",
   "metadata": {},
   "source": [
    "Since the distribution of the two datasets is different, i.e users are more harsher on the "
   ]
  },
  {
   "cell_type": "code",
   "execution_count": 17,
   "metadata": {},
   "outputs": [
    {
     "name": "stdout",
     "output_type": "stream",
     "text": [
      "Mean rating in BeerAdvocate: 3.846906563579535\n",
      "Mean rating in RateBeer: 3.3793541115704993\n"
     ]
    }
   ],
   "source": [
    "mean_ba = ratings_ba_df.rating.mean()\n",
    "mean_rb = ratings_rb_df.rating.mean()\n",
    "\n",
    "print(\"Mean rating in BeerAdvocate:\", mean_ba)\n",
    "print(\"Mean rating in RateBeer:\", mean_rb)"
   ]
  },
  {
   "cell_type": "code",
   "execution_count": 18,
   "metadata": {},
   "outputs": [
    {
     "name": "stdout",
     "output_type": "stream",
     "text": [
      "Number of beers in BeerAdvocate: 142593\n",
      "Number of beers in RateBeer: 232437\n",
      "Number of beers in common: 67861\n"
     ]
    }
   ],
   "source": [
    "# compute the count of similar beer_id in both datasets\n",
    "beer_ba = ratings_ba_df.beer_id.unique()\n",
    "beer_rb = ratings_rb_df.beer_id.unique()\n",
    "\n",
    "print(\"Number of beers in BeerAdvocate:\", len(beer_ba))\n",
    "print(\"Number of beers in RateBeer:\", len(beer_rb))\n",
    "\n",
    "# count the number of beer_id that are the same in the two datasets\n",
    "similar_beer = np.intersect1d(beer_ba, beer_rb)\n",
    "print(\"Number of beers in common:\", len(similar_beer))"
   ]
  },
  {
   "cell_type": "markdown",
   "metadata": {},
   "source": [
    "## Using the Lower Bound of Wilson "
   ]
  },
  {
   "cell_type": "markdown",
   "metadata": {},
   "source": [
    "To correctly rank the beers, we will consider the lower bound of Wilson score. \n",
    "Wilson lower bound score presents the usefulness value of a product/comment to the user with a 95% confidence interval (https://medium.com/@okanckaya/rating-products-sorting-reviews-aff32cbd29c1)."
   ]
  },
  {
   "cell_type": "markdown",
   "metadata": {},
   "source": [
    "Here we will consider as negative ratings (i.e bad ratings) the number of ratings that are below the average rating. And we will consider as positive rating (i.e. good rating) the number of ratings that are above the average. \n",
    "\n",
    "We will count separately the number of positive and negative ratings on the two datasets. "
   ]
  },
  {
   "cell_type": "code",
   "execution_count": 19,
   "metadata": {},
   "outputs": [],
   "source": [
    "def wilson_lower_bound (pos, neg, confidence=0.95):\n",
    "    n = pos + neg\n",
    "    if n == 0:\n",
    "        return 0\n",
    "    z = st.norm.ppf(1 - (1 - confidence) / 2)\n",
    "    phat = 1.0 * pos / n\n",
    "    return (phat + z * z / (2 * n) - z * math. sqrt ((phat * (1 - phat) + z * z / (4 * n)) / n)) / (1 + z * z / n)"
   ]
  },
  {
   "cell_type": "code",
   "execution_count": 20,
   "metadata": {},
   "outputs": [],
   "source": [
    "# for RateBeer dataset \n",
    "\n",
    "average_rating = ratings_rb_df.rating.mean()\n",
    "\n",
    "beer_rating_rb_df = ratings_rb_df.copy()\n",
    "\n",
    "beer_rating_rb_df['above_average'] = beer_rating_rb_df['rating'] > average_rating\n",
    "beer_rating_rb_df['below_average'] = beer_rating_rb_df['rating'] <= average_rating\n",
    "\n",
    "# group by beer_id and compute the average rating and the number of ratings for each beer\n",
    "beer_rating_rb_df = beer_rating_rb_df.groupby('beer_id').agg({'rating': 'mean', 'beer_id': 'count', 'above_average': 'sum', 'below_average': 'sum'})\n",
    "beer_rating_rb_df.rename(columns={'rating': 'average_rating', 'beer_id': 'count'}, inplace=True)\n",
    "beer_rating_rb_df.reset_index(inplace=True)\n",
    "\n",
    "# for BeerAdvocate dataset\n",
    "\n",
    "average_rating = ratings_ba_df.rating.mean()\n",
    "\n",
    "beer_rating_ba_df = ratings_ba_df.copy()\n",
    "\n",
    "beer_rating_ba_df['above_average'] = beer_rating_ba_df['rating'] > average_rating\n",
    "beer_rating_ba_df['below_average'] = beer_rating_ba_df['rating'] <= average_rating\n",
    "\n",
    "# group by beer_id and compute the average rating and the number of ratings for each beer\n",
    "beer_rating_ba_df = beer_rating_ba_df.groupby('beer_id').agg({'rating': 'mean', 'beer_id': 'count', 'above_average': 'sum', 'below_average': 'sum'})\n",
    "beer_rating_ba_df.rename(columns={'rating': 'average_rating', 'beer_id': 'count'}, inplace=True)\n",
    "beer_rating_ba_df.reset_index(inplace=True)"
   ]
  },
  {
   "cell_type": "code",
   "execution_count": 23,
   "metadata": {},
   "outputs": [],
   "source": [
    "# merge the two dataframes to get the average rating and the number of ratings for each beer in both datasets\n",
    "beer_rating_df = pd.merge(beer_rating_rb_df, beer_rating_ba_df, on='beer_id', how='inner')\n",
    "beer_rating_df.rename(columns={'average_rating_x': 'average_rating_rb', 'count_x': 'count_rb', 'above_average_x': 'above_average_rb', 'below_average_x': 'below_average_rb', 'average_rating_y': 'average_rating_ba', 'count_y': 'count_ba', 'above_average_y': 'above_average_ba', 'below_average_y': 'below_average_ba'}, inplace=True)\n"
   ]
  },
  {
   "cell_type": "code",
   "execution_count": 25,
   "metadata": {},
   "outputs": [],
   "source": [
    "# for each beer_id, compute the average rating of average_rating_rb and average_rating_ba\n",
    "beer_rating_df['average_rating'] = (beer_rating_df['average_rating_rb'] + beer_rating_df['average_rating_ba']) / 2\n",
    "beer_rating_df['count'] = beer_rating_df['count_rb'] + beer_rating_df['count_ba']\n",
    "beer_rating_df['above_average'] = beer_rating_df['above_average_rb'] + beer_rating_df['above_average_ba']\n",
    "beer_rating_df['below_average'] = beer_rating_df['below_average_rb'] + beer_rating_df['below_average_ba']\n",
    "\n",
    "# drop the columns that are not needed anymore\n",
    "beer_rating_df.drop(['average_rating_rb', 'average_rating_ba', 'count_rb', 'count_ba', 'above_average_rb', 'above_average_ba', 'below_average_rb', 'below_average_ba'], axis=1, inplace=True)"
   ]
  },
  {
   "cell_type": "code",
   "execution_count": 29,
   "metadata": {},
   "outputs": [
    {
     "data": {
      "text/html": [
       "<div>\n",
       "<style scoped>\n",
       "    .dataframe tbody tr th:only-of-type {\n",
       "        vertical-align: middle;\n",
       "    }\n",
       "\n",
       "    .dataframe tbody tr th {\n",
       "        vertical-align: top;\n",
       "    }\n",
       "\n",
       "    .dataframe thead th {\n",
       "        text-align: right;\n",
       "    }\n",
       "</style>\n",
       "<table border=\"1\" class=\"dataframe\">\n",
       "  <thead>\n",
       "    <tr style=\"text-align: right;\">\n",
       "      <th></th>\n",
       "      <th>beer_id</th>\n",
       "      <th>average_rating</th>\n",
       "      <th>count</th>\n",
       "      <th>above_average</th>\n",
       "      <th>below_average</th>\n",
       "      <th>lower_bound</th>\n",
       "    </tr>\n",
       "  </thead>\n",
       "  <tbody>\n",
       "    <tr>\n",
       "      <th>39616</th>\n",
       "      <td>113283</td>\n",
       "      <td>4.348602</td>\n",
       "      <td>187</td>\n",
       "      <td>187</td>\n",
       "      <td>0</td>\n",
       "      <td>0.979871</td>\n",
       "    </tr>\n",
       "    <tr>\n",
       "      <th>10338</th>\n",
       "      <td>21690</td>\n",
       "      <td>4.121717</td>\n",
       "      <td>934</td>\n",
       "      <td>919</td>\n",
       "      <td>15</td>\n",
       "      <td>0.973672</td>\n",
       "    </tr>\n",
       "    <tr>\n",
       "      <th>40324</th>\n",
       "      <td>116684</td>\n",
       "      <td>4.324103</td>\n",
       "      <td>322</td>\n",
       "      <td>319</td>\n",
       "      <td>3</td>\n",
       "      <td>0.972970</td>\n",
       "    </tr>\n",
       "    <tr>\n",
       "      <th>42069</th>\n",
       "      <td>126305</td>\n",
       "      <td>3.665346</td>\n",
       "      <td>319</td>\n",
       "      <td>316</td>\n",
       "      <td>3</td>\n",
       "      <td>0.972720</td>\n",
       "    </tr>\n",
       "    <tr>\n",
       "      <th>41197</th>\n",
       "      <td>121397</td>\n",
       "      <td>4.632759</td>\n",
       "      <td>262</td>\n",
       "      <td>260</td>\n",
       "      <td>2</td>\n",
       "      <td>0.972599</td>\n",
       "    </tr>\n",
       "    <tr>\n",
       "      <th>17986</th>\n",
       "      <td>43947</td>\n",
       "      <td>4.091419</td>\n",
       "      <td>1112</td>\n",
       "      <td>1089</td>\n",
       "      <td>23</td>\n",
       "      <td>0.969154</td>\n",
       "    </tr>\n",
       "    <tr>\n",
       "      <th>51838</th>\n",
       "      <td>184008</td>\n",
       "      <td>3.646854</td>\n",
       "      <td>179</td>\n",
       "      <td>178</td>\n",
       "      <td>1</td>\n",
       "      <td>0.969039</td>\n",
       "    </tr>\n",
       "    <tr>\n",
       "      <th>25710</th>\n",
       "      <td>66438</td>\n",
       "      <td>4.042035</td>\n",
       "      <td>318</td>\n",
       "      <td>314</td>\n",
       "      <td>4</td>\n",
       "      <td>0.968109</td>\n",
       "    </tr>\n",
       "    <tr>\n",
       "      <th>25533</th>\n",
       "      <td>65881</td>\n",
       "      <td>3.977089</td>\n",
       "      <td>1030</td>\n",
       "      <td>1007</td>\n",
       "      <td>23</td>\n",
       "      <td>0.966715</td>\n",
       "    </tr>\n",
       "    <tr>\n",
       "      <th>4896</th>\n",
       "      <td>8936</td>\n",
       "      <td>4.017019</td>\n",
       "      <td>2089</td>\n",
       "      <td>2035</td>\n",
       "      <td>54</td>\n",
       "      <td>0.966426</td>\n",
       "    </tr>\n",
       "  </tbody>\n",
       "</table>\n",
       "</div>"
      ],
      "text/plain": [
       "       beer_id  average_rating  count  above_average  below_average  \\\n",
       "39616   113283        4.348602    187            187              0   \n",
       "10338    21690        4.121717    934            919             15   \n",
       "40324   116684        4.324103    322            319              3   \n",
       "42069   126305        3.665346    319            316              3   \n",
       "41197   121397        4.632759    262            260              2   \n",
       "17986    43947        4.091419   1112           1089             23   \n",
       "51838   184008        3.646854    179            178              1   \n",
       "25710    66438        4.042035    318            314              4   \n",
       "25533    65881        3.977089   1030           1007             23   \n",
       "4896      8936        4.017019   2089           2035             54   \n",
       "\n",
       "       lower_bound  \n",
       "39616     0.979871  \n",
       "10338     0.973672  \n",
       "40324     0.972970  \n",
       "42069     0.972720  \n",
       "41197     0.972599  \n",
       "17986     0.969154  \n",
       "51838     0.969039  \n",
       "25710     0.968109  \n",
       "25533     0.966715  \n",
       "4896      0.966426  "
      ]
     },
     "execution_count": 29,
     "metadata": {},
     "output_type": "execute_result"
    }
   ],
   "source": [
    "# compute the lower bound of the average rating for each beer\n",
    "beer_rating_df['lower_bound'] = beer_rating_df.apply(lambda row: wilson_lower_bound(row['above_average'], row['below_average']), axis=1)\n",
    "\n",
    "# sort the dataframe by the lower bound of the average rating\n",
    "beer_rating_df.sort_values(by='lower_bound', ascending=False, inplace=True)\n",
    "\n",
    "beer_rating_df.head(10)"
   ]
  },
  {
   "cell_type": "code",
   "execution_count": 30,
   "metadata": {},
   "outputs": [
    {
     "name": "stdout",
     "output_type": "stream",
     "text": [
      "Average count of ratings for each beer: 44.47473512031948\n"
     ]
    }
   ],
   "source": [
    "# print average count of ratings for each beer\n",
    "print(\"Average count of ratings for each beer:\", beer_rating_df['count'].mean())"
   ]
  },
  {
   "cell_type": "markdown",
   "metadata": {},
   "source": [
    "We observe the ranking of the top 10 beers on the table above. The first beer got a number of 187 reviews (which is way higher than the average count). The top 1 beer got no review below the average rating (no bad review). "
   ]
  }
 ],
 "metadata": {
  "kernelspec": {
   "display_name": "Python 3",
   "language": "python",
   "name": "python3"
  },
  "language_info": {
   "codemirror_mode": {
    "name": "ipython",
    "version": 3
   },
   "file_extension": ".py",
   "mimetype": "text/x-python",
   "name": "python",
   "nbconvert_exporter": "python",
   "pygments_lexer": "ipython3",
   "version": "3.11.5"
  }
 },
 "nbformat": 4,
 "nbformat_minor": 2
}
