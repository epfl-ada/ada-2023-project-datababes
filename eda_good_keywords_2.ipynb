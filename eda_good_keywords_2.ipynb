{
 "cells": [
  {
   "cell_type": "code",
   "execution_count": 76,
   "metadata": {},
   "outputs": [],
   "source": [
    "# imports\n",
    "\n",
    "import pandas as pd \n",
    "import numpy as np\n",
    "\n",
    "import matplotlib.pyplot as plt\n",
    "import seaborn as sns\n",
    "\n",
    "import plotly.express as px\n",
    "import plotly.graph_objects as go\n",
    "\n",
    "import re\n",
    "import spacy\n",
    "from collections import Counter\n",
    "\n",
    "import json\n",
    "\n",
    "from scipy.stats import f_oneway"
   ]
  },
  {
   "cell_type": "code",
   "execution_count": 25,
   "metadata": {},
   "outputs": [],
   "source": [
    "# Turn off warnings\n",
    "import warnings\n",
    "\n",
    "warnings.filterwarnings('ignore')"
   ]
  },
  {
   "cell_type": "code",
   "execution_count": 26,
   "metadata": {},
   "outputs": [],
   "source": [
    "# loading the two datasets \n",
    "\n",
    "ratings_ba_df = pd.read_csv('data/BeerAdvocate/ratings_BA.csv')\n",
    "ratings_rb_df = pd.read_csv('data/RateBeer/ratings_RB.csv')\n",
    "\n",
    "\n",
    "# loading the users dataset \n",
    "\n",
    "users_ba_df = pd.read_csv('data/BeerAdvocate/users.csv')\n",
    "users_rb_df = pd.read_csv('data/RateBeer/users.csv')\n",
    "\n",
    "# loading the beers dataset\n",
    "\n",
    "beers_ba_df = pd.read_csv('data/BeerAdvocate/beers.csv')\n",
    "beers_rb_df = pd.read_csv('data/RateBeer/beers.csv')"
   ]
  },
  {
   "cell_type": "code",
   "execution_count": 27,
   "metadata": {},
   "outputs": [],
   "source": [
    "# Convert the date column to datetime format for BeerAdvocate\n",
    "ratings_ba_df['date'] = pd.to_datetime(ratings_ba_df['date'], unit='s')\n",
    "ratings_ba_df['year'] = ratings_ba_df['date'].dt.year\n",
    "ratings_ba_df['month'] = ratings_ba_df['date'].dt.month\n",
    "\n",
    "# Convert the date column to datetime format for RateBeer\n",
    "ratings_rb_df['date'] = pd.to_datetime(ratings_rb_df['date'], unit='s')\n",
    "ratings_rb_df['year'] = ratings_rb_df['date'].dt.year\n",
    "ratings_rb_df['month'] = ratings_rb_df['date'].dt.month"
   ]
  },
  {
   "cell_type": "markdown",
   "metadata": {},
   "source": [
    "## Filter on location"
   ]
  },
  {
   "cell_type": "code",
   "execution_count": 28,
   "metadata": {},
   "outputs": [],
   "source": [
    "users_rb_df['location'] = users_rb_df['location'].str.split(',').str[0]\n",
    "users_ba_df['location'] = users_ba_df['location'].str.split(',').str[0]\n",
    "\n",
    "US_country = 'United States'\n",
    "\n",
    "# keep only the rows where the user country is United States\n",
    "users_ba_df = users_ba_df[users_ba_df.location == US_country]\n",
    "users_rb_df = users_rb_df[users_rb_df.location == US_country]\n",
    "\n",
    "# merge the ratings and users data frames to get the location of the user for each rating\n",
    "ratings_users_ba_df = pd.merge(ratings_ba_df, users_ba_df[['user_id', 'location']], on='user_id', how='inner')\n",
    "ratings_users_rb_df = pd.merge(ratings_rb_df, users_rb_df[['user_id', 'location']], on='user_id', how='inner')\n",
    "\n",
    "# filter the ratings dataframes to only keep the popular ratings of the users from the US\n",
    "ratings_ba_df = ratings_users_ba_df[ratings_users_ba_df.location == US_country]\n",
    "ratings_ba_df.drop('location', axis=1, inplace=True)\n",
    "ratings_rb_df = ratings_users_rb_df[ratings_users_rb_df.location == US_country]\n",
    "ratings_rb_df.drop('location', axis=1, inplace=True)"
   ]
  },
  {
   "cell_type": "markdown",
   "metadata": {},
   "source": [
    "## General Temporal Analysis "
   ]
  },
  {
   "cell_type": "code",
   "execution_count": 29,
   "metadata": {},
   "outputs": [],
   "source": [
    "# merge the two ratings data frames\n",
    "ratings_combined_df = pd.concat([ratings_ba_df, ratings_rb_df], ignore_index=True)"
   ]
  },
  {
   "cell_type": "code",
   "execution_count": 40,
   "metadata": {},
   "outputs": [],
   "source": [
    "def dataframe_time_analysis(df, year_lower, year_upper):\n",
    "    # create a year_month column\n",
    "    ratings_combined_df['year_month'] = df['year'].astype(str) + '-' + df['month'].astype(str)\n",
    "\n",
    "    # convert the year_month column to datetime format\n",
    "    ratings_combined_df['year_month'] = pd.to_datetime(ratings_combined_df['year_month'])\n",
    "\n",
    "    # group by year_month and count the number of ratings per year_month\n",
    "    year_month_ratings_count = ratings_combined_df.groupby('year_month')['year_month'].count()\n",
    "    \n",
    "    # creating a new dataframe with the number of ratings per year_month\n",
    "    year_month_ratings_count_df = pd.DataFrame({'year_month': year_month_ratings_count.index, 'nbr_ratings': year_month_ratings_count.values})\n",
    "\n",
    "    # create column year and month\n",
    "    year_month_ratings_count_df['year'] = year_month_ratings_count_df['year_month'].dt.year\n",
    "    year_month_ratings_count_df['month'] = year_month_ratings_count_df['year_month'].dt.month\n",
    "\n",
    "    # keep only rows where the year is greater than 2011 and less than 2017 \n",
    "    year_month_ratings_count_filtered = year_month_ratings_count_df[(year_month_ratings_count_df.year >= year_lower) & (year_month_ratings_count_df.year < year_upper)]\n",
    "\n",
    "    # compute the mean number of ratings per month\n",
    "    mean_ratings_per_month = year_month_ratings_count_filtered.groupby('month')['nbr_ratings'].mean().reset_index(name='mean_nbr_ratings')\n",
    "\n",
    "    return year_month_ratings_count, year_month_ratings_count_filtered, mean_ratings_per_month "
   ]
  },
  {
   "cell_type": "code",
   "execution_count": 42,
   "metadata": {},
   "outputs": [
    {
     "data": {
      "application/vnd.plotly.v1+json": {
       "config": {
        "plotlyServerURL": "https://plot.ly"
       },
       "data": [
        {
         "hovertemplate": "year=2008<br>month=%{x}<br>nbr_ratings=%{y}<extra></extra>",
         "legendgroup": "2008",
         "line": {
          "color": "#636efa",
          "dash": "solid"
         },
         "marker": {
          "symbol": "circle"
         },
         "mode": "lines",
         "name": "2008",
         "orientation": "v",
         "showlegend": true,
         "type": "scatter",
         "x": [
          1,
          2,
          3,
          4,
          5,
          6,
          7,
          8,
          9,
          10,
          11,
          12
         ],
         "xaxis": "x",
         "y": [
          34593,
          32398,
          36089,
          34451,
          36764,
          34264,
          33802,
          37247,
          32124,
          34235,
          27029,
          37254
         ],
         "yaxis": "y"
        },
        {
         "hovertemplate": "year=2009<br>month=%{x}<br>nbr_ratings=%{y}<extra></extra>",
         "legendgroup": "2009",
         "line": {
          "color": "#EF553B",
          "dash": "solid"
         },
         "marker": {
          "symbol": "circle"
         },
         "mode": "lines",
         "name": "2009",
         "orientation": "v",
         "showlegend": true,
         "type": "scatter",
         "x": [
          1,
          2,
          3,
          4,
          5,
          6,
          7,
          8,
          9,
          10,
          11,
          12
         ],
         "xaxis": "x",
         "y": [
          41066,
          35136,
          40716,
          36968,
          37226,
          33980,
          36240,
          37665,
          34699,
          33137,
          34539,
          36594
         ],
         "yaxis": "y"
        },
        {
         "hovertemplate": "year=2010<br>month=%{x}<br>nbr_ratings=%{y}<extra></extra>",
         "legendgroup": "2010",
         "line": {
          "color": "#00cc96",
          "dash": "solid"
         },
         "marker": {
          "symbol": "circle"
         },
         "mode": "lines",
         "name": "2010",
         "orientation": "v",
         "showlegend": true,
         "type": "scatter",
         "x": [
          1,
          2,
          3,
          4,
          5,
          6,
          7,
          8,
          9,
          10,
          11,
          12
         ],
         "xaxis": "x",
         "y": [
          38722,
          35091,
          37943,
          35471,
          37573,
          34226,
          36752,
          38450,
          36096,
          38002,
          37560,
          42714
         ],
         "yaxis": "y"
        },
        {
         "hovertemplate": "year=2011<br>month=%{x}<br>nbr_ratings=%{y}<extra></extra>",
         "legendgroup": "2011",
         "line": {
          "color": "#ab63fa",
          "dash": "solid"
         },
         "marker": {
          "symbol": "circle"
         },
         "mode": "lines",
         "name": "2011",
         "orientation": "v",
         "showlegend": true,
         "type": "scatter",
         "x": [
          1,
          2,
          3,
          4,
          5,
          6,
          7,
          8,
          9,
          10,
          11,
          12
         ],
         "xaxis": "x",
         "y": [
          44057,
          40914,
          43693,
          39500,
          40721,
          39024,
          40475,
          42447,
          40441,
          40318,
          40548,
          41852
         ],
         "yaxis": "y"
        },
        {
         "hovertemplate": "year=2012<br>month=%{x}<br>nbr_ratings=%{y}<extra></extra>",
         "legendgroup": "2012",
         "line": {
          "color": "#FFA15A",
          "dash": "solid"
         },
         "marker": {
          "symbol": "circle"
         },
         "mode": "lines",
         "name": "2012",
         "orientation": "v",
         "showlegend": true,
         "type": "scatter",
         "x": [
          1,
          2,
          3,
          4,
          5,
          6,
          7,
          8,
          9,
          10,
          11,
          12
         ],
         "xaxis": "x",
         "y": [
          42302,
          39981,
          39171,
          36639,
          35600,
          35419,
          37550,
          37701,
          33982,
          34941,
          33903,
          38128
         ],
         "yaxis": "y"
        },
        {
         "hovertemplate": "year=2013<br>month=%{x}<br>nbr_ratings=%{y}<extra></extra>",
         "legendgroup": "2013",
         "line": {
          "color": "#19d3f3",
          "dash": "solid"
         },
         "marker": {
          "symbol": "circle"
         },
         "mode": "lines",
         "name": "2013",
         "orientation": "v",
         "showlegend": true,
         "type": "scatter",
         "x": [
          1,
          2,
          3,
          4,
          5,
          6,
          7,
          8,
          9,
          10,
          11,
          12
         ],
         "xaxis": "x",
         "y": [
          38752,
          35681,
          39551,
          36174,
          38511,
          40520,
          40527,
          41778,
          36992,
          39633,
          38285,
          39118
         ],
         "yaxis": "y"
        },
        {
         "hovertemplate": "year=2014<br>month=%{x}<br>nbr_ratings=%{y}<extra></extra>",
         "legendgroup": "2014",
         "line": {
          "color": "#FF6692",
          "dash": "solid"
         },
         "marker": {
          "symbol": "circle"
         },
         "mode": "lines",
         "name": "2014",
         "orientation": "v",
         "showlegend": true,
         "type": "scatter",
         "x": [
          1,
          2,
          3,
          4,
          5,
          6,
          7,
          8,
          9,
          10,
          11,
          12
         ],
         "xaxis": "x",
         "y": [
          37577,
          35719,
          38002,
          35638,
          37587,
          38724,
          36532,
          40863,
          37953,
          37984,
          37090,
          40708
         ],
         "yaxis": "y"
        },
        {
         "hovertemplate": "year=2015<br>month=%{x}<br>nbr_ratings=%{y}<extra></extra>",
         "legendgroup": "2015",
         "line": {
          "color": "#B6E880",
          "dash": "solid"
         },
         "marker": {
          "symbol": "circle"
         },
         "mode": "lines",
         "name": "2015",
         "orientation": "v",
         "showlegend": true,
         "type": "scatter",
         "x": [
          1,
          2,
          3,
          4,
          5,
          6,
          7,
          8,
          9,
          10,
          11,
          12
         ],
         "xaxis": "x",
         "y": [
          44376,
          41650,
          47004,
          42924,
          44583,
          44383,
          44696,
          46530,
          38741,
          39565,
          38323,
          41538
         ],
         "yaxis": "y"
        },
        {
         "hovertemplate": "year=2016<br>month=%{x}<br>nbr_ratings=%{y}<extra></extra>",
         "legendgroup": "2016",
         "line": {
          "color": "#FF97FF",
          "dash": "solid"
         },
         "marker": {
          "symbol": "circle"
         },
         "mode": "lines",
         "name": "2016",
         "orientation": "v",
         "showlegend": true,
         "type": "scatter",
         "x": [
          1,
          2,
          3,
          4,
          5,
          6,
          7,
          8,
          9,
          10,
          11,
          12
         ],
         "xaxis": "x",
         "y": [
          40407,
          36725,
          38097,
          38532,
          38403,
          36596,
          37418,
          32653,
          30351,
          31438,
          28725,
          31056
         ],
         "yaxis": "y"
        },
        {
         "line": {
          "color": "black",
          "dash": "dash",
          "width": 4
         },
         "mode": "lines",
         "name": "Mean Number of Ratings",
         "type": "scatter",
         "x": [
          1,
          2,
          3,
          4,
          5,
          6,
          7,
          8,
          9,
          10,
          11,
          12,
          1,
          2,
          3,
          4,
          5,
          6,
          7,
          8,
          9,
          10,
          11,
          12,
          1,
          2,
          3,
          4,
          5,
          6,
          7,
          8,
          9,
          10,
          11,
          12,
          1,
          2,
          3,
          4,
          5,
          6,
          7,
          8,
          9,
          10,
          11,
          12,
          1,
          2,
          3,
          4,
          5,
          6,
          7,
          8,
          9,
          10,
          11,
          12,
          1,
          2,
          3,
          4,
          5,
          6,
          7,
          8,
          9,
          10,
          11,
          12,
          1,
          2,
          3,
          4,
          5,
          6,
          7,
          8,
          9,
          10,
          11,
          12,
          1,
          2,
          3,
          4,
          5,
          6,
          7,
          8,
          9,
          10,
          11,
          12,
          1,
          2,
          3,
          4,
          5,
          6,
          7,
          8,
          9,
          10,
          11,
          12
         ],
         "y": [
          40205.77777777778,
          37032.77777777778,
          40029.555555555555,
          37366.333333333336,
          38552,
          37459.555555555555,
          38221.333333333336,
          39481.555555555555,
          35708.77777777778,
          36583.666666666664,
          35111.333333333336,
          38773.555555555555
         ]
        }
       ],
       "layout": {
        "legend": {
         "title": {
          "text": "year"
         },
         "tracegroupgap": 0
        },
        "template": {
         "data": {
          "bar": [
           {
            "error_x": {
             "color": "#2a3f5f"
            },
            "error_y": {
             "color": "#2a3f5f"
            },
            "marker": {
             "line": {
              "color": "#E5ECF6",
              "width": 0.5
             },
             "pattern": {
              "fillmode": "overlay",
              "size": 10,
              "solidity": 0.2
             }
            },
            "type": "bar"
           }
          ],
          "barpolar": [
           {
            "marker": {
             "line": {
              "color": "#E5ECF6",
              "width": 0.5
             },
             "pattern": {
              "fillmode": "overlay",
              "size": 10,
              "solidity": 0.2
             }
            },
            "type": "barpolar"
           }
          ],
          "carpet": [
           {
            "aaxis": {
             "endlinecolor": "#2a3f5f",
             "gridcolor": "white",
             "linecolor": "white",
             "minorgridcolor": "white",
             "startlinecolor": "#2a3f5f"
            },
            "baxis": {
             "endlinecolor": "#2a3f5f",
             "gridcolor": "white",
             "linecolor": "white",
             "minorgridcolor": "white",
             "startlinecolor": "#2a3f5f"
            },
            "type": "carpet"
           }
          ],
          "choropleth": [
           {
            "colorbar": {
             "outlinewidth": 0,
             "ticks": ""
            },
            "type": "choropleth"
           }
          ],
          "contour": [
           {
            "colorbar": {
             "outlinewidth": 0,
             "ticks": ""
            },
            "colorscale": [
             [
              0,
              "#0d0887"
             ],
             [
              0.1111111111111111,
              "#46039f"
             ],
             [
              0.2222222222222222,
              "#7201a8"
             ],
             [
              0.3333333333333333,
              "#9c179e"
             ],
             [
              0.4444444444444444,
              "#bd3786"
             ],
             [
              0.5555555555555556,
              "#d8576b"
             ],
             [
              0.6666666666666666,
              "#ed7953"
             ],
             [
              0.7777777777777778,
              "#fb9f3a"
             ],
             [
              0.8888888888888888,
              "#fdca26"
             ],
             [
              1,
              "#f0f921"
             ]
            ],
            "type": "contour"
           }
          ],
          "contourcarpet": [
           {
            "colorbar": {
             "outlinewidth": 0,
             "ticks": ""
            },
            "type": "contourcarpet"
           }
          ],
          "heatmap": [
           {
            "colorbar": {
             "outlinewidth": 0,
             "ticks": ""
            },
            "colorscale": [
             [
              0,
              "#0d0887"
             ],
             [
              0.1111111111111111,
              "#46039f"
             ],
             [
              0.2222222222222222,
              "#7201a8"
             ],
             [
              0.3333333333333333,
              "#9c179e"
             ],
             [
              0.4444444444444444,
              "#bd3786"
             ],
             [
              0.5555555555555556,
              "#d8576b"
             ],
             [
              0.6666666666666666,
              "#ed7953"
             ],
             [
              0.7777777777777778,
              "#fb9f3a"
             ],
             [
              0.8888888888888888,
              "#fdca26"
             ],
             [
              1,
              "#f0f921"
             ]
            ],
            "type": "heatmap"
           }
          ],
          "heatmapgl": [
           {
            "colorbar": {
             "outlinewidth": 0,
             "ticks": ""
            },
            "colorscale": [
             [
              0,
              "#0d0887"
             ],
             [
              0.1111111111111111,
              "#46039f"
             ],
             [
              0.2222222222222222,
              "#7201a8"
             ],
             [
              0.3333333333333333,
              "#9c179e"
             ],
             [
              0.4444444444444444,
              "#bd3786"
             ],
             [
              0.5555555555555556,
              "#d8576b"
             ],
             [
              0.6666666666666666,
              "#ed7953"
             ],
             [
              0.7777777777777778,
              "#fb9f3a"
             ],
             [
              0.8888888888888888,
              "#fdca26"
             ],
             [
              1,
              "#f0f921"
             ]
            ],
            "type": "heatmapgl"
           }
          ],
          "histogram": [
           {
            "marker": {
             "pattern": {
              "fillmode": "overlay",
              "size": 10,
              "solidity": 0.2
             }
            },
            "type": "histogram"
           }
          ],
          "histogram2d": [
           {
            "colorbar": {
             "outlinewidth": 0,
             "ticks": ""
            },
            "colorscale": [
             [
              0,
              "#0d0887"
             ],
             [
              0.1111111111111111,
              "#46039f"
             ],
             [
              0.2222222222222222,
              "#7201a8"
             ],
             [
              0.3333333333333333,
              "#9c179e"
             ],
             [
              0.4444444444444444,
              "#bd3786"
             ],
             [
              0.5555555555555556,
              "#d8576b"
             ],
             [
              0.6666666666666666,
              "#ed7953"
             ],
             [
              0.7777777777777778,
              "#fb9f3a"
             ],
             [
              0.8888888888888888,
              "#fdca26"
             ],
             [
              1,
              "#f0f921"
             ]
            ],
            "type": "histogram2d"
           }
          ],
          "histogram2dcontour": [
           {
            "colorbar": {
             "outlinewidth": 0,
             "ticks": ""
            },
            "colorscale": [
             [
              0,
              "#0d0887"
             ],
             [
              0.1111111111111111,
              "#46039f"
             ],
             [
              0.2222222222222222,
              "#7201a8"
             ],
             [
              0.3333333333333333,
              "#9c179e"
             ],
             [
              0.4444444444444444,
              "#bd3786"
             ],
             [
              0.5555555555555556,
              "#d8576b"
             ],
             [
              0.6666666666666666,
              "#ed7953"
             ],
             [
              0.7777777777777778,
              "#fb9f3a"
             ],
             [
              0.8888888888888888,
              "#fdca26"
             ],
             [
              1,
              "#f0f921"
             ]
            ],
            "type": "histogram2dcontour"
           }
          ],
          "mesh3d": [
           {
            "colorbar": {
             "outlinewidth": 0,
             "ticks": ""
            },
            "type": "mesh3d"
           }
          ],
          "parcoords": [
           {
            "line": {
             "colorbar": {
              "outlinewidth": 0,
              "ticks": ""
             }
            },
            "type": "parcoords"
           }
          ],
          "pie": [
           {
            "automargin": true,
            "type": "pie"
           }
          ],
          "scatter": [
           {
            "fillpattern": {
             "fillmode": "overlay",
             "size": 10,
             "solidity": 0.2
            },
            "type": "scatter"
           }
          ],
          "scatter3d": [
           {
            "line": {
             "colorbar": {
              "outlinewidth": 0,
              "ticks": ""
             }
            },
            "marker": {
             "colorbar": {
              "outlinewidth": 0,
              "ticks": ""
             }
            },
            "type": "scatter3d"
           }
          ],
          "scattercarpet": [
           {
            "marker": {
             "colorbar": {
              "outlinewidth": 0,
              "ticks": ""
             }
            },
            "type": "scattercarpet"
           }
          ],
          "scattergeo": [
           {
            "marker": {
             "colorbar": {
              "outlinewidth": 0,
              "ticks": ""
             }
            },
            "type": "scattergeo"
           }
          ],
          "scattergl": [
           {
            "marker": {
             "colorbar": {
              "outlinewidth": 0,
              "ticks": ""
             }
            },
            "type": "scattergl"
           }
          ],
          "scattermapbox": [
           {
            "marker": {
             "colorbar": {
              "outlinewidth": 0,
              "ticks": ""
             }
            },
            "type": "scattermapbox"
           }
          ],
          "scatterpolar": [
           {
            "marker": {
             "colorbar": {
              "outlinewidth": 0,
              "ticks": ""
             }
            },
            "type": "scatterpolar"
           }
          ],
          "scatterpolargl": [
           {
            "marker": {
             "colorbar": {
              "outlinewidth": 0,
              "ticks": ""
             }
            },
            "type": "scatterpolargl"
           }
          ],
          "scatterternary": [
           {
            "marker": {
             "colorbar": {
              "outlinewidth": 0,
              "ticks": ""
             }
            },
            "type": "scatterternary"
           }
          ],
          "surface": [
           {
            "colorbar": {
             "outlinewidth": 0,
             "ticks": ""
            },
            "colorscale": [
             [
              0,
              "#0d0887"
             ],
             [
              0.1111111111111111,
              "#46039f"
             ],
             [
              0.2222222222222222,
              "#7201a8"
             ],
             [
              0.3333333333333333,
              "#9c179e"
             ],
             [
              0.4444444444444444,
              "#bd3786"
             ],
             [
              0.5555555555555556,
              "#d8576b"
             ],
             [
              0.6666666666666666,
              "#ed7953"
             ],
             [
              0.7777777777777778,
              "#fb9f3a"
             ],
             [
              0.8888888888888888,
              "#fdca26"
             ],
             [
              1,
              "#f0f921"
             ]
            ],
            "type": "surface"
           }
          ],
          "table": [
           {
            "cells": {
             "fill": {
              "color": "#EBF0F8"
             },
             "line": {
              "color": "white"
             }
            },
            "header": {
             "fill": {
              "color": "#C8D4E3"
             },
             "line": {
              "color": "white"
             }
            },
            "type": "table"
           }
          ]
         },
         "layout": {
          "annotationdefaults": {
           "arrowcolor": "#2a3f5f",
           "arrowhead": 0,
           "arrowwidth": 1
          },
          "autotypenumbers": "strict",
          "coloraxis": {
           "colorbar": {
            "outlinewidth": 0,
            "ticks": ""
           }
          },
          "colorscale": {
           "diverging": [
            [
             0,
             "#8e0152"
            ],
            [
             0.1,
             "#c51b7d"
            ],
            [
             0.2,
             "#de77ae"
            ],
            [
             0.3,
             "#f1b6da"
            ],
            [
             0.4,
             "#fde0ef"
            ],
            [
             0.5,
             "#f7f7f7"
            ],
            [
             0.6,
             "#e6f5d0"
            ],
            [
             0.7,
             "#b8e186"
            ],
            [
             0.8,
             "#7fbc41"
            ],
            [
             0.9,
             "#4d9221"
            ],
            [
             1,
             "#276419"
            ]
           ],
           "sequential": [
            [
             0,
             "#0d0887"
            ],
            [
             0.1111111111111111,
             "#46039f"
            ],
            [
             0.2222222222222222,
             "#7201a8"
            ],
            [
             0.3333333333333333,
             "#9c179e"
            ],
            [
             0.4444444444444444,
             "#bd3786"
            ],
            [
             0.5555555555555556,
             "#d8576b"
            ],
            [
             0.6666666666666666,
             "#ed7953"
            ],
            [
             0.7777777777777778,
             "#fb9f3a"
            ],
            [
             0.8888888888888888,
             "#fdca26"
            ],
            [
             1,
             "#f0f921"
            ]
           ],
           "sequentialminus": [
            [
             0,
             "#0d0887"
            ],
            [
             0.1111111111111111,
             "#46039f"
            ],
            [
             0.2222222222222222,
             "#7201a8"
            ],
            [
             0.3333333333333333,
             "#9c179e"
            ],
            [
             0.4444444444444444,
             "#bd3786"
            ],
            [
             0.5555555555555556,
             "#d8576b"
            ],
            [
             0.6666666666666666,
             "#ed7953"
            ],
            [
             0.7777777777777778,
             "#fb9f3a"
            ],
            [
             0.8888888888888888,
             "#fdca26"
            ],
            [
             1,
             "#f0f921"
            ]
           ]
          },
          "colorway": [
           "#636efa",
           "#EF553B",
           "#00cc96",
           "#ab63fa",
           "#FFA15A",
           "#19d3f3",
           "#FF6692",
           "#B6E880",
           "#FF97FF",
           "#FECB52"
          ],
          "font": {
           "color": "#2a3f5f"
          },
          "geo": {
           "bgcolor": "white",
           "lakecolor": "white",
           "landcolor": "#E5ECF6",
           "showlakes": true,
           "showland": true,
           "subunitcolor": "white"
          },
          "hoverlabel": {
           "align": "left"
          },
          "hovermode": "closest",
          "mapbox": {
           "style": "light"
          },
          "paper_bgcolor": "white",
          "plot_bgcolor": "#E5ECF6",
          "polar": {
           "angularaxis": {
            "gridcolor": "white",
            "linecolor": "white",
            "ticks": ""
           },
           "bgcolor": "#E5ECF6",
           "radialaxis": {
            "gridcolor": "white",
            "linecolor": "white",
            "ticks": ""
           }
          },
          "scene": {
           "xaxis": {
            "backgroundcolor": "#E5ECF6",
            "gridcolor": "white",
            "gridwidth": 2,
            "linecolor": "white",
            "showbackground": true,
            "ticks": "",
            "zerolinecolor": "white"
           },
           "yaxis": {
            "backgroundcolor": "#E5ECF6",
            "gridcolor": "white",
            "gridwidth": 2,
            "linecolor": "white",
            "showbackground": true,
            "ticks": "",
            "zerolinecolor": "white"
           },
           "zaxis": {
            "backgroundcolor": "#E5ECF6",
            "gridcolor": "white",
            "gridwidth": 2,
            "linecolor": "white",
            "showbackground": true,
            "ticks": "",
            "zerolinecolor": "white"
           }
          },
          "shapedefaults": {
           "line": {
            "color": "#2a3f5f"
           }
          },
          "ternary": {
           "aaxis": {
            "gridcolor": "white",
            "linecolor": "white",
            "ticks": ""
           },
           "baxis": {
            "gridcolor": "white",
            "linecolor": "white",
            "ticks": ""
           },
           "bgcolor": "#E5ECF6",
           "caxis": {
            "gridcolor": "white",
            "linecolor": "white",
            "ticks": ""
           }
          },
          "title": {
           "x": 0.05
          },
          "xaxis": {
           "automargin": true,
           "gridcolor": "white",
           "linecolor": "white",
           "ticks": "",
           "title": {
            "standoff": 15
           },
           "zerolinecolor": "white",
           "zerolinewidth": 2
          },
          "yaxis": {
           "automargin": true,
           "gridcolor": "white",
           "linecolor": "white",
           "ticks": "",
           "title": {
            "standoff": 15
           },
           "zerolinecolor": "white",
           "zerolinewidth": 2
          }
         }
        },
        "title": {
         "text": "Mean Number of Ratings per Month (from 2008 to 2016)"
        },
        "xaxis": {
         "anchor": "y",
         "domain": [
          0,
          1
         ],
         "title": {
          "text": "month"
         }
        },
        "yaxis": {
         "anchor": "x",
         "domain": [
          0,
          1
         ],
         "title": {
          "text": "nbr_ratings"
         }
        }
       }
      }
     },
     "metadata": {},
     "output_type": "display_data"
    }
   ],
   "source": [
    "year_month_ratings_count, year_month_ratings_count_filtered, mean_ratings_per_month = dataframe_time_analysis(ratings_combined_df, 2008, 2017)\n",
    "\n",
    "# plot with plotly the mean number of ratings per month\n",
    "fig = px.line(year_month_ratings_count_filtered, x='month', y='nbr_ratings', color='year', title='Mean Number of Ratings per Month (from 2008 to 2016)')\n",
    "fig.add_trace(go.Scatter(x=year_month_ratings_count_filtered.month, y=mean_ratings_per_month.mean_nbr_ratings, mode='lines', name='Mean Number of Ratings', line=dict(color='black', dash='dash', width=4)))\n",
    "\n",
    "fig.show()"
   ]
  },
  {
   "cell_type": "markdown",
   "metadata": {},
   "source": [
    "From the plot above, we observe some seasonality of the beer's ratings. Indeed, we can remark that some months have some peak of ratings. The months December/January have the biggest increase. We can also see that the months of March, August and also slightly less May and October, have increases of the number of ratings. "
   ]
  },
  {
   "cell_type": "markdown",
   "metadata": {},
   "source": [
    "Let's observe the count of good ratings now. As precised above, a rating is considered as good when it is over the average mean of the dataset. "
   ]
  },
  {
   "cell_type": "code",
   "execution_count": 34,
   "metadata": {},
   "outputs": [
    {
     "name": "stdout",
     "output_type": "stream",
     "text": [
      "Average rating for BeerAdvocate: 3.846906563579535\n",
      "Average rating for RateBeer: 3.3793541115704993\n"
     ]
    }
   ],
   "source": [
    "average_ratings_ba_df = ratings_ba_df.rating.mean()\n",
    "average_ratings_rb_df = ratings_rb_df.rating.mean()\n",
    "\n",
    "print('Average rating for BeerAdvocate:', average_ratings_ba_df)\n",
    "print('Average rating for RateBeer:', average_ratings_rb_df)"
   ]
  },
  {
   "cell_type": "code",
   "execution_count": 35,
   "metadata": {},
   "outputs": [
    {
     "name": "stdout",
     "output_type": "stream",
     "text": [
      "Number of good ratings for BeerAdvocate: 1358021\n",
      "Number of good ratings for RateBeer: 1863770\n"
     ]
    }
   ],
   "source": [
    "good_ratings_ba_df = ratings_ba_df[ratings_ba_df.rating >= average_ratings_ba_df]\n",
    "good_ratings_rb_df = ratings_rb_df[ratings_rb_df.rating >= average_ratings_rb_df]\n",
    "\n",
    "print('Number of good ratings for BeerAdvocate:', good_ratings_ba_df.shape[0])\n",
    "print('Number of good ratings for RateBeer:', good_ratings_rb_df.shape[0])"
   ]
  },
  {
   "cell_type": "code",
   "execution_count": 43,
   "metadata": {},
   "outputs": [
    {
     "data": {
      "application/vnd.plotly.v1+json": {
       "config": {
        "plotlyServerURL": "https://plot.ly"
       },
       "data": [
        {
         "hovertemplate": "year=2008<br>month=%{x}<br>nbr_ratings=%{y}<extra></extra>",
         "legendgroup": "2008",
         "line": {
          "color": "#636efa",
          "dash": "solid"
         },
         "marker": {
          "symbol": "circle"
         },
         "mode": "lines",
         "name": "2008",
         "orientation": "v",
         "showlegend": true,
         "type": "scatter",
         "x": [
          1,
          2,
          3,
          4,
          5,
          6,
          7,
          8,
          9,
          10,
          11,
          12
         ],
         "xaxis": "x",
         "y": [
          19518,
          18400,
          19738,
          18956,
          19869,
          18834,
          18504,
          20343,
          17623,
          18680,
          15063,
          20389
         ],
         "yaxis": "y"
        },
        {
         "hovertemplate": "year=2009<br>month=%{x}<br>nbr_ratings=%{y}<extra></extra>",
         "legendgroup": "2009",
         "line": {
          "color": "#EF553B",
          "dash": "solid"
         },
         "marker": {
          "symbol": "circle"
         },
         "mode": "lines",
         "name": "2009",
         "orientation": "v",
         "showlegend": true,
         "type": "scatter",
         "x": [
          1,
          2,
          3,
          4,
          5,
          6,
          7,
          8,
          9,
          10,
          11,
          12
         ],
         "xaxis": "x",
         "y": [
          23259,
          20224,
          23292,
          21000,
          21116,
          19209,
          19896,
          20932,
          19393,
          18821,
          20107,
          21799
         ],
         "yaxis": "y"
        },
        {
         "hovertemplate": "year=2010<br>month=%{x}<br>nbr_ratings=%{y}<extra></extra>",
         "legendgroup": "2010",
         "line": {
          "color": "#00cc96",
          "dash": "solid"
         },
         "marker": {
          "symbol": "circle"
         },
         "mode": "lines",
         "name": "2010",
         "orientation": "v",
         "showlegend": true,
         "type": "scatter",
         "x": [
          1,
          2,
          3,
          4,
          5,
          6,
          7,
          8,
          9,
          10,
          11,
          12
         ],
         "xaxis": "x",
         "y": [
          23155,
          20946,
          22732,
          21526,
          22681,
          20200,
          21137,
          22553,
          20921,
          22033,
          22206,
          25462
         ],
         "yaxis": "y"
        },
        {
         "hovertemplate": "year=2011<br>month=%{x}<br>nbr_ratings=%{y}<extra></extra>",
         "legendgroup": "2011",
         "line": {
          "color": "#ab63fa",
          "dash": "solid"
         },
         "marker": {
          "symbol": "circle"
         },
         "mode": "lines",
         "name": "2011",
         "orientation": "v",
         "showlegend": true,
         "type": "scatter",
         "x": [
          1,
          2,
          3,
          4,
          5,
          6,
          7,
          8,
          9,
          10,
          11,
          12
         ],
         "xaxis": "x",
         "y": [
          26720,
          24177,
          25392,
          22679,
          23370,
          22076,
          23163,
          23644,
          22640,
          23298,
          23654,
          24407
         ],
         "yaxis": "y"
        },
        {
         "hovertemplate": "year=2012<br>month=%{x}<br>nbr_ratings=%{y}<extra></extra>",
         "legendgroup": "2012",
         "line": {
          "color": "#FFA15A",
          "dash": "solid"
         },
         "marker": {
          "symbol": "circle"
         },
         "mode": "lines",
         "name": "2012",
         "orientation": "v",
         "showlegend": true,
         "type": "scatter",
         "x": [
          1,
          2,
          3,
          4,
          5,
          6,
          7,
          8,
          9,
          10,
          11,
          12
         ],
         "xaxis": "x",
         "y": [
          25052,
          23930,
          23419,
          21540,
          20815,
          20719,
          21928,
          22040,
          19418,
          20774,
          20318,
          22995
         ],
         "yaxis": "y"
        },
        {
         "hovertemplate": "year=2013<br>month=%{x}<br>nbr_ratings=%{y}<extra></extra>",
         "legendgroup": "2013",
         "line": {
          "color": "#19d3f3",
          "dash": "solid"
         },
         "marker": {
          "symbol": "circle"
         },
         "mode": "lines",
         "name": "2013",
         "orientation": "v",
         "showlegend": true,
         "type": "scatter",
         "x": [
          1,
          2,
          3,
          4,
          5,
          6,
          7,
          8,
          9,
          10,
          11,
          12
         ],
         "xaxis": "x",
         "y": [
          23863,
          22165,
          24802,
          22497,
          23706,
          24141,
          24021,
          25069,
          21904,
          24000,
          24262,
          24428
         ],
         "yaxis": "y"
        },
        {
         "hovertemplate": "year=2014<br>month=%{x}<br>nbr_ratings=%{y}<extra></extra>",
         "legendgroup": "2014",
         "line": {
          "color": "#FF6692",
          "dash": "solid"
         },
         "marker": {
          "symbol": "circle"
         },
         "mode": "lines",
         "name": "2014",
         "orientation": "v",
         "showlegend": true,
         "type": "scatter",
         "x": [
          1,
          2,
          3,
          4,
          5,
          6,
          7,
          8,
          9,
          10,
          11,
          12
         ],
         "xaxis": "x",
         "y": [
          23410,
          22970,
          24395,
          22314,
          23437,
          23541,
          21868,
          24816,
          23305,
          23889,
          24079,
          25855
         ],
         "yaxis": "y"
        },
        {
         "hovertemplate": "year=2015<br>month=%{x}<br>nbr_ratings=%{y}<extra></extra>",
         "legendgroup": "2015",
         "line": {
          "color": "#B6E880",
          "dash": "solid"
         },
         "marker": {
          "symbol": "circle"
         },
         "mode": "lines",
         "name": "2015",
         "orientation": "v",
         "showlegend": true,
         "type": "scatter",
         "x": [
          1,
          2,
          3,
          4,
          5,
          6,
          7,
          8,
          9,
          10,
          11,
          12
         ],
         "xaxis": "x",
         "y": [
          28061,
          27018,
          30011,
          27524,
          28007,
          27940,
          28369,
          30263,
          25178,
          26005,
          25762,
          27737
         ],
         "yaxis": "y"
        },
        {
         "hovertemplate": "year=2016<br>month=%{x}<br>nbr_ratings=%{y}<extra></extra>",
         "legendgroup": "2016",
         "line": {
          "color": "#FF97FF",
          "dash": "solid"
         },
         "marker": {
          "symbol": "circle"
         },
         "mode": "lines",
         "name": "2016",
         "orientation": "v",
         "showlegend": true,
         "type": "scatter",
         "x": [
          1,
          2,
          3,
          4,
          5,
          6,
          7,
          8,
          9,
          10,
          11,
          12
         ],
         "xaxis": "x",
         "y": [
          27209,
          25125,
          25666,
          25496,
          25368,
          24177,
          24823,
          21923,
          20501,
          21224,
          20041,
          21778
         ],
         "yaxis": "y"
        },
        {
         "line": {
          "color": "black",
          "dash": "dash",
          "width": 4
         },
         "mode": "lines",
         "name": "Mean Number of Good Ratings",
         "type": "scatter",
         "x": [
          1,
          2,
          3,
          4,
          5,
          6,
          7,
          8,
          9,
          10,
          11,
          12,
          1,
          2,
          3,
          4,
          5,
          6,
          7,
          8,
          9,
          10,
          11,
          12,
          1,
          2,
          3,
          4,
          5,
          6,
          7,
          8,
          9,
          10,
          11,
          12,
          1,
          2,
          3,
          4,
          5,
          6,
          7,
          8,
          9,
          10,
          11,
          12,
          1,
          2,
          3,
          4,
          5,
          6,
          7,
          8,
          9,
          10,
          11,
          12,
          1,
          2,
          3,
          4,
          5,
          6,
          7,
          8,
          9,
          10,
          11,
          12,
          1,
          2,
          3,
          4,
          5,
          6,
          7,
          8,
          9,
          10,
          11,
          12,
          1,
          2,
          3,
          4,
          5,
          6,
          7,
          8,
          9,
          10,
          11,
          12,
          1,
          2,
          3,
          4,
          5,
          6,
          7,
          8,
          9,
          10,
          11,
          12
         ],
         "y": [
          24471.88888888889,
          22772.777777777777,
          24383,
          22614.666666666668,
          23152.11111111111,
          22315.222222222223,
          22634.333333333332,
          23509.222222222223,
          21209.222222222223,
          22080.444444444445,
          21721.333333333332,
          23872.222222222223
         ]
        }
       ],
       "layout": {
        "legend": {
         "title": {
          "text": "year"
         },
         "tracegroupgap": 0
        },
        "template": {
         "data": {
          "bar": [
           {
            "error_x": {
             "color": "#2a3f5f"
            },
            "error_y": {
             "color": "#2a3f5f"
            },
            "marker": {
             "line": {
              "color": "#E5ECF6",
              "width": 0.5
             },
             "pattern": {
              "fillmode": "overlay",
              "size": 10,
              "solidity": 0.2
             }
            },
            "type": "bar"
           }
          ],
          "barpolar": [
           {
            "marker": {
             "line": {
              "color": "#E5ECF6",
              "width": 0.5
             },
             "pattern": {
              "fillmode": "overlay",
              "size": 10,
              "solidity": 0.2
             }
            },
            "type": "barpolar"
           }
          ],
          "carpet": [
           {
            "aaxis": {
             "endlinecolor": "#2a3f5f",
             "gridcolor": "white",
             "linecolor": "white",
             "minorgridcolor": "white",
             "startlinecolor": "#2a3f5f"
            },
            "baxis": {
             "endlinecolor": "#2a3f5f",
             "gridcolor": "white",
             "linecolor": "white",
             "minorgridcolor": "white",
             "startlinecolor": "#2a3f5f"
            },
            "type": "carpet"
           }
          ],
          "choropleth": [
           {
            "colorbar": {
             "outlinewidth": 0,
             "ticks": ""
            },
            "type": "choropleth"
           }
          ],
          "contour": [
           {
            "colorbar": {
             "outlinewidth": 0,
             "ticks": ""
            },
            "colorscale": [
             [
              0,
              "#0d0887"
             ],
             [
              0.1111111111111111,
              "#46039f"
             ],
             [
              0.2222222222222222,
              "#7201a8"
             ],
             [
              0.3333333333333333,
              "#9c179e"
             ],
             [
              0.4444444444444444,
              "#bd3786"
             ],
             [
              0.5555555555555556,
              "#d8576b"
             ],
             [
              0.6666666666666666,
              "#ed7953"
             ],
             [
              0.7777777777777778,
              "#fb9f3a"
             ],
             [
              0.8888888888888888,
              "#fdca26"
             ],
             [
              1,
              "#f0f921"
             ]
            ],
            "type": "contour"
           }
          ],
          "contourcarpet": [
           {
            "colorbar": {
             "outlinewidth": 0,
             "ticks": ""
            },
            "type": "contourcarpet"
           }
          ],
          "heatmap": [
           {
            "colorbar": {
             "outlinewidth": 0,
             "ticks": ""
            },
            "colorscale": [
             [
              0,
              "#0d0887"
             ],
             [
              0.1111111111111111,
              "#46039f"
             ],
             [
              0.2222222222222222,
              "#7201a8"
             ],
             [
              0.3333333333333333,
              "#9c179e"
             ],
             [
              0.4444444444444444,
              "#bd3786"
             ],
             [
              0.5555555555555556,
              "#d8576b"
             ],
             [
              0.6666666666666666,
              "#ed7953"
             ],
             [
              0.7777777777777778,
              "#fb9f3a"
             ],
             [
              0.8888888888888888,
              "#fdca26"
             ],
             [
              1,
              "#f0f921"
             ]
            ],
            "type": "heatmap"
           }
          ],
          "heatmapgl": [
           {
            "colorbar": {
             "outlinewidth": 0,
             "ticks": ""
            },
            "colorscale": [
             [
              0,
              "#0d0887"
             ],
             [
              0.1111111111111111,
              "#46039f"
             ],
             [
              0.2222222222222222,
              "#7201a8"
             ],
             [
              0.3333333333333333,
              "#9c179e"
             ],
             [
              0.4444444444444444,
              "#bd3786"
             ],
             [
              0.5555555555555556,
              "#d8576b"
             ],
             [
              0.6666666666666666,
              "#ed7953"
             ],
             [
              0.7777777777777778,
              "#fb9f3a"
             ],
             [
              0.8888888888888888,
              "#fdca26"
             ],
             [
              1,
              "#f0f921"
             ]
            ],
            "type": "heatmapgl"
           }
          ],
          "histogram": [
           {
            "marker": {
             "pattern": {
              "fillmode": "overlay",
              "size": 10,
              "solidity": 0.2
             }
            },
            "type": "histogram"
           }
          ],
          "histogram2d": [
           {
            "colorbar": {
             "outlinewidth": 0,
             "ticks": ""
            },
            "colorscale": [
             [
              0,
              "#0d0887"
             ],
             [
              0.1111111111111111,
              "#46039f"
             ],
             [
              0.2222222222222222,
              "#7201a8"
             ],
             [
              0.3333333333333333,
              "#9c179e"
             ],
             [
              0.4444444444444444,
              "#bd3786"
             ],
             [
              0.5555555555555556,
              "#d8576b"
             ],
             [
              0.6666666666666666,
              "#ed7953"
             ],
             [
              0.7777777777777778,
              "#fb9f3a"
             ],
             [
              0.8888888888888888,
              "#fdca26"
             ],
             [
              1,
              "#f0f921"
             ]
            ],
            "type": "histogram2d"
           }
          ],
          "histogram2dcontour": [
           {
            "colorbar": {
             "outlinewidth": 0,
             "ticks": ""
            },
            "colorscale": [
             [
              0,
              "#0d0887"
             ],
             [
              0.1111111111111111,
              "#46039f"
             ],
             [
              0.2222222222222222,
              "#7201a8"
             ],
             [
              0.3333333333333333,
              "#9c179e"
             ],
             [
              0.4444444444444444,
              "#bd3786"
             ],
             [
              0.5555555555555556,
              "#d8576b"
             ],
             [
              0.6666666666666666,
              "#ed7953"
             ],
             [
              0.7777777777777778,
              "#fb9f3a"
             ],
             [
              0.8888888888888888,
              "#fdca26"
             ],
             [
              1,
              "#f0f921"
             ]
            ],
            "type": "histogram2dcontour"
           }
          ],
          "mesh3d": [
           {
            "colorbar": {
             "outlinewidth": 0,
             "ticks": ""
            },
            "type": "mesh3d"
           }
          ],
          "parcoords": [
           {
            "line": {
             "colorbar": {
              "outlinewidth": 0,
              "ticks": ""
             }
            },
            "type": "parcoords"
           }
          ],
          "pie": [
           {
            "automargin": true,
            "type": "pie"
           }
          ],
          "scatter": [
           {
            "fillpattern": {
             "fillmode": "overlay",
             "size": 10,
             "solidity": 0.2
            },
            "type": "scatter"
           }
          ],
          "scatter3d": [
           {
            "line": {
             "colorbar": {
              "outlinewidth": 0,
              "ticks": ""
             }
            },
            "marker": {
             "colorbar": {
              "outlinewidth": 0,
              "ticks": ""
             }
            },
            "type": "scatter3d"
           }
          ],
          "scattercarpet": [
           {
            "marker": {
             "colorbar": {
              "outlinewidth": 0,
              "ticks": ""
             }
            },
            "type": "scattercarpet"
           }
          ],
          "scattergeo": [
           {
            "marker": {
             "colorbar": {
              "outlinewidth": 0,
              "ticks": ""
             }
            },
            "type": "scattergeo"
           }
          ],
          "scattergl": [
           {
            "marker": {
             "colorbar": {
              "outlinewidth": 0,
              "ticks": ""
             }
            },
            "type": "scattergl"
           }
          ],
          "scattermapbox": [
           {
            "marker": {
             "colorbar": {
              "outlinewidth": 0,
              "ticks": ""
             }
            },
            "type": "scattermapbox"
           }
          ],
          "scatterpolar": [
           {
            "marker": {
             "colorbar": {
              "outlinewidth": 0,
              "ticks": ""
             }
            },
            "type": "scatterpolar"
           }
          ],
          "scatterpolargl": [
           {
            "marker": {
             "colorbar": {
              "outlinewidth": 0,
              "ticks": ""
             }
            },
            "type": "scatterpolargl"
           }
          ],
          "scatterternary": [
           {
            "marker": {
             "colorbar": {
              "outlinewidth": 0,
              "ticks": ""
             }
            },
            "type": "scatterternary"
           }
          ],
          "surface": [
           {
            "colorbar": {
             "outlinewidth": 0,
             "ticks": ""
            },
            "colorscale": [
             [
              0,
              "#0d0887"
             ],
             [
              0.1111111111111111,
              "#46039f"
             ],
             [
              0.2222222222222222,
              "#7201a8"
             ],
             [
              0.3333333333333333,
              "#9c179e"
             ],
             [
              0.4444444444444444,
              "#bd3786"
             ],
             [
              0.5555555555555556,
              "#d8576b"
             ],
             [
              0.6666666666666666,
              "#ed7953"
             ],
             [
              0.7777777777777778,
              "#fb9f3a"
             ],
             [
              0.8888888888888888,
              "#fdca26"
             ],
             [
              1,
              "#f0f921"
             ]
            ],
            "type": "surface"
           }
          ],
          "table": [
           {
            "cells": {
             "fill": {
              "color": "#EBF0F8"
             },
             "line": {
              "color": "white"
             }
            },
            "header": {
             "fill": {
              "color": "#C8D4E3"
             },
             "line": {
              "color": "white"
             }
            },
            "type": "table"
           }
          ]
         },
         "layout": {
          "annotationdefaults": {
           "arrowcolor": "#2a3f5f",
           "arrowhead": 0,
           "arrowwidth": 1
          },
          "autotypenumbers": "strict",
          "coloraxis": {
           "colorbar": {
            "outlinewidth": 0,
            "ticks": ""
           }
          },
          "colorscale": {
           "diverging": [
            [
             0,
             "#8e0152"
            ],
            [
             0.1,
             "#c51b7d"
            ],
            [
             0.2,
             "#de77ae"
            ],
            [
             0.3,
             "#f1b6da"
            ],
            [
             0.4,
             "#fde0ef"
            ],
            [
             0.5,
             "#f7f7f7"
            ],
            [
             0.6,
             "#e6f5d0"
            ],
            [
             0.7,
             "#b8e186"
            ],
            [
             0.8,
             "#7fbc41"
            ],
            [
             0.9,
             "#4d9221"
            ],
            [
             1,
             "#276419"
            ]
           ],
           "sequential": [
            [
             0,
             "#0d0887"
            ],
            [
             0.1111111111111111,
             "#46039f"
            ],
            [
             0.2222222222222222,
             "#7201a8"
            ],
            [
             0.3333333333333333,
             "#9c179e"
            ],
            [
             0.4444444444444444,
             "#bd3786"
            ],
            [
             0.5555555555555556,
             "#d8576b"
            ],
            [
             0.6666666666666666,
             "#ed7953"
            ],
            [
             0.7777777777777778,
             "#fb9f3a"
            ],
            [
             0.8888888888888888,
             "#fdca26"
            ],
            [
             1,
             "#f0f921"
            ]
           ],
           "sequentialminus": [
            [
             0,
             "#0d0887"
            ],
            [
             0.1111111111111111,
             "#46039f"
            ],
            [
             0.2222222222222222,
             "#7201a8"
            ],
            [
             0.3333333333333333,
             "#9c179e"
            ],
            [
             0.4444444444444444,
             "#bd3786"
            ],
            [
             0.5555555555555556,
             "#d8576b"
            ],
            [
             0.6666666666666666,
             "#ed7953"
            ],
            [
             0.7777777777777778,
             "#fb9f3a"
            ],
            [
             0.8888888888888888,
             "#fdca26"
            ],
            [
             1,
             "#f0f921"
            ]
           ]
          },
          "colorway": [
           "#636efa",
           "#EF553B",
           "#00cc96",
           "#ab63fa",
           "#FFA15A",
           "#19d3f3",
           "#FF6692",
           "#B6E880",
           "#FF97FF",
           "#FECB52"
          ],
          "font": {
           "color": "#2a3f5f"
          },
          "geo": {
           "bgcolor": "white",
           "lakecolor": "white",
           "landcolor": "#E5ECF6",
           "showlakes": true,
           "showland": true,
           "subunitcolor": "white"
          },
          "hoverlabel": {
           "align": "left"
          },
          "hovermode": "closest",
          "mapbox": {
           "style": "light"
          },
          "paper_bgcolor": "white",
          "plot_bgcolor": "#E5ECF6",
          "polar": {
           "angularaxis": {
            "gridcolor": "white",
            "linecolor": "white",
            "ticks": ""
           },
           "bgcolor": "#E5ECF6",
           "radialaxis": {
            "gridcolor": "white",
            "linecolor": "white",
            "ticks": ""
           }
          },
          "scene": {
           "xaxis": {
            "backgroundcolor": "#E5ECF6",
            "gridcolor": "white",
            "gridwidth": 2,
            "linecolor": "white",
            "showbackground": true,
            "ticks": "",
            "zerolinecolor": "white"
           },
           "yaxis": {
            "backgroundcolor": "#E5ECF6",
            "gridcolor": "white",
            "gridwidth": 2,
            "linecolor": "white",
            "showbackground": true,
            "ticks": "",
            "zerolinecolor": "white"
           },
           "zaxis": {
            "backgroundcolor": "#E5ECF6",
            "gridcolor": "white",
            "gridwidth": 2,
            "linecolor": "white",
            "showbackground": true,
            "ticks": "",
            "zerolinecolor": "white"
           }
          },
          "shapedefaults": {
           "line": {
            "color": "#2a3f5f"
           }
          },
          "ternary": {
           "aaxis": {
            "gridcolor": "white",
            "linecolor": "white",
            "ticks": ""
           },
           "baxis": {
            "gridcolor": "white",
            "linecolor": "white",
            "ticks": ""
           },
           "bgcolor": "#E5ECF6",
           "caxis": {
            "gridcolor": "white",
            "linecolor": "white",
            "ticks": ""
           }
          },
          "title": {
           "x": 0.05
          },
          "xaxis": {
           "automargin": true,
           "gridcolor": "white",
           "linecolor": "white",
           "ticks": "",
           "title": {
            "standoff": 15
           },
           "zerolinecolor": "white",
           "zerolinewidth": 2
          },
          "yaxis": {
           "automargin": true,
           "gridcolor": "white",
           "linecolor": "white",
           "ticks": "",
           "title": {
            "standoff": 15
           },
           "zerolinecolor": "white",
           "zerolinewidth": 2
          }
         }
        },
        "title": {
         "text": "Mean Number of Good Ratings per Month (from 2008 to 2016)"
        },
        "xaxis": {
         "anchor": "y",
         "domain": [
          0,
          1
         ],
         "title": {
          "text": "month"
         }
        },
        "yaxis": {
         "anchor": "x",
         "domain": [
          0,
          1
         ],
         "title": {
          "text": "nbr_ratings"
         }
        }
       }
      }
     },
     "metadata": {},
     "output_type": "display_data"
    }
   ],
   "source": [
    "good_ratings_df = pd.concat([good_ratings_ba_df, good_ratings_rb_df], ignore_index=True)\n",
    "\n",
    "year_month_good_ratings_count, year_month_good_ratings_count_filtered, mean_good_ratings_per_month = dataframe_time_analysis(good_ratings_df, 2008, 2017)\n",
    "\n",
    "# plot with plotly the mean number of ratings per month\n",
    "fig = px.line(year_month_good_ratings_count_filtered, x='month', y='nbr_ratings', color='year', title='Mean Number of Good Ratings per Month (from 2008 to 2016)')\n",
    "fig.add_trace(go.Scatter(x=year_month_good_ratings_count_filtered.month, y=mean_good_ratings_per_month.mean_nbr_ratings, mode='lines', name='Mean Number of Good Ratings', line=dict(color='black', dash='dash', width=4)))\n",
    "\n",
    "fig.show()"
   ]
  },
  {
   "cell_type": "markdown",
   "metadata": {},
   "source": [
    "## Statistical Test on Beers' numbers of good ratings over the months "
   ]
  },
  {
   "cell_type": "markdown",
   "metadata": {},
   "source": [
    "Something interesting to observe is if the number of good ratngs of a specific beer has increased during a year or not. "
   ]
  },
  {
   "cell_type": "code",
   "execution_count": 65,
   "metadata": {},
   "outputs": [],
   "source": [
    "# add a new column \"is_good\" to the ratings data frame to indicate if the rating is good or not\n",
    "ratings_ba_df['is_good'] = ratings_ba_df['rating'] >= average_ratings_ba_df\n",
    "ratings_rb_df['is_good'] = ratings_rb_df['rating'] >= average_ratings_rb_df\n",
    "\n",
    "ratings_ba_df['is_bad'] = ratings_ba_df['rating'] < average_ratings_ba_df\n",
    "ratings_rb_df['is_bad'] = ratings_rb_df['rating'] < average_ratings_rb_df\n",
    "\n",
    "# concatenate the two data frames\n",
    "ratings_combined_df = pd.concat([ratings_ba_df, ratings_rb_df], ignore_index=True)\n",
    "\n",
    "# conveert to int \n",
    "ratings_combined_df['is_good'] = ratings_combined_df['is_good'].astype(int)\n",
    "ratings_combined_df['is_bad'] = ratings_combined_df['is_bad'].astype(int)"
   ]
  },
  {
   "cell_type": "code",
   "execution_count": 66,
   "metadata": {},
   "outputs": [],
   "source": [
    "# group by beer_id and then by year and count the number of good and bad ratings\n",
    "beer_good_bad_ratings_monthly = ratings_combined_df.groupby(['beer_id', 'month'])[['is_good', 'is_bad']].sum().reset_index()\n",
    "beer_good_bad_ratings_monthly['total_nbr_ratings'] = beer_good_bad_ratings_monthly['is_good'] + beer_good_bad_ratings_monthly['is_bad']"
   ]
  },
  {
   "cell_type": "code",
   "execution_count": 67,
   "metadata": {},
   "outputs": [],
   "source": [
    "# group by beer_id and then by year and count the number of good and bad ratings\n",
    "beer_good_bad_ratings_yearly = ratings_combined_df.groupby(['beer_id', 'year'])[['is_good', 'is_bad']].sum().reset_index()\n",
    "beer_good_bad_ratings_yearly['total_nbr_ratings'] = beer_good_bad_ratings_yearly['is_good'] + beer_good_bad_ratings_yearly['is_bad']"
   ]
  },
  {
   "cell_type": "code",
   "execution_count": 68,
   "metadata": {},
   "outputs": [],
   "source": [
    "# change name of columns \n",
    "beer_good_bad_ratings_monthly.rename(columns={'is_good': 'nbr_good_ratings', 'is_bad': 'nbr_bad_ratings'}, inplace=True)\n",
    "beer_good_bad_ratings_yearly.rename(columns={'is_good': 'nbr_good_ratings', 'is_bad': 'nbr_bad_ratings'}, inplace=True)"
   ]
  },
  {
   "cell_type": "code",
   "execution_count": 77,
   "metadata": {},
   "outputs": [
    {
     "name": "stdout",
     "output_type": "stream",
     "text": [
      "p-value for ANOVA test: 2.0224802642638717e-50\n",
      "F-statistic for ANOVA test: 24.09206931061297\n"
     ]
    }
   ],
   "source": [
    "grouped_data = [group['nbr_good_ratings'] for _, group in beer_good_bad_ratings_monthly.groupby('month')]\n",
    "result_anova, p_anova = f_oneway(*grouped_data)\n",
    "\n",
    "print('p-value for ANOVA test:', p_anova)\n",
    "print('F-statistic for ANOVA test:', result_anova)"
   ]
  },
  {
   "cell_type": "markdown",
   "metadata": {},
   "source": [
    "**Interpetation:**\n",
    "\n",
    "* Assuming here that : \n",
    "    * Null Hypothesis: There is no significant difference in the means of the number of good ratings across months.\n",
    "    * Alternative Hypothesis (H1): There is a significant difference in the means of the number of good ratings across at least two months.\n",
    "\n",
    "* Given the very small p-value, you would reject the null hypothesis. Therefore, you have statistical evidence to conclude that there are significant differences in the means of the number of good ratings across different months. The F-statistic indicates the strength of this evidence, with a larger F-statistic supporting the rejection of the null hypothesis."
   ]
  },
  {
   "cell_type": "markdown",
   "metadata": {},
   "source": [
    "## Let's observe now if there is any statistical difference between the average rating over the months "
   ]
  },
  {
   "cell_type": "code",
   "execution_count": 83,
   "metadata": {},
   "outputs": [],
   "source": [
    "# group by beer_id and then by year and count the number of good and bad ratings\n",
    "beer_ratings_monthly = ratings_combined_df.groupby(['beer_id', 'month'])['rating'].mean().reset_index()\n",
    "beer_ratings_monthly.rename(columns={'rating': 'average_rating'}, inplace=True)"
   ]
  },
  {
   "cell_type": "code",
   "execution_count": 85,
   "metadata": {},
   "outputs": [
    {
     "name": "stdout",
     "output_type": "stream",
     "text": [
      "p-value for ANOVA test: 1.7996803628205654e-147\n",
      "F-statistic for ANOVA test: 65.55612410763024\n"
     ]
    }
   ],
   "source": [
    "grouped_average = [group['average_rating'] for _, group in beer_ratings_monthly.groupby('month')]\n",
    "result_anova, p_anova = f_oneway(*grouped_average)\n",
    "\n",
    "print('p-value for ANOVA test:', p_anova)\n",
    "print('F-statistic for ANOVA test:', result_anova)"
   ]
  },
  {
   "cell_type": "markdown",
   "metadata": {},
   "source": [
    "**Interpetation:**\n",
    "\n",
    "* Assuming here that : \n",
    "    * Null Hypothesis: There is no significant difference in the average ratings across months.\n",
    "    * Alternative Hypothesis (H1): There is a significant difference in the average ratings across at least two months.\n",
    "\n",
    "* Given the very small p-value, you would reject the null hypothesis. Therefore, you have statistical evidence to conclude that there are significant differences in the average ratings across different months. The F-statistic indicates the strength of this evidence, with a larger F-statistic supporting the rejection of the null hypothesis."
   ]
  },
  {
   "cell_type": "markdown",
   "metadata": {},
   "source": [
    "**Conclusion:** \n",
    "* We observe statistical significance of the number of good ratings across months. \n",
    "* We observe statistical significance of the average ratings across months. \n",
    "* Thus, we quantify the existence of seasonality of the popularity of beers. "
   ]
  },
  {
   "cell_type": "markdown",
   "metadata": {},
   "source": [
    "## How to consider the most popular beer for each category ? "
   ]
  },
  {
   "cell_type": "code",
   "execution_count": 11,
   "metadata": {},
   "outputs": [
    {
     "data": {
      "text/html": [
       "<div>\n",
       "<style scoped>\n",
       "    .dataframe tbody tr th:only-of-type {\n",
       "        vertical-align: middle;\n",
       "    }\n",
       "\n",
       "    .dataframe tbody tr th {\n",
       "        vertical-align: top;\n",
       "    }\n",
       "\n",
       "    .dataframe thead th {\n",
       "        text-align: right;\n",
       "    }\n",
       "</style>\n",
       "<table border=\"1\" class=\"dataframe\">\n",
       "  <thead>\n",
       "    <tr style=\"text-align: right;\">\n",
       "      <th></th>\n",
       "      <th>beer_id</th>\n",
       "      <th>rating</th>\n",
       "      <th>count</th>\n",
       "    </tr>\n",
       "  </thead>\n",
       "  <tbody>\n",
       "    <tr>\n",
       "      <th>665</th>\n",
       "      <td>680</td>\n",
       "      <td>4.131435</td>\n",
       "      <td>5497</td>\n",
       "    </tr>\n",
       "    <tr>\n",
       "      <th>1048</th>\n",
       "      <td>1093</td>\n",
       "      <td>4.027117</td>\n",
       "      <td>4551</td>\n",
       "    </tr>\n",
       "    <tr>\n",
       "      <th>402</th>\n",
       "      <td>412</td>\n",
       "      <td>3.790415</td>\n",
       "      <td>4168</td>\n",
       "    </tr>\n",
       "    <tr>\n",
       "      <th>1049</th>\n",
       "      <td>1094</td>\n",
       "      <td>3.856541</td>\n",
       "      <td>3854</td>\n",
       "    </tr>\n",
       "    <tr>\n",
       "      <th>2001</th>\n",
       "      <td>2093</td>\n",
       "      <td>4.233636</td>\n",
       "      <td>3727</td>\n",
       "    </tr>\n",
       "    <tr>\n",
       "      <th>...</th>\n",
       "      <td>...</td>\n",
       "      <td>...</td>\n",
       "      <td>...</td>\n",
       "    </tr>\n",
       "    <tr>\n",
       "      <th>226319</th>\n",
       "      <td>326701</td>\n",
       "      <td>0.500000</td>\n",
       "      <td>1</td>\n",
       "    </tr>\n",
       "    <tr>\n",
       "      <th>277088</th>\n",
       "      <td>452975</td>\n",
       "      <td>0.500000</td>\n",
       "      <td>1</td>\n",
       "    </tr>\n",
       "    <tr>\n",
       "      <th>277097</th>\n",
       "      <td>453009</td>\n",
       "      <td>0.500000</td>\n",
       "      <td>1</td>\n",
       "    </tr>\n",
       "    <tr>\n",
       "      <th>277102</th>\n",
       "      <td>453017</td>\n",
       "      <td>0.500000</td>\n",
       "      <td>1</td>\n",
       "    </tr>\n",
       "    <tr>\n",
       "      <th>287236</th>\n",
       "      <td>479827</td>\n",
       "      <td>0.500000</td>\n",
       "      <td>1</td>\n",
       "    </tr>\n",
       "  </tbody>\n",
       "</table>\n",
       "<p>307169 rows × 3 columns</p>\n",
       "</div>"
      ],
      "text/plain": [
       "        beer_id    rating  count\n",
       "665         680  4.131435   5497\n",
       "1048       1093  4.027117   4551\n",
       "402         412  3.790415   4168\n",
       "1049       1094  3.856541   3854\n",
       "2001       2093  4.233636   3727\n",
       "...         ...       ...    ...\n",
       "226319   326701  0.500000      1\n",
       "277088   452975  0.500000      1\n",
       "277097   453009  0.500000      1\n",
       "277102   453017  0.500000      1\n",
       "287236   479827  0.500000      1\n",
       "\n",
       "[307169 rows x 3 columns]"
      ]
     },
     "execution_count": 11,
     "metadata": {},
     "output_type": "execute_result"
    }
   ],
   "source": [
    "# group by beer_id and compute the average aroma and the number of ratings for each beer\n",
    "beer_rating_df = ratings_combined_df.groupby('beer_id').agg({'rating': 'mean', 'beer_id': 'count'})\n",
    "beer_rating_df.rename(columns={'beer_id': 'count'}, inplace=True)\n",
    "beer_rating_df.reset_index(inplace=True)\n",
    "\n",
    "beer_rating_df.sort_values(by=['count', 'rating'], ascending=False, inplace=True)\n",
    "beer_rating_df"
   ]
  },
  {
   "cell_type": "markdown",
   "metadata": {},
   "source": [
    "The problem here is, what should we consider as popular? \n",
    "If we consider only the average rating, we could have a beer with a rating of 10 but with only 1 review. This does not represent the popularity we are looking for. "
   ]
  },
  {
   "cell_type": "markdown",
   "metadata": {},
   "source": [
    "Let's display a similar dataframe for the rating of each attribute: taste, appearance, aroma and palate."
   ]
  },
  {
   "cell_type": "code",
   "execution_count": 12,
   "metadata": {},
   "outputs": [],
   "source": [
    "def get_best_beers(df, attribute, n=10):\n",
    "    \"\"\"Return the n best beers from the dataframe\"\"\"\n",
    "    beer_rating_df = df.groupby('beer_id').agg({attribute: 'mean', 'beer_id': 'count'})\n",
    "    beer_rating_df.rename(columns={'beer_id': 'count'}, inplace=True)\n",
    "    beer_rating_df.reset_index(inplace=True)\n",
    "\n",
    "    beer_rating_df.sort_values(by=['count', attribute], ascending=False, inplace=True)\n",
    "    \n",
    "    # print the 10 best beers ids\n",
    "    print(beer_rating_df.head(n))"
   ]
  },
  {
   "cell_type": "code",
   "execution_count": 13,
   "metadata": {},
   "outputs": [
    {
     "name": "stdout",
     "output_type": "stream",
     "text": [
      "Best beers for taste:\n",
      "       beer_id     taste  count\n",
      "665        680  6.310461   5497\n",
      "1048      1093  4.755074   4551\n",
      "402        412  4.012858   4168\n",
      "1049      1094  5.872004   3854\n",
      "2001      2093  4.321058   3727\n",
      "10843    11757  4.520448   3711\n",
      "7461      7971  4.630809   3662\n",
      "15650    17112  4.472905   3477\n",
      "99         104  4.637593   3376\n",
      "1827      1904  4.188861   3287\n",
      "Best beers for aroma:\n",
      "       beer_id     aroma  count\n",
      "665        680  6.122380   5497\n",
      "1048      1093  4.570919   4551\n",
      "402        412  3.867783   4168\n",
      "1049      1094  5.652293   3854\n",
      "2001      2093  4.191241   3727\n",
      "10843    11757  4.446739   3711\n",
      "7461      7971  4.603583   3662\n",
      "15650    17112  4.469003   3477\n",
      "99         104  4.415247   3376\n",
      "1827      1904  4.075451   3287\n",
      "Best beers for appearance:\n",
      "       beer_id  appearance  count\n",
      "665        680    4.343995   5497\n",
      "1048      1093    4.069190   4551\n",
      "402        412    3.968765   4168\n",
      "1049      1094    3.860409   3854\n",
      "2001      2093    4.201489   3727\n",
      "10843    11757    4.406259   3711\n",
      "7461      7971    4.452548   3662\n",
      "15650    17112    4.282370   3477\n",
      "99         104    3.792302   3376\n",
      "1827      1904    4.234287   3287\n",
      "Best beers for palate:\n",
      "       beer_id    palate  count\n",
      "665        680  4.131994   5497\n",
      "1048      1093  3.954561   4551\n",
      "402        412  3.821203   4168\n",
      "1049      1094  3.856826   3854\n",
      "2001      2093  4.192061   3727\n",
      "10843    11757  4.415723   3711\n",
      "7461      7971  4.498530   3662\n",
      "15650    17112  4.326806   3477\n",
      "99         104  3.681465   3376\n",
      "1827      1904  4.084708   3287\n"
     ]
    }
   ],
   "source": [
    "# For taste\n",
    "print(\"Best beers for taste:\")\n",
    "get_best_beers(combinde_ratings_df, 'taste', 10)\n",
    "\n",
    "# For aroma\n",
    "print(\"Best beers for aroma:\")\n",
    "get_best_beers(combinde_ratings_df, 'aroma', 10)\n",
    "\n",
    "# For appearance\n",
    "print(\"Best beers for appearance:\")\n",
    "get_best_beers(combinde_ratings_df, 'appearance', 10)\n",
    "\n",
    "# For palate\n",
    "print(\"Best beers for palate:\")\n",
    "get_best_beers(combinde_ratings_df, 'palate', 10)\n"
   ]
  },
  {
   "cell_type": "markdown",
   "metadata": {},
   "source": [
    "We observe that the top 10 beers are the same throughout the categories, because the count of the reviews is preferred over the average rating, eventhough we observe different average rating from the different attributes. Thus, the sorting should be more balanced between the number of ratings and the average rating."
   ]
  },
  {
   "cell_type": "markdown",
   "metadata": {},
   "source": [
    "To correctly rank the beers, we will consider the lower bound of Wilson score. \n",
    "Wilson lower bound score presents the usefulness value of a product/comment to the user with a 95% confidence interval (https://medium.com/@okanckaya/rating-products-sorting-reviews-aff32cbd29c1)."
   ]
  },
  {
   "cell_type": "markdown",
   "metadata": {},
   "source": [
    "Here we will consider as negative ratings (i.e bad ratings) the number of ratings that are below the average rating. And we will consider as positive rating (i.e. good rating) the number of ratings that are above the average. "
   ]
  },
  {
   "cell_type": "code",
   "execution_count": 14,
   "metadata": {},
   "outputs": [],
   "source": [
    "import math\n",
    "import scipy.stats as st\n",
    "\n",
    "def wilson_lower_bound (pos, neg, confidence=0.95):\n",
    "    n = pos + neg\n",
    "    if n == 0:\n",
    "        return 0\n",
    "    z = st.norm.ppf(1 - (1 - confidence) / 2)\n",
    "    phat = 1.0 * pos / n\n",
    "    return (phat + z * z / (2 * n) - z * math. sqrt ((phat * (1 - phat) + z * z / (4 * n)) / n)) / (1 + z * z / n)"
   ]
  },
  {
   "cell_type": "markdown",
   "metadata": {},
   "source": [
    "Let's rank the beers by computing the Wilson lower bound for each beer. "
   ]
  },
  {
   "cell_type": "code",
   "execution_count": 15,
   "metadata": {},
   "outputs": [
    {
     "name": "stdout",
     "output_type": "stream",
     "text": [
      "Average rating: 3.5804573424896784\n"
     ]
    }
   ],
   "source": [
    "# print the average rating for the dataframe \n",
    "average_rating = combinde_ratings_df['rating'].mean()\n",
    "print(\"Average rating:\", average_rating)"
   ]
  },
  {
   "cell_type": "code",
   "execution_count": 16,
   "metadata": {},
   "outputs": [
    {
     "name": "stdout",
     "output_type": "stream",
     "text": [
      "       beer_id  average_rating  count  above_average  below_average  \\\n",
      "74811    86237        4.685437    664            661              3   \n",
      "19626    21690        4.690985    934            928              6   \n",
      "97243   115317        4.689776    312            311              1   \n",
      "50780    58299        4.579204    377            375              2   \n",
      "7461      7971        4.598017   3662           3604             58   \n",
      "54187    62397        4.675419    334            332              2   \n",
      "1484      1545        4.628038   1626           1602             24   \n",
      "32643    37265        4.495938    650            643              7   \n",
      "98246   116684        4.435559    322            320              2   \n",
      "68899    79387        4.501307    153            153              0   \n",
      "\n",
      "       lower_bound  \n",
      "74811     0.986801  \n",
      "19626     0.986056  \n",
      "97243     0.982071  \n",
      "50780     0.980866  \n",
      "7461      0.979581  \n",
      "54187     0.978433  \n",
      "1484      0.978131  \n",
      "32643     0.977939  \n",
      "98246     0.977640  \n",
      "68899     0.975507  \n"
     ]
    }
   ],
   "source": [
    "beer_rating_df = combinde_ratings_df.copy()\n",
    "\n",
    "beer_rating_df['above_average'] = beer_rating_df['rating'] > average_rating\n",
    "beer_rating_df['below_average'] = beer_rating_df['rating'] <= average_rating\n",
    "\n",
    "# group by beer_id and compute the average rating and the number of ratings for each beer\n",
    "beer_rating_df = beer_rating_df.groupby('beer_id').agg({'rating': 'mean', 'beer_id': 'count', 'above_average': 'sum', 'below_average': 'sum'})\n",
    "beer_rating_df.rename(columns={'rating': 'average_rating', 'beer_id': 'count'}, inplace=True)\n",
    "beer_rating_df.reset_index(inplace=True)\n",
    "\n",
    "# compute the lower bound for the average rating\n",
    "beer_rating_df['lower_bound'] = beer_rating_df.apply(lambda row: wilson_lower_bound(row['above_average'], row['below_average']), axis=1)\n",
    "\n",
    "# sort the dataframe by the lower bound\n",
    "beer_rating_df.sort_values(by='lower_bound', ascending=False, inplace=True)\n",
    "\n",
    "# print the 10 best beers ids\n",
    "print(beer_rating_df.head(10))"
   ]
  },
  {
   "cell_type": "code",
   "execution_count": 17,
   "metadata": {},
   "outputs": [
    {
     "name": "stdout",
     "output_type": "stream",
     "text": [
      "The beer with the highest lower bound of the confidence interval is: Julius\n"
     ]
    }
   ],
   "source": [
    "# print the name of the beer with the highest lower bound of the confidence interval\n",
    "beer_id = beer_rating_df.iloc[0]['beer_id']\n",
    "beer_name = combinde_ratings_df[combinde_ratings_df['beer_id'] == beer_id].iloc[0]['beer_name']\n",
    "print(\"The beer with the highest lower bound of the confidence interval is:\", beer_name)"
   ]
  },
  {
   "cell_type": "markdown",
   "metadata": {},
   "source": [
    "We clearly observe that the ranking is not the same as initially done."
   ]
  },
  {
   "cell_type": "markdown",
   "metadata": {},
   "source": [
    "Let's create a function that we will use to find out the most popular beer for a rating. "
   ]
  },
  {
   "cell_type": "code",
   "execution_count": 18,
   "metadata": {},
   "outputs": [],
   "source": [
    "def get_wilson_beers(df, attribute, n=10):\n",
    "    average_rating = df[attribute].mean()\n",
    "    \n",
    "    beer_rating_df = df.copy()\n",
    "\n",
    "    beer_rating_df['above_average'] = beer_rating_df[attribute] > average_rating\n",
    "    beer_rating_df['below_average'] = beer_rating_df[attribute] <= average_rating\n",
    "\n",
    "    beer_rating_df = beer_rating_df.groupby('beer_id').agg({attribute: 'mean', 'beer_id': 'count', 'above_average': 'sum', 'below_average': 'sum'})\n",
    "    beer_rating_df.rename(columns={'beer_id': 'count'}, inplace=True)\n",
    "    beer_rating_df.reset_index(inplace=True)\n",
    "    \n",
    "    # compute the lower bound of the confidence interval for each beer\n",
    "    beer_rating_df['lower_bound'] = beer_rating_df.apply(lambda row: wilson_lower_bound(row['above_average'], row['below_average']), axis=1)\n",
    "\n",
    "    # sort by the lower bound of the confidence interval\n",
    "    beer_rating_df.sort_values(by=['lower_bound'], ascending=False, inplace=True)\n",
    "    \n",
    "    # select the top n beers\n",
    "    beer_rating_df = beer_rating_df.head(n)\n",
    "    \n",
    "    print(beer_rating_df)\n",
    "    \n",
    "    return beer_rating_df.beer_id.values"
   ]
  },
  {
   "cell_type": "markdown",
   "metadata": {},
   "source": [
    "Let's observe the ranking of the beers by sorting the ratings by the lower bound of Wilson. "
   ]
  },
  {
   "cell_type": "code",
   "execution_count": 19,
   "metadata": {},
   "outputs": [
    {
     "name": "stdout",
     "output_type": "stream",
     "text": [
      "Best beers for taste:\n",
      "        beer_id     taste  count  above_average  below_average  lower_bound\n",
      "92879    109078  7.661069    655            654              1     0.991403\n",
      "108150   131594  7.911765    306            306              0     0.987602\n",
      "4627       4934  8.952813   1653           1639             14     0.985834\n",
      "129863   165181  8.178707    263            263              0     0.985604\n",
      "90597    105767  8.351706    381            380              1     0.985285\n",
      "101955   122097  8.396825    252            252              0     0.984985\n",
      "57170     65881  8.119417   1030           1022              8     0.984749\n",
      "13091     14232  8.563501   1874           1855             19     0.984219\n",
      "50580     58057  8.937778    225            225              0     0.983213\n",
      "57808     66624  8.227931    759            753              6     0.982862\n",
      "Best beers for aroma:\n",
      "        beer_id     aroma  count  above_average  below_average  lower_bound\n",
      "53227     61167  8.028953    449            448              1     0.987494\n",
      "64855     74747  7.900662    302            302              0     0.987440\n",
      "45917     52649  8.112108    669            666              3     0.986900\n",
      "13091     14232  8.360192   1874           1858             16     0.986176\n",
      "86099     99410  8.094215    605            602              3     0.985524\n",
      "61263     70646  8.128257    499            497              2     0.985506\n",
      "117586   146192  7.960474    253            253              0     0.985043\n",
      "164289   217528  8.056452    248            248              0     0.984747\n",
      "98367    116859  8.310329    547            544              3     0.984001\n",
      "147874   192007  8.255319    235            235              0     0.983916\n",
      "Best beers for appearance:\n",
      "        beer_id  appearance  count  above_average  below_average  lower_bound\n",
      "142662   184058    4.597059    170            170              0     0.977903\n",
      "29175     33127    4.530797    838            816             12     0.974840\n",
      "30263     34420    4.574514   1879           1817             35     0.973831\n",
      "97243    115317    4.618924    312            285              3     0.969827\n",
      "117935   146770    4.783613    119            119              0     0.968728\n",
      "98573    117177    4.522156    785            741             15     0.967523\n",
      "146377   189696    4.628440    109            109              0     0.965957\n",
      "66310     76421    4.738861    204            200              2     0.964625\n",
      "37254     42723    4.426000   1002            976             24     0.964537\n",
      "146112   189272    4.552254    244            241              3     0.964481\n",
      "Best beers for palate:\n",
      "        beer_id    palate  count  above_average  below_average  lower_bound\n",
      "74811     86237  4.671418    664            643              6     0.979978\n",
      "94682    111616  4.600556    468            444              6     0.971219\n",
      "137616   176650  4.568333    300            297              3     0.971017\n",
      "98573    117177  4.549603    785            741             15     0.967523\n",
      "19626     21690  4.646774    934            910             20     0.967016\n",
      "77090     88969  4.612821    393            384              6     0.966847\n",
      "111682   136936  4.681818    237            228              3     0.962520\n",
      "140981   181572  4.444262    305            300              5     0.962205\n",
      "77073     88949  4.419283    236            220              3     0.961201\n",
      "54187     62397  4.643939    334            324              6     0.960907\n"
     ]
    }
   ],
   "source": [
    "# for taste\n",
    "print(\"Best beers for taste:\")\n",
    "taste_beer_ids = get_wilson_beers(combined_ratings_df, 'taste', n=10)\n",
    "\n",
    "# for aroma\n",
    "print(\"Best beers for aroma:\")\n",
    "aroma_beer_ids = get_wilson_beers(combinde_ratings_df, 'aroma', n=10)\n",
    "\n",
    "# for appearance\n",
    "print(\"Best beers for appearance:\")\n",
    "appearance_beer_ids = get_wilson_beers(combinde_ratings_df, 'appearance', n=10)\n",
    "\n",
    "# for palate\n",
    "print(\"Best beers for palate:\")\n",
    "palate_beer_ids = get_wilson_beers(combinde_ratings_df, 'palate', n=10)\n"
   ]
  },
  {
   "cell_type": "markdown",
   "metadata": {},
   "source": [
    "## Attribute analysis"
   ]
  },
  {
   "cell_type": "code",
   "execution_count": 20,
   "metadata": {},
   "outputs": [],
   "source": [
    "# drop rows where there are null values for taste, aroma, appearance, palate\n",
    "combinde_ratings_df.dropna(inplace=True)"
   ]
  },
  {
   "cell_type": "code",
   "execution_count": 89,
   "metadata": {},
   "outputs": [
    {
     "name": "stdout",
     "output_type": "stream",
     "text": [
      "Correlation Matrix:\n",
      "              rating     taste     aroma  appearance    palate\n",
      "rating      1.000000  0.313639  0.274070    0.661040  0.790602\n",
      "taste       0.313639  1.000000  0.896132    0.135081  0.208878\n",
      "aroma       0.274070  0.896132  1.000000    0.132816  0.145018\n",
      "appearance  0.661040  0.135081  0.132816    1.000000  0.593588\n",
      "palate      0.790602  0.208878  0.145018    0.593588  1.000000\n",
      "\n",
      "Correlations with Overall Rating:\n",
      "taste         0.313639\n",
      "aroma         0.274070\n",
      "appearance    0.661040\n",
      "palate        0.790602\n",
      "Name: rating, dtype: float64\n",
      "\n",
      "The attribute with the highest correlation with Overall Rating: palate\n"
     ]
    }
   ],
   "source": [
    "# Calculate correlation coefficients\n",
    "correlation_matrix = combinde_ratings_df[['rating', 'taste', 'aroma', 'appearance', 'palate']].corr()\n",
    "\n",
    "# Print the correlation matrix\n",
    "print(\"Correlation Matrix:\")\n",
    "print(correlation_matrix)\n",
    "\n",
    "# Extract correlations with overall rating\n",
    "overall_correlations = correlation_matrix['rating'].drop('rating')\n",
    "\n",
    "# Print correlations with overall rating\n",
    "print(\"\\nCorrelations with Overall Rating:\")\n",
    "print(overall_correlations)\n",
    "\n",
    "# Identify which attribute has the highest correlation\n",
    "max_corr_attribute = overall_correlations.idxmax()\n",
    "print(\"\\nThe attribute with the highest correlation with Overall Rating:\", max_corr_attribute)\n"
   ]
  },
  {
   "cell_type": "code",
   "execution_count": 94,
   "metadata": {},
   "outputs": [
    {
     "data": {
      "image/png": "[encoded data removed]",
      "text/plain": [
       "<Figure size 800x400 with 1 Axes>"
      ]
     },
     "metadata": {},
     "output_type": "display_data"
    },
    {
     "name": "stdout",
     "output_type": "stream",
     "text": [
      "                                 OLS Regression Results                                \n",
      "=======================================================================================\n",
      "Dep. Variable:                 rating   R-squared (uncentered):                   0.989\n",
      "Model:                            OLS   Adj. R-squared (uncentered):              0.989\n",
      "Method:                 Least Squares   F-statistic:                          1.237e+08\n",
      "Date:                Mon, 11 Dec 2023   Prob (F-statistic):                        0.00\n",
      "Time:                        19:10:21   Log-Likelihood:                     -2.4352e+06\n",
      "No. Observations:             5419565   AIC:                                  4.870e+06\n",
      "Df Residuals:                 5419561   BIC:                                  4.870e+06\n",
      "Df Model:                           4                                                  \n",
      "Covariance Type:            nonrobust                                                  \n",
      "==============================================================================\n",
      "                 coef    std err          t      P>|t|      [0.025      0.975]\n",
      "------------------------------------------------------------------------------\n",
      "taste          0.0342      0.000    169.924      0.000       0.034       0.035\n",
      "aroma          0.0376      0.000    189.194      0.000       0.037       0.038\n",
      "appearance     0.3238      0.000   1314.221      0.000       0.323       0.324\n",
      "palate         0.5556      0.000   2174.153      0.000       0.555       0.556\n",
      "==============================================================================\n",
      "Omnibus:                   376434.974   Durbin-Watson:                   1.200\n",
      "Prob(Omnibus):                  0.000   Jarque-Bera (JB):           564032.583\n",
      "Skew:                          -0.576   Prob(JB):                         0.00\n",
      "Kurtosis:                       4.083   Cond. No.                         20.4\n",
      "==============================================================================\n",
      "\n",
      "Notes:\n",
      "[1] R² is computed without centering (uncentered) since the model does not contain a constant.\n",
      "[2] Standard Errors assume that the covariance matrix of the errors is correctly specified.\n"
     ]
    }
   ],
   "source": [
    "from sklearn import linear_model\n",
    "import statsmodels.api as sm\n",
    "\n",
    "X = combinde_ratings_df[['taste', 'aroma', 'appearance', 'palate']]\n",
    "y = combinde_ratings_df['rating']\n",
    "\n",
    "\n",
    "clf = linear_model.LinearRegression(fit_intercept=False)\n",
    "clf.fit(X, y)\n",
    "weights = clf.coef_\n",
    "plt.figure(figsize = (8, 4))\n",
    "plt.bar(x = ['taste', 'aroma', 'appearance', 'palate'], height = weights)\n",
    "plt.title('Influence of attribute in the ratings', fontsize=15)\n",
    "plt.grid(False)\n",
    "plt.show()\n",
    "\n",
    "ols = sm.OLS(y, X)\n",
    "model = ols.fit()\n",
    "\n",
    "print(model.summary())"
   ]
  },
  {
   "cell_type": "markdown",
   "metadata": {},
   "source": [
    "We observe that the attribute palate has the most substantial consequence on the rating, followed by appearance, aroma and taste.\n",
    "Let's take a look now at the good reviews."
   ]
  },
  {
   "cell_type": "markdown",
   "metadata": {},
   "source": [
    "## Textual analysis"
   ]
  },
  {
   "cell_type": "code",
   "execution_count": 24,
   "metadata": {},
   "outputs": [],
   "source": [
    "nlp = spacy.load('en_core_web_sm')"
   ]
  },
  {
   "cell_type": "code",
   "execution_count": 25,
   "metadata": {},
   "outputs": [],
   "source": [
    "# drop rows where text is missing\n",
    "good_ratings_combined_df.dropna(subset=['text'], inplace=True)\n",
    "bad_ratings_combined_df.dropna(subset=['text'], inplace=True)"
   ]
  },
  {
   "cell_type": "markdown",
   "metadata": {},
   "source": [
    "## Attribute analysis "
   ]
  },
  {
   "cell_type": "code",
   "execution_count": 95,
   "metadata": {},
   "outputs": [
    {
     "data": {
      "image/png": "[encoded data removed]",
      "text/plain": [
       "<Figure size 800x400 with 1 Axes>"
      ]
     },
     "metadata": {},
     "output_type": "display_data"
    }
   ],
   "source": [
    "X = good_ratings_combined_df[['taste', 'aroma', 'appearance', 'palate']]\n",
    "y = good_ratings_combined_df['rating']\n",
    "\n",
    "\n",
    "clf = linear_model.LinearRegression(fit_intercept=False)\n",
    "clf.fit(X, y)\n",
    "weights = clf.coef_\n",
    "plt.figure(figsize = (8, 4))\n",
    "plt.bar(x = ['taste', 'aroma', 'appearance', 'palate'], height = weights)\n",
    "plt.title('Influence of attribute in the good ratings', fontsize=15)\n",
    "plt.grid(False)\n",
    "plt.show()\n",
    "\n",
    "ols = sm.OLS(y, X)\n",
    "model = ols.fit()"
   ]
  },
  {
   "cell_type": "markdown",
   "metadata": {},
   "source": [
    "We get the same result as before. To have more insights, let's look at the seasonality of the attributes. Do we observe any difference between the different months? "
   ]
  },
  {
   "cell_type": "markdown",
   "metadata": {},
   "source": [
    "## Attribute analysis by months"
   ]
  },
  {
   "cell_type": "code",
   "execution_count": 96,
   "metadata": {},
   "outputs": [
    {
     "data": {
      "image/png": "[encoded data removed]",
      "text/plain": [
       "<Figure size 1500x1000 with 12 Axes>"
      ]
     },
     "metadata": {},
     "output_type": "display_data"
    }
   ],
   "source": [
    "# List of months\n",
    "months = sorted(good_ratings_combined_df['month'].unique())\n",
    "\n",
    "# Set up subplots\n",
    "fig, axes = plt.subplots(3, 4, figsize=(15, 10))\n",
    "fig.suptitle('Influence of Attributes on Good Ratings by Month', fontsize=16)\n",
    "\n",
    "# Flatten the 3x4 subplot grid into a 1D array for iteration\n",
    "axes = axes.flatten()\n",
    "\n",
    "for i, month in enumerate(months):\n",
    "    # Filter data for the current month\n",
    "    month_df = good_ratings_combined_df[good_ratings_combined_df['month'] == month]\n",
    "    \n",
    "    # Define X and y for the current month\n",
    "    X = month_df[['taste', 'aroma', 'appearance', 'palate']]\n",
    "    y = month_df['rating']\n",
    "\n",
    "    # Linear Regression\n",
    "    clf = linear_model.LinearRegression(fit_intercept=False)\n",
    "    clf.fit(X, y)\n",
    "    weights = clf.coef_\n",
    "\n",
    "    # Create a bar plot on the current subplot\n",
    "    axes[i].bar(x=['taste', 'aroma', 'appearance', 'palate'], height=weights)\n",
    "    axes[i].set_title(f'Month {month}')\n",
    "    axes[i].set_xlabel('Attributes')\n",
    "    axes[i].set_ylabel('Weights')\n",
    "    axes[i].grid(False)\n",
    "\n",
    "# Adjust layout to prevent overlapping\n",
    "plt.tight_layout(rect=[0, 0, 1, 0.96])\n",
    "plt.show()"
   ]
  },
  {
   "cell_type": "markdown",
   "metadata": {},
   "source": [
    "## Keywords extraction of the good reviews"
   ]
  },
  {
   "cell_type": "code",
   "execution_count": 13,
   "metadata": {},
   "outputs": [],
   "source": [
    "# Keywords for each category\n",
    "aroma_keywords = ['aroma', 'smell', 'fragrance', 'scent', 'finish']\n",
    "taste_keywords = ['taste', 'flavor', 'palate']\n",
    "palate_keywords = ['palate', 'mouthfeel', 'body', 'texture', 'feel']\n",
    "appearance_keywords = ['appearance', 'color', 'look', 'pour', 'head', 'foam', 'lacing']\n",
    "carbonation_keywords = ['carbonation', 'bubbles', 'fizz', 'carbonated']"
   ]
  },
  {
   "cell_type": "code",
   "execution_count": 14,
   "metadata": {},
   "outputs": [],
   "source": [
    "def extract_keywords(text, keywords):\n",
    "    # Process the text with spaCy\n",
    "    doc = nlp(text.lower())\n",
    "\n",
    "    result = []\n",
    "    for token in doc:\n",
    "        if token.text.lower() in keywords:\n",
    "            # Collect nearby adjectives and nouns\n",
    "            nearby_words = []\n",
    "            for nearby_token in doc[token.i - 3:token.i + 5]:\n",
    "                if nearby_token.pos_ in ['ADJ', 'NOUN'] and not nearby_token.is_stop and len(nearby_token) > 2:\n",
    "                    nearby_words.append(nearby_token.lemma_)\n",
    "            result.extend(nearby_words)\n",
    "            \n",
    "    # remove the duplicates and the words that are in the keywords list\n",
    "    result = list(set(result) - set(keywords))\n",
    "\n",
    "    return result"
   ]
  },
  {
   "cell_type": "code",
   "execution_count": 15,
   "metadata": {},
   "outputs": [],
   "source": [
    "# group by beer_id and count the number of reviews for each beer\n",
    "beer_reviews_count = good_ratings_combined_df.groupby('beer_id').count()['text'].reset_index()"
   ]
  },
  {
   "cell_type": "code",
   "execution_count": 16,
   "metadata": {},
   "outputs": [
    {
     "name": "stdout",
     "output_type": "stream",
     "text": [
      "Average number of reviews per beer: 13.480106777795909\n"
     ]
    }
   ],
   "source": [
    "# print the average number of reviews\n",
    "print(\"Average number of reviews per beer:\", beer_reviews_count.text.mean())"
   ]
  },
  {
   "cell_type": "code",
   "execution_count": 17,
   "metadata": {},
   "outputs": [
    {
     "data": {
      "text/html": [
       "<div>\n",
       "<style scoped>\n",
       "    .dataframe tbody tr th:only-of-type {\n",
       "        vertical-align: middle;\n",
       "    }\n",
       "\n",
       "    .dataframe tbody tr th {\n",
       "        vertical-align: top;\n",
       "    }\n",
       "\n",
       "    .dataframe thead th {\n",
       "        text-align: right;\n",
       "    }\n",
       "</style>\n",
       "<table border=\"1\" class=\"dataframe\">\n",
       "  <thead>\n",
       "    <tr style=\"text-align: right;\">\n",
       "      <th></th>\n",
       "      <th>beer_id</th>\n",
       "      <th>text</th>\n",
       "    </tr>\n",
       "  </thead>\n",
       "  <tbody>\n",
       "    <tr>\n",
       "      <th>count</th>\n",
       "      <td>239001.000000</td>\n",
       "      <td>239001.000000</td>\n",
       "    </tr>\n",
       "    <tr>\n",
       "      <th>mean</th>\n",
       "      <td>221272.727223</td>\n",
       "      <td>13.480107</td>\n",
       "    </tr>\n",
       "    <tr>\n",
       "      <th>std</th>\n",
       "      <td>150582.412973</td>\n",
       "      <td>71.936676</td>\n",
       "    </tr>\n",
       "    <tr>\n",
       "      <th>min</th>\n",
       "      <td>1.000000</td>\n",
       "      <td>1.000000</td>\n",
       "    </tr>\n",
       "    <tr>\n",
       "      <th>25%</th>\n",
       "      <td>89204.000000</td>\n",
       "      <td>1.000000</td>\n",
       "    </tr>\n",
       "    <tr>\n",
       "      <th>50%</th>\n",
       "      <td>201842.000000</td>\n",
       "      <td>2.000000</td>\n",
       "    </tr>\n",
       "    <tr>\n",
       "      <th>75%</th>\n",
       "      <td>336505.000000</td>\n",
       "      <td>6.000000</td>\n",
       "    </tr>\n",
       "    <tr>\n",
       "      <th>max</th>\n",
       "      <td>536465.000000</td>\n",
       "      <td>4943.000000</td>\n",
       "    </tr>\n",
       "  </tbody>\n",
       "</table>\n",
       "</div>"
      ],
      "text/plain": [
       "             beer_id           text\n",
       "count  239001.000000  239001.000000\n",
       "mean   221272.727223      13.480107\n",
       "std    150582.412973      71.936676\n",
       "min         1.000000       1.000000\n",
       "25%     89204.000000       1.000000\n",
       "50%    201842.000000       2.000000\n",
       "75%    336505.000000       6.000000\n",
       "max    536465.000000    4943.000000"
      ]
     },
     "execution_count": 17,
     "metadata": {},
     "output_type": "execute_result"
    }
   ],
   "source": [
    "beer_reviews_count.describe()"
   ]
  },
  {
   "cell_type": "code",
   "execution_count": 131,
   "metadata": {},
   "outputs": [
    {
     "data": {
      "image/png": "[encoded data removed]",
      "text/plain": [
       "<Figure size 1200x600 with 1 Axes>"
      ]
     },
     "metadata": {},
     "output_type": "display_data"
    }
   ],
   "source": [
    "# plot histogram of the number of reviews with log scale\n",
    "plt.figure(figsize=(12, 6))\n",
    "plt.hist(beer_reviews_count.text, bins=100)\n",
    "plt.xlabel('Number of reviews')\n",
    "plt.ylabel('Number of beers')\n",
    "plt.title('Histogram of the number of reviews per beer (log scale)')\n",
    "plt.yscale('log')\n",
    "plt.show()\n"
   ]
  },
  {
   "cell_type": "markdown",
   "metadata": {},
   "source": [
    "The average of ratings received for a beer is 13.48, rounded to 14, with a standard deviation of 71.93. \n",
    "Since we have a lot of beers, and some of them receive a large amount of reviews, we decide to threshold the reviews. \n",
    "We assume that, in general, beers receive kind of the same review when it is a good review, and same goes for bad reviews. That's why we split the reviews into two parts, so that we can construct dictionnaries for good and for bad reviews.\n",
    "\n",
    "Let's keep a maximum review of 100 for each beer. "
   ]
  },
  {
   "cell_type": "code",
   "execution_count": 24,
   "metadata": {},
   "outputs": [],
   "source": [
    "# for each beer_id, keep a maximum sample of mean reviews\n",
    "mean = 14\n",
    "beer_reviews_sample = good_ratings_combined_df.groupby('beer_id').apply(lambda x: x.sample(min(len(x), mean))).reset_index(drop=True)"
   ]
  },
  {
   "cell_type": "code",
   "execution_count": 25,
   "metadata": {},
   "outputs": [
    {
     "data": {
      "text/plain": [
       "1028394"
      ]
     },
     "execution_count": 25,
     "metadata": {},
     "output_type": "execute_result"
    }
   ],
   "source": [
    "len(beer_reviews_sample)"
   ]
  },
  {
   "cell_type": "code",
   "execution_count": 26,
   "metadata": {},
   "outputs": [],
   "source": [
    "sample_reviews = beer_reviews_sample['text'].sample(100000)"
   ]
  },
  {
   "cell_type": "code",
   "execution_count": null,
   "metadata": {},
   "outputs": [],
   "source": [
    "good_aroma_list = []\n",
    "good_taste_list = []\n",
    "good_palate_list = []\n",
    "good_appearance_list = []\n",
    "good_carbonation_list = []\n",
    "\n",
    "sample_reviews = beer_reviews_sample['text'].sample(100000)\n",
    "\n",
    "for i, text in enumerate(sample_reviews.values.tolist()):\n",
    "    # for each keyword list, extract the keywords from the text\n",
    "    good_aroma_list.extend(extract_keywords(text, aroma_keywords))\n",
    "    good_taste_list.extend(extract_keywords(text, taste_keywords))\n",
    "    good_palate_list.extend(extract_keywords(text, palate_keywords))\n",
    "    good_appearance_list.extend(extract_keywords(text, appearance_keywords))\n",
    "    good_carbonation_list.extend(extract_keywords(text, carbonation_keywords))\n",
    "    \n",
    "    aroma_set = Counter(good_aroma_list)\n",
    "    taste_set = Counter(good_taste_list)\n",
    "    palate_set = Counter(good_palate_list)\n",
    "    appearance_set = Counter(good_appearance_list)\n",
    "    carbonation_set = Counter(good_carbonation_list)\n",
    "    \n",
    "    if i % 1000 == 0:\n",
    "        # save it into json files\n",
    "        with open('data/aroma_keywords_2.json', 'w') as f:\n",
    "            json.dump(aroma_set, f)\n",
    "        \n",
    "        with open('data/taste_keywords_2.json', 'w') as f:\n",
    "            json.dump(taste_set, f)\n",
    "        \n",
    "        with open('data/palate_keywords_2.json', 'w') as f:\n",
    "            json.dump(palate_set, f)\n",
    "        \n",
    "        with open('data/appearance_keywords_2.json', 'w') as f:\n",
    "            json.dump(appearance_set, f)\n",
    "        \n",
    "        with open('data/carbonation_keywords_2.json', 'w') as f:\n",
    "            json.dump(carbonation_set, f)\n",
    "            \n",
    "        print(\"File saved at iteration\", i)"
   ]
  },
  {
   "cell_type": "markdown",
   "metadata": {},
   "source": [
    "## Cleaning the list of keywords"
   ]
  },
  {
   "cell_type": "code",
   "execution_count": 14,
   "metadata": {},
   "outputs": [],
   "source": [
    "# open the json files and load them into a dictionary\n",
    "with open('data/aroma_keywords_2.json') as f:\n",
    "    aroma_dict = json.load(f)\n",
    "\n",
    "with open('data/taste_keywords_2.json') as f:\n",
    "    taste_dict = json.load(f)\n",
    "    \n",
    "with open('data/palate_keywords_2.json') as f:\n",
    "    palate_dict = json.load(f)\n",
    "\n",
    "with open('data/appearance_keywords_2.json') as f:\n",
    "    appearance_dict = json.load(f)\n",
    "    \n",
    "with open('data/carbonation_keywords_2.json') as f:\n",
    "    carbonation_dict = json.load(f)"
   ]
  },
  {
   "cell_type": "code",
   "execution_count": 15,
   "metadata": {},
   "outputs": [],
   "source": [
    "# concatenate all the keywords aroma_keywords, taste_keywords, palate_keywords, appearance_keywords, carbonation_keywords\n",
    "all_keywords = aroma_keywords + taste_keywords + palate_keywords + appearance_keywords + carbonation_keywords\n",
    "\n",
    "# create a function to filter the keys from the dictionary\n",
    "def filter_keywords(keywords):\n",
    "    filtered_keywords = []\n",
    "    \n",
    "    for keyword in keywords:\n",
    "        \n",
    "        # remove the keyowrds that have special characters, numbers and punctuation\n",
    "        if not re.match('^[a-zA-Z]+$', keyword):\n",
    "            continue\n",
    "        \n",
    "        # remove the keywords that are less than 3 characters\n",
    "        if len(keyword) < 3:\n",
    "            continue\n",
    "        \n",
    "        # remove keywords that have the word 'beer' in them\n",
    "        if keyword == 'beer':\n",
    "            continue\n",
    "        \n",
    "        # remove keywords such as not, like, well, etc.\n",
    "        if keyword in ['not', 'one', 'like', 'well', 'good', 'great', 'nice', 'little', 'much', 'really', 'bit', 'very', 'with', 'more', 'and', 'but', 'too', 'also', 'just']:\n",
    "            continue\n",
    "        \n",
    "        # remove words such as hop, hoppy, malt, malty, etc.\n",
    "        if keyword in ['hop', 'hops', 'hoppy', 'malt', 'malts', 'malty', 'maltiness', 'maltinesses']:\n",
    "            continue\n",
    "        \n",
    "        # if the keyword is not in the all_keywords list, add it to the filtered_keywords list\n",
    "        if keyword not in all_keywords:\n",
    "            filtered_keywords.append(keyword)\n",
    "    \n",
    "    return filtered_keywords"
   ]
  },
  {
   "cell_type": "code",
   "execution_count": 16,
   "metadata": {},
   "outputs": [],
   "source": [
    "# filter the keywords\n",
    "aroma_words = filter_keywords(aroma_dict.keys())\n",
    "taste_words = filter_keywords(taste_dict.keys())\n",
    "palate_words = filter_keywords(palate_dict.keys())\n",
    "appearance_words = filter_keywords(appearance_dict.keys())\n",
    "carbonation_words = filter_keywords(carbonation_dict.keys())\n",
    "\n",
    "# reconstruct the dictionaries with the filtered keywords\n",
    "aroma_dict = {key: aroma_dict[key] for key in aroma_words}\n",
    "taste_dict = {key: taste_dict[key] for key in taste_words}\n",
    "palate_dict = {key: palate_dict[key] for key in palate_words}\n",
    "appearance_dict = {key: appearance_dict[key] for key in appearance_words}\n",
    "carbonation_dict = {key: carbonation_dict[key] for key in carbonation_words}\n"
   ]
  },
  {
   "cell_type": "code",
   "execution_count": 17,
   "metadata": {},
   "outputs": [],
   "source": [
    "# sort the dictionaries by value\n",
    "aroma_dict = dict(sorted(aroma_dict.items(), key=lambda item: item[1], reverse=True))\n",
    "taste_dict = dict(sorted(taste_dict.items(), key=lambda item: item[1], reverse=True))\n",
    "palate_dict = dict(sorted(palate_dict.items(), key=lambda item: item[1], reverse=True))\n",
    "appearance_dict = dict(sorted(appearance_dict.items(), key=lambda item: item[1], reverse=True))\n",
    "carbonation_dict = dict(sorted(carbonation_dict.items(), key=lambda item: item[1], reverse=True))"
   ]
  },
  {
   "cell_type": "code",
   "execution_count": 18,
   "metadata": {},
   "outputs": [
    {
     "name": "stdout",
     "output_type": "stream",
     "text": [
      "Number of aroma keywords: 5263\n",
      "Number of taste keywords: 5513\n",
      "Number of palate keywords: 4444\n",
      "Number of appearance keywords: 5760\n",
      "Number of carbonation keywords: 2740\n"
     ]
    }
   ],
   "source": [
    "# print the size of each dictionary\n",
    "print(\"Number of aroma keywords:\", len(aroma_dict))\n",
    "print(\"Number of taste keywords:\", len(taste_dict))\n",
    "print(\"Number of palate keywords:\", len(palate_dict))\n",
    "print(\"Number of appearance keywords:\", len(appearance_dict))\n",
    "print(\"Number of carbonation keywords:\", len(carbonation_dict))"
   ]
  },
  {
   "cell_type": "code",
   "execution_count": 15,
   "metadata": {},
   "outputs": [],
   "source": [
    "# keep only the keywords that appear more than 100 times\n",
    "#appearance_dict = {k: v for k, v in appearance_dict.items() if v > 100}\n",
    "\n",
    "# list of words to remove from the dictionary\n",
    "appearance_terms = ['white', 'brown', 'light', 'small', 'thin', 'dark', 'golden', 'retention', 'medium', 'hazy', 'clear', \n",
    "                            'amber', 'black', 'creamy', 'thick', 'beige', 'orange', 'yellow', 'tan', 'foamy', 'copper', 'big', \n",
    "                            'gold', 'decent', 'deep', 'cloudy', 'lace', 'moderate', 'red', 'minimal', \n",
    "                            'ring', 'bright', 'colored', 'straw', 'dense', 'reddish', 'pale', 'khaki', \n",
    "                            'slight', 'rich', 'huge', 'fizzy', 'frothy', 'solid', 'average', \n",
    "                            'short', 'bubble', 'caramel', 'soft', 'pink', 'mocha', 'opaque', 'murky', 'ruby',\n",
    "                            'rocky', 'fine', 'cling', 'cap', 'mahogany', 'brownish', 'ton', 'hue',  \n",
    "                            'haze', 'pitch', 'clarity', 'wispy', 'cherry', 'highlight', 'clean', 'fade', 'funky', \n",
    "                            'ivory', 'purple', 'lacy', 'bone', 'high', 'hint', 'pinkish', 'peach', 'toffee',  'yellowish', \n",
    "                            'patchy', 'bronze', 'muddy', 'firm', 'clingy', 'stringy', 'visible', 'transparent']"
   ]
  },
  {
   "cell_type": "code",
   "execution_count": 16,
   "metadata": {},
   "outputs": [],
   "source": [
    "#taste_dict = {k: v for k, v in taste_dict.items() if v > 100}\n",
    "\n",
    "taste_terms = ['sweet',  'bitter', 'smooth', 'roasted', 'dry', 'fruity', 'tart', 'bodied', \n",
    "    'bitterness', 'sour', 'strong', 'spice', 'mild', 'rich',  'yeast', 'profile', 'sweetness', 'earthy', 'balanced', 'alcohol', \n",
    "    'wheat', 'spicy', 'clean', 'moderate', 'crisp', 'grain', 'slight', 'heavy',\n",
    "    'creamy', 'mid', 'complex', 'hint', 'roasty', 'bready', 'bread', 'roast', 'herbal', 'fresh', 'sugar', 'balance', \n",
    "    'solid', 'soft', 'juicy', 'subtle', 'grass', 'grassy', 'smoke',\n",
    "    'funk', 'nutty', 'character', 'refreshing', 'citrusy', 'belgian', 'decent', 'bittersweet', \n",
    "    'rye', 'thick', 'thin', 'piney', 'grainy', 'clove', 'yeasty', \n",
    "    'wine', 'molasse', 'ale', 'biscuit', 'funky', 'bud', 'plenty', 'peppery', 'milk', 'barrel', 'tartness', \n",
    "    'smoky', 'woody', 'faint', 'toast', 'low', 'stout', \n",
    "    'ester', 'ton', 'bold', 'intense', 'deep', 'suit', 'brew', 'tangy', 'whiskey', 'blend', 'peel', \n",
    "    'tasty', 'ipa', 'acidic', 'straw', 'boozy', 'fruitiness', 'smokey', 'mellow', 'earthiness', 'juice', 'toasty', 'booze', \n",
    "    'average', 'tone', 'dough', 'robust', 'sourness', 'cracker', 'noticeable', 'biscuity', \n",
    "    'rind', 'barley', 'lager', 'cream', 'plum', 'acidity',  'hoppiness', 'upfront', \n",
    "    'resinous', 'syrup', 'porter', 'vinegar', 'sugary',' bubblegum']\n"
   ]
  },
  {
   "cell_type": "code",
   "execution_count": 17,
   "metadata": {},
   "outputs": [],
   "source": [
    "#palate_dict = {k: v for k, v in palate_dict.items() if v > 100}\n",
    "\n",
    "palate_terms = ['medium', 'light', 'smooth', 'creamy', 'dry', 'bodied', 'soft', 'thin', 'thick', 'moderate', 'crisp',  'sticky', 'slick', \n",
    "                'mid', 'solid', 'decent', 'mild', 'balanced', 'oily', 'chewy', 'deep', 'watery', 'silky', 'refreshing', 'strong', 'touch', 'balance', 'fizzy', 'character', \n",
    "                'fine', 'flat', 'full', 'hint', 'sharp', 'bready', 'foamy', 'viscous', 'chalky', 'effervescent', 'fluffy', 'grainy', 'gentle', \n",
    "                'prickly', 'tartness', 'bubbly', 'acidic', 'astringency']"
   ]
  },
  {
   "cell_type": "code",
   "execution_count": 18,
   "metadata": {},
   "outputs": [],
   "source": [
    "#aroma_dict = {k: v for k, v in aroma_dict.items() if v > 100}\n",
    "\n",
    "aroma_terms = ['citrus', 'chocolate', 'fruit', 'fruity', 'coffee',  'floral',\n",
    "    'caramel', 'pine', 'grapefruit', 'tropical', 'vanilla', 'lemon', 'bourbon', 'cherry', \n",
    "    'orange', 'herbal', 'decent', 'citrusy', 'cocoa', 'honey', 'oak', \n",
    "    'toffee', 'nutty', 'banana', 'grass', 'apple', \n",
    "    'pepper', 'pineapple', 'thin', 'funk', 'clove', 'wood', \n",
    "    'berry', 'woody', 'biscuit', 'raspberry', 'grape', 'molasse', 'tangy', 'barrel', 'peach', 'raisin', 'resinous', \n",
    "    'candy', 'ipa',  'nut', 'pungent', 'pumpkin', 'ginger', \n",
    "    'mango', 'warming', 'earth', 'mellow', 'cereal', 'ring', 'astringent', \n",
    "    'coriander', 'tangerine', 'maple', 'melon', 'hay', 'lactic', 'citric', 'peel', 'rind', 'lager', 'bold', 'vinous', 'weak', 'toasted', 'blueberry', \n",
    "    'biscuity', 'spiced', 'lime', 'metallic', 'coconut', 'hay'\n",
    "]"
   ]
  },
  {
   "cell_type": "code",
   "execution_count": 19,
   "metadata": {},
   "outputs": [],
   "source": [
    "def matching_keywords(text, list_keywords):\n",
    "    # Process the text with spaCy\n",
    "    doc = nlp(text.lower())\n",
    "\n",
    "    result = []\n",
    "    for token in doc:\n",
    "        token = token.lemma_\n",
    "        if token in list_keywords:\n",
    "            result.append(token)\n",
    "    \n",
    "    return result"
   ]
  },
  {
   "cell_type": "markdown",
   "metadata": {},
   "source": [
    "## Using the lower bound of Wilson to select the best beer"
   ]
  },
  {
   "cell_type": "code",
   "execution_count": null,
   "metadata": {},
   "outputs": [],
   "source": [
    "def find_top_keywords_by_month(df, keywords_list, month, category, num_keywords):\n",
    "    # Filter the DataFrame for the specified month\n",
    "    month_df = df[df['month'] == month]\n",
    "\n",
    "    # Find the best beer for the month based on average rating and review count\n",
    "    #best_beer_df = month_df.groupby('beer_id').agg({category: ['mean', 'count']}).reset_index()\n",
    "    #best_beer_df.columns = ['beer_id', 'average_rating', 'review_count']\n",
    "    #beer_stats = best_beer_df.sort_values(by=['review_count', 'average_rating'], ascending=[False, False])\n",
    "\n",
    "    # Get the beer ID of the best beer for the month\n",
    "    #best_beer_id = beer_stats.iloc[0]['beer_id']\n",
    "    \n",
    "    best_beer_id = get_wilson_beers(month_df, category, n=10)\n",
    "    \n",
    "    # print the best beer id for the month\n",
    "    print(f\"Best beer for the month of {month}:\", best_beer_id)\n",
    "\n",
    "    # filter the dataframe with the 10 best beers for the month\n",
    "    best_beer_reviews = month_df[month_df['beer_id'].isin(best_beer_id)]\n",
    "\n",
    "    # Extract keywords from reviews using a matching function (e.g., matching_keywords)\n",
    "    keyword_list = []\n",
    "    for text in best_beer_reviews['text'].values.tolist():\n",
    "        keyword_list.extend(matching_keywords(text, keywords_list))\n",
    "\n",
    "    # Count the number of times each keyword appears in the reviews\n",
    "    keyword_counter = Counter(keyword_list)\n",
    "\n",
    "    # Sort the dictionary by value\n",
    "    sorted_keywords = dict(sorted(keyword_counter.items(), key=lambda item: item[1], reverse=True))\n",
    "\n",
    "    # Return the top N keywords as a list of tuples (key, value)\n",
    "    top_keywords = [(key, sorted_keywords[key]) for key in list(sorted_keywords.keys())[:num_keywords]]\n",
    "\n",
    "    return top_keywords"
   ]
  },
  {
   "cell_type": "code",
   "execution_count": 26,
   "metadata": {},
   "outputs": [],
   "source": [
    "def find_top_keywords_by_month_traditional(df, keywords_list, month, category, num_keywords):\n",
    "    # Filter the DataFrame for the specified month\n",
    "    month_df = df[df['month'] == month]\n",
    "\n",
    "    #Find the best beer for the month based on average rating and review count\n",
    "    best_beer_df = month_df.groupby('beer_id').agg({category: ['mean', 'count']}).reset_index()\n",
    "    best_beer_df.columns = ['beer_id', 'average_rating', 'review_count']\n",
    "    beer_stats = best_beer_df.sort_values(by=['review_count', 'average_rating'], ascending=[False, False])\n",
    "\n",
    "    #Get the beer ID of the best beer for the month\n",
    "    best_beer_id = beer_stats.iloc[0]['beer_id']\n",
    "    \n",
    "    #best_beer_id = get_wilson_beers(month_df, category, n=10)\n",
    "    \n",
    "    # print the best beer id for the month\n",
    "    print(f\"Best beer for the month of {month}:\", best_beer_id)\n",
    "\n",
    "    # filter the dataframe with the 10 best beers for the month\n",
    "    best_beer_reviews = month_df[month_df['beer_id'] == best_beer_id]\n",
    "\n",
    "    # Extract keywords from reviews using a matching function (e.g., matching_keywords)\n",
    "    keyword_list = []\n",
    "    for text in best_beer_reviews['text'].values.tolist():\n",
    "        keyword_list.extend(matching_keywords(text, keywords_list))\n",
    "\n",
    "    # Count the number of times each keyword appears in the reviews\n",
    "    keyword_counter = Counter(keyword_list)\n",
    "\n",
    "    # Sort the dictionary by value\n",
    "    sorted_keywords = dict(sorted(keyword_counter.items(), key=lambda item: item[1], reverse=True))\n",
    "\n",
    "    # Return the top N keywords as a list of tuples (key, value)\n",
    "    top_keywords = [(key, sorted_keywords[key]) for key in list(sorted_keywords.keys())[:num_keywords]]\n",
    "\n",
    "    return top_keywords"
   ]
  },
  {
   "cell_type": "markdown",
   "metadata": {},
   "source": [
    "## Aroma analysis "
   ]
  },
  {
   "cell_type": "code",
   "execution_count": 156,
   "metadata": {},
   "outputs": [
    {
     "name": "stdout",
     "output_type": "stream",
     "text": [
      "      beer_id  aroma  count  above_average  below_average  lower_bound\n",
      "4425     8909    8.5    266            266              0     0.985764\n",
      "Best beer for the month of 1: 8909\n",
      "Month 1\n",
      "[('bourbon', 390), ('chocolate', 233), ('vanilla', 187), ('coffee', 96), ('caramel', 77), ('oak', 71), ('fruit', 49), ('molasse', 46), ('barrel', 44), ('wood', 42)]\n",
      "\n",
      "      beer_id     aroma  count  above_average  below_average  lower_bound\n",
      "4293     8936  8.764045    178            177              1     0.968868\n",
      "Best beer for the month of 2: 8936\n",
      "Month 2\n",
      "[('pine', 97), ('citrus', 82), ('grapefruit', 70), ('orange', 55), ('ipa', 50), ('floral', 33), ('fruit', 25), ('caramel', 21), ('citrusy', 15), ('fruity', 13)]\n",
      "\n",
      "      beer_id     aroma  count  above_average  below_average  lower_bound\n",
      "4011     7686  8.428571     84             84              0     0.956268\n",
      "Best beer for the month of 3: 7686\n",
      "Month 3\n",
      "[('raspberry', 152), ('fruit', 42), ('fruity', 15), ('berry', 12), ('thin', 9), ('cherry', 7), ('oak', 5), ('wood', 5), ('caramel', 4), ('candy', 4)]\n",
      "\n",
      "       beer_id     aroma  count  above_average  below_average  lower_bound\n",
      "25437   106045  8.423423    111            111              0      0.96655\n",
      "Best beer for the month of 4: 106045\n",
      "Month 4\n",
      "[('citrus', 76), ('pine', 64), ('grapefruit', 56), ('orange', 47), ('caramel', 41), ('fruit', 24), ('ipa', 23), ('tangerine', 19), ('floral', 18), ('tropical', 16)]\n",
      "\n",
      "      beer_id     aroma  count  above_average  below_average  lower_bound\n",
      "4000     7688  8.471698    106            106              0     0.965027\n",
      "Best beer for the month of 5: 7688\n",
      "Month 5\n",
      "[('cherry', 246), ('fruit', 42), ('oak', 20), ('thin', 17), ('raspberry', 12), ('orange', 10), ('apple', 10), ('fruity', 8), ('vanilla', 5), ('woody', 5)]\n",
      "\n",
      "      beer_id     aroma  count  above_average  below_average  lower_bound\n",
      "2884     4934  8.942623    122            122              0     0.969474\n",
      "Best beer for the month of 6: 4934\n",
      "Month 6\n",
      "[('fruit', 92), ('raisin', 60), ('caramel', 48), ('chocolate', 23), ('cherry', 23), ('grape', 18), ('vanilla', 17), ('fruity', 16), ('toffee', 12), ('candy', 12)]\n",
      "\n",
      "      beer_id     aroma  count  above_average  below_average  lower_bound\n",
      "6181    14232  8.455782    147            146              1     0.962476\n",
      "Best beer for the month of 7: 14232\n",
      "Month 7\n",
      "[('coffee', 252), ('chocolate', 173), ('fruit', 25), ('caramel', 23), ('vanilla', 20), ('molasse', 11), ('thin', 10), ('raisin', 9), ('cocoa', 8), ('toffee', 6)]\n",
      "\n",
      "      beer_id     aroma  count  above_average  below_average  lower_bound\n",
      "6123    14232  8.496503    143            142              1     0.961455\n",
      "Best beer for the month of 8: 14232\n",
      "Month 8\n",
      "[('coffee', 246), ('chocolate', 173), ('caramel', 30), ('fruit', 24), ('vanilla', 20), ('molasse', 15), ('toffee', 12), ('raisin', 11), ('thin', 11), ('cocoa', 8)]\n",
      "\n",
      "      beer_id     aroma  count  above_average  below_average  lower_bound\n",
      "5982    14232  8.492754    138            138              0     0.972917\n",
      "Best beer for the month of 9: 14232\n",
      "Month 9\n",
      "[('coffee', 218), ('chocolate', 152), ('caramel', 31), ('fruit', 23), ('vanilla', 22), ('molasse', 20), ('raisin', 11), ('toffee', 9), ('cocoa', 8), ('cherry', 6)]\n",
      "\n",
      "      beer_id     aroma  count  above_average  below_average  lower_bound\n",
      "6095    14396  8.094737     95             95              0     0.961135\n",
      "Best beer for the month of 10: 14396\n",
      "Month 10\n",
      "[('citrus', 70), ('ipa', 67), ('orange', 57), ('pine', 45), ('grapefruit', 41), ('floral', 24), ('caramel', 18), ('citrusy', 13), ('fruit', 11), ('honey', 7)]\n",
      "\n",
      "      beer_id    aroma  count  above_average  below_average  lower_bound\n",
      "4308     8909  8.60396    202            200              2     0.964625\n",
      "Best beer for the month of 11: 8909\n",
      "Month 11\n",
      "[('bourbon', 334), ('chocolate', 224), ('vanilla', 174), ('coffee', 89), ('oak', 88), ('caramel', 67), ('fruit', 56), ('raisin', 37), ('barrel', 32), ('molasse', 31)]\n",
      "\n",
      "      beer_id     aroma  count  above_average  below_average  lower_bound\n",
      "2747     4934  8.778894    199            197              2     0.964102\n",
      "Best beer for the month of 12: 4934\n",
      "Month 12\n",
      "[('fruit', 119), ('caramel', 80), ('raisin', 68), ('chocolate', 49), ('toffee', 34), ('cherry', 30), ('apple', 28), ('thin', 24), ('fruity', 24), ('grape', 21)]\n",
      "\n"
     ]
    }
   ],
   "source": [
    "# for each month, find the top 10 keywords\n",
    "top_keywords_by_month = {}\n",
    "for month in range(1, 13):\n",
    "    top_keywords_by_month[month] = find_top_keywords_by_month(good_ratings_combined_df, aroma_terms, month, 'aroma', 10)\n",
    "    print(\"Month\", month)\n",
    "    print(top_keywords_by_month[month])\n",
    "    print()"
   ]
  },
  {
   "cell_type": "code",
   "execution_count": 27,
   "metadata": {},
   "outputs": [
    {
     "name": "stdout",
     "output_type": "stream",
     "text": [
      "Best beer for the month of 1: 17112.0\n",
      "Month 1\n",
      "[('honey', 1048), ('citrus', 692), ('grapefruit', 637), ('orange', 546), ('pine', 457), ('ipa', 319), ('fruit', 257), ('pineapple', 254), ('floral', 236), ('tropical', 162)]\n",
      "\n",
      "Best beer for the month of 2: 17112.0\n",
      "Month 2\n",
      "[('honey', 934), ('citrus', 662), ('grapefruit', 554), ('orange', 522), ('pine', 429), ('ipa', 388), ('fruit', 232), ('floral', 229), ('pineapple', 202), ('tropical', 164)]\n",
      "\n",
      "Best beer for the month of 3: 15881.0\n",
      "Month 3\n",
      "[('citrus', 346), ('pine', 274), ('caramel', 243), ('orange', 234), ('grapefruit', 233), ('ipa', 159), ('floral', 143), ('fruit', 110), ('citrusy', 80), ('fruity', 80)]\n",
      "\n",
      "Best beer for the month of 4: 19960.0\n",
      "Month 4\n",
      "[('bourbon', 1498), ('coffee', 1407), ('chocolate', 1183), ('vanilla', 725), ('oak', 342), ('barrel', 296), ('thin', 192), ('caramel', 132), ('molasse', 78), ('cocoa', 72)]\n",
      "\n",
      "Best beer for the month of 5: 19960.0\n",
      "Month 5\n",
      "[('bourbon', 690), ('coffee', 607), ('chocolate', 511), ('vanilla', 296), ('oak', 157), ('barrel', 113), ('thin', 89), ('caramel', 58), ('wood', 51), ('cocoa', 37)]\n",
      "\n",
      "Best beer for the month of 6: 1094.0\n",
      "Month 6\n",
      "[('orange', 173), ('citrus', 150), ('fruit', 71), ('fruity', 65), ('lemon', 56), ('banana', 53), ('clove', 46), ('apple', 35), ('thin', 27), ('honey', 23)]\n",
      "\n",
      "Best beer for the month of 7: 82250.0\n",
      "Month 7\n",
      "[('pine', 287), ('citrus', 276), ('orange', 249), ('grapefruit', 247), ('ipa', 208), ('caramel', 151), ('tropical', 136), ('fruit', 130), ('pineapple', 85), ('mango', 70)]\n",
      "\n",
      "Best beer for the month of 8: 7971.0\n",
      "Month 8\n",
      "[('pine', 220), ('citrus', 209), ('grapefruit', 175), ('ipa', 142), ('orange', 127), ('fruit', 65), ('floral', 64), ('pineapple', 49), ('thin', 39), ('caramel', 38)]\n",
      "\n",
      "Best beer for the month of 9: 6260.0\n",
      "Month 9\n",
      "[('pumpkin', 1546), ('orange', 211), ('caramel', 85), ('clove', 81), ('thin', 69), ('decent', 46), ('spiced', 33), ('ginger', 20), ('ring', 18), ('mellow', 14)]\n",
      "\n",
      "Best beer for the month of 10: 11757.0\n",
      "Month 10\n",
      "[('coffee', 1243), ('chocolate', 840), ('thin', 83), ('cocoa', 66), ('caramel', 50), ('vanilla', 46), ('molasse', 27), ('ring', 27), ('decent', 23), ('bold', 23)]\n",
      "\n",
      "Best beer for the month of 11: 1904.0\n",
      "Month 11\n",
      "[('ipa', 661), ('citrus', 589), ('pine', 574), ('orange', 351), ('grapefruit', 345), ('caramel', 324), ('floral', 239), ('citrusy', 105), ('thin', 91), ('fruity', 80)]\n",
      "\n",
      "Best beer for the month of 12: 1904.0\n",
      "Month 12\n",
      "[('ipa', 547), ('citrus', 460), ('pine', 425), ('grapefruit', 266), ('caramel', 251), ('orange', 247), ('floral', 165), ('citrusy', 116), ('fruit', 64), ('decent', 56)]\n",
      "\n"
     ]
    }
   ],
   "source": [
    "# for each month, find the top 10 keywords\n",
    "top_keywords_by_month = {}\n",
    "for month in range(1, 13):\n",
    "    top_keywords_by_month[month] = find_top_keywords_by_month_traditional(good_ratings_combined_df, aroma_terms, month, 'aroma', 10)\n",
    "    print(\"Month\", month)\n",
    "    print(top_keywords_by_month[month])\n",
    "    print()"
   ]
  },
  {
   "cell_type": "code",
   "execution_count": 157,
   "metadata": {},
   "outputs": [
    {
     "data": {
      "image/png": "[encoded data removed]",
      "text/plain": [
       "<Figure size 1500x1000 with 12 Axes>"
      ]
     },
     "metadata": {},
     "output_type": "display_data"
    }
   ],
   "source": [
    "# Create a 3x4 grid of subplots\n",
    "fig, axes = plt.subplots(4, 3, figsize=(15, 10))\n",
    "fig.suptitle('Aroma Keywords per Month', fontsize=16)\n",
    "\n",
    "# Flatten the 3x4 subplot grid into a 1D array for iteration\n",
    "axes = axes.flatten()\n",
    "\n",
    "# Iterate over each key and create a subplot\n",
    "for i, (key, data) in enumerate(top_keywords_by_month.items()):\n",
    "    keywords, values = zip(*data)\n",
    "\n",
    "    # Create a bar plot on the current subplot\n",
    "    axes[i].bar(keywords, values)\n",
    "    axes[i].set_title(f'Top 10 keywords for Month {key}')\n",
    "    axes[i].set_xlabel('Keywords')\n",
    "    axes[i].set_ylabel('Count')\n",
    "    axes[i].tick_params(axis='x', rotation=45)\n",
    "\n",
    "# Adjust layout to prevent overlapping\n",
    "plt.tight_layout(rect=[0, 0, 1, 0.96])\n",
    "plt.show()"
   ]
  },
  {
   "cell_type": "markdown",
   "metadata": {},
   "source": [
    "## Taste analysis"
   ]
  },
  {
   "cell_type": "code",
   "execution_count": 160,
   "metadata": {},
   "outputs": [
    {
     "name": "stdout",
     "output_type": "stream",
     "text": [
      "      beer_id     taste  count  above_average  below_average  lower_bound\n",
      "2811     4934  9.046512    172            172              0     0.978154\n",
      "Best beer for the month of 1: 4934\n",
      "Month 1\n",
      "[('alcohol', 110), ('sweet', 86), ('sugar', 55), ('complex', 53), ('yeast', 53), ('smooth', 45), ('plum', 38), ('deep', 33), ('dry', 32), ('belgian', 31)]\n",
      "\n",
      "      beer_id     taste  count  above_average  below_average  lower_bound\n",
      "2783     4934  9.198198    111            111              0      0.96655\n",
      "Best beer for the month of 2: 4934\n",
      "Month 2\n",
      "[('sweet', 61), ('alcohol', 53), ('complex', 35), ('smooth', 35), ('yeast', 34), ('sugar', 29), ('plum', 28), ('rich', 23), ('creamy', 23), ('dry', 18)]\n",
      "\n",
      "      beer_id     taste  count  above_average  below_average  lower_bound\n",
      "2845     4934  8.948387    155            155              0     0.975816\n",
      "Best beer for the month of 3: 4934\n",
      "Month 3\n",
      "[('alcohol', 85), ('sweet', 81), ('complex', 55), ('plum', 48), ('sugar', 45), ('smooth', 37), ('spice', 33), ('creamy', 29), ('dry', 28), ('yeast', 28)]\n",
      "\n",
      "      beer_id     taste  count  above_average  below_average  lower_bound\n",
      "2784     4934  8.984848    132            132              0     0.971721\n",
      "Best beer for the month of 4: 4934\n",
      "Month 4\n",
      "[('sweet', 72), ('alcohol', 60), ('complex', 37), ('sugar', 37), ('smooth', 36), ('yeast', 35), ('plum', 34), ('deep', 28), ('belgian', 27), ('slight', 27)]\n",
      "\n",
      "      beer_id     taste  count  above_average  below_average  lower_bound\n",
      "5260    11461  8.176471    119            119              0     0.968728\n",
      "Best beer for the month of 5: 11461\n",
      "Month 5\n",
      "[('roasted', 60), ('bitter', 53), ('stout', 44), ('sweet', 44), ('creamy', 35), ('thick', 34), ('rich', 33), ('roast', 31), ('alcohol', 29), ('smooth', 28)]\n",
      "\n",
      "       beer_id    taste  count  above_average  below_average  lower_bound\n",
      "12851    43947  8.67033     91             91              0     0.959496\n",
      "Best beer for the month of 6: 43947\n",
      "Month 6\n",
      "[('sour', 129), ('tart', 54), ('wine', 28), ('dry', 25), ('sourness', 21), ('sweet', 21), ('funk', 18), ('hint', 18), ('sweetness', 13), ('complex', 13)]\n",
      "\n",
      "      beer_id     taste  count  above_average  below_average  lower_bound\n",
      "4568     8936  8.730061    163            163              0     0.976975\n",
      "Best beer for the month of 7: 8936\n",
      "Month 7\n",
      "[('bitter', 49), ('ipa', 46), ('smooth', 40), ('sweet', 39), ('piney', 38), ('bitterness', 38), ('balanced', 32), ('balance', 31), ('fresh', 22), ('dry', 21)]\n",
      "\n",
      "      beer_id     taste  count  above_average  below_average  lower_bound\n",
      "4580     8936  8.756614    189            189              0      0.98008\n",
      "Best beer for the month of 8: 8936\n",
      "Month 8\n",
      "[('bitter', 60), ('ipa', 60), ('sweet', 50), ('balanced', 49), ('bitterness', 42), ('smooth', 40), ('fresh', 39), ('balance', 35), ('sweetness', 24), ('piney', 22)]\n",
      "\n",
      "      beer_id     taste  count  above_average  below_average  lower_bound\n",
      "5982    14232  8.644928    138            137              1     0.960097\n",
      "Best beer for the month of 9: 14232\n",
      "Month 9\n",
      "[('stout', 63), ('alcohol', 59), ('thick', 54), ('smooth', 45), ('roasted', 44), ('bitter', 34), ('roast', 31), ('creamy', 31), ('sweet', 28), ('rich', 24)]\n",
      "\n",
      "      beer_id     taste  count  above_average  below_average  lower_bound\n",
      "2820     4934  9.033613    119            119              0     0.968728\n",
      "Best beer for the month of 10: 4934\n",
      "Month 10\n",
      "[('sweet', 73), ('alcohol', 59), ('complex', 38), ('yeast', 36), ('sugar', 36), ('smooth', 32), ('plum', 30), ('creamy', 28), ('dry', 22), ('spice', 22)]\n",
      "\n",
      "      beer_id    taste  count  above_average  below_average  lower_bound\n",
      "5026    11243  8.26455    378            376              2     0.980916\n",
      "Best beer for the month of 11: 11243\n",
      "Month 11\n",
      "[('alcohol', 234), ('sweet', 209), ('bitter', 142), ('strong', 133), ('bitterness', 106), ('thick', 80), ('deep', 75), ('smooth', 66), ('creamy', 60), ('sweetness', 59)]\n",
      "\n",
      "      beer_id     taste  count  above_average  below_average  lower_bound\n",
      "2747     4934  8.959799    199            199              0     0.981062\n",
      "Best beer for the month of 12: 4934\n",
      "Month 12\n",
      "[('sweet', 123), ('alcohol', 99), ('smooth', 68), ('complex', 65), ('sugar', 64), ('yeast', 52), ('hint', 48), ('spice', 46), ('rich', 44), ('dry', 43)]\n",
      "\n"
     ]
    }
   ],
   "source": [
    "# for each month, find the top 10 keywords\n",
    "top_keywords_by_month_taste = {}\n",
    "for month in range(1, 13):\n",
    "    top_keywords_by_month_taste[month] = find_top_keywords_by_month(good_ratings_combined_df, taste_terms, month, 'taste', 10)\n",
    "    print(\"Month\", month)\n",
    "    print(top_keywords_by_month_taste[month])\n",
    "    print()"
   ]
  },
  {
   "cell_type": "code",
   "execution_count": 28,
   "metadata": {},
   "outputs": [
    {
     "name": "stdout",
     "output_type": "stream",
     "text": [
      "Best beer for the month of 1: 17112.0\n",
      "Month 1\n",
      "[('sweet', 660), ('alcohol', 506), ('bitter', 407), ('sweetness', 404), ('bitterness', 385), ('smooth', 322), ('ipa', 319), ('balance', 284), ('fresh', 249), ('brew', 216)]\n",
      "\n",
      "Best beer for the month of 2: 17112.0\n",
      "Month 2\n",
      "[('sweet', 650), ('alcohol', 446), ('sweetness', 390), ('ipa', 388), ('bitter', 383), ('bitterness', 358), ('smooth', 315), ('balance', 263), ('strong', 206), ('brew', 198)]\n",
      "\n",
      "Best beer for the month of 3: 15881.0\n",
      "Month 3\n",
      "[('sweet', 335), ('bitter', 217), ('bitterness', 214), ('balance', 192), ('smooth', 179), ('ipa', 159), ('sweetness', 158), ('brew', 134), ('strong', 127), ('piney', 123)]\n",
      "\n",
      "Best beer for the month of 4: 19960.0\n",
      "Month 4\n",
      "[('stout', 638), ('alcohol', 395), ('thick', 363), ('smooth', 362), ('sweet', 301), ('barrel', 296), ('roasted', 289), ('hint', 249), ('strong', 243), ('creamy', 212)]\n",
      "\n",
      "Best beer for the month of 5: 19960.0\n",
      "Month 5\n",
      "[('stout', 240), ('alcohol', 203), ('thick', 163), ('smooth', 135), ('roasted', 123), ('strong', 115), ('barrel', 113), ('creamy', 110), ('hint', 109), ('sweet', 106)]\n",
      "\n",
      "Best beer for the month of 6: 1094.0\n",
      "Month 6\n",
      "[('wheat', 214), ('sweet', 124), ('yeast', 109), ('spice', 78), ('alcohol', 71), ('fruity', 65), ('brew', 62), ('ale', 60), ('smooth', 59), ('refreshing', 58)]\n",
      "\n",
      "Best beer for the month of 7: 82250.0\n",
      "Month 7\n",
      "[('bitter', 238), ('sweet', 216), ('ipa', 208), ('alcohol', 200), ('bitterness', 157), ('dry', 108), ('strong', 102), ('thick', 98), ('sweetness', 96), ('balance', 82)]\n",
      "\n",
      "Best beer for the month of 8: 7971.0\n",
      "Month 8\n",
      "[('ipa', 142), ('bitter', 133), ('sweet', 125), ('bitterness', 103), ('fresh', 94), ('alcohol', 91), ('balanced', 90), ('smooth', 89), ('balance', 77), ('piney', 76)]\n",
      "\n",
      "Best beer for the month of 9: 6260.0\n",
      "Month 9\n",
      "[('spice', 674), ('ale', 421), ('sweet', 256), ('sugar', 243), ('alcohol', 125), ('brew', 124), ('hint', 119), ('smooth', 112), ('sweetness', 105), ('spicy', 104)]\n",
      "\n",
      "Best beer for the month of 10: 11757.0\n",
      "Month 10\n",
      "[('stout', 489), ('roasted', 281), ('thick', 249), ('smooth', 199), ('bitter', 196), ('creamy', 195), ('alcohol', 178), ('sweet', 171), ('rich', 156), ('hint', 140)]\n",
      "\n",
      "Best beer for the month of 11: 1904.0\n",
      "Month 11\n",
      "[('ipa', 661), ('bitter', 395), ('bitterness', 367), ('sweet', 364), ('fresh', 352), ('piney', 289), ('balance', 268), ('brew', 265), ('ale', 250), ('smooth', 234)]\n",
      "\n",
      "Best beer for the month of 12: 1904.0\n",
      "Month 12\n",
      "[('ipa', 547), ('bitter', 312), ('sweet', 275), ('ale', 259), ('bitterness', 250), ('piney', 222), ('brew', 220), ('smooth', 209), ('spice', 188), ('balance', 176)]\n",
      "\n"
     ]
    }
   ],
   "source": [
    "# for each month, find the top 10 keywords\n",
    "top_keywords_by_month_taste = {}\n",
    "for month in range(1, 13):\n",
    "    top_keywords_by_month_taste[month] = find_top_keywords_by_month_traditional(good_ratings_combined_df, taste_terms, month, 'taste', 10)\n",
    "    print(\"Month\", month)\n",
    "    print(top_keywords_by_month_taste[month])\n",
    "    print()"
   ]
  },
  {
   "cell_type": "markdown",
   "metadata": {},
   "source": [
    "## Palate analysis "
   ]
  },
  {
   "cell_type": "code",
   "execution_count": 161,
   "metadata": {},
   "outputs": [
    {
     "name": "stdout",
     "output_type": "stream",
     "text": [
      "      beer_id    palate  count  above_average  below_average  lower_bound\n",
      "6612    16814  4.717105    228            226              2     0.968586\n",
      "Best beer for the month of 1: 16814\n",
      "Month 1\n",
      "[('medium', 56), ('light', 56), ('smooth', 45), ('balance', 38), ('strong', 34), ('dry', 30), ('hint', 29), ('creamy', 28), ('balanced', 28), ('full', 26)]\n",
      "\n",
      "      beer_id    palate  count  above_average  below_average  lower_bound\n",
      "7350    21690  4.706776    428            425              3     0.979597\n",
      "Best beer for the month of 2: 21690\n",
      "Month 2\n",
      "[('smooth', 161), ('light', 148), ('balance', 140), ('balanced', 118), ('medium', 115), ('full', 102), ('strong', 99), ('dry', 97), ('sticky', 80), ('thick', 71)]\n",
      "\n",
      "      beer_id    palate  count  above_average  below_average  lower_bound\n",
      "7428    19960  4.555389    501            491             10     0.963652\n",
      "Best beer for the month of 3: 19960\n",
      "Month 3\n",
      "[('thick', 278), ('smooth', 270), ('creamy', 170), ('strong', 164), ('light', 162), ('hint', 144), ('thin', 130), ('full', 128), ('deep', 82), ('balanced', 79)]\n",
      "\n",
      "      beer_id    palate  count  above_average  below_average  lower_bound\n",
      "4901    10672  4.545894    207            206              1     0.973148\n",
      "Best beer for the month of 4: 10672\n",
      "Month 4\n",
      "[('thick', 109), ('smooth', 81), ('strong', 70), ('hint', 61), ('thin', 52), ('full', 52), ('light', 46), ('bodied', 37), ('deep', 26), ('balance', 23)]\n",
      "\n",
      "       beer_id    palate  count  above_average  below_average  lower_bound\n",
      "15940    57747  4.603618    152            152              0      0.97535\n",
      "Best beer for the month of 5: 57747\n",
      "Month 5\n",
      "[('thick', 85), ('smooth', 64), ('light', 48), ('creamy', 46), ('thin', 37), ('hint', 37), ('full', 34), ('strong', 33), ('balance', 31), ('deep', 29)]\n",
      "\n",
      "       beer_id    palate  count  above_average  below_average  lower_bound\n",
      "12263    41815  4.579688    160            158              2     0.955575\n",
      "Best beer for the month of 6: 41815\n",
      "Month 6\n",
      "[('light', 77), ('thick', 67), ('smooth', 67), ('full', 51), ('hint', 51), ('creamy', 43), ('strong', 35), ('deep', 31), ('medium', 31), ('balanced', 31)]\n",
      "\n",
      "       beer_id    palate  count  above_average  below_average  lower_bound\n",
      "10867    34420  4.553191     94             94              0     0.960738\n",
      "Best beer for the month of 7: 34420\n",
      "Month 7\n",
      "[('thick', 56), ('smooth', 43), ('hint', 38), ('full', 36), ('deep', 30), ('creamy', 29), ('light', 27), ('strong', 23), ('balance', 22), ('medium', 20)]\n",
      "\n",
      "      beer_id    palate  count  above_average  below_average  lower_bound\n",
      "6812    16814  4.708633    139            137              2     0.949059\n",
      "Best beer for the month of 8: 16814\n",
      "Month 8\n",
      "[('smooth', 34), ('balance', 25), ('medium', 23), ('light', 19), ('balanced', 18), ('hint', 18), ('strong', 16), ('dry', 14), ('thick', 12), ('sticky', 11)]\n",
      "\n",
      "      beer_id    palate  count  above_average  below_average  lower_bound\n",
      "6586    16814  4.642857    182            180              2     0.960824\n",
      "Best beer for the month of 9: 16814\n",
      "Month 9\n",
      "[('light', 60), ('medium', 57), ('smooth', 56), ('creamy', 41), ('balance', 40), ('dry', 33), ('balanced', 29), ('full', 24), ('touch', 21), ('strong', 18)]\n",
      "\n",
      "     beer_id  palate  count  above_average  below_average  lower_bound\n",
      "865     1160    4.45    165            163              2     0.956888\n",
      "Best beer for the month of 10: 1160\n",
      "Month 10\n",
      "[('thick', 92), ('smooth', 77), ('hint', 62), ('light', 61), ('creamy', 59), ('strong', 51), ('full', 44), ('deep', 40), ('medium', 32), ('dry', 25)]\n",
      "\n",
      "      beer_id    palate  count  above_average  below_average  lower_bound\n",
      "1077     1545  4.619748    119            119              0     0.968728\n",
      "Best beer for the month of 11: 1545\n",
      "Month 11\n",
      "[('smooth', 50), ('medium', 39), ('light', 38), ('creamy', 31), ('full', 28), ('deep', 26), ('dry', 25), ('hint', 23), ('balanced', 22), ('strong', 19)]\n",
      "\n",
      "      beer_id    palate  count  above_average  below_average  lower_bound\n",
      "2747     4934  4.567839    199            197              2     0.964102\n",
      "Best beer for the month of 12: 4934\n",
      "Month 12\n",
      "[('light', 75), ('smooth', 68), ('hint', 48), ('dry', 43), ('medium', 41), ('deep', 31), ('creamy', 30), ('full', 29), ('strong', 24), ('thin', 24)]\n",
      "\n"
     ]
    }
   ],
   "source": [
    "# for each month, find the top 10 keywords\n",
    "top_keywords_by_month_palate = {}\n",
    "for month in range(1, 13):\n",
    "    top_keywords_by_month_palate[month] = find_top_keywords_by_month(good_ratings_combined_df, palate_terms, month, 'palate', 10)\n",
    "    print(\"Month\", month)\n",
    "    print(top_keywords_by_month_palate[month])\n",
    "    print()"
   ]
  },
  {
   "cell_type": "markdown",
   "metadata": {},
   "source": [
    "## Appearance analysis"
   ]
  },
  {
   "cell_type": "code",
   "execution_count": 162,
   "metadata": {},
   "outputs": [
    {
     "name": "stdout",
     "output_type": "stream",
     "text": [
      "       beer_id  appearance  count  above_average  below_average  lower_bound\n",
      "10613    34420    4.619601    301            299              2     0.976101\n",
      "Best beer for the month of 1: 34420\n",
      "Month 1\n",
      "[('dark', 405), ('black', 300), ('thick', 178), ('brown', 132), ('creamy', 114), ('hint', 113), ('big', 103), ('light', 95), ('rich', 80), ('tan', 71)]\n",
      "\n",
      "      beer_id  appearance  count  above_average  below_average  lower_bound\n",
      "9934    34420    4.602018    223            222              1     0.975041\n",
      "Best beer for the month of 2: 34420\n",
      "Month 2\n",
      "[('dark', 292), ('black', 240), ('thick', 124), ('brown', 98), ('light', 94), ('creamy', 93), ('hint', 77), ('rich', 76), ('big', 75), ('tan', 71)]\n",
      "\n",
      "       beer_id  appearance  count  above_average  below_average  lower_bound\n",
      "10590    34420    4.599398    166            165              1     0.966671\n",
      "Best beer for the month of 3: 34420\n",
      "Month 3\n",
      "[('dark', 221), ('black', 154), ('thick', 83), ('hint', 64), ('light', 63), ('brown', 63), ('creamy', 56), ('big', 48), ('slight', 46), ('tan', 43)]\n",
      "\n",
      "     beer_id  appearance  count  above_average  below_average  lower_bound\n",
      "871     1160    4.434211    266            261              5      0.95676\n",
      "Best beer for the month of 4: 1160\n",
      "Month 4\n",
      "[('dark', 331), ('black', 230), ('thick', 185), ('brown', 106), ('creamy', 94), ('tan', 83), ('hint', 83), ('light', 78), ('slight', 75), ('rich', 69)]\n",
      "\n",
      "      beer_id  appearance  count  above_average  below_average  lower_bound\n",
      "4123     7971    4.507018    285            284              1     0.980396\n",
      "Best beer for the month of 5: 7971\n",
      "Month 5\n",
      "[('orange', 142), ('white', 125), ('light', 108), ('golden', 105), ('medium', 100), ('clear', 62), ('big', 52), ('hint', 48), ('lace', 43), ('clean', 43)]\n",
      "\n",
      "     beer_id  appearance  count  above_average  below_average  lower_bound\n",
      "874     1160    4.453598    264            260              4     0.961697\n",
      "Best beer for the month of 6: 1160\n",
      "Month 6\n",
      "[('dark', 319), ('black', 260), ('thick', 163), ('light', 127), ('brown', 122), ('rich', 88), ('hint', 81), ('creamy', 78), ('tan', 68), ('big', 66)]\n",
      "\n",
      "       beer_id  appearance  count  above_average  below_average  lower_bound\n",
      "10867    34420    4.630319     94             94              0     0.960738\n",
      "Best beer for the month of 7: 34420\n",
      "Month 7\n",
      "[('dark', 141), ('black', 95), ('thick', 56), ('brown', 43), ('rich', 39), ('big', 39), ('hint', 38), ('deep', 30), ('tan', 29), ('creamy', 29)]\n",
      "\n",
      "      beer_id  appearance  count  above_average  below_average  lower_bound\n",
      "2427     3833    4.532051    117            116              1      0.95317\n",
      "Best beer for the month of 8: 3833\n",
      "Month 8\n",
      "[('dark', 145), ('black', 111), ('creamy', 51), ('thick', 50), ('brown', 47), ('big', 45), ('tan', 44), ('hint', 40), ('rich', 38), ('light', 36)]\n",
      "\n",
      "       beer_id  appearance  count  above_average  below_average  lower_bound\n",
      "10294    34483    4.506944    108            108              0     0.965653\n",
      "Best beer for the month of 9: 34483\n",
      "Month 9\n",
      "[('dark', 141), ('black', 102), ('thick', 75), ('creamy', 46), ('brown', 40), ('rich', 32), ('big', 29), ('hint', 27), ('light', 25), ('caramel', 24)]\n",
      "\n",
      "      beer_id  appearance  count  above_average  below_average  lower_bound\n",
      "4160     7971    4.482914    278            274              4     0.963595\n",
      "Best beer for the month of 10: 7971\n",
      "Month 10\n",
      "[('light', 140), ('white', 137), ('orange', 127), ('golden', 97), ('clear', 86), ('medium', 69), ('big', 59), ('hint', 57), ('thick', 53), ('lace', 53)]\n",
      "\n",
      "      beer_id  appearance  count  above_average  below_average  lower_bound\n",
      "9726    33127    4.604885    174            173              1     0.968169\n",
      "Best beer for the month of 11: 33127\n",
      "Month 11\n",
      "[('dark', 296), ('black', 144), ('thick', 97), ('creamy', 89), ('light', 66), ('brown', 65), ('cherry', 56), ('big', 55), ('caramel', 53), ('tan', 50)]\n",
      "\n",
      "       beer_id  appearance  count  above_average  below_average  lower_bound\n",
      "10135    34483     4.55257    214            212              2     0.966571\n",
      "Best beer for the month of 12: 34483\n",
      "Month 12\n",
      "[('dark', 286), ('black', 197), ('thick', 136), ('brown', 104), ('creamy', 75), ('light', 72), ('rich', 61), ('caramel', 51), ('slight', 49), ('hint', 46)]\n",
      "\n"
     ]
    }
   ],
   "source": [
    "# for each month, find the top 10 keywords\n",
    "top_keywords_by_month_appearance = {}\n",
    "for month in range(1, 13):\n",
    "    top_keywords_by_month_appearance[month] = find_top_keywords_by_month(good_ratings_combined_df, appearance_terms, month, 'appearance', 10)\n",
    "    print(\"Month\", month)\n",
    "    print(top_keywords_by_month_appearance[month])\n",
    "    print()"
   ]
  }
 ],
 "metadata": {
  "kernelspec": {
   "display_name": "Python 3 (ipykernel)",
   "language": "python",
   "name": "python3"
  },
  "language_info": {
   "codemirror_mode": {
    "name": "ipython",
    "version": 3
   },
   "file_extension": ".py",
   "mimetype": "text/x-python",
   "name": "python",
   "nbconvert_exporter": "python",
   "pygments_lexer": "ipython3",
   "version": "3.11.5"
  }
 },
 "nbformat": 4,
 "nbformat_minor": 2
}
