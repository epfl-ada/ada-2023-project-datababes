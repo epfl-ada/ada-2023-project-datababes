{
 "cells": [
  {
   "cell_type": "code",
   "execution_count": 110,
   "metadata": {},
   "outputs": [],
   "source": [
    "# imports\n",
    "\n",
    "import pandas as pd \n",
    "import numpy as np\n",
    "\n",
    "import matplotlib.pyplot as plt\n",
    "import seaborn as sns\n",
    "\n",
    "import math\n",
    "import scipy.stats as st"
   ]
  },
  {
   "cell_type": "markdown",
   "metadata": {},
   "source": [
    "## Load Datasets and Simple Processing"
   ]
  },
  {
   "cell_type": "code",
   "execution_count": 111,
   "metadata": {},
   "outputs": [
    {
     "name": "stderr",
     "output_type": "stream",
     "text": [
      "/tmp/ipykernel_4251/2937315645.py:3: DtypeWarning: Columns (6) have mixed types. Specify dtype option on import or set low_memory=False.\n",
      "  ratings_combined_df = pd.read_csv('data/pMerged/ratings_combined_df.csv')\n"
     ]
    }
   ],
   "source": [
    "# load the merged dataframes\n",
    "beers_combined_df = pd.read_csv('data/pMerged/beers_combined_df.csv')\n",
    "ratings_combined_df = pd.read_csv('data/pMerged/ratings_combined_df.csv')\n",
    "\n",
    "# load the brewery dataframes\n",
    "breweries_ba_df = pd.read_csv('data/BeerAdvocate/breweries.csv')\n",
    "breweries_rb_df = pd.read_csv('data/RateBeer/breweries.csv')"
   ]
  },
  {
   "cell_type": "code",
   "execution_count": 112,
   "metadata": {},
   "outputs": [],
   "source": [
    "# process and concatenate brewery dataframes\n",
    "\n",
    "# BA and RB dont use the same brewery_id's\n",
    "# --> add column 'dataset' to the brewery dataframes, containing BA and RB respectively\n",
    "breweries_ba_df['dataset'] = 'BeerAdvocate'\n",
    "breweries_rb_df['dataset'] = 'RateBeer'\n",
    "\n",
    "# concatenate the two dataframes\n",
    "breweries_combined_df = pd.concat([breweries_ba_df, breweries_rb_df], ignore_index=True)\n",
    "\n",
    "# rename id column of breweries df to brewery_id\n",
    "breweries_combined_df.rename(columns={'id': 'brewery_id'}, inplace=True)"
   ]
  },
  {
   "cell_type": "code",
   "execution_count": 113,
   "metadata": {},
   "outputs": [],
   "source": [
    "# add the location from the breweries df to the ratings df\n",
    "# only add BA brewery_id to BA entries and RB brewery_id to RB entries\n",
    "ratings_combined_df = pd.merge(ratings_combined_df, breweries_combined_df[['brewery_id', 'dataset', 'location']], how='left', on=['brewery_id', 'dataset'])"
   ]
  },
  {
   "cell_type": "markdown",
   "metadata": {},
   "source": [
    "## Group the ratings for each product, while keeping distinction BA/RB"
   ]
  },
  {
   "cell_type": "code",
   "execution_count": 114,
   "metadata": {},
   "outputs": [],
   "source": [
    "# calculate if a beer is above or below average\n",
    "# ratings are not equally strict for BA and RB\n",
    "# --> calculate average_rating and normalize for each subset\n",
    "\n",
    "average_rating_ba = ratings_combined_df[ratings_combined_df['dataset'] == 'BeerAdvocate'].rating.mean()\n",
    "average_rating_rb = ratings_combined_df[ratings_combined_df['dataset'] == 'RateBeer'].rating.mean()\n",
    "\n",
    "# compare the rating to average_rating for the respective subset\n",
    "ratings_combined_df['above_average'] = False\n",
    "ratings_combined_df.loc[ratings_combined_df['dataset'] == 'BeerAdvocate', 'above_average'] = ratings_combined_df['rating'] > average_rating_ba\n",
    "ratings_combined_df.loc[ratings_combined_df['dataset'] == 'RateBeer', 'above_average'] = ratings_combined_df['rating'] > average_rating_rb\n",
    "ratings_combined_df['below_average'] = ~ratings_combined_df['above_average']\n",
    "\n",
    "# copy the ratings_combined_df to a new dataframe\n",
    "ratings_beerGroups_df = ratings_combined_df.copy()\n",
    "\n",
    "# group the ratings by beer_id & dataset and take average of rating and sum of above_average\n",
    "ratings_beerGroups_df = ratings_beerGroups_df.groupby(['beer_id', 'dataset']).agg({'beer_name': 'first', 'brewery_id': 'first', 'rating': 'mean', 'above_average': 'sum', 'below_average': 'sum'}).reset_index()\n",
    "ratings_beerGroups_df.rename(columns={'rating': 'average_rating'}, inplace=True)"
   ]
  },
  {
   "cell_type": "code",
   "execution_count": 115,
   "metadata": {},
   "outputs": [],
   "source": [
    "# add location to the ratings_beerGroups_df\n",
    "ratings_beerGroups_df = pd.merge(ratings_beerGroups_df, breweries_combined_df[['brewery_id', 'dataset', 'location']], how='left', on=['brewery_id', 'dataset'])"
   ]
  },
  {
   "cell_type": "markdown",
   "metadata": {},
   "source": [
    "## Merging the ratings from the two datasets\n",
    "\n",
    "Perform merge-operation by normalizing and weighing average_rating with the number of ratings they originate from."
   ]
  },
  {
   "cell_type": "code",
   "execution_count": 116,
   "metadata": {},
   "outputs": [],
   "source": [
    "ratings_beerGroupsMERGED_df = ratings_beerGroups_df.copy()\n",
    "\n",
    "# Normalize\n",
    "# get the min and max values for average_rating in BA and RB\n",
    "min_avg_r_BA = ratings_beerGroupsMERGED_df[ratings_beerGroupsMERGED_df['dataset'] == 'BeerAdvocate'].average_rating.min()\n",
    "max_avg_r_BA = ratings_beerGroupsMERGED_df[ratings_beerGroupsMERGED_df['dataset'] == 'BeerAdvocate'].average_rating.max()\n",
    "min_avg_r_RB = ratings_beerGroupsMERGED_df[ratings_beerGroupsMERGED_df['dataset'] == 'RateBeer'].average_rating.min()\n",
    "max_avg_r_RB = ratings_beerGroupsMERGED_df[ratings_beerGroupsMERGED_df['dataset'] == 'RateBeer'].average_rating.max()\n",
    "\n",
    "# normalize the average_rating to a scale from 0 to 1 for all entries in BA and RB\n",
    "ratings_beerGroupsMERGED_df.loc[ratings_beerGroupsMERGED_df['dataset'] == 'BeerAdvocate', 'average_rating'] = (ratings_beerGroupsMERGED_df['average_rating'] - min_avg_r_BA) / (max_avg_r_BA - min_avg_r_BA)\n",
    "ratings_beerGroupsMERGED_df.loc[ratings_beerGroupsMERGED_df['dataset'] == 'RateBeer', 'average_rating'] = (ratings_beerGroupsMERGED_df['average_rating'] - min_avg_r_RB) / (max_avg_r_RB - min_avg_r_RB)"
   ]
  },
  {
   "cell_type": "markdown",
   "metadata": {},
   "source": [
    "### Merging average_rating\n",
    "To correctly get the average_rating, need to:\n",
    "- weigh average_rating\n",
    "- take the sum of weighted average_ratings for the same beer\n",
    "- divide by the sum of weights\n",
    "  \n",
    "The aggregate function takes the sum of the weights and the sum of the weighted average_ratings --> only need to divide by the weight, which at this point is the sum of weights.\n"
   ]
  },
  {
   "cell_type": "code",
   "execution_count": 117,
   "metadata": {},
   "outputs": [],
   "source": [
    "# create the weights: total number of ratings for each beer --> column 'weight'\n",
    "ratings_beerGroupsMERGED_df['weight'] = ratings_beerGroupsMERGED_df['above_average'] + ratings_beerGroupsMERGED_df['below_average']\n",
    "\n",
    "# normalize weight to a scale from 0 to 1 (BUT NO WEIGHT SHOULD BE 0 --> ONLY DIVIDE BY MAX)\n",
    "max_weight = ratings_beerGroupsMERGED_df.weight.max()\n",
    "ratings_beerGroupsMERGED_df['weight'] = ratings_beerGroupsMERGED_df['weight'] / max_weight\n",
    "\n",
    "# weigh average_rating\n",
    "ratings_beerGroupsMERGED_df['average_rating'] = ratings_beerGroupsMERGED_df['average_rating'] * ratings_beerGroupsMERGED_df['weight']\n",
    "\n",
    "# group by beer_name and specify how to aggregate the columns (coluns beer_id, dataset and brewery_id are dropped automatically)\n",
    "ratings_beerGroupsMERGED_df = ratings_beerGroupsMERGED_df.groupby(['beer_name']).agg({'location': 'first', 'average_rating': 'sum', 'above_average': 'sum', 'below_average': 'sum', 'weight': 'sum'}).reset_index()\n",
    "\n",
    "# divide the sum of average_rating by the sum of weight\n",
    "ratings_beerGroupsMERGED_df['average_rating'] = ratings_beerGroupsMERGED_df['average_rating'] / ratings_beerGroupsMERGED_df['weight']\n",
    "\n",
    "# drop the weight column\n",
    "ratings_beerGroupsMERGED_df.drop(columns=['weight'], inplace=True)"
   ]
  },
  {
   "cell_type": "markdown",
   "metadata": {},
   "source": [
    "## Lower Bound of Wilson"
   ]
  },
  {
   "cell_type": "markdown",
   "metadata": {},
   "source": [
    "To correctly rank the beers, we will consider the lower bound of Wilson score. \n",
    "Wilson lower bound score presents the usefulness value of a product/comment to the user with a 95% confidence interval (https://medium.com/@okanckaya/rating-products-sorting-reviews-aff32cbd29c1)."
   ]
  },
  {
   "cell_type": "markdown",
   "metadata": {},
   "source": [
    "Here we will consider as negative ratings (i.e bad ratings) the number of ratings that are below the average rating. And we will consider as positive rating (i.e. good rating) the number of ratings that are above the average."
   ]
  },
  {
   "cell_type": "code",
   "execution_count": 118,
   "metadata": {},
   "outputs": [],
   "source": [
    "def wilson_lower_bound (pos, neg, confidence=0.95):\n",
    "    n = pos + neg\n",
    "    if n == 0:\n",
    "        return 0\n",
    "    z = st.norm.ppf(1 - (1 - confidence) / 2)\n",
    "    phat = 1.0 * pos / n\n",
    "    return (phat + z * z / (2 * n) - z * math. sqrt ((phat * (1 - phat) + z * z / (4 * n)) / n)) / (1 + z * z / n)"
   ]
  },
  {
   "cell_type": "code",
   "execution_count": 119,
   "metadata": {},
   "outputs": [],
   "source": [
    "# compute the lower bound of wilson the average rating for each beer\n",
    "ratings_beerGroupsMERGED_df['lower_bound'] = ratings_beerGroupsMERGED_df.apply(lambda row: wilson_lower_bound(row['above_average'], row['below_average']), axis=1)\n",
    "\n",
    "# sort the dataframe by the lower bound of the average rating\n",
    "ratings_beerGroupsMERGED_df.sort_values(by='lower_bound', ascending=False, inplace=True)\n"
   ]
  },
  {
   "cell_type": "code",
   "execution_count": 120,
   "metadata": {},
   "outputs": [
    {
     "data": {
      "text/html": [
       "<div>\n",
       "<style scoped>\n",
       "    .dataframe tbody tr th:only-of-type {\n",
       "        vertical-align: middle;\n",
       "    }\n",
       "\n",
       "    .dataframe tbody tr th {\n",
       "        vertical-align: top;\n",
       "    }\n",
       "\n",
       "    .dataframe thead th {\n",
       "        text-align: right;\n",
       "    }\n",
       "</style>\n",
       "<table border=\"1\" class=\"dataframe\">\n",
       "  <thead>\n",
       "    <tr style=\"text-align: right;\">\n",
       "      <th></th>\n",
       "      <th>beer_name</th>\n",
       "      <th>location</th>\n",
       "      <th>average_rating</th>\n",
       "      <th>above_average</th>\n",
       "      <th>below_average</th>\n",
       "      <th>lower_bound</th>\n",
       "    </tr>\n",
       "  </thead>\n",
       "  <tbody>\n",
       "    <tr>\n",
       "      <th>3060</th>\n",
       "      <td>3 Fonteinen Oude Geuze Vintage (all from 2002-*)</td>\n",
       "      <td>Belgium</td>\n",
       "      <td>0.823280</td>\n",
       "      <td>210</td>\n",
       "      <td>0</td>\n",
       "      <td>0.982036</td>\n",
       "    </tr>\n",
       "    <tr>\n",
       "      <th>189367</th>\n",
       "      <td>Lost Abbey Isabelle Proximus</td>\n",
       "      <td>United States, California</td>\n",
       "      <td>0.845354</td>\n",
       "      <td>389</td>\n",
       "      <td>2</td>\n",
       "      <td>0.981544</td>\n",
       "    </tr>\n",
       "    <tr>\n",
       "      <th>266109</th>\n",
       "      <td>Russian River Pliny the Younger</td>\n",
       "      <td>United States, California</td>\n",
       "      <td>0.860782</td>\n",
       "      <td>636</td>\n",
       "      <td>6</td>\n",
       "      <td>0.979762</td>\n",
       "    </tr>\n",
       "    <tr>\n",
       "      <th>110258</th>\n",
       "      <td>Evil Twin Double Barrel Jesus</td>\n",
       "      <td>United States, New York</td>\n",
       "      <td>0.861560</td>\n",
       "      <td>183</td>\n",
       "      <td>0</td>\n",
       "      <td>0.979440</td>\n",
       "    </tr>\n",
       "    <tr>\n",
       "      <th>314095</th>\n",
       "      <td>Tilquin Oude Quetsche à lAncienne</td>\n",
       "      <td>Belgium</td>\n",
       "      <td>0.796380</td>\n",
       "      <td>178</td>\n",
       "      <td>0</td>\n",
       "      <td>0.978875</td>\n",
       "    </tr>\n",
       "  </tbody>\n",
       "</table>\n",
       "</div>"
      ],
      "text/plain": [
       "                                               beer_name  \\\n",
       "3060    3 Fonteinen Oude Geuze Vintage (all from 2002-*)   \n",
       "189367                      Lost Abbey Isabelle Proximus   \n",
       "266109                   Russian River Pliny the Younger   \n",
       "110258                     Evil Twin Double Barrel Jesus   \n",
       "314095                Tilquin Oude Quetsche à lAncienne   \n",
       "\n",
       "                         location  average_rating  above_average  \\\n",
       "3060                      Belgium        0.823280            210   \n",
       "189367  United States, California        0.845354            389   \n",
       "266109  United States, California        0.860782            636   \n",
       "110258    United States, New York        0.861560            183   \n",
       "314095                    Belgium        0.796380            178   \n",
       "\n",
       "        below_average  lower_bound  \n",
       "3060                0     0.982036  \n",
       "189367              2     0.981544  \n",
       "266109              6     0.979762  \n",
       "110258              0     0.979440  \n",
       "314095              0     0.978875  "
      ]
     },
     "execution_count": 120,
     "metadata": {},
     "output_type": "execute_result"
    }
   ],
   "source": [
    "ratings_beerGroupsMERGED_df.head()"
   ]
  },
  {
   "cell_type": "markdown",
   "metadata": {},
   "source": [
    "## Plotting location"
   ]
  },
  {
   "cell_type": "code",
   "execution_count": 126,
   "metadata": {},
   "outputs": [
    {
     "data": {
      "text/plain": [
       "3060                        Belgium\n",
       "189367    United States, California\n",
       "266109    United States, California\n",
       "110258      United States, New York\n",
       "314095                      Belgium\n",
       "149329       United States, Vermont\n",
       "149274       United States, Vermont\n",
       "149341       United States, Vermont\n",
       "131936      United States, Illinois\n",
       "334933                      Belgium\n",
       "Name: location, dtype: object"
      ]
     },
     "execution_count": 126,
     "metadata": {},
     "output_type": "execute_result"
    }
   ],
   "source": [
    "ratings_beerGroupsMERGED_df['location'].head(10)\n"
   ]
  },
  {
   "cell_type": "markdown",
   "metadata": {},
   "source": [
    "## Per-Month Analysis"
   ]
  },
  {
   "cell_type": "markdown",
   "metadata": {},
   "source": []
  },
  {
   "cell_type": "code",
   "execution_count": null,
   "metadata": {},
   "outputs": [],
   "source": []
  },
  {
   "cell_type": "code",
   "execution_count": null,
   "metadata": {},
   "outputs": [],
   "source": []
  }
 ],
 "metadata": {
  "kernelspec": {
   "display_name": "Python 3 (ipykernel)",
   "language": "python",
   "name": "python3"
  },
  "language_info": {
   "codemirror_mode": {
    "name": "ipython",
    "version": 3
   },
   "file_extension": ".py",
   "mimetype": "text/x-python",
   "name": "python",
   "nbconvert_exporter": "python",
   "pygments_lexer": "ipython3",
   "version": "3.8.5"
  }
 },
 "nbformat": 4,
 "nbformat_minor": 2
}
