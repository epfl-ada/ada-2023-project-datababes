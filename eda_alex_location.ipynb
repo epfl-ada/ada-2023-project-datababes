{
 "cells": [
  {
   "cell_type": "code",
   "execution_count": null,
   "metadata": {},
   "outputs": [],
   "source": [
    "# imports\n",
    "\n",
    "import pandas as pd \n",
    "import numpy as np\n",
    "\n",
    "import matplotlib.pyplot as plt\n",
    "import seaborn as sns"
   ]
  },
  {
   "cell_type": "code",
   "execution_count": null,
   "metadata": {},
   "outputs": [],
   "source": [
    "ratings_ba_df = pd.read_csv('data/ratings_BA.csv')\n",
    "ratings_rb_df = pd.read_csv('data/RateBeer/ratings_RB.csv')"
   ]
  }
 ],
 "metadata": {
  "kernelspec": {
   "display_name": "adaEnv",
   "language": "python",
   "name": "python3"
  },
  "language_info": {
   "name": "python",
   "version": "3.8.5"
  }
 },
 "nbformat": 4,
 "nbformat_minor": 2
}
