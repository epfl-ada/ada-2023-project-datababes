{
 "cells": [
  {
   "cell_type": "markdown",
   "metadata": {},
   "source": [
    "# Milestone 2 - the daTaBABES"
   ]
  },
  {
   "cell_type": "markdown",
   "metadata": {},
   "source": [
    "This notebook is the starting point of an analysis of the beer's popularity from two websites. We have explored and preprocessed the data."
   ]
  },
  {
   "cell_type": "markdown",
   "metadata": {},
   "source": [
    "**Popularity definition**: By popular we mean with respect to the number of **good** reviews"
   ]
  },
  {
   "cell_type": "code",
   "execution_count": 2,
   "metadata": {},
   "outputs": [],
   "source": [
    "# imports\n",
    "\n",
    "import pandas as pd \n",
    "import numpy as np\n",
    "\n",
    "import matplotlib.pyplot as plt\n",
    "import seaborn as sns\n",
    "\n",
    "import plotly.express as px\n",
    "import plotly.graph_objects as go"
   ]
  },
  {
   "cell_type": "markdown",
   "metadata": {},
   "source": [
    "Users have rated the beers from two websites, RateBeer and BeerAdvocate, thus we get reviews of users from two distinct datasets. The reviews are in txt files, thus we convert the txt files into csv so that we can manipulate the data more easily. By doing this, we get as much as data as we can. \n",
    "\n",
    "The conversion of the txt files into csv files is done in the notebook 'preprocessing_txt.ipynb'."
   ]
  },
  {
   "cell_type": "markdown",
   "metadata": {},
   "source": [
    "Since our goal is to analyze the ratings, what is important here is to see if the ratings from the two websited differ. Can we merge the two datasets without falsing our final results? "
   ]
  },
  {
   "cell_type": "code",
   "execution_count": 3,
   "metadata": {},
   "outputs": [],
   "source": [
    "# laoding the two datasets \n",
    "\n",
    "ratings_ba_df = pd.read_csv('data/BeerAdvocate/ratings_BA.csv')\n",
    "ratings_rb_df = pd.read_csv('data/RateBeer/ratings_RB.csv')\n",
    "\n",
    "\n",
    "# loading the users dataset \n",
    "\n",
    "users_ba_df = pd.read_csv('data/BeerAdvocate/users.csv')\n",
    "users_rb_df = pd.read_csv('data/RateBeer/users.csv')\n",
    "\n",
    "# loading the beers dataset\n",
    "\n",
    "beers_ba_df = pd.read_csv('data/BeerAdvocate/beers.csv')\n",
    "beers_rb_df = pd.read_csv('data/RateBeer/beers.csv')"
   ]
  },
  {
   "cell_type": "code",
   "execution_count": 4,
   "metadata": {},
   "outputs": [
    {
     "name": "stdout",
     "output_type": "stream",
     "text": [
      "Number of ratings in BeerAdvocate: 2715712\n",
      "Number of ratings in RateBeer: 7122074\n"
     ]
    }
   ],
   "source": [
    "nbr_ratings_ba = ratings_ba_df.shape[0]\n",
    "nbr_ratings_rb = ratings_rb_df.shape[0]\n",
    "\n",
    "print('Number of ratings in BeerAdvocate: {}'.format(nbr_ratings_ba))\n",
    "print('Number of ratings in RateBeer: {}'.format(nbr_ratings_rb))"
   ]
  },
  {
   "cell_type": "markdown",
   "metadata": {},
   "source": [
    "### Distribution of the average rating in BeerAdvocarte"
   ]
  },
  {
   "cell_type": "code",
   "execution_count": 5,
   "metadata": {},
   "outputs": [
    {
     "data": {
      "text/html": [
       "<div>\n",
       "<style scoped>\n",
       "    .dataframe tbody tr th:only-of-type {\n",
       "        vertical-align: middle;\n",
       "    }\n",
       "\n",
       "    .dataframe tbody tr th {\n",
       "        vertical-align: top;\n",
       "    }\n",
       "\n",
       "    .dataframe thead th {\n",
       "        text-align: right;\n",
       "    }\n",
       "</style>\n",
       "<table border=\"1\" class=\"dataframe\">\n",
       "  <thead>\n",
       "    <tr style=\"text-align: right;\">\n",
       "      <th></th>\n",
       "      <th>appearance</th>\n",
       "      <th>aroma</th>\n",
       "      <th>palate</th>\n",
       "      <th>taste</th>\n",
       "      <th>overall</th>\n",
       "      <th>rating</th>\n",
       "    </tr>\n",
       "  </thead>\n",
       "  <tbody>\n",
       "    <tr>\n",
       "      <th>count</th>\n",
       "      <td>2.672676e+06</td>\n",
       "      <td>2.672676e+06</td>\n",
       "      <td>2.672676e+06</td>\n",
       "      <td>2.672676e+06</td>\n",
       "      <td>2.672676e+06</td>\n",
       "      <td>2.715712e+06</td>\n",
       "    </tr>\n",
       "    <tr>\n",
       "      <th>mean</th>\n",
       "      <td>3.886281e+00</td>\n",
       "      <td>3.796439e+00</td>\n",
       "      <td>3.800010e+00</td>\n",
       "      <td>3.837103e+00</td>\n",
       "      <td>3.846609e+00</td>\n",
       "      <td>3.830343e+00</td>\n",
       "    </tr>\n",
       "    <tr>\n",
       "      <th>std</th>\n",
       "      <td>5.956038e-01</td>\n",
       "      <td>6.705662e-01</td>\n",
       "      <td>6.603258e-01</td>\n",
       "      <td>7.044489e-01</td>\n",
       "      <td>6.806139e-01</td>\n",
       "      <td>6.142972e-01</td>\n",
       "    </tr>\n",
       "    <tr>\n",
       "      <th>min</th>\n",
       "      <td>1.000000e+00</td>\n",
       "      <td>1.000000e+00</td>\n",
       "      <td>1.000000e+00</td>\n",
       "      <td>1.000000e+00</td>\n",
       "      <td>1.000000e+00</td>\n",
       "      <td>1.000000e+00</td>\n",
       "    </tr>\n",
       "    <tr>\n",
       "      <th>25%</th>\n",
       "      <td>3.500000e+00</td>\n",
       "      <td>3.500000e+00</td>\n",
       "      <td>3.500000e+00</td>\n",
       "      <td>3.500000e+00</td>\n",
       "      <td>3.500000e+00</td>\n",
       "      <td>3.530000e+00</td>\n",
       "    </tr>\n",
       "    <tr>\n",
       "      <th>50%</th>\n",
       "      <td>4.000000e+00</td>\n",
       "      <td>4.000000e+00</td>\n",
       "      <td>4.000000e+00</td>\n",
       "      <td>4.000000e+00</td>\n",
       "      <td>4.000000e+00</td>\n",
       "      <td>3.930000e+00</td>\n",
       "    </tr>\n",
       "    <tr>\n",
       "      <th>75%</th>\n",
       "      <td>4.250000e+00</td>\n",
       "      <td>4.250000e+00</td>\n",
       "      <td>4.250000e+00</td>\n",
       "      <td>4.500000e+00</td>\n",
       "      <td>4.250000e+00</td>\n",
       "      <td>4.230000e+00</td>\n",
       "    </tr>\n",
       "    <tr>\n",
       "      <th>max</th>\n",
       "      <td>5.000000e+00</td>\n",
       "      <td>5.000000e+00</td>\n",
       "      <td>5.000000e+00</td>\n",
       "      <td>5.000000e+00</td>\n",
       "      <td>5.000000e+00</td>\n",
       "      <td>5.000000e+00</td>\n",
       "    </tr>\n",
       "  </tbody>\n",
       "</table>\n",
       "</div>"
      ],
      "text/plain": [
       "         appearance         aroma        palate         taste       overall  \\\n",
       "count  2.672676e+06  2.672676e+06  2.672676e+06  2.672676e+06  2.672676e+06   \n",
       "mean   3.886281e+00  3.796439e+00  3.800010e+00  3.837103e+00  3.846609e+00   \n",
       "std    5.956038e-01  6.705662e-01  6.603258e-01  7.044489e-01  6.806139e-01   \n",
       "min    1.000000e+00  1.000000e+00  1.000000e+00  1.000000e+00  1.000000e+00   \n",
       "25%    3.500000e+00  3.500000e+00  3.500000e+00  3.500000e+00  3.500000e+00   \n",
       "50%    4.000000e+00  4.000000e+00  4.000000e+00  4.000000e+00  4.000000e+00   \n",
       "75%    4.250000e+00  4.250000e+00  4.250000e+00  4.500000e+00  4.250000e+00   \n",
       "max    5.000000e+00  5.000000e+00  5.000000e+00  5.000000e+00  5.000000e+00   \n",
       "\n",
       "             rating  \n",
       "count  2.715712e+06  \n",
       "mean   3.830343e+00  \n",
       "std    6.142972e-01  \n",
       "min    1.000000e+00  \n",
       "25%    3.530000e+00  \n",
       "50%    3.930000e+00  \n",
       "75%    4.230000e+00  \n",
       "max    5.000000e+00  "
      ]
     },
     "execution_count": 5,
     "metadata": {},
     "output_type": "execute_result"
    }
   ],
   "source": [
    "ratings_ba_df[['appearance', 'aroma', 'palate', 'style', 'taste', 'overall', 'rating']].describe()"
   ]
  },
  {
   "cell_type": "markdown",
   "metadata": {},
   "source": [
    "### Distribution the average rating in RateBeer"
   ]
  },
  {
   "cell_type": "code",
   "execution_count": 6,
   "metadata": {},
   "outputs": [
    {
     "data": {
      "text/html": [
       "<div>\n",
       "<style scoped>\n",
       "    .dataframe tbody tr th:only-of-type {\n",
       "        vertical-align: middle;\n",
       "    }\n",
       "\n",
       "    .dataframe tbody tr th {\n",
       "        vertical-align: top;\n",
       "    }\n",
       "\n",
       "    .dataframe thead th {\n",
       "        text-align: right;\n",
       "    }\n",
       "</style>\n",
       "<table border=\"1\" class=\"dataframe\">\n",
       "  <thead>\n",
       "    <tr style=\"text-align: right;\">\n",
       "      <th></th>\n",
       "      <th>appearance</th>\n",
       "      <th>aroma</th>\n",
       "      <th>palate</th>\n",
       "      <th>taste</th>\n",
       "      <th>overall</th>\n",
       "      <th>rating</th>\n",
       "    </tr>\n",
       "  </thead>\n",
       "  <tbody>\n",
       "    <tr>\n",
       "      <th>count</th>\n",
       "      <td>7.122074e+06</td>\n",
       "      <td>7.122074e+06</td>\n",
       "      <td>7.122074e+06</td>\n",
       "      <td>7.122074e+06</td>\n",
       "      <td>7.122074e+06</td>\n",
       "      <td>7.122074e+06</td>\n",
       "    </tr>\n",
       "    <tr>\n",
       "      <th>mean</th>\n",
       "      <td>3.440407e+00</td>\n",
       "      <td>6.418375e+00</td>\n",
       "      <td>3.284702e+00</td>\n",
       "      <td>6.496641e+00</td>\n",
       "      <td>1.321530e+01</td>\n",
       "      <td>3.285543e+00</td>\n",
       "    </tr>\n",
       "    <tr>\n",
       "      <th>std</th>\n",
       "      <td>7.737700e-01</td>\n",
       "      <td>1.538632e+00</td>\n",
       "      <td>7.967887e-01</td>\n",
       "      <td>1.538095e+00</td>\n",
       "      <td>3.152041e+00</td>\n",
       "      <td>6.864740e-01</td>\n",
       "    </tr>\n",
       "    <tr>\n",
       "      <th>min</th>\n",
       "      <td>1.000000e+00</td>\n",
       "      <td>1.000000e+00</td>\n",
       "      <td>1.000000e+00</td>\n",
       "      <td>1.000000e+00</td>\n",
       "      <td>1.000000e+00</td>\n",
       "      <td>5.000000e-01</td>\n",
       "    </tr>\n",
       "    <tr>\n",
       "      <th>25%</th>\n",
       "      <td>3.000000e+00</td>\n",
       "      <td>6.000000e+00</td>\n",
       "      <td>3.000000e+00</td>\n",
       "      <td>6.000000e+00</td>\n",
       "      <td>1.200000e+01</td>\n",
       "      <td>3.000000e+00</td>\n",
       "    </tr>\n",
       "    <tr>\n",
       "      <th>50%</th>\n",
       "      <td>3.000000e+00</td>\n",
       "      <td>7.000000e+00</td>\n",
       "      <td>3.000000e+00</td>\n",
       "      <td>7.000000e+00</td>\n",
       "      <td>1.400000e+01</td>\n",
       "      <td>3.400000e+00</td>\n",
       "    </tr>\n",
       "    <tr>\n",
       "      <th>75%</th>\n",
       "      <td>4.000000e+00</td>\n",
       "      <td>7.000000e+00</td>\n",
       "      <td>4.000000e+00</td>\n",
       "      <td>7.000000e+00</td>\n",
       "      <td>1.500000e+01</td>\n",
       "      <td>3.700000e+00</td>\n",
       "    </tr>\n",
       "    <tr>\n",
       "      <th>max</th>\n",
       "      <td>5.000000e+00</td>\n",
       "      <td>1.000000e+01</td>\n",
       "      <td>5.000000e+00</td>\n",
       "      <td>1.000000e+01</td>\n",
       "      <td>2.000000e+01</td>\n",
       "      <td>5.000000e+00</td>\n",
       "    </tr>\n",
       "  </tbody>\n",
       "</table>\n",
       "</div>"
      ],
      "text/plain": [
       "         appearance         aroma        palate         taste       overall  \\\n",
       "count  7.122074e+06  7.122074e+06  7.122074e+06  7.122074e+06  7.122074e+06   \n",
       "mean   3.440407e+00  6.418375e+00  3.284702e+00  6.496641e+00  1.321530e+01   \n",
       "std    7.737700e-01  1.538632e+00  7.967887e-01  1.538095e+00  3.152041e+00   \n",
       "min    1.000000e+00  1.000000e+00  1.000000e+00  1.000000e+00  1.000000e+00   \n",
       "25%    3.000000e+00  6.000000e+00  3.000000e+00  6.000000e+00  1.200000e+01   \n",
       "50%    3.000000e+00  7.000000e+00  3.000000e+00  7.000000e+00  1.400000e+01   \n",
       "75%    4.000000e+00  7.000000e+00  4.000000e+00  7.000000e+00  1.500000e+01   \n",
       "max    5.000000e+00  1.000000e+01  5.000000e+00  1.000000e+01  2.000000e+01   \n",
       "\n",
       "             rating  \n",
       "count  7.122074e+06  \n",
       "mean   3.285543e+00  \n",
       "std    6.864740e-01  \n",
       "min    5.000000e-01  \n",
       "25%    3.000000e+00  \n",
       "50%    3.400000e+00  \n",
       "75%    3.700000e+00  \n",
       "max    5.000000e+00  "
      ]
     },
     "execution_count": 6,
     "metadata": {},
     "output_type": "execute_result"
    }
   ],
   "source": [
    "ratings_rb_df[['appearance', 'aroma', 'palate', 'style', 'taste', 'overall', 'rating']].describe()"
   ]
  },
  {
   "cell_type": "code",
   "execution_count": 7,
   "metadata": {},
   "outputs": [
    {
     "name": "stdout",
     "output_type": "stream",
     "text": [
      "Number of beers in BeerAdvocate: 2715712\n",
      "Number of beers in RateBeer: 7122074\n"
     ]
    },
    {
     "data": {
      "image/png": "[encoded data removed]",
      "text/plain": [
       "<Figure size 900x900 with 4 Axes>"
      ]
     },
     "metadata": {},
     "output_type": "display_data"
    }
   ],
   "source": [
    "fig, axes = plt.subplots(2, 2, figsize=(9, 9))\n",
    "\n",
    "# Number of beers in BeerAdvocate and RateBeer\n",
    "print(\"Number of beers in BeerAdvocate:\", len(ratings_ba_df))\n",
    "print(\"Number of beers in RateBeer:\", len(ratings_rb_df))\n",
    "\n",
    "# BeerAdvocate - Histogram\n",
    "axes[0, 0].hist(ratings_ba_df['rating'], bins=20, color='cornflowerblue', edgecolor='white')\n",
    "axes[0, 0].set_xlabel('Average Rating')\n",
    "axes[0, 0].set_ylabel('Count')\n",
    "axes[0, 0].set_title('Distribution of Beer Ratings in BeerAdvocate')\n",
    "\n",
    "# RateBeer - Histogram\n",
    "axes[0, 1].hist(ratings_rb_df['rating'], bins=20, color='cornflowerblue', edgecolor='white')\n",
    "axes[0, 1].set_xlabel('Average Rating')\n",
    "axes[0, 1].set_ylabel('Count')\n",
    "axes[0, 1].set_title('Distribution of Beer Ratings in RateBeer')\n",
    "\n",
    "# BeerAdvocate - Boxplot\n",
    "sns.boxplot(ratings_ba_df['rating'], ax=axes[1, 0], color='lightcoral')\n",
    "axes[1, 0].set_xlabel('Average Rating')\n",
    "axes[1, 0].set_ylabel('Count')\n",
    "axes[1, 0].set_title('Boxplot of Beer Ratings in BeerAdvocate')\n",
    "\n",
    "# RateBeer - Boxplot\n",
    "sns.boxplot(ratings_rb_df['rating'], ax=axes[1, 1], color='lightcoral')\n",
    "axes[1, 1].set_xlabel('Average Rating')\n",
    "axes[1, 1].set_ylabel('Count')\n",
    "axes[1, 1].set_title('Boxplot of Beer Ratings in RateBeer')\n",
    "\n",
    "plt.tight_layout()\n",
    "plt.show()"
   ]
  },
  {
   "cell_type": "markdown",
   "metadata": {},
   "source": [
    "As observed from the tables and the plot above, eventhough the distributions have a similar shape, i.e. normal distribution, they have a different average mean ratings. Indeed, users from the RateBeer dataset seem to be harsher in their ratings. "
   ]
  },
  {
   "cell_type": "markdown",
   "metadata": {},
   "source": [
    "Now, as defined above, our popularity definition concerns the number of **good** ratings. A question that arises is: what can be considered as a good rating? "
   ]
  },
  {
   "cell_type": "markdown",
   "metadata": {},
   "source": [
    "The ratings are continuous numbers between 0 to 5. One idea is to keep the ratings above the **average mean** of the two datasets and consider them as **good** rating. With this, we take in account the different distribution of the ratings into the two datasets and find a relatively good threshold. "
   ]
  },
  {
   "cell_type": "code",
   "execution_count": 8,
   "metadata": {},
   "outputs": [
    {
     "name": "stdout",
     "output_type": "stream",
     "text": [
      "Mean rating in BeerAdvocate: 3.8303429745127655\n",
      "Mean rating in RateBeer: 3.285543157793643\n"
     ]
    }
   ],
   "source": [
    "mean_ba = ratings_ba_df.rating.mean()\n",
    "mean_rb = ratings_rb_df.rating.mean()\n",
    "\n",
    "print(\"Mean rating in BeerAdvocate:\", mean_ba)\n",
    "print(\"Mean rating in RateBeer:\", mean_rb)"
   ]
  }
 ],
 "metadata": {
  "kernelspec": {
   "display_name": "Python 3",
   "language": "python",
   "name": "python3"
  },
  "language_info": {
   "codemirror_mode": {
    "name": "ipython",
    "version": 3
   },
   "file_extension": ".py",
   "mimetype": "text/x-python",
   "name": "python",
   "nbconvert_exporter": "python",
   "pygments_lexer": "ipython3",
   "version": "3.11.5"
  }
 },
 "nbformat": 4,
 "nbformat_minor": 2
}
